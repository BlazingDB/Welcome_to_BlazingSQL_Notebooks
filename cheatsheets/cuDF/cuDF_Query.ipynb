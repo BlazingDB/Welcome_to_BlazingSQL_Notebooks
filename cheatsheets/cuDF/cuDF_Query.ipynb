{
 "cells": [
  {
   "cell_type": "markdown",
   "metadata": {},
   "source": [
    "# cuDF Cheat Sheets sample code\n",
    "\n",
    "(c) 2020 NVIDIA, Blazing SQL\n",
    "\n",
    "Distributed under Apache License 2.0"
   ]
  },
  {
   "cell_type": "markdown",
   "metadata": {},
   "source": [
    "### Imports"
   ]
  },
  {
   "cell_type": "code",
   "execution_count": 1,
   "metadata": {},
   "outputs": [],
   "source": [
    "import cudf\n",
    "import numpy as np"
   ]
  },
  {
   "cell_type": "markdown",
   "metadata": {},
   "source": [
    "### Sample DataFrame"
   ]
  },
  {
   "cell_type": "code",
   "execution_count": 2,
   "metadata": {},
   "outputs": [],
   "source": [
    "df = cudf.DataFrame(\n",
    "    [\n",
    "          (39, 6.88, np.datetime64('2020-10-08T12:12:01'), np.timedelta64(14378,'s'), 'C', 'D', 'data'\n",
    "            , 'RAPIDS.ai is a suite of open-source libraries that allow you to run your end to end data science and analytics pipelines on GPUs.')\n",
    "        , (11, 4.21, None,                                 None                     , 'A', 'D', 'cuDF'\n",
    "            , 'cuDF is a Python GPU DataFrame (built on the Apache Arrow columnar memory format)')\n",
    "        , (31, 4.71, np.datetime64('2020-10-10T09:26:43'), np.timedelta64(12909,'s'), 'U', 'D', 'memory'\n",
    "            , 'cuDF allows for loading, joining, aggregating, filtering, and otherwise manipulating tabular data using a DataFrame style API.')\n",
    "        , (40, 0.93, np.datetime64('2020-10-11T17:10:00'), np.timedelta64(10466,'s'), 'P', 'B', 'tabular'\n",
    "            , '''If your workflow is fast enough on a single GPU or your data comfortably fits in memory on \n",
    "                 a single GPU, you would want to use cuDF.''')\n",
    "        , (33, 9.26, np.datetime64('2020-10-15T10:58:02'), np.timedelta64(35558,'s'), 'O', 'D', 'parallel'\n",
    "            , '''If you want to distribute your workflow across multiple GPUs or have more data than you can fit \n",
    "                 in memory on a single GPU you would want to use Dask-cuDF''')\n",
    "        , (42, 4.21, np.datetime64('2020-10-01T10:02:23'), np.timedelta64(20480,'s'), 'U', 'C', 'GPUs'\n",
    "            , 'BlazingSQL provides a high-performance distributed SQL engine in Python')\n",
    "        , (36, 3.01, np.datetime64('2020-09-30T14:36:26'), np.timedelta64(24409,'s'), 'T', 'D', None\n",
    "            , 'BlazingSQL is built on the RAPIDS GPU data science ecosystem')\n",
    "        , (38, 6.44, np.datetime64('2020-10-10T08:34:36'), np.timedelta64(90171,'s'), 'X', 'B', 'csv'\n",
    "            , 'BlazingSQL lets you ETL raw data directly into GPU memory as a GPU DataFrame (GDF)')\n",
    "        , (17, 5.28, np.datetime64('2020-10-09T08:34:40'), np.timedelta64(30532,'s'), 'P', 'D', 'dataframes'\n",
    "            , 'Dask is a flexible library for parallel computing in Python')\n",
    "        , (10, 8.28, np.datetime64('2020-10-03T03:31:21'), np.timedelta64(23552,'s'), 'W', 'B', 'python'\n",
    "            , None)\n",
    "    ]\n",
    "    , columns = ['num', 'float', 'datetime', 'timedelta', 'char', 'category', 'word', 'string']\n",
    ")\n",
    "df['category'] = df['category'].astype('category')"
   ]
  },
  {
   "cell_type": "markdown",
   "metadata": {},
   "source": [
    "---\n",
    "\n",
    "# Querying\n",
    "\n",
    "---"
   ]
  },
  {
   "cell_type": "markdown",
   "metadata": {},
   "source": [
    "#### cudf.core.dataframe.DataFrame.head()"
   ]
  },
  {
   "cell_type": "code",
   "execution_count": 3,
   "metadata": {},
   "outputs": [
    {
     "data": {
      "text/html": [
       "<div>\n",
       "<style scoped>\n",
       "    .dataframe tbody tr th:only-of-type {\n",
       "        vertical-align: middle;\n",
       "    }\n",
       "\n",
       "    .dataframe tbody tr th {\n",
       "        vertical-align: top;\n",
       "    }\n",
       "\n",
       "    .dataframe thead th {\n",
       "        text-align: right;\n",
       "    }\n",
       "</style>\n",
       "<table border=\"1\" class=\"dataframe\">\n",
       "  <thead>\n",
       "    <tr style=\"text-align: right;\">\n",
       "      <th></th>\n",
       "      <th>num</th>\n",
       "      <th>float</th>\n",
       "      <th>datetime</th>\n",
       "      <th>timedelta</th>\n",
       "      <th>char</th>\n",
       "      <th>category</th>\n",
       "      <th>word</th>\n",
       "      <th>string</th>\n",
       "    </tr>\n",
       "  </thead>\n",
       "  <tbody>\n",
       "    <tr>\n",
       "      <th>0</th>\n",
       "      <td>39</td>\n",
       "      <td>6.88</td>\n",
       "      <td>2020-10-08 12:12:01</td>\n",
       "      <td>0 days 03:59:38</td>\n",
       "      <td>C</td>\n",
       "      <td>D</td>\n",
       "      <td>data</td>\n",
       "      <td>RAPIDS.ai is a suite of open-source libraries ...</td>\n",
       "    </tr>\n",
       "    <tr>\n",
       "      <th>1</th>\n",
       "      <td>11</td>\n",
       "      <td>4.21</td>\n",
       "      <td>&lt;NA&gt;</td>\n",
       "      <td>&lt;NA&gt;</td>\n",
       "      <td>A</td>\n",
       "      <td>D</td>\n",
       "      <td>cuDF</td>\n",
       "      <td>cuDF is a Python GPU DataFrame (built on the A...</td>\n",
       "    </tr>\n",
       "    <tr>\n",
       "      <th>2</th>\n",
       "      <td>31</td>\n",
       "      <td>4.71</td>\n",
       "      <td>2020-10-10 09:26:43</td>\n",
       "      <td>0 days 03:35:09</td>\n",
       "      <td>U</td>\n",
       "      <td>D</td>\n",
       "      <td>memory</td>\n",
       "      <td>cuDF allows for loading, joining, aggregating,...</td>\n",
       "    </tr>\n",
       "    <tr>\n",
       "      <th>3</th>\n",
       "      <td>40</td>\n",
       "      <td>0.93</td>\n",
       "      <td>2020-10-11 17:10:00</td>\n",
       "      <td>0 days 02:54:26</td>\n",
       "      <td>P</td>\n",
       "      <td>B</td>\n",
       "      <td>tabular</td>\n",
       "      <td>If your workflow is fast enough on a single GP...</td>\n",
       "    </tr>\n",
       "    <tr>\n",
       "      <th>4</th>\n",
       "      <td>33</td>\n",
       "      <td>9.26</td>\n",
       "      <td>2020-10-15 10:58:02</td>\n",
       "      <td>0 days 09:52:38</td>\n",
       "      <td>O</td>\n",
       "      <td>D</td>\n",
       "      <td>parallel</td>\n",
       "      <td>If you want to distribute your workflow across...</td>\n",
       "    </tr>\n",
       "  </tbody>\n",
       "</table>\n",
       "</div>"
      ],
      "text/plain": [
       "   num  float             datetime        timedelta char category      word  \\\n",
       "0   39   6.88  2020-10-08 12:12:01  0 days 03:59:38    C        D      data   \n",
       "1   11   4.21                 <NA>             <NA>    A        D      cuDF   \n",
       "2   31   4.71  2020-10-10 09:26:43  0 days 03:35:09    U        D    memory   \n",
       "3   40   0.93  2020-10-11 17:10:00  0 days 02:54:26    P        B   tabular   \n",
       "4   33   9.26  2020-10-15 10:58:02  0 days 09:52:38    O        D  parallel   \n",
       "\n",
       "                                              string  \n",
       "0  RAPIDS.ai is a suite of open-source libraries ...  \n",
       "1  cuDF is a Python GPU DataFrame (built on the A...  \n",
       "2  cuDF allows for loading, joining, aggregating,...  \n",
       "3  If your workflow is fast enough on a single GP...  \n",
       "4  If you want to distribute your workflow across...  "
      ]
     },
     "execution_count": 3,
     "metadata": {},
     "output_type": "execute_result"
    }
   ],
   "source": [
    "df.head()"
   ]
  },
  {
   "cell_type": "code",
   "execution_count": 4,
   "metadata": {},
   "outputs": [
    {
     "data": {
      "text/html": [
       "<div>\n",
       "<style scoped>\n",
       "    .dataframe tbody tr th:only-of-type {\n",
       "        vertical-align: middle;\n",
       "    }\n",
       "\n",
       "    .dataframe tbody tr th {\n",
       "        vertical-align: top;\n",
       "    }\n",
       "\n",
       "    .dataframe thead th {\n",
       "        text-align: right;\n",
       "    }\n",
       "</style>\n",
       "<table border=\"1\" class=\"dataframe\">\n",
       "  <thead>\n",
       "    <tr style=\"text-align: right;\">\n",
       "      <th></th>\n",
       "      <th>num</th>\n",
       "      <th>float</th>\n",
       "      <th>datetime</th>\n",
       "      <th>timedelta</th>\n",
       "      <th>char</th>\n",
       "      <th>category</th>\n",
       "      <th>word</th>\n",
       "      <th>string</th>\n",
       "    </tr>\n",
       "  </thead>\n",
       "  <tbody>\n",
       "    <tr>\n",
       "      <th>0</th>\n",
       "      <td>39</td>\n",
       "      <td>6.88</td>\n",
       "      <td>2020-10-08 12:12:01</td>\n",
       "      <td>0 days 03:59:38</td>\n",
       "      <td>C</td>\n",
       "      <td>D</td>\n",
       "      <td>data</td>\n",
       "      <td>RAPIDS.ai is a suite of open-source libraries ...</td>\n",
       "    </tr>\n",
       "    <tr>\n",
       "      <th>1</th>\n",
       "      <td>11</td>\n",
       "      <td>4.21</td>\n",
       "      <td>&lt;NA&gt;</td>\n",
       "      <td>&lt;NA&gt;</td>\n",
       "      <td>A</td>\n",
       "      <td>D</td>\n",
       "      <td>cuDF</td>\n",
       "      <td>cuDF is a Python GPU DataFrame (built on the A...</td>\n",
       "    </tr>\n",
       "  </tbody>\n",
       "</table>\n",
       "</div>"
      ],
      "text/plain": [
       "   num  float             datetime        timedelta char category  word  \\\n",
       "0   39   6.88  2020-10-08 12:12:01  0 days 03:59:38    C        D  data   \n",
       "1   11   4.21                 <NA>             <NA>    A        D  cuDF   \n",
       "\n",
       "                                              string  \n",
       "0  RAPIDS.ai is a suite of open-source libraries ...  \n",
       "1  cuDF is a Python GPU DataFrame (built on the A...  "
      ]
     },
     "execution_count": 4,
     "metadata": {},
     "output_type": "execute_result"
    }
   ],
   "source": [
    "df.head(2)"
   ]
  },
  {
   "cell_type": "markdown",
   "metadata": {},
   "source": [
    "#### cudf.core.dataframe.DataFrame.info()"
   ]
  },
  {
   "cell_type": "code",
   "execution_count": 5,
   "metadata": {},
   "outputs": [
    {
     "name": "stdout",
     "output_type": "stream",
     "text": [
      "<class 'cudf.core.dataframe.DataFrame'>\n",
      "RangeIndex: 10 entries, 0 to 9\n",
      "Data columns (total 8 columns):\n",
      " #   Column     Non-Null Count  Dtype\n",
      "---  ------     --------------  -----\n",
      " 0   num        10 non-null     int64\n",
      " 1   float      10 non-null     float64\n",
      " 2   datetime   9 non-null      datetime64[s]\n",
      " 3   timedelta  9 non-null      timedelta64[s]\n",
      " 4   char       10 non-null     object\n",
      " 5   category   10 non-null     category\n",
      " 6   word       9 non-null      object\n",
      " 7   string     9 non-null      object\n",
      "dtypes: category(1), datetime64[s](1), float64(1), int64(1), object(3), timedelta64[s](1)\n",
      "memory usage: 1.7+ KB\n"
     ]
    }
   ],
   "source": [
    "df.info()"
   ]
  },
  {
   "cell_type": "markdown",
   "metadata": {},
   "source": [
    "#### cudf.core.dataframe.DataFrame.memory_usage()"
   ]
  },
  {
   "cell_type": "code",
   "execution_count": 6,
   "metadata": {},
   "outputs": [
    {
     "data": {
      "text/plain": [
       "num            80\n",
       "float          80\n",
       "datetime      144\n",
       "timedelta     144\n",
       "char           54\n",
       "category       29\n",
       "word          160\n",
       "string       1037\n",
       "Index           0\n",
       "dtype: int64"
      ]
     },
     "execution_count": 6,
     "metadata": {},
     "output_type": "execute_result"
    }
   ],
   "source": [
    "df.memory_usage()"
   ]
  },
  {
   "cell_type": "code",
   "execution_count": 7,
   "metadata": {},
   "outputs": [
    {
     "data": {
      "text/plain": [
       "'Total memory usage of df: 1.6875kB'"
      ]
     },
     "execution_count": 7,
     "metadata": {},
     "output_type": "execute_result"
    }
   ],
   "source": [
    "f'Total memory usage of df: {sum(df.memory_usage().to_pandas())/1024}kB'"
   ]
  },
  {
   "cell_type": "markdown",
   "metadata": {},
   "source": [
    "#### cudf.core.dataframe.DataFrame.nlargest()"
   ]
  },
  {
   "cell_type": "code",
   "execution_count": 8,
   "metadata": {},
   "outputs": [
    {
     "data": {
      "text/html": [
       "<div>\n",
       "<style scoped>\n",
       "    .dataframe tbody tr th:only-of-type {\n",
       "        vertical-align: middle;\n",
       "    }\n",
       "\n",
       "    .dataframe tbody tr th {\n",
       "        vertical-align: top;\n",
       "    }\n",
       "\n",
       "    .dataframe thead th {\n",
       "        text-align: right;\n",
       "    }\n",
       "</style>\n",
       "<table border=\"1\" class=\"dataframe\">\n",
       "  <thead>\n",
       "    <tr style=\"text-align: right;\">\n",
       "      <th></th>\n",
       "      <th>num</th>\n",
       "      <th>float</th>\n",
       "      <th>datetime</th>\n",
       "      <th>timedelta</th>\n",
       "      <th>char</th>\n",
       "      <th>category</th>\n",
       "      <th>word</th>\n",
       "      <th>string</th>\n",
       "    </tr>\n",
       "  </thead>\n",
       "  <tbody>\n",
       "    <tr>\n",
       "      <th>5</th>\n",
       "      <td>42</td>\n",
       "      <td>4.21</td>\n",
       "      <td>2020-10-01 10:02:23</td>\n",
       "      <td>0 days 05:41:20</td>\n",
       "      <td>U</td>\n",
       "      <td>C</td>\n",
       "      <td>GPUs</td>\n",
       "      <td>BlazingSQL provides a high-performance distrib...</td>\n",
       "    </tr>\n",
       "    <tr>\n",
       "      <th>3</th>\n",
       "      <td>40</td>\n",
       "      <td>0.93</td>\n",
       "      <td>2020-10-11 17:10:00</td>\n",
       "      <td>0 days 02:54:26</td>\n",
       "      <td>P</td>\n",
       "      <td>B</td>\n",
       "      <td>tabular</td>\n",
       "      <td>If your workflow is fast enough on a single GP...</td>\n",
       "    </tr>\n",
       "    <tr>\n",
       "      <th>0</th>\n",
       "      <td>39</td>\n",
       "      <td>6.88</td>\n",
       "      <td>2020-10-08 12:12:01</td>\n",
       "      <td>0 days 03:59:38</td>\n",
       "      <td>C</td>\n",
       "      <td>D</td>\n",
       "      <td>data</td>\n",
       "      <td>RAPIDS.ai is a suite of open-source libraries ...</td>\n",
       "    </tr>\n",
       "  </tbody>\n",
       "</table>\n",
       "</div>"
      ],
      "text/plain": [
       "   num  float            datetime       timedelta char category     word  \\\n",
       "5   42   4.21 2020-10-01 10:02:23 0 days 05:41:20    U        C     GPUs   \n",
       "3   40   0.93 2020-10-11 17:10:00 0 days 02:54:26    P        B  tabular   \n",
       "0   39   6.88 2020-10-08 12:12:01 0 days 03:59:38    C        D     data   \n",
       "\n",
       "                                              string  \n",
       "5  BlazingSQL provides a high-performance distrib...  \n",
       "3  If your workflow is fast enough on a single GP...  \n",
       "0  RAPIDS.ai is a suite of open-source libraries ...  "
      ]
     },
     "execution_count": 8,
     "metadata": {},
     "output_type": "execute_result"
    }
   ],
   "source": [
    "df.nlargest(3, ['num'])"
   ]
  },
  {
   "cell_type": "markdown",
   "metadata": {},
   "source": [
    "#### cudf.core.dataframe.DataFrame.nsmallest()"
   ]
  },
  {
   "cell_type": "code",
   "execution_count": 9,
   "metadata": {},
   "outputs": [
    {
     "data": {
      "text/html": [
       "<div>\n",
       "<style scoped>\n",
       "    .dataframe tbody tr th:only-of-type {\n",
       "        vertical-align: middle;\n",
       "    }\n",
       "\n",
       "    .dataframe tbody tr th {\n",
       "        vertical-align: top;\n",
       "    }\n",
       "\n",
       "    .dataframe thead th {\n",
       "        text-align: right;\n",
       "    }\n",
       "</style>\n",
       "<table border=\"1\" class=\"dataframe\">\n",
       "  <thead>\n",
       "    <tr style=\"text-align: right;\">\n",
       "      <th></th>\n",
       "      <th>num</th>\n",
       "      <th>float</th>\n",
       "      <th>datetime</th>\n",
       "      <th>timedelta</th>\n",
       "      <th>char</th>\n",
       "      <th>category</th>\n",
       "      <th>word</th>\n",
       "      <th>string</th>\n",
       "    </tr>\n",
       "  </thead>\n",
       "  <tbody>\n",
       "    <tr>\n",
       "      <th>9</th>\n",
       "      <td>10</td>\n",
       "      <td>8.28</td>\n",
       "      <td>2020-10-03 03:31:21</td>\n",
       "      <td>0 days 06:32:32</td>\n",
       "      <td>W</td>\n",
       "      <td>B</td>\n",
       "      <td>python</td>\n",
       "      <td>&lt;NA&gt;</td>\n",
       "    </tr>\n",
       "    <tr>\n",
       "      <th>1</th>\n",
       "      <td>11</td>\n",
       "      <td>4.21</td>\n",
       "      <td>&lt;NA&gt;</td>\n",
       "      <td>&lt;NA&gt;</td>\n",
       "      <td>A</td>\n",
       "      <td>D</td>\n",
       "      <td>cuDF</td>\n",
       "      <td>cuDF is a Python GPU DataFrame (built on the A...</td>\n",
       "    </tr>\n",
       "    <tr>\n",
       "      <th>8</th>\n",
       "      <td>17</td>\n",
       "      <td>5.28</td>\n",
       "      <td>2020-10-09 08:34:40</td>\n",
       "      <td>0 days 08:28:52</td>\n",
       "      <td>P</td>\n",
       "      <td>D</td>\n",
       "      <td>dataframes</td>\n",
       "      <td>Dask is a flexible library for parallel comput...</td>\n",
       "    </tr>\n",
       "  </tbody>\n",
       "</table>\n",
       "</div>"
      ],
      "text/plain": [
       "   num  float             datetime        timedelta char category        word  \\\n",
       "9   10   8.28  2020-10-03 03:31:21  0 days 06:32:32    W        B      python   \n",
       "1   11   4.21                 <NA>             <NA>    A        D        cuDF   \n",
       "8   17   5.28  2020-10-09 08:34:40  0 days 08:28:52    P        D  dataframes   \n",
       "\n",
       "                                              string  \n",
       "9                                               <NA>  \n",
       "1  cuDF is a Python GPU DataFrame (built on the A...  \n",
       "8  Dask is a flexible library for parallel comput...  "
      ]
     },
     "execution_count": 9,
     "metadata": {},
     "output_type": "execute_result"
    }
   ],
   "source": [
    "df.nsmallest(3, ['num'])"
   ]
  },
  {
   "cell_type": "markdown",
   "metadata": {},
   "source": [
    "#### cudf.core.dataframe.DataFrame.query()"
   ]
  },
  {
   "cell_type": "code",
   "execution_count": 10,
   "metadata": {},
   "outputs": [
    {
     "data": {
      "text/html": [
       "<div>\n",
       "<style scoped>\n",
       "    .dataframe tbody tr th:only-of-type {\n",
       "        vertical-align: middle;\n",
       "    }\n",
       "\n",
       "    .dataframe tbody tr th {\n",
       "        vertical-align: top;\n",
       "    }\n",
       "\n",
       "    .dataframe thead th {\n",
       "        text-align: right;\n",
       "    }\n",
       "</style>\n",
       "<table border=\"1\" class=\"dataframe\">\n",
       "  <thead>\n",
       "    <tr style=\"text-align: right;\">\n",
       "      <th></th>\n",
       "      <th>num</th>\n",
       "      <th>float</th>\n",
       "      <th>datetime</th>\n",
       "      <th>timedelta</th>\n",
       "      <th>char</th>\n",
       "      <th>category</th>\n",
       "      <th>word</th>\n",
       "      <th>string</th>\n",
       "    </tr>\n",
       "  </thead>\n",
       "  <tbody>\n",
       "    <tr>\n",
       "      <th>9</th>\n",
       "      <td>10</td>\n",
       "      <td>8.28</td>\n",
       "      <td>2020-10-03 03:31:21</td>\n",
       "      <td>0 days 06:32:32</td>\n",
       "      <td>W</td>\n",
       "      <td>B</td>\n",
       "      <td>python</td>\n",
       "      <td>&lt;NA&gt;</td>\n",
       "    </tr>\n",
       "  </tbody>\n",
       "</table>\n",
       "</div>"
      ],
      "text/plain": [
       "   num  float            datetime       timedelta char category    word string\n",
       "9   10   8.28 2020-10-03 03:31:21 0 days 06:32:32    W        B  python   <NA>"
      ]
     },
     "execution_count": 10,
     "metadata": {},
     "output_type": "execute_result"
    }
   ],
   "source": [
    "df.query('num == 10')"
   ]
  },
  {
   "cell_type": "code",
   "execution_count": 11,
   "metadata": {},
   "outputs": [
    {
     "data": {
      "text/html": [
       "<div>\n",
       "<style scoped>\n",
       "    .dataframe tbody tr th:only-of-type {\n",
       "        vertical-align: middle;\n",
       "    }\n",
       "\n",
       "    .dataframe tbody tr th {\n",
       "        vertical-align: top;\n",
       "    }\n",
       "\n",
       "    .dataframe thead th {\n",
       "        text-align: right;\n",
       "    }\n",
       "</style>\n",
       "<table border=\"1\" class=\"dataframe\">\n",
       "  <thead>\n",
       "    <tr style=\"text-align: right;\">\n",
       "      <th></th>\n",
       "      <th>num</th>\n",
       "      <th>float</th>\n",
       "      <th>datetime</th>\n",
       "      <th>timedelta</th>\n",
       "      <th>char</th>\n",
       "      <th>category</th>\n",
       "      <th>word</th>\n",
       "      <th>string</th>\n",
       "    </tr>\n",
       "  </thead>\n",
       "  <tbody>\n",
       "    <tr>\n",
       "      <th>3</th>\n",
       "      <td>40</td>\n",
       "      <td>0.93</td>\n",
       "      <td>2020-10-11 17:10:00</td>\n",
       "      <td>0 days 02:54:26</td>\n",
       "      <td>P</td>\n",
       "      <td>B</td>\n",
       "      <td>tabular</td>\n",
       "      <td>If your workflow is fast enough on a single GP...</td>\n",
       "    </tr>\n",
       "    <tr>\n",
       "      <th>5</th>\n",
       "      <td>42</td>\n",
       "      <td>4.21</td>\n",
       "      <td>2020-10-01 10:02:23</td>\n",
       "      <td>0 days 05:41:20</td>\n",
       "      <td>U</td>\n",
       "      <td>C</td>\n",
       "      <td>GPUs</td>\n",
       "      <td>BlazingSQL provides a high-performance distrib...</td>\n",
       "    </tr>\n",
       "  </tbody>\n",
       "</table>\n",
       "</div>"
      ],
      "text/plain": [
       "   num  float            datetime       timedelta char category     word  \\\n",
       "3   40   0.93 2020-10-11 17:10:00 0 days 02:54:26    P        B  tabular   \n",
       "5   42   4.21 2020-10-01 10:02:23 0 days 05:41:20    U        C     GPUs   \n",
       "\n",
       "                                              string  \n",
       "3  If your workflow is fast enough on a single GP...  \n",
       "5  BlazingSQL provides a high-performance distrib...  "
      ]
     },
     "execution_count": 11,
     "metadata": {},
     "output_type": "execute_result"
    }
   ],
   "source": [
    "df.query('num >= 40')"
   ]
  },
  {
   "cell_type": "markdown",
   "metadata": {},
   "source": [
    "#### cudf.core.dataframe.DataFrame.sample()"
   ]
  },
  {
   "cell_type": "code",
   "execution_count": 12,
   "metadata": {},
   "outputs": [
    {
     "data": {
      "text/html": [
       "<div>\n",
       "<style scoped>\n",
       "    .dataframe tbody tr th:only-of-type {\n",
       "        vertical-align: middle;\n",
       "    }\n",
       "\n",
       "    .dataframe tbody tr th {\n",
       "        vertical-align: top;\n",
       "    }\n",
       "\n",
       "    .dataframe thead th {\n",
       "        text-align: right;\n",
       "    }\n",
       "</style>\n",
       "<table border=\"1\" class=\"dataframe\">\n",
       "  <thead>\n",
       "    <tr style=\"text-align: right;\">\n",
       "      <th></th>\n",
       "      <th>num</th>\n",
       "      <th>float</th>\n",
       "      <th>datetime</th>\n",
       "      <th>timedelta</th>\n",
       "      <th>char</th>\n",
       "      <th>category</th>\n",
       "      <th>word</th>\n",
       "      <th>string</th>\n",
       "    </tr>\n",
       "  </thead>\n",
       "  <tbody>\n",
       "    <tr>\n",
       "      <th>9</th>\n",
       "      <td>10</td>\n",
       "      <td>8.28</td>\n",
       "      <td>2020-10-03 03:31:21</td>\n",
       "      <td>0 days 06:32:32</td>\n",
       "      <td>W</td>\n",
       "      <td>B</td>\n",
       "      <td>python</td>\n",
       "      <td>&lt;NA&gt;</td>\n",
       "    </tr>\n",
       "  </tbody>\n",
       "</table>\n",
       "</div>"
      ],
      "text/plain": [
       "   num  float            datetime       timedelta char category    word string\n",
       "9   10   8.28 2020-10-03 03:31:21 0 days 06:32:32    W        B  python   <NA>"
      ]
     },
     "execution_count": 12,
     "metadata": {},
     "output_type": "execute_result"
    }
   ],
   "source": [
    "df.sample()"
   ]
  },
  {
   "cell_type": "code",
   "execution_count": 13,
   "metadata": {},
   "outputs": [
    {
     "data": {
      "text/html": [
       "<div>\n",
       "<style scoped>\n",
       "    .dataframe tbody tr th:only-of-type {\n",
       "        vertical-align: middle;\n",
       "    }\n",
       "\n",
       "    .dataframe tbody tr th {\n",
       "        vertical-align: top;\n",
       "    }\n",
       "\n",
       "    .dataframe thead th {\n",
       "        text-align: right;\n",
       "    }\n",
       "</style>\n",
       "<table border=\"1\" class=\"dataframe\">\n",
       "  <thead>\n",
       "    <tr style=\"text-align: right;\">\n",
       "      <th></th>\n",
       "      <th>num</th>\n",
       "      <th>float</th>\n",
       "      <th>datetime</th>\n",
       "      <th>timedelta</th>\n",
       "      <th>char</th>\n",
       "      <th>category</th>\n",
       "      <th>word</th>\n",
       "      <th>string</th>\n",
       "    </tr>\n",
       "  </thead>\n",
       "  <tbody>\n",
       "    <tr>\n",
       "      <th>6</th>\n",
       "      <td>36</td>\n",
       "      <td>3.01</td>\n",
       "      <td>2020-09-30 14:36:26</td>\n",
       "      <td>0 days 06:46:49</td>\n",
       "      <td>T</td>\n",
       "      <td>D</td>\n",
       "      <td>&lt;NA&gt;</td>\n",
       "      <td>BlazingSQL is built on the RAPIDS GPU data sci...</td>\n",
       "    </tr>\n",
       "    <tr>\n",
       "      <th>7</th>\n",
       "      <td>38</td>\n",
       "      <td>6.44</td>\n",
       "      <td>2020-10-10 08:34:36</td>\n",
       "      <td>1 days 01:02:51</td>\n",
       "      <td>X</td>\n",
       "      <td>B</td>\n",
       "      <td>csv</td>\n",
       "      <td>BlazingSQL lets you ETL raw data directly into...</td>\n",
       "    </tr>\n",
       "    <tr>\n",
       "      <th>4</th>\n",
       "      <td>33</td>\n",
       "      <td>9.26</td>\n",
       "      <td>2020-10-15 10:58:02</td>\n",
       "      <td>0 days 09:52:38</td>\n",
       "      <td>O</td>\n",
       "      <td>D</td>\n",
       "      <td>parallel</td>\n",
       "      <td>If you want to distribute your workflow across...</td>\n",
       "    </tr>\n",
       "  </tbody>\n",
       "</table>\n",
       "</div>"
      ],
      "text/plain": [
       "   num  float            datetime       timedelta char category      word  \\\n",
       "6   36   3.01 2020-09-30 14:36:26 0 days 06:46:49    T        D      <NA>   \n",
       "7   38   6.44 2020-10-10 08:34:36 1 days 01:02:51    X        B       csv   \n",
       "4   33   9.26 2020-10-15 10:58:02 0 days 09:52:38    O        D  parallel   \n",
       "\n",
       "                                              string  \n",
       "6  BlazingSQL is built on the RAPIDS GPU data sci...  \n",
       "7  BlazingSQL lets you ETL raw data directly into...  \n",
       "4  If you want to distribute your workflow across...  "
      ]
     },
     "execution_count": 13,
     "metadata": {},
     "output_type": "execute_result"
    }
   ],
   "source": [
    "df.sample(3)"
   ]
  }
 ],
 "metadata": {
  "kernelspec": {
   "display_name": "Python 3",
   "language": "python",
   "name": "python3"
  },
  "language_info": {
   "codemirror_mode": {
    "name": "ipython",
    "version": 3
   },
   "file_extension": ".py",
   "mimetype": "text/x-python",
   "name": "python",
   "nbconvert_exporter": "python",
   "pygments_lexer": "ipython3",
   "version": "3.8.6"
  }
 },
 "nbformat": 4,
 "nbformat_minor": 4
}
