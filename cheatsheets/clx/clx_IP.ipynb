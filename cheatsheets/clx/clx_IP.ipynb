{
 "cells": [
  {
   "cell_type": "markdown",
   "metadata": {},
   "source": [
    "# CLX Cheat Sheets sample code\n",
    "\n",
    "(c) 2020 NVIDIA, Blazing SQL\n",
    "\n",
    "Distributed under Apache License 2.0"
   ]
  },
  {
   "cell_type": "code",
   "execution_count": 1,
   "metadata": {},
   "outputs": [],
   "source": [
    "import clx.ip\n",
    "import cudf"
   ]
  },
  {
   "cell_type": "markdown",
   "metadata": {},
   "source": [
    "# IP"
   ]
  },
  {
   "cell_type": "markdown",
   "metadata": {},
   "source": [
    "#### clx.ip.hostmask()"
   ]
  },
  {
   "cell_type": "code",
   "execution_count": 2,
   "metadata": {},
   "outputs": [
    {
     "data": {
      "text/plain": [
       "0    0.0.255.255\n",
       "1    0.0.255.255\n",
       "Name: hostmask, dtype: object"
      ]
     },
     "execution_count": 2,
     "metadata": {},
     "output_type": "execute_result"
    }
   ],
   "source": [
    "clx.ip.hostmask(cudf.Series(['192.168.0.1', '127.0.0.1']), prefixlen=16)"
   ]
  },
  {
   "cell_type": "code",
   "execution_count": 3,
   "metadata": {},
   "outputs": [
    {
     "data": {
      "text/plain": [
       "0    0.255.255.255\n",
       "1    0.255.255.255\n",
       "Name: hostmask, dtype: object"
      ]
     },
     "execution_count": 3,
     "metadata": {},
     "output_type": "execute_result"
    }
   ],
   "source": [
    "clx.ip.hostmask(cudf.Series(['192.168.0.1', '127.0.0.1']), prefixlen=8)"
   ]
  },
  {
   "cell_type": "markdown",
   "metadata": {},
   "source": [
    "#### clx.ip.int_to_ip()"
   ]
  },
  {
   "cell_type": "code",
   "execution_count": 4,
   "metadata": {},
   "outputs": [
    {
     "data": {
      "text/plain": [
       "0         8.8.8.8\n",
       "1    34.2.134.254\n",
       "dtype: object"
      ]
     },
     "execution_count": 4,
     "metadata": {},
     "output_type": "execute_result"
    }
   ],
   "source": [
    "clx.ip.int_to_ip(cudf.Series([134744072, 570590974]))"
   ]
  },
  {
   "cell_type": "markdown",
   "metadata": {},
   "source": [
    "#### clx.ip.ip_to_int()"
   ]
  },
  {
   "cell_type": "code",
   "execution_count": 5,
   "metadata": {},
   "outputs": [
    {
     "data": {
      "text/plain": [
       "0    134744072\n",
       "1    570590974\n",
       "dtype: int64"
      ]
     },
     "execution_count": 5,
     "metadata": {},
     "output_type": "execute_result"
    }
   ],
   "source": [
    "clx.ip.ip_to_int(cudf.Series(['8.8.8.8', '34.2.134.254']))"
   ]
  },
  {
   "cell_type": "markdown",
   "metadata": {},
   "source": [
    "#### clx.ip.is_global()"
   ]
  },
  {
   "cell_type": "code",
   "execution_count": 6,
   "metadata": {},
   "outputs": [
    {
     "data": {
      "text/plain": [
       "0     True\n",
       "1     True\n",
       "2    False\n",
       "3    False\n",
       "4    False\n",
       "dtype: bool"
      ]
     },
     "execution_count": 6,
     "metadata": {},
     "output_type": "execute_result"
    }
   ],
   "source": [
    "clx.ip.is_global(cudf.Series([\n",
    "    '8.8.8.8'\n",
    "    , '34.2.134.254'\n",
    "    , '192.168.0.1'\n",
    "    , '127.0.0.1'\n",
    "    , '192.168.1.1'\n",
    "]))"
   ]
  },
  {
   "cell_type": "markdown",
   "metadata": {},
   "source": [
    "#### clx.ip.is_ip()"
   ]
  },
  {
   "cell_type": "code",
   "execution_count": 7,
   "metadata": {},
   "outputs": [
    {
     "data": {
      "text/plain": [
       "0     True\n",
       "1     True\n",
       "2    False\n",
       "3    False\n",
       "dtype: bool"
      ]
     },
     "execution_count": 7,
     "metadata": {},
     "output_type": "execute_result"
    }
   ],
   "source": [
    "clx.ip.is_ip(cudf.Series([\n",
    "    '8.8.8.8'\n",
    "    , '192.168.1.1'\n",
    "    , '10.0.1'\n",
    "    , 'rapids'\n",
    "]))"
   ]
  },
  {
   "cell_type": "markdown",
   "metadata": {},
   "source": [
    "#### clx.ip.is_link_local()"
   ]
  },
  {
   "cell_type": "code",
   "execution_count": 8,
   "metadata": {},
   "outputs": [
    {
     "data": {
      "text/plain": [
       "0    False\n",
       "1    False\n",
       "2     True\n",
       "3    False\n",
       "4    False\n",
       "dtype: bool"
      ]
     },
     "execution_count": 8,
     "metadata": {},
     "output_type": "execute_result"
    }
   ],
   "source": [
    "clx.ip.is_link_local(cudf.Series([\n",
    "    '8.8.8.8'\n",
    "    , '172.17.0.2'\n",
    "    , '169.254.123.123'\n",
    "    , '127.0.0.1'\n",
    "    , '192.168.1.43'\n",
    "]))"
   ]
  },
  {
   "cell_type": "markdown",
   "metadata": {},
   "source": [
    "#### clx.ip.is_loopback()"
   ]
  },
  {
   "cell_type": "code",
   "execution_count": 9,
   "metadata": {},
   "outputs": [
    {
     "data": {
      "text/plain": [
       "0    False\n",
       "1    False\n",
       "2    False\n",
       "3     True\n",
       "4    False\n",
       "dtype: bool"
      ]
     },
     "execution_count": 9,
     "metadata": {},
     "output_type": "execute_result"
    }
   ],
   "source": [
    "clx.ip.is_loopback(cudf.Series([\n",
    "    '8.8.8.8'\n",
    "    , '172.17.0.2'\n",
    "    , '169.254.123.123'\n",
    "    , '127.0.0.1'\n",
    "    , '192.168.1.43'\n",
    "]))"
   ]
  },
  {
   "cell_type": "markdown",
   "metadata": {},
   "source": [
    "#### clx.ip.is_multicast()"
   ]
  },
  {
   "cell_type": "code",
   "execution_count": 10,
   "metadata": {},
   "outputs": [
    {
     "data": {
      "text/plain": [
       "0    False\n",
       "1    False\n",
       "2    False\n",
       "3    False\n",
       "4     True\n",
       "dtype: bool"
      ]
     },
     "execution_count": 10,
     "metadata": {},
     "output_type": "execute_result"
    }
   ],
   "source": [
    "clx.ip.is_multicast(cudf.Series([\n",
    "    '8.8.8.8'\n",
    "    , '172.17.0.2'\n",
    "    , '169.254.123.123'\n",
    "    , '127.0.0.1'\n",
    "    , '224.0.0.0'\n",
    "]))"
   ]
  },
  {
   "cell_type": "markdown",
   "metadata": {},
   "source": [
    "#### clx.ip.is_private()"
   ]
  },
  {
   "cell_type": "code",
   "execution_count": 11,
   "metadata": {},
   "outputs": [
    {
     "data": {
      "text/plain": [
       "0    False\n",
       "1     True\n",
       "2     True\n",
       "3     True\n",
       "4    False\n",
       "dtype: bool"
      ]
     },
     "execution_count": 11,
     "metadata": {},
     "output_type": "execute_result"
    }
   ],
   "source": [
    "clx.ip.is_private(cudf.Series([\n",
    "    '8.8.8.8'\n",
    "    , '172.17.0.2'\n",
    "    , '169.254.123.123'\n",
    "    , '127.0.0.1'\n",
    "    , '224.0.0.0'\n",
    "]))"
   ]
  },
  {
   "cell_type": "markdown",
   "metadata": {},
   "source": [
    "#### clx.ip.is_reserved()"
   ]
  },
  {
   "cell_type": "code",
   "execution_count": 12,
   "metadata": {},
   "outputs": [
    {
     "data": {
      "text/plain": [
       "0    False\n",
       "1    False\n",
       "2    False\n",
       "3    False\n",
       "4    False\n",
       "dtype: bool"
      ]
     },
     "execution_count": 12,
     "metadata": {},
     "output_type": "execute_result"
    }
   ],
   "source": [
    "clx.ip.is_reserved(cudf.Series([\n",
    "    '8.8.8.8'\n",
    "    , '172.17.0.2'\n",
    "    , '169.254.123.123'\n",
    "    , '127.0.0.1'\n",
    "    , '224.0.0.0'\n",
    "]))"
   ]
  },
  {
   "cell_type": "markdown",
   "metadata": {},
   "source": [
    "#### clx.ip.is_unspecified()"
   ]
  },
  {
   "cell_type": "code",
   "execution_count": 13,
   "metadata": {},
   "outputs": [
    {
     "data": {
      "text/plain": [
       "0    False\n",
       "1    False\n",
       "2    False\n",
       "3    False\n",
       "4    False\n",
       "dtype: bool"
      ]
     },
     "execution_count": 13,
     "metadata": {},
     "output_type": "execute_result"
    }
   ],
   "source": [
    "clx.ip.is_unspecified(cudf.Series([\n",
    "    '8.8.8.8'\n",
    "    , '172.17.0.2'\n",
    "    , '169.254.123.123'\n",
    "    , '127.0.0.1'\n",
    "    , '224.0.0.0'\n",
    "]))"
   ]
  },
  {
   "cell_type": "markdown",
   "metadata": {},
   "source": [
    "#### clx.ip.mask()"
   ]
  },
  {
   "cell_type": "code",
   "execution_count": 14,
   "metadata": {},
   "outputs": [
    {
     "data": {
      "text/plain": [
       "0        8.8.0.0\n",
       "1     172.17.0.0\n",
       "2    169.254.0.0\n",
       "3      127.0.0.0\n",
       "4      224.0.0.0\n",
       "Name: mask, dtype: object"
      ]
     },
     "execution_count": 14,
     "metadata": {},
     "output_type": "execute_result"
    }
   ],
   "source": [
    "ips = cudf.Series([\n",
    "    '8.8.8.8'\n",
    "    , '172.17.0.2'\n",
    "    , '169.254.123.123'\n",
    "    , '127.0.0.1'\n",
    "    , '224.0.0.0'\n",
    "])\n",
    "\n",
    "masks = cudf.Series([\n",
    "    '255.255.0.0'\n",
    "    , '255.255.255.0'\n",
    "    , '255.255.0.0'\n",
    "    , '255.255.0.0'\n",
    "    , '255.0.0.0'\n",
    "])\n",
    "\n",
    "clx.ip.mask(ips, masks)"
   ]
  },
  {
   "cell_type": "markdown",
   "metadata": {},
   "source": [
    "#### clx.ip.netmask()"
   ]
  },
  {
   "cell_type": "code",
   "execution_count": 15,
   "metadata": {},
   "outputs": [
    {
     "data": {
      "text/plain": [
       "0    255.255.0.0\n",
       "1    255.255.0.0\n",
       "2    255.255.0.0\n",
       "3    255.255.0.0\n",
       "4    255.255.0.0\n",
       "Name: net_mask, dtype: object"
      ]
     },
     "execution_count": 15,
     "metadata": {},
     "output_type": "execute_result"
    }
   ],
   "source": [
    "clx.ip.netmask(cudf.Series([\n",
    "    '8.8.8.8'\n",
    "    , '172.17.0.2'\n",
    "    , '169.254.123.123'\n",
    "    , '127.0.0.1'\n",
    "    , '224.0.0.0'\n",
    "]), prefixlen=16)"
   ]
  },
  {
   "cell_type": "code",
   "execution_count": 16,
   "metadata": {},
   "outputs": [
    {
     "data": {
      "text/plain": [
       "0    255.0.0.0\n",
       "1    255.0.0.0\n",
       "2    255.0.0.0\n",
       "3    255.0.0.0\n",
       "4    255.0.0.0\n",
       "Name: net_mask, dtype: object"
      ]
     },
     "execution_count": 16,
     "metadata": {},
     "output_type": "execute_result"
    }
   ],
   "source": [
    "clx.ip.netmask(cudf.Series([\n",
    "    '8.8.8.8'\n",
    "    , '172.17.0.2'\n",
    "    , '169.254.123.123'\n",
    "    , '127.0.0.1'\n",
    "    , '224.0.0.0'\n",
    "]), prefixlen=8)"
   ]
  }
 ],
 "metadata": {
  "kernelspec": {
   "display_name": "Python 3",
   "language": "python",
   "name": "python3"
  },
  "language_info": {
   "codemirror_mode": {
    "name": "ipython",
    "version": 3
   },
   "file_extension": ".py",
   "mimetype": "text/x-python",
   "name": "python",
   "nbconvert_exporter": "python",
   "pygments_lexer": "ipython3",
   "version": "3.8.6"
  }
 },
 "nbformat": 4,
 "nbformat_minor": 4
}
