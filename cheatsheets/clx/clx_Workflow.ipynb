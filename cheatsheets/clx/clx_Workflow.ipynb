{
 "cells": [
  {
   "cell_type": "markdown",
   "metadata": {},
   "source": [
    "# CLX Cheat Sheets sample code\n",
    "\n",
    "(c) 2020 NVIDIA, Blazing SQL\n",
    "\n",
    "Distributed under Apache License 2.0"
   ]
  },
  {
   "cell_type": "markdown",
   "metadata": {},
   "source": [
    "# Workflow"
   ]
  },
  {
   "cell_type": "markdown",
   "metadata": {},
   "source": [
    "#### clx.workflow.workflow.Workflow()\tYes"
   ]
  },
  {
   "cell_type": "code",
   "execution_count": 1,
   "metadata": {},
   "outputs": [],
   "source": [
    "from clx.workflow.workflow import Workflow\n",
    "import cudf\n",
    "import s3fs\n",
    "from os import path\n",
    "\n",
    "from clx.analytics.cybert import Cybert\n",
    "\n",
    "class SimpleWorkflow(Workflow):        \n",
    "    def workflow(self, dataframe):\n",
    "        dataframe['length'] = dataframe['raw'].str.len()\n",
    "        dataframe['ip'] = dataframe['raw'].str.extract(\n",
    "            '([0-9]+\\.[0-9]+\\.[0-9]+\\.[0-9]+)', expand=True)\n",
    "        return dataframe"
   ]
  },
  {
   "cell_type": "code",
   "execution_count": 2,
   "metadata": {},
   "outputs": [],
   "source": [
    "DATA_DIR = '../data'\n",
    "APACHE_SAMPLE_CSV = 'apache_sample_1k.csv'\n",
    "\n",
    "source = {\n",
    "    \"type\": \"fs\",\n",
    "    \"input_format\": \"csv\",\n",
    "    \"input_path\": f'{DATA_DIR}/{APACHE_SAMPLE_CSV}',\n",
    "    \"schema\": [\"raw\"],\n",
    "    \"delimiter\": \",\",\n",
    "    \"usecols\": [\"raw\"],\n",
    "    \"dtype\": [\"str\"],\n",
    "    \"header\": 0,\n",
    "}\n",
    "\n",
    "destination = {\n",
    "    \"type\": \"fs\",\n",
    "    \"output_format\": \"csv\",\n",
    "    \"output_path\": f'{DATA_DIR}/{APACHE_SAMPLE_CSV.split(\".\")[0]}_workflow.csv',\n",
    "    \"index\": False\n",
    "}"
   ]
  },
  {
   "cell_type": "code",
   "execution_count": 3,
   "metadata": {},
   "outputs": [],
   "source": [
    "workflow = SimpleWorkflow(\n",
    "    name='SimpleWorkflow'\n",
    "    , source=source\n",
    "    , destination=destination\n",
    ")"
   ]
  },
  {
   "cell_type": "markdown",
   "metadata": {},
   "source": [
    "#### clx.workflow.workflow.Workflow.run_workflow()\tYes"
   ]
  },
  {
   "cell_type": "code",
   "execution_count": 4,
   "metadata": {},
   "outputs": [],
   "source": [
    "![ -e ../data/apache_sample_1k_workflow.csv ] && rm ../data/apache_sample_1k_workflow.csv"
   ]
  },
  {
   "cell_type": "code",
   "execution_count": 5,
   "metadata": {},
   "outputs": [],
   "source": [
    "workflow.run_workflow()"
   ]
  },
  {
   "cell_type": "code",
   "execution_count": 6,
   "metadata": {},
   "outputs": [
    {
     "name": "stdout",
     "output_type": "stream",
     "text": [
      "raw,length,ip\n",
      "[Sun Dec 04 20:22:49 2005] [notice] workerEnv.init() ok /etc/httpd/conf/workers2.properties,91,\n",
      "\"193.106.31.130 - - [01/Sep/2019:03:28:00 +0200] \"\"POST /administrator/index.php HTTP/1.0\"\" 200 4481 \"\"-\"\" \"\"Mozilla/4.0 (compatible; MSIE 7.0; Windows NT 6.0)\"\" \"\"-\"\"\n",
      "\",159,193.106.31.130\n",
      "\"100.1.14.108 - - [29/Sep/2019:19:41:25 +0200] \"\"GET /components/com_users/dispacher.php HTTP/1.1\"\" 404 240 \"\"-\"\" \"\"python-requests/2.22.0\"\" \"\"-\"\"\n",
      "\",138,100.1.14.108\n",
      "\"13.84.43.203 - - [06/Nov/2019:03:15:15 +0100] \"\"GET //administrator/index.php HTTP/1.1\"\" 200 4270 \"\"-\"\" \"\"Mozilla/5.0 (Windows NT 10.0; Win64; x64; rv:65.0) Gecko/20100101 Firefox/65.0\"\" \"\"-\"\"\n",
      "\",185,13.84.43.203\n",
      "\"90.188.40.9 - - [18/Feb/2016:12:38:21 +0100] \"\"GET /administrator/ HTTP/1.1\"\" 200 4263 \"\"-\"\" \"\"Mozilla/5.0 (Windows NT 5.1) AppleWebKit/537.36 (KHTML, like Gecko) Chrome/46.0.2490.71 Safari/537.36\"\" \"\"-\"\"\n",
      "\",197,90.188.40.9\n"
     ]
    }
   ],
   "source": [
    "!head ../data/apache_sample_1k_workflow.csv"
   ]
  },
  {
   "cell_type": "markdown",
   "metadata": {},
   "source": [
    "#### clx.workflow.workflow.Workflow.destination()\tYes"
   ]
  },
  {
   "cell_type": "code",
   "execution_count": 7,
   "metadata": {},
   "outputs": [
    {
     "data": {
      "text/plain": [
       "{'type': 'fs',\n",
       " 'output_format': 'csv',\n",
       " 'output_path': '../data/apache_sample_1k_workflow.csv',\n",
       " 'index': False}"
      ]
     },
     "execution_count": 7,
     "metadata": {},
     "output_type": "execute_result"
    }
   ],
   "source": [
    "workflow.destination"
   ]
  },
  {
   "cell_type": "markdown",
   "metadata": {},
   "source": [
    "#### clx.workflow.workflow.Workflow.name()\tYes"
   ]
  },
  {
   "cell_type": "code",
   "execution_count": 8,
   "metadata": {},
   "outputs": [
    {
     "data": {
      "text/plain": [
       "'SimpleWorkflow'"
      ]
     },
     "execution_count": 8,
     "metadata": {},
     "output_type": "execute_result"
    }
   ],
   "source": [
    "workflow.name"
   ]
  },
  {
   "cell_type": "markdown",
   "metadata": {},
   "source": [
    "#### clx.workflow.workflow.Workflow.source()\tYes"
   ]
  },
  {
   "cell_type": "code",
   "execution_count": 15,
   "metadata": {},
   "outputs": [
    {
     "data": {
      "text/plain": [
       "{'type': 'fs',\n",
       " 'input_format': 'csv',\n",
       " 'input_path': '../data/apache_sample_1k.csv',\n",
       " 'schema': ['raw'],\n",
       " 'delimiter': ',',\n",
       " 'usecols': ['raw'],\n",
       " 'dtype': ['str'],\n",
       " 'header': 0}"
      ]
     },
     "execution_count": 15,
     "metadata": {},
     "output_type": "execute_result"
    }
   ],
   "source": [
    "workflow.source"
   ]
  },
  {
   "cell_type": "markdown",
   "metadata": {},
   "source": [
    "#### clx.workflow.workflow.Workflow.stop_workflow()\tYes"
   ]
  },
  {
   "cell_type": "code",
   "execution_count": 16,
   "metadata": {},
   "outputs": [],
   "source": [
    "workflow.stop_workflow()"
   ]
  },
  {
   "cell_type": "markdown",
   "metadata": {},
   "source": [
    "#### clx.workflow.workflow.Workflow.workflow()\tYes"
   ]
  },
  {
   "cell_type": "code",
   "execution_count": 17,
   "metadata": {},
   "outputs": [
    {
     "data": {
      "text/html": [
       "<div>\n",
       "<style scoped>\n",
       "    .dataframe tbody tr th:only-of-type {\n",
       "        vertical-align: middle;\n",
       "    }\n",
       "\n",
       "    .dataframe tbody tr th {\n",
       "        vertical-align: top;\n",
       "    }\n",
       "\n",
       "    .dataframe thead th {\n",
       "        text-align: right;\n",
       "    }\n",
       "</style>\n",
       "<table border=\"1\" class=\"dataframe\">\n",
       "  <thead>\n",
       "    <tr style=\"text-align: right;\">\n",
       "      <th></th>\n",
       "      <th>raw</th>\n",
       "      <th>length</th>\n",
       "      <th>ip</th>\n",
       "    </tr>\n",
       "  </thead>\n",
       "  <tbody>\n",
       "    <tr>\n",
       "      <th>0</th>\n",
       "      <td>[Sun Dec 04 20:22:49 2005] [notice] workerEnv....</td>\n",
       "      <td>91</td>\n",
       "      <td>&lt;NA&gt;</td>\n",
       "    </tr>\n",
       "    <tr>\n",
       "      <th>1</th>\n",
       "      <td>193.106.31.130 - - [01/Sep/2019:03:28:00 +0200...</td>\n",
       "      <td>159</td>\n",
       "      <td>193.106.31.130</td>\n",
       "    </tr>\n",
       "    <tr>\n",
       "      <th>2</th>\n",
       "      <td>100.1.14.108 - - [29/Sep/2019:19:41:25 +0200] ...</td>\n",
       "      <td>138</td>\n",
       "      <td>100.1.14.108</td>\n",
       "    </tr>\n",
       "    <tr>\n",
       "      <th>3</th>\n",
       "      <td>13.84.43.203 - - [06/Nov/2019:03:15:15 +0100] ...</td>\n",
       "      <td>185</td>\n",
       "      <td>13.84.43.203</td>\n",
       "    </tr>\n",
       "    <tr>\n",
       "      <th>4</th>\n",
       "      <td>90.188.40.9 - - [18/Feb/2016:12:38:21 +0100] \"...</td>\n",
       "      <td>197</td>\n",
       "      <td>90.188.40.9</td>\n",
       "    </tr>\n",
       "    <tr>\n",
       "      <th>...</th>\n",
       "      <td>...</td>\n",
       "      <td>...</td>\n",
       "      <td>...</td>\n",
       "    </tr>\n",
       "    <tr>\n",
       "      <th>995</th>\n",
       "      <td>154.0.14.250 - - [06/Dec/2016:16:59:06 +0100] ...</td>\n",
       "      <td>227</td>\n",
       "      <td>154.0.14.250</td>\n",
       "    </tr>\n",
       "    <tr>\n",
       "      <th>996</th>\n",
       "      <td>62.210.33.127 - - [20/Oct/2019:15:15:40 +0200]...</td>\n",
       "      <td>339</td>\n",
       "      <td>62.210.33.127</td>\n",
       "    </tr>\n",
       "    <tr>\n",
       "      <th>997</th>\n",
       "      <td>100.1.14.108 - - [04/Oct/2019:12:21:10 +0200] ...</td>\n",
       "      <td>152</td>\n",
       "      <td>100.1.14.108</td>\n",
       "    </tr>\n",
       "    <tr>\n",
       "      <th>998</th>\n",
       "      <td>198.50.156.189 - - [01/Apr/2017:19:47:53 +0200...</td>\n",
       "      <td>110</td>\n",
       "      <td>198.50.156.189</td>\n",
       "    </tr>\n",
       "    <tr>\n",
       "      <th>999</th>\n",
       "      <td>100.1.14.108 - - [23/Sep/2019:17:55:54 +0200] ...</td>\n",
       "      <td>151</td>\n",
       "      <td>100.1.14.108</td>\n",
       "    </tr>\n",
       "  </tbody>\n",
       "</table>\n",
       "<p>1000 rows × 3 columns</p>\n",
       "</div>"
      ],
      "text/plain": [
       "                                                   raw  length              ip\n",
       "0    [Sun Dec 04 20:22:49 2005] [notice] workerEnv....      91            <NA>\n",
       "1    193.106.31.130 - - [01/Sep/2019:03:28:00 +0200...     159  193.106.31.130\n",
       "2    100.1.14.108 - - [29/Sep/2019:19:41:25 +0200] ...     138    100.1.14.108\n",
       "3    13.84.43.203 - - [06/Nov/2019:03:15:15 +0100] ...     185    13.84.43.203\n",
       "4    90.188.40.9 - - [18/Feb/2016:12:38:21 +0100] \"...     197     90.188.40.9\n",
       "..                                                 ...     ...             ...\n",
       "995  154.0.14.250 - - [06/Dec/2016:16:59:06 +0100] ...     227    154.0.14.250\n",
       "996  62.210.33.127 - - [20/Oct/2019:15:15:40 +0200]...     339   62.210.33.127\n",
       "997  100.1.14.108 - - [04/Oct/2019:12:21:10 +0200] ...     152    100.1.14.108\n",
       "998  198.50.156.189 - - [01/Apr/2017:19:47:53 +0200...     110  198.50.156.189\n",
       "999  100.1.14.108 - - [23/Sep/2019:17:55:54 +0200] ...     151    100.1.14.108\n",
       "\n",
       "[1000 rows x 3 columns]"
      ]
     },
     "execution_count": 17,
     "metadata": {},
     "output_type": "execute_result"
    }
   ],
   "source": [
    "df = cudf.read_csv(f'{DATA_DIR}/{APACHE_SAMPLE_CSV}')[['raw']]\n",
    "workflow.workflow(df)"
   ]
  }
 ],
 "metadata": {
  "kernelspec": {
   "display_name": "Python 3",
   "language": "python",
   "name": "python3"
  },
  "language_info": {
   "codemirror_mode": {
    "name": "ipython",
    "version": 3
   },
   "file_extension": ".py",
   "mimetype": "text/x-python",
   "name": "python",
   "nbconvert_exporter": "python",
   "pygments_lexer": "ipython3",
   "version": "3.8.6"
  }
 },
 "nbformat": 4,
 "nbformat_minor": 4
}
