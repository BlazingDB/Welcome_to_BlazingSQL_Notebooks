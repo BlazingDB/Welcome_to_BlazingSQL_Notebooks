{
 "cells": [
  {
   "cell_type": "markdown",
   "metadata": {},
   "source": [
    "# CLX Cheat Sheets sample code\n",
    "\n",
    "(c) 2020 NVIDIA, Blazing SQL\n",
    "\n",
    "Distributed under Apache License 2.0"
   ]
  },
  {
   "cell_type": "code",
   "execution_count": 1,
   "metadata": {},
   "outputs": [],
   "source": [
    "import clx.io.reader.fs_reader\n",
    "import clx.io.writer.fs_writer"
   ]
  },
  {
   "cell_type": "markdown",
   "metadata": {},
   "source": [
    "## I/O"
   ]
  },
  {
   "cell_type": "markdown",
   "metadata": {},
   "source": [
    "#### clx.io.reader.fs_reader.FileSystemReader()"
   ]
  },
  {
   "cell_type": "code",
   "execution_count": 2,
   "metadata": {},
   "outputs": [],
   "source": [
    "fs_reader = clx.io.reader.fs_reader.FileSystemReader({\n",
    "    'input_path': '../data/apache_sample_1k.csv'\n",
    "    , 'input_format': 'csv'\n",
    "    , 'type': None\n",
    "})"
   ]
  },
  {
   "cell_type": "markdown",
   "metadata": {},
   "source": [
    "#### clx.io.reader.fs_reader.FileSystemReader.fetch_data()"
   ]
  },
  {
   "cell_type": "code",
   "execution_count": 3,
   "metadata": {},
   "outputs": [
    {
     "data": {
      "text/html": [
       "<div>\n",
       "<style scoped>\n",
       "    .dataframe tbody tr th:only-of-type {\n",
       "        vertical-align: middle;\n",
       "    }\n",
       "\n",
       "    .dataframe tbody tr th {\n",
       "        vertical-align: top;\n",
       "    }\n",
       "\n",
       "    .dataframe thead th {\n",
       "        text-align: right;\n",
       "    }\n",
       "</style>\n",
       "<table border=\"1\" class=\"dataframe\">\n",
       "  <thead>\n",
       "    <tr style=\"text-align: right;\">\n",
       "      <th></th>\n",
       "      <th>error_level</th>\n",
       "      <th>error_message</th>\n",
       "      <th>raw</th>\n",
       "      <th>remote_host</th>\n",
       "      <th>remote_logname</th>\n",
       "      <th>remote_user</th>\n",
       "      <th>request_header_referer</th>\n",
       "      <th>request_header_user_agent</th>\n",
       "      <th>request_header_user_agent__browser__family</th>\n",
       "      <th>request_header_user_agent__browser__version_string</th>\n",
       "      <th>...</th>\n",
       "      <th>request_url_username</th>\n",
       "      <th>response_bytes_clf</th>\n",
       "      <th>status</th>\n",
       "      <th>time_received</th>\n",
       "      <th>time_received_datetimeobj</th>\n",
       "      <th>time_received_isoformat</th>\n",
       "      <th>time_received_tz_datetimeobj</th>\n",
       "      <th>time_received_tz_isoformat</th>\n",
       "      <th>time_received_utc_datetimeobj</th>\n",
       "      <th>time_received_utc_isoformat</th>\n",
       "    </tr>\n",
       "  </thead>\n",
       "  <tbody>\n",
       "    <tr>\n",
       "      <th>0</th>\n",
       "      <td>[notice]</td>\n",
       "      <td>workerEnv.init() ok /etc/httpd/conf/workers2.p...</td>\n",
       "      <td>[Sun Dec 04 20:22:49 2005] [notice] workerEnv....</td>\n",
       "      <td>&lt;NA&gt;</td>\n",
       "      <td>&lt;NA&gt;</td>\n",
       "      <td>&lt;NA&gt;</td>\n",
       "      <td>&lt;NA&gt;</td>\n",
       "      <td>&lt;NA&gt;</td>\n",
       "      <td>&lt;NA&gt;</td>\n",
       "      <td>&lt;NA&gt;</td>\n",
       "      <td>...</td>\n",
       "      <td>&lt;NA&gt;</td>\n",
       "      <td>&lt;NA&gt;</td>\n",
       "      <td>&lt;NA&gt;</td>\n",
       "      <td>[Sun Dec 04 20:22:49 2005]</td>\n",
       "      <td>&lt;NA&gt;</td>\n",
       "      <td>&lt;NA&gt;</td>\n",
       "      <td>&lt;NA&gt;</td>\n",
       "      <td>&lt;NA&gt;</td>\n",
       "      <td>&lt;NA&gt;</td>\n",
       "      <td>&lt;NA&gt;</td>\n",
       "    </tr>\n",
       "    <tr>\n",
       "      <th>1</th>\n",
       "      <td>&lt;NA&gt;</td>\n",
       "      <td>&lt;NA&gt;</td>\n",
       "      <td>193.106.31.130 - - [01/Sep/2019:03:28:00 +0200...</td>\n",
       "      <td>193.106.31.130</td>\n",
       "      <td>-</td>\n",
       "      <td>-</td>\n",
       "      <td>-</td>\n",
       "      <td>Mozilla/4.0 (compatible; MSIE 7.0; Windows NT ...</td>\n",
       "      <td>IE</td>\n",
       "      <td>7.0</td>\n",
       "      <td>...</td>\n",
       "      <td>&lt;NA&gt;</td>\n",
       "      <td>4481</td>\n",
       "      <td>200.0</td>\n",
       "      <td>[01/Sep/2019:03:28:00 +0200]</td>\n",
       "      <td>1.56730848e+12</td>\n",
       "      <td>2019-09-01T03:28:00</td>\n",
       "      <td>1.56730128e+12</td>\n",
       "      <td>2019-09-01T03:28:00+02:00</td>\n",
       "      <td>1.56730128e+12</td>\n",
       "      <td>2019-09-01T01:28:00+00:00</td>\n",
       "    </tr>\n",
       "    <tr>\n",
       "      <th>2</th>\n",
       "      <td>&lt;NA&gt;</td>\n",
       "      <td>&lt;NA&gt;</td>\n",
       "      <td>100.1.14.108 - - [29/Sep/2019:19:41:25 +0200] ...</td>\n",
       "      <td>100.1.14.108</td>\n",
       "      <td>-</td>\n",
       "      <td>-</td>\n",
       "      <td>-</td>\n",
       "      <td>python-requests/2.22.0</td>\n",
       "      <td>Python Requests</td>\n",
       "      <td>2.22</td>\n",
       "      <td>...</td>\n",
       "      <td>&lt;NA&gt;</td>\n",
       "      <td>240</td>\n",
       "      <td>404.0</td>\n",
       "      <td>[29/Sep/2019:19:41:25 +0200]</td>\n",
       "      <td>1.569786085e+12</td>\n",
       "      <td>2019-09-29T19:41:25</td>\n",
       "      <td>1.569778885e+12</td>\n",
       "      <td>2019-09-29T19:41:25+02:00</td>\n",
       "      <td>1.569778885e+12</td>\n",
       "      <td>2019-09-29T17:41:25+00:00</td>\n",
       "    </tr>\n",
       "    <tr>\n",
       "      <th>3</th>\n",
       "      <td>&lt;NA&gt;</td>\n",
       "      <td>&lt;NA&gt;</td>\n",
       "      <td>13.84.43.203 - - [06/Nov/2019:03:15:15 +0100] ...</td>\n",
       "      <td>13.84.43.203</td>\n",
       "      <td>-</td>\n",
       "      <td>-</td>\n",
       "      <td>-</td>\n",
       "      <td>Mozilla/5.0 (Windows NT 10.0; Win64; x64; rv:6...</td>\n",
       "      <td>Firefox</td>\n",
       "      <td>65.0</td>\n",
       "      <td>...</td>\n",
       "      <td>&lt;NA&gt;</td>\n",
       "      <td>4270</td>\n",
       "      <td>200.0</td>\n",
       "      <td>[06/Nov/2019:03:15:15 +0100]</td>\n",
       "      <td>1.573010115e+12</td>\n",
       "      <td>2019-11-06T03:15:15</td>\n",
       "      <td>1.573006515e+12</td>\n",
       "      <td>2019-11-06T03:15:15+01:00</td>\n",
       "      <td>1.573006515e+12</td>\n",
       "      <td>2019-11-06T02:15:15+00:00</td>\n",
       "    </tr>\n",
       "    <tr>\n",
       "      <th>4</th>\n",
       "      <td>&lt;NA&gt;</td>\n",
       "      <td>&lt;NA&gt;</td>\n",
       "      <td>90.188.40.9 - - [18/Feb/2016:12:38:21 +0100] \"...</td>\n",
       "      <td>90.188.40.9</td>\n",
       "      <td>-</td>\n",
       "      <td>-</td>\n",
       "      <td>-</td>\n",
       "      <td>Mozilla/5.0 (Windows NT 5.1) AppleWebKit/537.3...</td>\n",
       "      <td>Chrome</td>\n",
       "      <td>46.0.2490</td>\n",
       "      <td>...</td>\n",
       "      <td>&lt;NA&gt;</td>\n",
       "      <td>4263</td>\n",
       "      <td>200.0</td>\n",
       "      <td>[18/Feb/2016:12:38:21 +0100]</td>\n",
       "      <td>1.455799101e+12</td>\n",
       "      <td>2016-02-18T12:38:21</td>\n",
       "      <td>1.455795501e+12</td>\n",
       "      <td>2016-02-18T12:38:21+01:00</td>\n",
       "      <td>1.455795501e+12</td>\n",
       "      <td>2016-02-18T11:38:21+00:00</td>\n",
       "    </tr>\n",
       "  </tbody>\n",
       "</table>\n",
       "<p>5 rows × 37 columns</p>\n",
       "</div>"
      ],
      "text/plain": [
       "  error_level                                      error_message  \\\n",
       "0    [notice]  workerEnv.init() ok /etc/httpd/conf/workers2.p...   \n",
       "1        <NA>                                               <NA>   \n",
       "2        <NA>                                               <NA>   \n",
       "3        <NA>                                               <NA>   \n",
       "4        <NA>                                               <NA>   \n",
       "\n",
       "                                                 raw     remote_host  \\\n",
       "0  [Sun Dec 04 20:22:49 2005] [notice] workerEnv....            <NA>   \n",
       "1  193.106.31.130 - - [01/Sep/2019:03:28:00 +0200...  193.106.31.130   \n",
       "2  100.1.14.108 - - [29/Sep/2019:19:41:25 +0200] ...    100.1.14.108   \n",
       "3  13.84.43.203 - - [06/Nov/2019:03:15:15 +0100] ...    13.84.43.203   \n",
       "4  90.188.40.9 - - [18/Feb/2016:12:38:21 +0100] \"...     90.188.40.9   \n",
       "\n",
       "  remote_logname remote_user request_header_referer  \\\n",
       "0           <NA>        <NA>                   <NA>   \n",
       "1              -           -                      -   \n",
       "2              -           -                      -   \n",
       "3              -           -                      -   \n",
       "4              -           -                      -   \n",
       "\n",
       "                           request_header_user_agent  \\\n",
       "0                                               <NA>   \n",
       "1  Mozilla/4.0 (compatible; MSIE 7.0; Windows NT ...   \n",
       "2                             python-requests/2.22.0   \n",
       "3  Mozilla/5.0 (Windows NT 10.0; Win64; x64; rv:6...   \n",
       "4  Mozilla/5.0 (Windows NT 5.1) AppleWebKit/537.3...   \n",
       "\n",
       "  request_header_user_agent__browser__family  \\\n",
       "0                                       <NA>   \n",
       "1                                         IE   \n",
       "2                            Python Requests   \n",
       "3                                    Firefox   \n",
       "4                                     Chrome   \n",
       "\n",
       "  request_header_user_agent__browser__version_string  ...  \\\n",
       "0                                               <NA>  ...   \n",
       "1                                                7.0  ...   \n",
       "2                                               2.22  ...   \n",
       "3                                               65.0  ...   \n",
       "4                                          46.0.2490  ...   \n",
       "\n",
       "  request_url_username response_bytes_clf status  \\\n",
       "0                 <NA>               <NA>   <NA>   \n",
       "1                 <NA>               4481  200.0   \n",
       "2                 <NA>                240  404.0   \n",
       "3                 <NA>               4270  200.0   \n",
       "4                 <NA>               4263  200.0   \n",
       "\n",
       "                  time_received time_received_datetimeobj  \\\n",
       "0    [Sun Dec 04 20:22:49 2005]                      <NA>   \n",
       "1  [01/Sep/2019:03:28:00 +0200]            1.56730848e+12   \n",
       "2  [29/Sep/2019:19:41:25 +0200]           1.569786085e+12   \n",
       "3  [06/Nov/2019:03:15:15 +0100]           1.573010115e+12   \n",
       "4  [18/Feb/2016:12:38:21 +0100]           1.455799101e+12   \n",
       "\n",
       "  time_received_isoformat time_received_tz_datetimeobj  \\\n",
       "0                    <NA>                         <NA>   \n",
       "1     2019-09-01T03:28:00               1.56730128e+12   \n",
       "2     2019-09-29T19:41:25              1.569778885e+12   \n",
       "3     2019-11-06T03:15:15              1.573006515e+12   \n",
       "4     2016-02-18T12:38:21              1.455795501e+12   \n",
       "\n",
       "  time_received_tz_isoformat time_received_utc_datetimeobj  \\\n",
       "0                       <NA>                          <NA>   \n",
       "1  2019-09-01T03:28:00+02:00                1.56730128e+12   \n",
       "2  2019-09-29T19:41:25+02:00               1.569778885e+12   \n",
       "3  2019-11-06T03:15:15+01:00               1.573006515e+12   \n",
       "4  2016-02-18T12:38:21+01:00               1.455795501e+12   \n",
       "\n",
       "  time_received_utc_isoformat  \n",
       "0                        <NA>  \n",
       "1   2019-09-01T01:28:00+00:00  \n",
       "2   2019-09-29T17:41:25+00:00  \n",
       "3   2019-11-06T02:15:15+00:00  \n",
       "4   2016-02-18T11:38:21+00:00  \n",
       "\n",
       "[5 rows x 37 columns]"
      ]
     },
     "execution_count": 3,
     "metadata": {},
     "output_type": "execute_result"
    }
   ],
   "source": [
    "data_head = fs_reader.fetch_data().head()\n",
    "data_head"
   ]
  },
  {
   "cell_type": "markdown",
   "metadata": {},
   "source": [
    "#### clx.io.reader.fs_reader.FileSystemReader.close()"
   ]
  },
  {
   "cell_type": "code",
   "execution_count": 4,
   "metadata": {},
   "outputs": [],
   "source": [
    "fs_reader.close()"
   ]
  },
  {
   "cell_type": "markdown",
   "metadata": {},
   "source": [
    "#### clx.io.writer.fs_writer.FileSystemWriter()"
   ]
  },
  {
   "cell_type": "code",
   "execution_count": 5,
   "metadata": {},
   "outputs": [],
   "source": [
    "fs_writer = clx.io.writer.fs_writer.FileSystemWriter({\n",
    "    'output_path': '../data/apache_sample_head.csv'\n",
    "    , 'output_format': 'csv'\n",
    "    , 'type': None\n",
    "})"
   ]
  },
  {
   "cell_type": "code",
   "execution_count": 6,
   "metadata": {},
   "outputs": [],
   "source": [
    "fs_writer = clx.io.writer.fs_writer.FileSystemWriter({\n",
    "    'output_path': '../data/apache_sample_head.parquet'\n",
    "    , 'output_format': 'parquet'\n",
    "    , 'type': None\n",
    "})"
   ]
  },
  {
   "cell_type": "code",
   "execution_count": 7,
   "metadata": {},
   "outputs": [],
   "source": [
    "fs_writer = clx.io.writer.fs_writer.FileSystemWriter({\n",
    "    'output_path': '../data/apache_sample_head.orc'\n",
    "    , 'output_format': 'orc'\n",
    "    , 'type': None\n",
    "})"
   ]
  },
  {
   "cell_type": "code",
   "execution_count": 8,
   "metadata": {},
   "outputs": [],
   "source": [
    "fs_writer = clx.io.writer.fs_writer.FileSystemWriter({\n",
    "    'output_path': '../data/apache_sample_head.json'\n",
    "    , 'output_format': 'json'\n",
    "    , 'type': None\n",
    "    , 'lines': True\n",
    "    , 'orient': 'records'\n",
    "})"
   ]
  },
  {
   "cell_type": "markdown",
   "metadata": {},
   "source": [
    "#### clx.io.writer.fs_writer.FileSystemWriter.write_data()"
   ]
  },
  {
   "cell_type": "code",
   "execution_count": 11,
   "metadata": {},
   "outputs": [
    {
     "name": "stderr",
     "output_type": "stream",
     "text": [
      "/opt/conda/envs/rapids/lib/python3.8/site-packages/cudf/io/json.py:81: UserWarning: Using CPU via Pandas to write JSON dataset, this may be GPU accelerated in the future\n",
      "  warnings.warn(\n"
     ]
    }
   ],
   "source": [
    "fs_writer.write_data(data_head)"
   ]
  },
  {
   "cell_type": "markdown",
   "metadata": {},
   "source": [
    "#### clx.io.writer.fs_writer.FileSystemWriter.close()"
   ]
  },
  {
   "cell_type": "code",
   "execution_count": 12,
   "metadata": {},
   "outputs": [],
   "source": [
    "fs_writer.close()"
   ]
  }
 ],
 "metadata": {
  "kernelspec": {
   "display_name": "Python 3",
   "language": "python",
   "name": "python3"
  },
  "language_info": {
   "codemirror_mode": {
    "name": "ipython",
    "version": 3
   },
   "file_extension": ".py",
   "mimetype": "text/x-python",
   "name": "python",
   "nbconvert_exporter": "python",
   "pygments_lexer": "ipython3",
   "version": "3.8.6"
  }
 },
 "nbformat": 4,
 "nbformat_minor": 4
}
