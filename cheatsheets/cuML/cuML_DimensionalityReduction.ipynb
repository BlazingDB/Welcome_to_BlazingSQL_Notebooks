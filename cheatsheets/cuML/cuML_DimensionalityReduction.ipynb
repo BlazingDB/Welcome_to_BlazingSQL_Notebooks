{
 "cells": [
  {
   "cell_type": "markdown",
   "metadata": {},
   "source": [
    "# cuML Cheat Sheets sample code\n",
    "\n",
    "(c) 2020 NVIDIA, Blazing SQL\n",
    "\n",
    "Distributed under Apache License 2.0"
   ]
  },
  {
   "cell_type": "markdown",
   "metadata": {},
   "source": [
    "## Imports"
   ]
  },
  {
   "cell_type": "code",
   "execution_count": 1,
   "metadata": {},
   "outputs": [],
   "source": [
    "import cudf\n",
    "import cuml\n",
    "import numpy as np\n",
    "import cupy as cp"
   ]
  },
  {
   "cell_type": "markdown",
   "metadata": {},
   "source": [
    "## Create high-dimensional dataset"
   ]
  },
  {
   "cell_type": "code",
   "execution_count": 2,
   "metadata": {},
   "outputs": [
    {
     "data": {
      "text/html": [
       "<div>\n",
       "<style scoped>\n",
       "    .dataframe tbody tr th:only-of-type {\n",
       "        vertical-align: middle;\n",
       "    }\n",
       "\n",
       "    .dataframe tbody tr th {\n",
       "        vertical-align: top;\n",
       "    }\n",
       "\n",
       "    .dataframe thead th {\n",
       "        text-align: right;\n",
       "    }\n",
       "</style>\n",
       "<table border=\"1\" class=\"dataframe\">\n",
       "  <thead>\n",
       "    <tr style=\"text-align: right;\">\n",
       "      <th></th>\n",
       "      <th>feat_0</th>\n",
       "      <th>feat_1</th>\n",
       "      <th>feat_2</th>\n",
       "      <th>feat_3</th>\n",
       "      <th>feat_4</th>\n",
       "      <th>feat_5</th>\n",
       "      <th>feat_6</th>\n",
       "      <th>feat_7</th>\n",
       "      <th>feat_8</th>\n",
       "      <th>feat_9</th>\n",
       "      <th>...</th>\n",
       "      <th>feat_40</th>\n",
       "      <th>feat_41</th>\n",
       "      <th>feat_42</th>\n",
       "      <th>feat_43</th>\n",
       "      <th>feat_44</th>\n",
       "      <th>feat_45</th>\n",
       "      <th>feat_46</th>\n",
       "      <th>feat_47</th>\n",
       "      <th>feat_48</th>\n",
       "      <th>feat_49</th>\n",
       "    </tr>\n",
       "  </thead>\n",
       "  <tbody>\n",
       "    <tr>\n",
       "      <th>0</th>\n",
       "      <td>7.589761</td>\n",
       "      <td>7.208304</td>\n",
       "      <td>-7.722461</td>\n",
       "      <td>-3.209315</td>\n",
       "      <td>9.666397</td>\n",
       "      <td>-7.190459</td>\n",
       "      <td>-0.997644</td>\n",
       "      <td>5.829687</td>\n",
       "      <td>1.076457</td>\n",
       "      <td>0.651431</td>\n",
       "      <td>...</td>\n",
       "      <td>-8.338373</td>\n",
       "      <td>8.647488</td>\n",
       "      <td>-3.625234</td>\n",
       "      <td>-9.947751</td>\n",
       "      <td>4.578557</td>\n",
       "      <td>-0.903102</td>\n",
       "      <td>5.918593</td>\n",
       "      <td>-4.405318</td>\n",
       "      <td>-6.878672</td>\n",
       "      <td>2.185904</td>\n",
       "    </tr>\n",
       "    <tr>\n",
       "      <th>1</th>\n",
       "      <td>-5.748606</td>\n",
       "      <td>9.339875</td>\n",
       "      <td>-7.619163</td>\n",
       "      <td>4.319634</td>\n",
       "      <td>6.499643</td>\n",
       "      <td>-8.672876</td>\n",
       "      <td>-6.800653</td>\n",
       "      <td>8.868011</td>\n",
       "      <td>4.650366</td>\n",
       "      <td>-3.238728</td>\n",
       "      <td>...</td>\n",
       "      <td>-2.495759</td>\n",
       "      <td>-1.395807</td>\n",
       "      <td>5.904201</td>\n",
       "      <td>7.583916</td>\n",
       "      <td>9.156301</td>\n",
       "      <td>12.052747</td>\n",
       "      <td>-7.354555</td>\n",
       "      <td>6.495594</td>\n",
       "      <td>4.565936</td>\n",
       "      <td>-1.095663</td>\n",
       "    </tr>\n",
       "    <tr>\n",
       "      <th>2</th>\n",
       "      <td>2.329422</td>\n",
       "      <td>8.326813</td>\n",
       "      <td>-4.267350</td>\n",
       "      <td>-3.689414</td>\n",
       "      <td>2.883873</td>\n",
       "      <td>8.233931</td>\n",
       "      <td>-4.797714</td>\n",
       "      <td>0.912871</td>\n",
       "      <td>4.668309</td>\n",
       "      <td>-6.343417</td>\n",
       "      <td>...</td>\n",
       "      <td>-6.758141</td>\n",
       "      <td>-8.904453</td>\n",
       "      <td>-4.069989</td>\n",
       "      <td>3.491974</td>\n",
       "      <td>1.036479</td>\n",
       "      <td>9.302173</td>\n",
       "      <td>-5.626184</td>\n",
       "      <td>-8.706893</td>\n",
       "      <td>-2.084003</td>\n",
       "      <td>-9.373956</td>\n",
       "    </tr>\n",
       "    <tr>\n",
       "      <th>3</th>\n",
       "      <td>-0.523938</td>\n",
       "      <td>8.993605</td>\n",
       "      <td>-3.203280</td>\n",
       "      <td>-3.471752</td>\n",
       "      <td>2.517102</td>\n",
       "      <td>7.679788</td>\n",
       "      <td>-6.470776</td>\n",
       "      <td>1.095110</td>\n",
       "      <td>3.132567</td>\n",
       "      <td>-7.238961</td>\n",
       "      <td>...</td>\n",
       "      <td>-5.375118</td>\n",
       "      <td>-7.900988</td>\n",
       "      <td>-2.566927</td>\n",
       "      <td>3.752570</td>\n",
       "      <td>-1.263025</td>\n",
       "      <td>9.524938</td>\n",
       "      <td>-5.258194</td>\n",
       "      <td>-8.637293</td>\n",
       "      <td>-1.480533</td>\n",
       "      <td>-8.885070</td>\n",
       "    </tr>\n",
       "    <tr>\n",
       "      <th>4</th>\n",
       "      <td>5.920640</td>\n",
       "      <td>-4.133704</td>\n",
       "      <td>5.394042</td>\n",
       "      <td>-7.642078</td>\n",
       "      <td>-0.359299</td>\n",
       "      <td>-5.367612</td>\n",
       "      <td>7.015220</td>\n",
       "      <td>5.495719</td>\n",
       "      <td>-2.193276</td>\n",
       "      <td>-3.254083</td>\n",
       "      <td>...</td>\n",
       "      <td>-0.424435</td>\n",
       "      <td>3.525335</td>\n",
       "      <td>-5.994757</td>\n",
       "      <td>10.869374</td>\n",
       "      <td>-8.449874</td>\n",
       "      <td>-6.463242</td>\n",
       "      <td>-8.981915</td>\n",
       "      <td>8.312650</td>\n",
       "      <td>-0.698499</td>\n",
       "      <td>-1.629270</td>\n",
       "    </tr>\n",
       "  </tbody>\n",
       "</table>\n",
       "<p>5 rows × 50 columns</p>\n",
       "</div>"
      ],
      "text/plain": [
       "     feat_0    feat_1    feat_2    feat_3    feat_4    feat_5    feat_6  \\\n",
       "0  7.589761  7.208304 -7.722461 -3.209315  9.666397 -7.190459 -0.997644   \n",
       "1 -5.748606  9.339875 -7.619163  4.319634  6.499643 -8.672876 -6.800653   \n",
       "2  2.329422  8.326813 -4.267350 -3.689414  2.883873  8.233931 -4.797714   \n",
       "3 -0.523938  8.993605 -3.203280 -3.471752  2.517102  7.679788 -6.470776   \n",
       "4  5.920640 -4.133704  5.394042 -7.642078 -0.359299 -5.367612  7.015220   \n",
       "\n",
       "     feat_7    feat_8    feat_9  ...   feat_40   feat_41   feat_42    feat_43  \\\n",
       "0  5.829687  1.076457  0.651431  ... -8.338373  8.647488 -3.625234  -9.947751   \n",
       "1  8.868011  4.650366 -3.238728  ... -2.495759 -1.395807  5.904201   7.583916   \n",
       "2  0.912871  4.668309 -6.343417  ... -6.758141 -8.904453 -4.069989   3.491974   \n",
       "3  1.095110  3.132567 -7.238961  ... -5.375118 -7.900988 -2.566927   3.752570   \n",
       "4  5.495719 -2.193276 -3.254083  ... -0.424435  3.525335 -5.994757  10.869374   \n",
       "\n",
       "    feat_44    feat_45   feat_46   feat_47   feat_48   feat_49  \n",
       "0  4.578557  -0.903102  5.918593 -4.405318 -6.878672  2.185904  \n",
       "1  9.156301  12.052747 -7.354555  6.495594  4.565936 -1.095663  \n",
       "2  1.036479   9.302173 -5.626184 -8.706893 -2.084003 -9.373956  \n",
       "3 -1.263025   9.524938 -5.258194 -8.637293 -1.480533 -8.885070  \n",
       "4 -8.449874  -6.463242 -8.981915  8.312650 -0.698499 -1.629270  \n",
       "\n",
       "[5 rows x 50 columns]"
      ]
     },
     "execution_count": 2,
     "metadata": {},
     "output_type": "execute_result"
    }
   ],
   "source": [
    "X, y = cuml.make_blobs(n_samples=1000, centers=4, n_features=50, random_state=np.random.randint(1e9))\n",
    "\n",
    "df = cudf.DataFrame(X, columns=[f'feat_{i}' for i in range(50)])\n",
    "df.head()"
   ]
  },
  {
   "cell_type": "markdown",
   "metadata": {},
   "source": [
    "---\n",
    "\n",
    "# Dimensionality reduction\n",
    "\n",
    "---"
   ]
  },
  {
   "cell_type": "markdown",
   "metadata": {},
   "source": [
    "#### PCA()"
   ]
  },
  {
   "cell_type": "code",
   "execution_count": 3,
   "metadata": {},
   "outputs": [],
   "source": [
    "pca = cuml.PCA(\n",
    "    n_components=2\n",
    ")"
   ]
  },
  {
   "cell_type": "code",
   "execution_count": 4,
   "metadata": {},
   "outputs": [
    {
     "data": {
      "text/plain": [
       "PCA(copy=True, handle=<cuml.raft.common.handle.Handle object at 0x7f47ba125a50>, iterated_power=15, n_components=2, random_state=None, svd_solver='auto', tol=1e-07, verbose=4, whiten=False, output_type='input')"
      ]
     },
     "execution_count": 4,
     "metadata": {},
     "output_type": "execute_result"
    }
   ],
   "source": [
    "pca.fit(df)"
   ]
  },
  {
   "cell_type": "code",
   "execution_count": 5,
   "metadata": {},
   "outputs": [
    {
     "data": {
      "text/plain": [
       "<AxesSubplot:xlabel='0', ylabel='1'>"
      ]
     },
     "execution_count": 5,
     "metadata": {},
     "output_type": "execute_result"
    },
    {
     "data": {
      "image/png": "[encoded data removed]",
      "text/plain": [
       "<Figure size 432x288 with 1 Axes>"
      ]
     },
     "metadata": {
      "needs_background": "light"
     },
     "output_type": "display_data"
    }
   ],
   "source": [
    "pca.fit_transform(df).to_pandas().plot(kind='scatter', x=0, y=1)"
   ]
  },
  {
   "cell_type": "code",
   "execution_count": 6,
   "metadata": {},
   "outputs": [
    {
     "data": {
      "text/html": [
       "<div>\n",
       "<style scoped>\n",
       "    .dataframe tbody tr th:only-of-type {\n",
       "        vertical-align: middle;\n",
       "    }\n",
       "\n",
       "    .dataframe tbody tr th {\n",
       "        vertical-align: top;\n",
       "    }\n",
       "\n",
       "    .dataframe thead th {\n",
       "        text-align: right;\n",
       "    }\n",
       "</style>\n",
       "<table border=\"1\" class=\"dataframe\">\n",
       "  <thead>\n",
       "    <tr style=\"text-align: right;\">\n",
       "      <th></th>\n",
       "      <th>0</th>\n",
       "      <th>1</th>\n",
       "      <th>2</th>\n",
       "      <th>3</th>\n",
       "      <th>4</th>\n",
       "      <th>5</th>\n",
       "      <th>6</th>\n",
       "      <th>7</th>\n",
       "      <th>8</th>\n",
       "      <th>9</th>\n",
       "      <th>...</th>\n",
       "      <th>40</th>\n",
       "      <th>41</th>\n",
       "      <th>42</th>\n",
       "      <th>43</th>\n",
       "      <th>44</th>\n",
       "      <th>45</th>\n",
       "      <th>46</th>\n",
       "      <th>47</th>\n",
       "      <th>48</th>\n",
       "      <th>49</th>\n",
       "    </tr>\n",
       "  </thead>\n",
       "  <tbody>\n",
       "    <tr>\n",
       "      <th>0</th>\n",
       "      <td>8.211925</td>\n",
       "      <td>9.699988</td>\n",
       "      <td>-9.092926</td>\n",
       "      <td>-4.666225</td>\n",
       "      <td>7.713948</td>\n",
       "      <td>-5.837446</td>\n",
       "      <td>-1.558282</td>\n",
       "      <td>3.713866</td>\n",
       "      <td>4.246972</td>\n",
       "      <td>0.364673</td>\n",
       "      <td>...</td>\n",
       "      <td>-5.408792</td>\n",
       "      <td>7.011106</td>\n",
       "      <td>-2.056432</td>\n",
       "      <td>-9.381965</td>\n",
       "      <td>4.328178</td>\n",
       "      <td>-0.233571</td>\n",
       "      <td>4.812344</td>\n",
       "      <td>-7.044404</td>\n",
       "      <td>-8.996447</td>\n",
       "      <td>0.710038</td>\n",
       "    </tr>\n",
       "    <tr>\n",
       "      <th>1</th>\n",
       "      <td>-5.689622</td>\n",
       "      <td>10.857309</td>\n",
       "      <td>-7.519245</td>\n",
       "      <td>5.029392</td>\n",
       "      <td>6.604825</td>\n",
       "      <td>-4.281018</td>\n",
       "      <td>-8.909040</td>\n",
       "      <td>4.772664</td>\n",
       "      <td>4.685487</td>\n",
       "      <td>-5.456584</td>\n",
       "      <td>...</td>\n",
       "      <td>-3.484307</td>\n",
       "      <td>-4.670763</td>\n",
       "      <td>6.596917</td>\n",
       "      <td>6.881651</td>\n",
       "      <td>9.279690</td>\n",
       "      <td>11.991730</td>\n",
       "      <td>-7.048285</td>\n",
       "      <td>2.358850</td>\n",
       "      <td>4.815508</td>\n",
       "      <td>-3.048844</td>\n",
       "    </tr>\n",
       "    <tr>\n",
       "      <th>2</th>\n",
       "      <td>1.814109</td>\n",
       "      <td>4.210002</td>\n",
       "      <td>-2.249119</td>\n",
       "      <td>-3.213598</td>\n",
       "      <td>2.602291</td>\n",
       "      <td>-2.263991</td>\n",
       "      <td>-1.943623</td>\n",
       "      <td>4.811798</td>\n",
       "      <td>1.932714</td>\n",
       "      <td>-4.089475</td>\n",
       "      <td>...</td>\n",
       "      <td>-3.121522</td>\n",
       "      <td>-1.688010</td>\n",
       "      <td>-1.857205</td>\n",
       "      <td>5.473471</td>\n",
       "      <td>-0.339196</td>\n",
       "      <td>3.167148</td>\n",
       "      <td>-6.206188</td>\n",
       "      <td>1.147132</td>\n",
       "      <td>-0.070438</td>\n",
       "      <td>-3.334902</td>\n",
       "    </tr>\n",
       "    <tr>\n",
       "      <th>3</th>\n",
       "      <td>1.457548</td>\n",
       "      <td>4.436642</td>\n",
       "      <td>-2.408882</td>\n",
       "      <td>-2.866496</td>\n",
       "      <td>2.724315</td>\n",
       "      <td>-2.317507</td>\n",
       "      <td>-2.230194</td>\n",
       "      <td>4.818985</td>\n",
       "      <td>2.026244</td>\n",
       "      <td>-4.180735</td>\n",
       "      <td>...</td>\n",
       "      <td>-3.117997</td>\n",
       "      <td>-1.878971</td>\n",
       "      <td>-1.511533</td>\n",
       "      <td>5.649580</td>\n",
       "      <td>0.014964</td>\n",
       "      <td>3.553500</td>\n",
       "      <td>-6.328575</td>\n",
       "      <td>1.261954</td>\n",
       "      <td>0.199797</td>\n",
       "      <td>-3.355606</td>\n",
       "    </tr>\n",
       "    <tr>\n",
       "      <th>4</th>\n",
       "      <td>5.722818</td>\n",
       "      <td>-2.211830</td>\n",
       "      <td>3.502974</td>\n",
       "      <td>-8.986133</td>\n",
       "      <td>-1.743463</td>\n",
       "      <td>0.190555</td>\n",
       "      <td>3.157586</td>\n",
       "      <td>5.132228</td>\n",
       "      <td>-0.737495</td>\n",
       "      <td>-4.249534</td>\n",
       "      <td>...</td>\n",
       "      <td>-2.243877</td>\n",
       "      <td>-1.766981</td>\n",
       "      <td>-8.119889</td>\n",
       "      <td>8.361492</td>\n",
       "      <td>-8.762726</td>\n",
       "      <td>-2.523178</td>\n",
       "      <td>-8.499464</td>\n",
       "      <td>2.414506</td>\n",
       "      <td>-1.353041</td>\n",
       "      <td>-4.621402</td>\n",
       "    </tr>\n",
       "    <tr>\n",
       "      <th>...</th>\n",
       "      <td>...</td>\n",
       "      <td>...</td>\n",
       "      <td>...</td>\n",
       "      <td>...</td>\n",
       "      <td>...</td>\n",
       "      <td>...</td>\n",
       "      <td>...</td>\n",
       "      <td>...</td>\n",
       "      <td>...</td>\n",
       "      <td>...</td>\n",
       "      <td>...</td>\n",
       "      <td>...</td>\n",
       "      <td>...</td>\n",
       "      <td>...</td>\n",
       "      <td>...</td>\n",
       "      <td>...</td>\n",
       "      <td>...</td>\n",
       "      <td>...</td>\n",
       "      <td>...</td>\n",
       "      <td>...</td>\n",
       "      <td>...</td>\n",
       "    </tr>\n",
       "    <tr>\n",
       "      <th>995</th>\n",
       "      <td>8.915661</td>\n",
       "      <td>9.402298</td>\n",
       "      <td>-8.929639</td>\n",
       "      <td>-5.276526</td>\n",
       "      <td>7.587423</td>\n",
       "      <td>-5.802806</td>\n",
       "      <td>-1.067156</td>\n",
       "      <td>3.684509</td>\n",
       "      <td>4.124883</td>\n",
       "      <td>0.588890</td>\n",
       "      <td>...</td>\n",
       "      <td>-5.450571</td>\n",
       "      <td>7.470556</td>\n",
       "      <td>-2.644688</td>\n",
       "      <td>-9.912660</td>\n",
       "      <td>3.801749</td>\n",
       "      <td>-0.940812</td>\n",
       "      <td>5.192027</td>\n",
       "      <td>-7.367023</td>\n",
       "      <td>-9.593639</td>\n",
       "      <td>0.808416</td>\n",
       "    </tr>\n",
       "    <tr>\n",
       "      <th>996</th>\n",
       "      <td>8.213878</td>\n",
       "      <td>10.319708</td>\n",
       "      <td>-9.723009</td>\n",
       "      <td>-4.357829</td>\n",
       "      <td>8.187688</td>\n",
       "      <td>-6.131740</td>\n",
       "      <td>-1.865785</td>\n",
       "      <td>3.650865</td>\n",
       "      <td>4.505879</td>\n",
       "      <td>0.548192</td>\n",
       "      <td>...</td>\n",
       "      <td>-5.553320</td>\n",
       "      <td>7.354754</td>\n",
       "      <td>-1.668254</td>\n",
       "      <td>-10.142869</td>\n",
       "      <td>5.042424</td>\n",
       "      <td>-0.006212</td>\n",
       "      <td>5.386277</td>\n",
       "      <td>-7.443424</td>\n",
       "      <td>-9.262847</td>\n",
       "      <td>0.948842</td>\n",
       "    </tr>\n",
       "    <tr>\n",
       "      <th>997</th>\n",
       "      <td>2.189592</td>\n",
       "      <td>4.243352</td>\n",
       "      <td>-2.357274</td>\n",
       "      <td>-3.443193</td>\n",
       "      <td>2.681610</td>\n",
       "      <td>-2.336682</td>\n",
       "      <td>-1.777236</td>\n",
       "      <td>4.776649</td>\n",
       "      <td>1.947861</td>\n",
       "      <td>-3.913199</td>\n",
       "      <td>...</td>\n",
       "      <td>-3.188539</td>\n",
       "      <td>-1.336833</td>\n",
       "      <td>-2.050348</td>\n",
       "      <td>4.955117</td>\n",
       "      <td>-0.398420</td>\n",
       "      <td>2.860817</td>\n",
       "      <td>-5.826184</td>\n",
       "      <td>0.851696</td>\n",
       "      <td>-0.471066</td>\n",
       "      <td>-3.208539</td>\n",
       "    </tr>\n",
       "    <tr>\n",
       "      <th>998</th>\n",
       "      <td>-5.456218</td>\n",
       "      <td>10.898563</td>\n",
       "      <td>-7.607328</td>\n",
       "      <td>4.896930</td>\n",
       "      <td>6.669810</td>\n",
       "      <td>-4.335939</td>\n",
       "      <td>-8.815827</td>\n",
       "      <td>4.748734</td>\n",
       "      <td>4.703477</td>\n",
       "      <td>-5.340961</td>\n",
       "      <td>...</td>\n",
       "      <td>-3.530741</td>\n",
       "      <td>-4.441145</td>\n",
       "      <td>6.489749</td>\n",
       "      <td>6.534322</td>\n",
       "      <td>9.266546</td>\n",
       "      <td>11.808897</td>\n",
       "      <td>-6.793125</td>\n",
       "      <td>2.162039</td>\n",
       "      <td>4.557718</td>\n",
       "      <td>-2.962407</td>\n",
       "    </tr>\n",
       "    <tr>\n",
       "      <th>999</th>\n",
       "      <td>-5.509182</td>\n",
       "      <td>10.606576</td>\n",
       "      <td>-7.300165</td>\n",
       "      <td>4.785759</td>\n",
       "      <td>6.439140</td>\n",
       "      <td>-4.189398</td>\n",
       "      <td>-8.696307</td>\n",
       "      <td>4.782820</td>\n",
       "      <td>4.581322</td>\n",
       "      <td>-5.450497</td>\n",
       "      <td>...</td>\n",
       "      <td>-3.454432</td>\n",
       "      <td>-4.649183</td>\n",
       "      <td>6.336530</td>\n",
       "      <td>6.959018</td>\n",
       "      <td>8.943563</td>\n",
       "      <td>11.745941</td>\n",
       "      <td>-7.111942</td>\n",
       "      <td>2.388023</td>\n",
       "      <td>4.736792</td>\n",
       "      <td>-3.090659</td>\n",
       "    </tr>\n",
       "  </tbody>\n",
       "</table>\n",
       "<p>1000 rows × 50 columns</p>\n",
       "</div>"
      ],
      "text/plain": [
       "           0          1         2         3         4         5         6   \\\n",
       "0    8.211925   9.699988 -9.092926 -4.666225  7.713948 -5.837446 -1.558282   \n",
       "1   -5.689622  10.857309 -7.519245  5.029392  6.604825 -4.281018 -8.909040   \n",
       "2    1.814109   4.210002 -2.249119 -3.213598  2.602291 -2.263991 -1.943623   \n",
       "3    1.457548   4.436642 -2.408882 -2.866496  2.724315 -2.317507 -2.230194   \n",
       "4    5.722818  -2.211830  3.502974 -8.986133 -1.743463  0.190555  3.157586   \n",
       "..        ...        ...       ...       ...       ...       ...       ...   \n",
       "995  8.915661   9.402298 -8.929639 -5.276526  7.587423 -5.802806 -1.067156   \n",
       "996  8.213878  10.319708 -9.723009 -4.357829  8.187688 -6.131740 -1.865785   \n",
       "997  2.189592   4.243352 -2.357274 -3.443193  2.681610 -2.336682 -1.777236   \n",
       "998 -5.456218  10.898563 -7.607328  4.896930  6.669810 -4.335939 -8.815827   \n",
       "999 -5.509182  10.606576 -7.300165  4.785759  6.439140 -4.189398 -8.696307   \n",
       "\n",
       "           7         8         9   ...        40        41        42  \\\n",
       "0    3.713866  4.246972  0.364673  ... -5.408792  7.011106 -2.056432   \n",
       "1    4.772664  4.685487 -5.456584  ... -3.484307 -4.670763  6.596917   \n",
       "2    4.811798  1.932714 -4.089475  ... -3.121522 -1.688010 -1.857205   \n",
       "3    4.818985  2.026244 -4.180735  ... -3.117997 -1.878971 -1.511533   \n",
       "4    5.132228 -0.737495 -4.249534  ... -2.243877 -1.766981 -8.119889   \n",
       "..        ...       ...       ...  ...       ...       ...       ...   \n",
       "995  3.684509  4.124883  0.588890  ... -5.450571  7.470556 -2.644688   \n",
       "996  3.650865  4.505879  0.548192  ... -5.553320  7.354754 -1.668254   \n",
       "997  4.776649  1.947861 -3.913199  ... -3.188539 -1.336833 -2.050348   \n",
       "998  4.748734  4.703477 -5.340961  ... -3.530741 -4.441145  6.489749   \n",
       "999  4.782820  4.581322 -5.450497  ... -3.454432 -4.649183  6.336530   \n",
       "\n",
       "            43        44         45        46        47        48        49  \n",
       "0    -9.381965  4.328178  -0.233571  4.812344 -7.044404 -8.996447  0.710038  \n",
       "1     6.881651  9.279690  11.991730 -7.048285  2.358850  4.815508 -3.048844  \n",
       "2     5.473471 -0.339196   3.167148 -6.206188  1.147132 -0.070438 -3.334902  \n",
       "3     5.649580  0.014964   3.553500 -6.328575  1.261954  0.199797 -3.355606  \n",
       "4     8.361492 -8.762726  -2.523178 -8.499464  2.414506 -1.353041 -4.621402  \n",
       "..         ...       ...        ...       ...       ...       ...       ...  \n",
       "995  -9.912660  3.801749  -0.940812  5.192027 -7.367023 -9.593639  0.808416  \n",
       "996 -10.142869  5.042424  -0.006212  5.386277 -7.443424 -9.262847  0.948842  \n",
       "997   4.955117 -0.398420   2.860817 -5.826184  0.851696 -0.471066 -3.208539  \n",
       "998   6.534322  9.266546  11.808897 -6.793125  2.162039  4.557718 -2.962407  \n",
       "999   6.959018  8.943563  11.745941 -7.111942  2.388023  4.736792 -3.090659  \n",
       "\n",
       "[1000 rows x 50 columns]"
      ]
     },
     "execution_count": 6,
     "metadata": {},
     "output_type": "execute_result"
    }
   ],
   "source": [
    "pca.inverse_transform(pca.fit_transform(df))"
   ]
  },
  {
   "cell_type": "code",
   "execution_count": 7,
   "metadata": {},
   "outputs": [
    {
     "data": {
      "text/plain": [
       "0    491.885162\n",
       "1    409.532440\n",
       "dtype: float32"
      ]
     },
     "execution_count": 7,
     "metadata": {},
     "output_type": "execute_result"
    }
   ],
   "source": [
    "pca.explained_variance_"
   ]
  },
  {
   "cell_type": "code",
   "execution_count": 8,
   "metadata": {},
   "outputs": [
    {
     "data": {
      "text/plain": [
       "0    0.368399\n",
       "1    0.306721\n",
       "dtype: float32"
      ]
     },
     "execution_count": 8,
     "metadata": {},
     "output_type": "execute_result"
    }
   ],
   "source": [
    "pca.explained_variance_ratio_"
   ]
  },
  {
   "cell_type": "markdown",
   "metadata": {},
   "source": [
    "#### TruncatedSVD()"
   ]
  },
  {
   "cell_type": "code",
   "execution_count": null,
   "metadata": {},
   "outputs": [],
   "source": []
  },
  {
   "cell_type": "markdown",
   "metadata": {},
   "source": [
    "#### UMAP()"
   ]
  },
  {
   "cell_type": "code",
   "execution_count": 9,
   "metadata": {},
   "outputs": [],
   "source": [
    "umap = cuml.UMAP(\n",
    "    n_neighbors=10\n",
    "    , n_components=2\n",
    ")"
   ]
  },
  {
   "cell_type": "code",
   "execution_count": 10,
   "metadata": {},
   "outputs": [
    {
     "data": {
      "text/plain": [
       "UMAP(n_neighbors=10, n_components=2, n_epochs=0, learning_rate=1.0, min_dist=0.1, spread=1.0, set_op_mix_ratio=1.0, local_connectivity=1.0, repulsion_strength=1.0, negative_sample_rate=5, transform_queue_size=4.0, init='spectral', verbose=4, a=1.576943460405378, b=0.8950608781227859, target_n_neighbors=-1, target_weights=0.5, target_metric='categorical', handle=<cuml.raft.common.handle.Handle object at 0x7f4699b34170>, hash_input=False, random_state=17538393185646899148, optim_batch_size=0, callback=None, output_type='input')"
      ]
     },
     "execution_count": 10,
     "metadata": {},
     "output_type": "execute_result"
    }
   ],
   "source": [
    "umap.fit(df)"
   ]
  },
  {
   "cell_type": "code",
   "execution_count": 11,
   "metadata": {},
   "outputs": [
    {
     "data": {
      "text/html": [
       "<div>\n",
       "<style scoped>\n",
       "    .dataframe tbody tr th:only-of-type {\n",
       "        vertical-align: middle;\n",
       "    }\n",
       "\n",
       "    .dataframe tbody tr th {\n",
       "        vertical-align: top;\n",
       "    }\n",
       "\n",
       "    .dataframe thead th {\n",
       "        text-align: right;\n",
       "    }\n",
       "</style>\n",
       "<table border=\"1\" class=\"dataframe\">\n",
       "  <thead>\n",
       "    <tr style=\"text-align: right;\">\n",
       "      <th></th>\n",
       "      <th>0</th>\n",
       "      <th>1</th>\n",
       "    </tr>\n",
       "  </thead>\n",
       "  <tbody>\n",
       "    <tr>\n",
       "      <th>0</th>\n",
       "      <td>-2.632522</td>\n",
       "      <td>-9.234728</td>\n",
       "    </tr>\n",
       "    <tr>\n",
       "      <th>1</th>\n",
       "      <td>-10.695358</td>\n",
       "      <td>1.309771</td>\n",
       "    </tr>\n",
       "    <tr>\n",
       "      <th>2</th>\n",
       "      <td>3.485770</td>\n",
       "      <td>9.471447</td>\n",
       "    </tr>\n",
       "    <tr>\n",
       "      <th>3</th>\n",
       "      <td>3.347071</td>\n",
       "      <td>9.121678</td>\n",
       "    </tr>\n",
       "    <tr>\n",
       "      <th>4</th>\n",
       "      <td>9.016210</td>\n",
       "      <td>-3.436406</td>\n",
       "    </tr>\n",
       "    <tr>\n",
       "      <th>...</th>\n",
       "      <td>...</td>\n",
       "      <td>...</td>\n",
       "    </tr>\n",
       "    <tr>\n",
       "      <th>995</th>\n",
       "      <td>-1.750365</td>\n",
       "      <td>-8.581668</td>\n",
       "    </tr>\n",
       "    <tr>\n",
       "      <th>996</th>\n",
       "      <td>-1.873422</td>\n",
       "      <td>-8.808435</td>\n",
       "    </tr>\n",
       "    <tr>\n",
       "      <th>997</th>\n",
       "      <td>2.523432</td>\n",
       "      <td>8.979485</td>\n",
       "    </tr>\n",
       "    <tr>\n",
       "      <th>998</th>\n",
       "      <td>-9.800294</td>\n",
       "      <td>0.667731</td>\n",
       "    </tr>\n",
       "    <tr>\n",
       "      <th>999</th>\n",
       "      <td>-10.258811</td>\n",
       "      <td>1.713844</td>\n",
       "    </tr>\n",
       "  </tbody>\n",
       "</table>\n",
       "<p>1000 rows × 2 columns</p>\n",
       "</div>"
      ],
      "text/plain": [
       "             0         1\n",
       "0    -2.632522 -9.234728\n",
       "1   -10.695358  1.309771\n",
       "2     3.485770  9.471447\n",
       "3     3.347071  9.121678\n",
       "4     9.016210 -3.436406\n",
       "..         ...       ...\n",
       "995  -1.750365 -8.581668\n",
       "996  -1.873422 -8.808435\n",
       "997   2.523432  8.979485\n",
       "998  -9.800294  0.667731\n",
       "999 -10.258811  1.713844\n",
       "\n",
       "[1000 rows x 2 columns]"
      ]
     },
     "execution_count": 11,
     "metadata": {},
     "output_type": "execute_result"
    }
   ],
   "source": [
    "umap.fit_transform(df)"
   ]
  },
  {
   "cell_type": "code",
   "execution_count": 12,
   "metadata": {},
   "outputs": [
    {
     "data": {
      "text/plain": [
       "<AxesSubplot:xlabel='0', ylabel='1'>"
      ]
     },
     "execution_count": 12,
     "metadata": {},
     "output_type": "execute_result"
    },
    {
     "data": {
      "image/png": "[encoded data removed]",
      "text/plain": [
       "<Figure size 432x288 with 1 Axes>"
      ]
     },
     "metadata": {
      "needs_background": "light"
     },
     "output_type": "display_data"
    }
   ],
   "source": [
    "umap.fit_transform(df).to_pandas().plot(kind='scatter', x=0, y=1)"
   ]
  },
  {
   "cell_type": "code",
   "execution_count": 13,
   "metadata": {},
   "outputs": [
    {
     "data": {
      "text/html": [
       "<div>\n",
       "<style scoped>\n",
       "    .dataframe tbody tr th:only-of-type {\n",
       "        vertical-align: middle;\n",
       "    }\n",
       "\n",
       "    .dataframe tbody tr th {\n",
       "        vertical-align: top;\n",
       "    }\n",
       "\n",
       "    .dataframe thead th {\n",
       "        text-align: right;\n",
       "    }\n",
       "</style>\n",
       "<table border=\"1\" class=\"dataframe\">\n",
       "  <thead>\n",
       "    <tr style=\"text-align: right;\">\n",
       "      <th></th>\n",
       "      <th>0</th>\n",
       "      <th>1</th>\n",
       "    </tr>\n",
       "  </thead>\n",
       "  <tbody>\n",
       "    <tr>\n",
       "      <th>0</th>\n",
       "      <td>-0.596437</td>\n",
       "      <td>4.172332</td>\n",
       "    </tr>\n",
       "    <tr>\n",
       "      <th>1</th>\n",
       "      <td>-10.636870</td>\n",
       "      <td>7.002224</td>\n",
       "    </tr>\n",
       "    <tr>\n",
       "      <th>2</th>\n",
       "      <td>-1.786568</td>\n",
       "      <td>-11.098577</td>\n",
       "    </tr>\n",
       "    <tr>\n",
       "      <th>3</th>\n",
       "      <td>-1.090074</td>\n",
       "      <td>-11.115568</td>\n",
       "    </tr>\n",
       "    <tr>\n",
       "      <th>4</th>\n",
       "      <td>11.081472</td>\n",
       "      <td>-1.367908</td>\n",
       "    </tr>\n",
       "    <tr>\n",
       "      <th>...</th>\n",
       "      <td>...</td>\n",
       "      <td>...</td>\n",
       "    </tr>\n",
       "    <tr>\n",
       "      <th>995</th>\n",
       "      <td>-0.303804</td>\n",
       "      <td>4.776556</td>\n",
       "    </tr>\n",
       "    <tr>\n",
       "      <th>996</th>\n",
       "      <td>-0.945358</td>\n",
       "      <td>4.094347</td>\n",
       "    </tr>\n",
       "    <tr>\n",
       "      <th>997</th>\n",
       "      <td>0.238464</td>\n",
       "      <td>-10.990151</td>\n",
       "    </tr>\n",
       "    <tr>\n",
       "      <th>998</th>\n",
       "      <td>-11.162582</td>\n",
       "      <td>6.540639</td>\n",
       "    </tr>\n",
       "    <tr>\n",
       "      <th>999</th>\n",
       "      <td>-11.226065</td>\n",
       "      <td>6.282533</td>\n",
       "    </tr>\n",
       "  </tbody>\n",
       "</table>\n",
       "<p>1000 rows × 2 columns</p>\n",
       "</div>"
      ],
      "text/plain": [
       "             0          1\n",
       "0    -0.596437   4.172332\n",
       "1   -10.636870   7.002224\n",
       "2    -1.786568 -11.098577\n",
       "3    -1.090074 -11.115568\n",
       "4    11.081472  -1.367908\n",
       "..         ...        ...\n",
       "995  -0.303804   4.776556\n",
       "996  -0.945358   4.094347\n",
       "997   0.238464 -10.990151\n",
       "998 -11.162582   6.540639\n",
       "999 -11.226065   6.282533\n",
       "\n",
       "[1000 rows x 2 columns]"
      ]
     },
     "execution_count": 13,
     "metadata": {},
     "output_type": "execute_result"
    }
   ],
   "source": [
    "umap.transform(df)"
   ]
  },
  {
   "cell_type": "markdown",
   "metadata": {},
   "source": [
    "#### TSNE()"
   ]
  },
  {
   "cell_type": "code",
   "execution_count": 14,
   "metadata": {},
   "outputs": [],
   "source": [
    "tsne = cuml.TSNE(\n",
    "    n_components=2\n",
    "    , perplexity=10\n",
    "    , learning_rate=200\n",
    ")"
   ]
  },
  {
   "cell_type": "code",
   "execution_count": 15,
   "metadata": {},
   "outputs": [
    {
     "data": {
      "text/plain": [
       "TSNE(n_components=2, perplexity=10, early_exaggeration=12.0, learning_rate=200, n_iter=1000, n_iter_without_progress=300, min_grad_norm=1e-07, metric='euclidean', init='random', verbose=4, random_state=None, method='barnes_hut', angle=0.5, learning_rate_method='adaptive', n_neighbors=90, perplexity_max_iter=100, exaggeration_iter=250, pre_momentum=0.5, post_momentum=0.8, handle=<cuml.raft.common.handle.Handle object at 0x7f4699baa810>, output_type='input')"
      ]
     },
     "execution_count": 15,
     "metadata": {},
     "output_type": "execute_result"
    }
   ],
   "source": [
    "tsne.fit(df)"
   ]
  },
  {
   "cell_type": "code",
   "execution_count": 16,
   "metadata": {},
   "outputs": [
    {
     "data": {
      "text/plain": [
       "<AxesSubplot:xlabel='0', ylabel='1'>"
      ]
     },
     "execution_count": 16,
     "metadata": {},
     "output_type": "execute_result"
    },
    {
     "data": {
      "image/png": "[encoded data removed]",
      "text/plain": [
       "<Figure size 432x288 with 1 Axes>"
      ]
     },
     "metadata": {
      "needs_background": "light"
     },
     "output_type": "display_data"
    }
   ],
   "source": [
    "tsne.fit_transform(df).to_pandas().plot(kind='scatter', x=0, y=1)"
   ]
  }
 ],
 "metadata": {
  "kernelspec": {
   "display_name": "Python 3",
   "language": "python",
   "name": "python3"
  },
  "language_info": {
   "codemirror_mode": {
    "name": "ipython",
    "version": 3
   },
   "file_extension": ".py",
   "mimetype": "text/x-python",
   "name": "python",
   "nbconvert_exporter": "python",
   "pygments_lexer": "ipython3",
   "version": "3.8.6"
  }
 },
 "nbformat": 4,
 "nbformat_minor": 4
}
