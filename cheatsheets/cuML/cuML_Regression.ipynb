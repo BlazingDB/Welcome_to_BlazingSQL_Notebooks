{
 "cells": [
  {
   "cell_type": "markdown",
   "metadata": {},
   "source": [
    "# cuML Cheat Sheets sample code\n",
    "\n",
    "(c) 2020 NVIDIA, Blazing SQL\n",
    "\n",
    "Distributed under Apache License 2.0"
   ]
  },
  {
   "cell_type": "markdown",
   "metadata": {},
   "source": [
    "## Imports"
   ]
  },
  {
   "cell_type": "code",
   "execution_count": 1,
   "metadata": {},
   "outputs": [],
   "source": [
    "import cudf\n",
    "import cuml\n",
    "import numpy as np\n",
    "import cupy as cp"
   ]
  },
  {
   "cell_type": "markdown",
   "metadata": {},
   "source": [
    "## Create regression dataset"
   ]
  },
  {
   "cell_type": "code",
   "execution_count": 2,
   "metadata": {},
   "outputs": [
    {
     "name": "stdout",
     "output_type": "stream",
     "text": [
      "coefficients:\n",
      " [[ 0.      ]\n",
      " [ 0.      ]\n",
      " [21.947212]\n",
      " [82.2553  ]]\n"
     ]
    },
    {
     "data": {
      "text/html": [
       "<div>\n",
       "<style scoped>\n",
       "    .dataframe tbody tr th:only-of-type {\n",
       "        vertical-align: middle;\n",
       "    }\n",
       "\n",
       "    .dataframe tbody tr th {\n",
       "        vertical-align: top;\n",
       "    }\n",
       "\n",
       "    .dataframe thead th {\n",
       "        text-align: right;\n",
       "    }\n",
       "</style>\n",
       "<table border=\"1\" class=\"dataframe\">\n",
       "  <thead>\n",
       "    <tr style=\"text-align: right;\">\n",
       "      <th></th>\n",
       "      <th>feat_0</th>\n",
       "      <th>feat_1</th>\n",
       "      <th>feat_2</th>\n",
       "      <th>feat_3</th>\n",
       "      <th>target</th>\n",
       "    </tr>\n",
       "  </thead>\n",
       "  <tbody>\n",
       "    <tr>\n",
       "      <th>0</th>\n",
       "      <td>-1.056957</td>\n",
       "      <td>1.879557</td>\n",
       "      <td>0.886296</td>\n",
       "      <td>-1.907221</td>\n",
       "      <td>-140.787689</td>\n",
       "    </tr>\n",
       "    <tr>\n",
       "      <th>1</th>\n",
       "      <td>-0.572250</td>\n",
       "      <td>-1.620277</td>\n",
       "      <td>-0.018567</td>\n",
       "      <td>-0.740552</td>\n",
       "      <td>-64.641685</td>\n",
       "    </tr>\n",
       "    <tr>\n",
       "      <th>2</th>\n",
       "      <td>-1.420940</td>\n",
       "      <td>-0.015144</td>\n",
       "      <td>-1.605330</td>\n",
       "      <td>0.854558</td>\n",
       "      <td>31.677322</td>\n",
       "    </tr>\n",
       "    <tr>\n",
       "      <th>3</th>\n",
       "      <td>0.718283</td>\n",
       "      <td>-0.616024</td>\n",
       "      <td>-2.313588</td>\n",
       "      <td>-1.976617</td>\n",
       "      <td>-216.650360</td>\n",
       "    </tr>\n",
       "    <tr>\n",
       "      <th>4</th>\n",
       "      <td>0.161272</td>\n",
       "      <td>-0.925325</td>\n",
       "      <td>-1.330421</td>\n",
       "      <td>-1.242758</td>\n",
       "      <td>-134.817703</td>\n",
       "    </tr>\n",
       "  </tbody>\n",
       "</table>\n",
       "</div>"
      ],
      "text/plain": [
       "     feat_0    feat_1    feat_2    feat_3      target\n",
       "0 -1.056957  1.879557  0.886296 -1.907221 -140.787689\n",
       "1 -0.572250 -1.620277 -0.018567 -0.740552  -64.641685\n",
       "2 -1.420940 -0.015144 -1.605330  0.854558   31.677322\n",
       "3  0.718283 -0.616024 -2.313588 -1.976617 -216.650360\n",
       "4  0.161272 -0.925325 -1.330421 -1.242758 -134.817703"
      ]
     },
     "execution_count": 2,
     "metadata": {},
     "output_type": "execute_result"
    }
   ],
   "source": [
    "X, y, c = cuml.make_regression(\n",
    "    n_samples=10000\n",
    "    , n_targets=1\n",
    "    , n_features=4\n",
    "    , n_informative=2\n",
    "    , bias=-3.4\n",
    "    , noise=0.2\n",
    "    , coef=True\n",
    "    , random_state=np.random.randint(1e9)\n",
    ")\n",
    "\n",
    "print(f'coefficients:\\n {cp.array(c)}')\n",
    "\n",
    "df_reg = cudf.DataFrame(X, columns=[f'feat_{i}' for i in range(4)])\n",
    "df_reg['target'] = cudf.Series(y)\n",
    "df_reg.head()"
   ]
  },
  {
   "cell_type": "code",
   "execution_count": 3,
   "metadata": {},
   "outputs": [],
   "source": [
    "X_train, X_test, y_train, y_test = cuml.preprocessing.train_test_split(df_reg, 'target', train_size=.8)"
   ]
  },
  {
   "cell_type": "markdown",
   "metadata": {},
   "source": [
    "---\n",
    "\n",
    "# Regression models\n",
    "\n",
    "---"
   ]
  },
  {
   "cell_type": "markdown",
   "metadata": {},
   "source": [
    "#### LinearRegression()"
   ]
  },
  {
   "cell_type": "code",
   "execution_count": 4,
   "metadata": {},
   "outputs": [],
   "source": [
    "lr = cuml.LinearRegression(\n",
    "    algorithm='svd'\n",
    "    , fit_intercept=True\n",
    "    , normalize=True\n",
    ")"
   ]
  },
  {
   "cell_type": "code",
   "execution_count": 5,
   "metadata": {},
   "outputs": [
    {
     "data": {
      "text/plain": [
       "LinearRegression(algorithm='svd', fit_intercept=True, normalize=True, handle=<cuml.raft.common.handle.Handle object at 0x7f66503bf7d0>, verbose=4, output_type='input')"
      ]
     },
     "execution_count": 5,
     "metadata": {},
     "output_type": "execute_result"
    }
   ],
   "source": [
    "lr.fit(X_train, y_train)"
   ]
  },
  {
   "cell_type": "code",
   "execution_count": 6,
   "metadata": {},
   "outputs": [
    {
     "data": {
      "text/plain": [
       "0        76.993301\n",
       "1      -109.247971\n",
       "2      -117.588669\n",
       "3        11.311052\n",
       "4       -96.926559\n",
       "           ...    \n",
       "1995    -11.950909\n",
       "1996    135.429581\n",
       "1997    -17.160917\n",
       "1998     48.706272\n",
       "1999    -86.134995\n",
       "Length: 2000, dtype: float32"
      ]
     },
     "execution_count": 6,
     "metadata": {},
     "output_type": "execute_result"
    }
   ],
   "source": [
    "lr.predict(X_test)"
   ]
  },
  {
   "cell_type": "markdown",
   "metadata": {},
   "source": [
    "#### Ridge()"
   ]
  },
  {
   "cell_type": "code",
   "execution_count": 7,
   "metadata": {},
   "outputs": [],
   "source": [
    "ridge = cuml.Ridge(\n",
    "    alpha=1.0\n",
    "    , solver='svd'\n",
    "    , fit_intercept=False\n",
    "    , normalize=True\n",
    ")"
   ]
  },
  {
   "cell_type": "code",
   "execution_count": 8,
   "metadata": {},
   "outputs": [
    {
     "data": {
      "text/plain": [
       "Ridge(alpha=1.0, solver='svd', fit_intercept=False, normalize=True, handle=<cuml.raft.common.handle.Handle object at 0x7f664e80a590>, output_type='input', verbose=4)"
      ]
     },
     "execution_count": 8,
     "metadata": {},
     "output_type": "execute_result"
    }
   ],
   "source": [
    "ridge.fit(X_train, y_train)"
   ]
  },
  {
   "cell_type": "code",
   "execution_count": 9,
   "metadata": {},
   "outputs": [
    {
     "data": {
      "text/plain": [
       "0        80.423904\n",
       "1      -105.882156\n",
       "2      -114.224747\n",
       "3        14.723981\n",
       "4       -93.547882\n",
       "           ...    \n",
       "1995     -8.551248\n",
       "1996    138.870865\n",
       "1997    -13.768234\n",
       "1998     52.128941\n",
       "1999    -82.764587\n",
       "Length: 2000, dtype: float32"
      ]
     },
     "execution_count": 9,
     "metadata": {},
     "output_type": "execute_result"
    }
   ],
   "source": [
    "ridge.predict(X_test)"
   ]
  },
  {
   "cell_type": "markdown",
   "metadata": {},
   "source": [
    "#### Lasso()"
   ]
  },
  {
   "cell_type": "code",
   "execution_count": 10,
   "metadata": {},
   "outputs": [],
   "source": [
    "lasso = cuml.Lasso(\n",
    "    alpha=1.0\n",
    "    , fit_intercept=False\n",
    "    , normalize=True\n",
    ")"
   ]
  },
  {
   "cell_type": "code",
   "execution_count": 11,
   "metadata": {},
   "outputs": [
    {
     "data": {
      "text/plain": [
       "Lasso(alpha=1.0, fit_intercept=False, normalize=True, max_iter=1000, tol=0.001, selection='cyclic', handle=<cuml.raft.common.handle.Handle object at 0x7f664e80a7d0>, output_type='input', verbose=4)"
      ]
     },
     "execution_count": 11,
     "metadata": {},
     "output_type": "execute_result"
    }
   ],
   "source": [
    "lasso.fit(X_train, y_train)"
   ]
  },
  {
   "cell_type": "code",
   "execution_count": 12,
   "metadata": {},
   "outputs": [
    {
     "data": {
      "text/plain": [
       "0       0.0\n",
       "1       0.0\n",
       "2       0.0\n",
       "3       0.0\n",
       "4       0.0\n",
       "       ... \n",
       "1995    0.0\n",
       "1996    0.0\n",
       "1997    0.0\n",
       "1998    0.0\n",
       "1999    0.0\n",
       "Length: 2000, dtype: float32"
      ]
     },
     "execution_count": 12,
     "metadata": {},
     "output_type": "execute_result"
    }
   ],
   "source": [
    "lasso.predict(X_test)"
   ]
  },
  {
   "cell_type": "markdown",
   "metadata": {},
   "source": [
    "#### ElasticNet()"
   ]
  },
  {
   "cell_type": "code",
   "execution_count": 13,
   "metadata": {},
   "outputs": [],
   "source": [
    "elastic = cuml.ElasticNet()"
   ]
  },
  {
   "cell_type": "code",
   "execution_count": 14,
   "metadata": {},
   "outputs": [],
   "source": [
    "elastic = cuml.ElasticNet(\n",
    "    alpha=1.0\n",
    "    , l1_ratio=0.05\n",
    "    , fit_intercept=False\n",
    "    , normalize=True\n",
    ")"
   ]
  },
  {
   "cell_type": "code",
   "execution_count": 15,
   "metadata": {},
   "outputs": [
    {
     "data": {
      "text/plain": [
       "ElasticNet(alpha=1.0, l1_ratio=0.05, fit_intercept=False, normalize=True, max_iter=1000, tol=0.001, selection='cyclic', handle=<cuml.raft.common.handle.Handle object at 0x7f664e80a570>, output_type='input', verbose=4)"
      ]
     },
     "execution_count": 15,
     "metadata": {},
     "output_type": "execute_result"
    }
   ],
   "source": [
    "elastic.fit(X_train, y_train)"
   ]
  },
  {
   "cell_type": "code",
   "execution_count": 16,
   "metadata": {},
   "outputs": [
    {
     "data": {
      "text/plain": [
       "0        83.945335\n",
       "1      -110.601067\n",
       "2      -119.428703\n",
       "3        15.206996\n",
       "4       -97.838127\n",
       "           ...    \n",
       "1995     -8.840338\n",
       "1996    145.374237\n",
       "1997    -14.234616\n",
       "1998     54.425571\n",
       "1999    -86.336205\n",
       "Length: 2000, dtype: float32"
      ]
     },
     "execution_count": 16,
     "metadata": {},
     "output_type": "execute_result"
    }
   ],
   "source": [
    "elastic.predict(X_test)"
   ]
  },
  {
   "cell_type": "markdown",
   "metadata": {},
   "source": [
    "#### ensemble.RandomForestRegressor()"
   ]
  },
  {
   "cell_type": "code",
   "execution_count": 17,
   "metadata": {},
   "outputs": [
    {
     "name": "stderr",
     "output_type": "stream",
     "text": [
      "<ipython-input-17-9b9d748c26e6>:1: UserWarning: The 'min_rows_per_node' parameter is deprecated and will be removed in 0.18. Please use 'min_samples_leaf' parameter instead.\n",
      "  rf_reg = cuml.ensemble.RandomForestRegressor(\n"
     ]
    }
   ],
   "source": [
    "rf_reg = cuml.ensemble.RandomForestRegressor(\n",
    "    n_estimators=40\n",
    "    , n_bins=8\n",
    "    , max_depth=10\n",
    "    , max_features=1.0\n",
    "    , min_rows_per_node=10\n",
    "    , split_criterion=2\n",
    ")"
   ]
  },
  {
   "cell_type": "code",
   "execution_count": 18,
   "metadata": {},
   "outputs": [
    {
     "data": {
      "text/plain": [
       "RandomForestRegressor(split_criterion=2, accuracy_metric='r2', handle=<cuml.raft.common.handle.Handle object at 0x7f664e80add0>, verbose=4, output_type='input')"
      ]
     },
     "execution_count": 18,
     "metadata": {},
     "output_type": "execute_result"
    }
   ],
   "source": [
    "rf_reg.fit(X_train, y_train)"
   ]
  },
  {
   "cell_type": "code",
   "execution_count": 19,
   "metadata": {},
   "outputs": [
    {
     "data": {
      "text/plain": [
       "0        61.459919\n",
       "1      -123.958580\n",
       "2      -131.862335\n",
       "3        15.058478\n",
       "4       -84.684525\n",
       "           ...    \n",
       "1995     -7.288130\n",
       "1996    176.835785\n",
       "1997     -8.890825\n",
       "1998     65.810875\n",
       "1999   -100.987976\n",
       "Length: 2000, dtype: float32"
      ]
     },
     "execution_count": 19,
     "metadata": {},
     "output_type": "execute_result"
    }
   ],
   "source": [
    "rf_reg.predict(X_test)"
   ]
  },
  {
   "cell_type": "markdown",
   "metadata": {},
   "source": [
    "#### svm.SVR()"
   ]
  },
  {
   "cell_type": "code",
   "execution_count": 20,
   "metadata": {},
   "outputs": [],
   "source": [
    "svr = cuml.svm.SVR(\n",
    "    kernel='linear'\n",
    ")"
   ]
  },
  {
   "cell_type": "code",
   "execution_count": 21,
   "metadata": {},
   "outputs": [
    {
     "data": {
      "text/plain": [
       "SVR(handle=<cuml.raft.common.handle.Handle object at 0x7f664e80a8d0>, C=1, kernel='linear', degree=3, gamma='scale', coef0=0.0, tol=0.001, epsilon=0.1, cache_size=1024.0, max_iter=-1, nochange_steps=1000, verbose=4, output_type='input')"
      ]
     },
     "execution_count": 21,
     "metadata": {},
     "output_type": "execute_result"
    }
   ],
   "source": [
    "svr.fit(X_train, y_train)"
   ]
  },
  {
   "cell_type": "code",
   "execution_count": 22,
   "metadata": {},
   "outputs": [
    {
     "data": {
      "text/plain": [
       "0        76.990593\n",
       "1      -109.241234\n",
       "2      -117.584633\n",
       "3        11.310186\n",
       "4       -96.922218\n",
       "           ...    \n",
       "1995    -11.945328\n",
       "1996    135.423691\n",
       "1997    -17.157360\n",
       "1998     48.707714\n",
       "1999    -86.131752\n",
       "Length: 2000, dtype: float32"
      ]
     },
     "execution_count": 22,
     "metadata": {},
     "output_type": "execute_result"
    }
   ],
   "source": [
    "svr.predict(X_test)"
   ]
  },
  {
   "cell_type": "markdown",
   "metadata": {},
   "source": [
    "#### neighbors.KNeighborsRegressor()"
   ]
  },
  {
   "cell_type": "code",
   "execution_count": 23,
   "metadata": {},
   "outputs": [],
   "source": [
    "knn_r = cuml.neighbors.KNeighborsRegressor(\n",
    "    n_neighbors = 5\n",
    ")"
   ]
  },
  {
   "cell_type": "code",
   "execution_count": 24,
   "metadata": {},
   "outputs": [
    {
     "data": {
      "text/plain": [
       "KNeighborsRegressor(weights='uniform')"
      ]
     },
     "execution_count": 24,
     "metadata": {},
     "output_type": "execute_result"
    }
   ],
   "source": [
    "knn_r.fit(X_train, y_train)"
   ]
  },
  {
   "cell_type": "code",
   "execution_count": 25,
   "metadata": {},
   "outputs": [
    {
     "data": {
      "text/plain": [
       "0        75.997147\n",
       "1      -113.730713\n",
       "2      -116.470947\n",
       "3        18.328432\n",
       "4       -98.607513\n",
       "           ...    \n",
       "1995    -19.172421\n",
       "1996    128.574951\n",
       "1997    -20.096853\n",
       "1998     42.203133\n",
       "1999    -80.536674\n",
       "Length: 2000, dtype: float32"
      ]
     },
     "execution_count": 25,
     "metadata": {},
     "output_type": "execute_result"
    }
   ],
   "source": [
    "knn_r.predict(X_test)"
   ]
  },
  {
   "cell_type": "markdown",
   "metadata": {},
   "source": [
    "---\n",
    "\n",
    "# Regression metrics\n",
    "\n",
    "---"
   ]
  },
  {
   "cell_type": "markdown",
   "metadata": {},
   "source": [
    "#### metrics.regression.mean_absolute_error()"
   ]
  },
  {
   "cell_type": "code",
   "execution_count": 26,
   "metadata": {},
   "outputs": [
    {
     "data": {
      "text/plain": [
       "array(0.16377503, dtype=float32)"
      ]
     },
     "execution_count": 26,
     "metadata": {},
     "output_type": "execute_result"
    }
   ],
   "source": [
    "cuml.metrics.regression.mean_absolute_error(y_test, lr.predict(X_test))"
   ]
  },
  {
   "cell_type": "markdown",
   "metadata": {},
   "source": [
    "#### metrics.regression.mean_squared_error()"
   ]
  },
  {
   "cell_type": "code",
   "execution_count": 27,
   "metadata": {},
   "outputs": [
    {
     "data": {
      "text/plain": [
       "array(0.20261249, dtype=float32)"
      ]
     },
     "execution_count": 27,
     "metadata": {},
     "output_type": "execute_result"
    }
   ],
   "source": [
    "cuml.metrics.regression.mean_squared_error(y_test, lr.predict(X_test), squared=False)"
   ]
  },
  {
   "cell_type": "markdown",
   "metadata": {},
   "source": [
    "#### metrics.regression.mean_squared_log_error()"
   ]
  },
  {
   "cell_type": "code",
   "execution_count": null,
   "metadata": {},
   "outputs": [],
   "source": [
    "cuml.metrics.regression.mean_squared_log_error(y_test, lr.predict(X_test), squared=False)"
   ]
  },
  {
   "cell_type": "markdown",
   "metadata": {},
   "source": [
    "#### metrics.regression.r2_score()"
   ]
  },
  {
   "cell_type": "code",
   "execution_count": 28,
   "metadata": {},
   "outputs": [
    {
     "data": {
      "text/plain": [
       "0.9430750608444214"
      ]
     },
     "execution_count": 28,
     "metadata": {},
     "output_type": "execute_result"
    }
   ],
   "source": [
    "cuml.metrics.regression.r2_score(y_test, rf_reg.predict(X_test))"
   ]
  }
 ],
 "metadata": {
  "kernelspec": {
   "display_name": "Python 3",
   "language": "python",
   "name": "python3"
  },
  "language_info": {
   "codemirror_mode": {
    "name": "ipython",
    "version": 3
   },
   "file_extension": ".py",
   "mimetype": "text/x-python",
   "name": "python",
   "nbconvert_exporter": "python",
   "pygments_lexer": "ipython3",
   "version": "3.8.6"
  }
 },
 "nbformat": 4,
 "nbformat_minor": 4
}
