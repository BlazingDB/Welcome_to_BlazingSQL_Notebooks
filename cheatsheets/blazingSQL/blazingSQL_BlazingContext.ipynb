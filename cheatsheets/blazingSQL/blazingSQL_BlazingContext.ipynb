{
 "cells": [
  {
   "cell_type": "markdown",
   "metadata": {},
   "source": [
    "# BlazingSQL Cheat Sheets sample code\n",
    "\n",
    "(c) 2020 NVIDIA, Blazing SQL\n",
    "\n",
    "Distributed under Apache License 2.0"
   ]
  },
  {
   "cell_type": "markdown",
   "metadata": {},
   "source": [
    "### Imports"
   ]
  },
  {
   "cell_type": "code",
   "execution_count": 1,
   "metadata": {},
   "outputs": [],
   "source": [
    "import cudf\n",
    "import numpy as np\n",
    "from blazingsql import BlazingContext"
   ]
  },
  {
   "cell_type": "markdown",
   "metadata": {},
   "source": [
    "### Sample DataFrame"
   ]
  },
  {
   "cell_type": "code",
   "execution_count": 2,
   "metadata": {},
   "outputs": [],
   "source": [
    "df = cudf.DataFrame(\n",
    "    [\n",
    "          (39, 6.88, np.datetime64('2020-10-08T12:12:01'), 'C', 'D', 'data'\n",
    "            , 'RAPIDS.ai is a suite of open-source libraries that allow you to run your end to end data science and analytics pipelines on GPUs.')\n",
    "        , (11, 4.21, None,                                 'A', 'D', 'cuDF'\n",
    "            , 'cuDF is a Python GPU DataFrame (built on the Apache Arrow columnar memory format)')\n",
    "        , (31, 4.71, np.datetime64('2020-10-10T09:26:43'), 'U', 'D', 'memory'\n",
    "            , 'cuDF allows for loading, joining, aggregating, filtering, and otherwise manipulating tabular data using a DataFrame style API.')\n",
    "        , (40, 0.93, np.datetime64('2020-10-11T17:10:00'), 'P', 'B', 'tabular'\n",
    "            , '''If your workflow is fast enough on a single GPU or your data comfortably fits in memory on \n",
    "                 a single GPU, you would want to use cuDF.''')\n",
    "        , (33, 9.26, np.datetime64('2020-10-15T10:58:02'), 'O', 'D', 'parallel'\n",
    "            , '''If you want to distribute your workflow across multiple GPUs or have more data than you can fit \n",
    "                 in memory on a single GPU you would want to use Dask-cuDF''')\n",
    "        , (42, 4.21, np.datetime64('2020-10-01T10:02:23'), 'U', 'C', 'GPUs'\n",
    "            , 'BlazingSQL provides a high-performance distributed SQL engine in Python')\n",
    "        , (36, 3.01, np.datetime64('2020-09-30T14:36:26'), 'T', 'D', None\n",
    "            , 'BlazingSQL is built on the RAPIDS GPU data science ecosystem')\n",
    "        , (38, 6.44, np.datetime64('2020-10-10T08:34:36'), 'X', 'B', 'csv'\n",
    "            , 'BlazingSQL lets you ETL raw data directly into GPU memory as a GPU DataFrame (GDF)')\n",
    "        , (17, 5.28, np.datetime64('2020-10-09T08:34:40'), 'P', 'D', 'dataframes'\n",
    "            , 'Dask is a flexible library for parallel computing in Python')\n",
    "        , (10, 8.28, np.datetime64('2020-10-03T03:31:21'), 'W', 'B', 'python'\n",
    "            , None)\n",
    "    ]\n",
    "    , columns = ['number', 'float_number', 'datetime', 'letter', 'category', 'word', 'string']\n",
    ")"
   ]
  },
  {
   "cell_type": "markdown",
   "metadata": {},
   "source": [
    "---\n",
    "\n",
    "# BlazingContext\n",
    "\n",
    "---"
   ]
  },
  {
   "cell_type": "markdown",
   "metadata": {},
   "source": [
    "#### blazignsql.BlazingContext()"
   ]
  },
  {
   "cell_type": "code",
   "execution_count": 3,
   "metadata": {},
   "outputs": [
    {
     "name": "stdout",
     "output_type": "stream",
     "text": [
      "BlazingContext ready\n"
     ]
    }
   ],
   "source": [
    "bc = BlazingContext()"
   ]
  },
  {
   "cell_type": "code",
   "execution_count": 4,
   "metadata": {},
   "outputs": [
    {
     "name": "stdout",
     "output_type": "stream",
     "text": [
      "BlazingContext ready\n"
     ]
    }
   ],
   "source": [
    "bc = BlazingContext(\n",
    "    dask_client=None\n",
    "    , pool=True\n",
    "    , initial_pool_size=4*(1024**3) ## 4 GB\n",
    "    , network_interface='eth0'\n",
    ")"
   ]
  },
  {
   "cell_type": "markdown",
   "metadata": {},
   "source": [
    "#### blazignsql.BlazingContext.s3()"
   ]
  },
  {
   "cell_type": "code",
   "execution_count": 5,
   "metadata": {},
   "outputs": [
    {
     "name": "stdout",
     "output_type": "stream",
     "text": [
      "S3 Storage Plugin Registered Successfully\n"
     ]
    }
   ],
   "source": [
    "_ = bc.s3(\n",
    "    'bsql'\n",
    "    , bucket_name = 'bsql'\n",
    ")"
   ]
  },
  {
   "cell_type": "code",
   "execution_count": null,
   "metadata": {},
   "outputs": [],
   "source": [
    "_ = bc.s3(\n",
    "    '<dir_name>'\n",
    "    , bucket_name='<bucket_name>'\n",
    "    , access_key_id='<ACCESS_KEY>'\n",
    "    , secret_key='<SECRET_KEY>'\n",
    "    , region=\"<region>\"\n",
    "    , endpoint_override=\"https://s3.filebase.com\"\n",
    ")"
   ]
  },
  {
   "cell_type": "markdown",
   "metadata": {},
   "source": [
    "#### blazignsql.BlazingContext.gs()"
   ]
  },
  {
   "cell_type": "code",
   "execution_count": null,
   "metadata": {},
   "outputs": [],
   "source": [
    "bc.gs('dir_name', \n",
    "      project_id='<project_id>', \n",
    "      bucket_name='<bucket_name>', \n",
    "      use_default_adc_json_file=False, \n",
    "      adc_json_file='<../file_path_to/credentials.json>')"
   ]
  },
  {
   "cell_type": "markdown",
   "metadata": {},
   "source": [
    "#### blazignsql.BlazingContext.create_table()"
   ]
  },
  {
   "cell_type": "code",
   "execution_count": 6,
   "metadata": {},
   "outputs": [],
   "source": [
    "bc.create_table('df', df)"
   ]
  },
  {
   "cell_type": "code",
   "execution_count": 7,
   "metadata": {},
   "outputs": [],
   "source": [
    "bc.create_table('apache', '../data/apache_sample_head.parquet')"
   ]
  },
  {
   "cell_type": "code",
   "execution_count": 8,
   "metadata": {},
   "outputs": [],
   "source": [
    "bc.create_table('apache', '../data/apache_sample_head.csv', header=1)"
   ]
  },
  {
   "cell_type": "code",
   "execution_count": 9,
   "metadata": {},
   "outputs": [],
   "source": [
    "bc.create_table('parking_locations','s3://bsql/data/seattle_parking/parking_locations.parquet/')"
   ]
  },
  {
   "cell_type": "markdown",
   "metadata": {},
   "source": [
    "#### blazignsql.BlazingContext.drop_table()"
   ]
  },
  {
   "cell_type": "code",
   "execution_count": 10,
   "metadata": {},
   "outputs": [],
   "source": [
    "bc.drop_table('apache')"
   ]
  },
  {
   "cell_type": "markdown",
   "metadata": {},
   "source": [
    "#### blazignsql.BlazingContext.list_tables()"
   ]
  },
  {
   "cell_type": "code",
   "execution_count": 11,
   "metadata": {},
   "outputs": [
    {
     "data": {
      "text/plain": [
       "['df', 'parking_locations']"
      ]
     },
     "execution_count": 11,
     "metadata": {},
     "output_type": "execute_result"
    }
   ],
   "source": [
    "bc.list_tables()"
   ]
  },
  {
   "cell_type": "markdown",
   "metadata": {},
   "source": [
    "#### blazignsql.BlazingContext.describe_table()"
   ]
  },
  {
   "cell_type": "code",
   "execution_count": 12,
   "metadata": {},
   "outputs": [
    {
     "data": {
      "text/plain": [
       "{'SourceElementKey': 'int64',\n",
       " 'BlockfaceName': 'str',\n",
       " 'SideOfStreet': 'str',\n",
       " 'ParkingTimeLimitCategory': 'int64',\n",
       " 'ParkingSpaceCount': 'int64',\n",
       " 'PaidParkingArea': 'str',\n",
       " 'PaidParkingSubArea': 'str',\n",
       " 'ParkingCategory': 'str',\n",
       " 'Location': 'str'}"
      ]
     },
     "execution_count": 12,
     "metadata": {},
     "output_type": "execute_result"
    }
   ],
   "source": [
    "bc.describe_table('parking_locations')"
   ]
  },
  {
   "cell_type": "markdown",
   "metadata": {},
   "source": [
    "#### blazignsql.BlazingContext.sql()"
   ]
  },
  {
   "cell_type": "code",
   "execution_count": 13,
   "metadata": {},
   "outputs": [
    {
     "data": {
      "text/html": [
       "<div>\n",
       "<style scoped>\n",
       "    .dataframe tbody tr th:only-of-type {\n",
       "        vertical-align: middle;\n",
       "    }\n",
       "\n",
       "    .dataframe tbody tr th {\n",
       "        vertical-align: top;\n",
       "    }\n",
       "\n",
       "    .dataframe thead th {\n",
       "        text-align: right;\n",
       "    }\n",
       "</style>\n",
       "<table border=\"1\" class=\"dataframe\">\n",
       "  <thead>\n",
       "    <tr style=\"text-align: right;\">\n",
       "      <th></th>\n",
       "      <th>SourceElementKey</th>\n",
       "      <th>BlockfaceName</th>\n",
       "      <th>SideOfStreet</th>\n",
       "      <th>ParkingTimeLimitCategory</th>\n",
       "      <th>ParkingSpaceCount</th>\n",
       "      <th>PaidParkingArea</th>\n",
       "      <th>PaidParkingSubArea</th>\n",
       "      <th>ParkingCategory</th>\n",
       "      <th>Location</th>\n",
       "    </tr>\n",
       "  </thead>\n",
       "  <tbody>\n",
       "    <tr>\n",
       "      <th>0</th>\n",
       "      <td>1009</td>\n",
       "      <td>1ST AVE BETWEEN MADISON ST AND SPRING ST</td>\n",
       "      <td>SW</td>\n",
       "      <td>30</td>\n",
       "      <td>5</td>\n",
       "      <td>Commercial Core</td>\n",
       "      <td>Waterfront</td>\n",
       "      <td>Paid Parking</td>\n",
       "      <td>POINT (-122.3366575 47.60501765)</td>\n",
       "    </tr>\n",
       "    <tr>\n",
       "      <th>1</th>\n",
       "      <td>1018</td>\n",
       "      <td>1ST AVE BETWEEN STEWART ST AND VIRGINIA ST</td>\n",
       "      <td>NE</td>\n",
       "      <td>120</td>\n",
       "      <td>12</td>\n",
       "      <td>Belltown</td>\n",
       "      <td>South</td>\n",
       "      <td>Paid Parking</td>\n",
       "      <td>POINT (-122.34188878 47.61073498)</td>\n",
       "    </tr>\n",
       "    <tr>\n",
       "      <th>2</th>\n",
       "      <td>1045</td>\n",
       "      <td>1ST AVE N BETWEEN REPUBLICAN ST AND MERCER ST</td>\n",
       "      <td>W</td>\n",
       "      <td>120</td>\n",
       "      <td>11</td>\n",
       "      <td>Uptown</td>\n",
       "      <td>Core</td>\n",
       "      <td>Paid Parking</td>\n",
       "      <td>POINT (-122.35549857 47.62391565)</td>\n",
       "    </tr>\n",
       "  </tbody>\n",
       "</table>\n",
       "</div>"
      ],
      "text/plain": [
       "   SourceElementKey                                  BlockfaceName  \\\n",
       "0              1009       1ST AVE BETWEEN MADISON ST AND SPRING ST   \n",
       "1              1018     1ST AVE BETWEEN STEWART ST AND VIRGINIA ST   \n",
       "2              1045  1ST AVE N BETWEEN REPUBLICAN ST AND MERCER ST   \n",
       "\n",
       "  SideOfStreet  ParkingTimeLimitCategory  ParkingSpaceCount  PaidParkingArea  \\\n",
       "0           SW                        30                  5  Commercial Core   \n",
       "1           NE                       120                 12         Belltown   \n",
       "2            W                       120                 11           Uptown   \n",
       "\n",
       "  PaidParkingSubArea ParkingCategory                           Location  \n",
       "0         Waterfront    Paid Parking   POINT (-122.3366575 47.60501765)  \n",
       "1              South    Paid Parking  POINT (-122.34188878 47.61073498)  \n",
       "2               Core    Paid Parking  POINT (-122.35549857 47.62391565)  "
      ]
     },
     "execution_count": 13,
     "metadata": {},
     "output_type": "execute_result"
    }
   ],
   "source": [
    "bc.sql('SELECT * FROM parking_locations LIMIT 3')"
   ]
  },
  {
   "cell_type": "markdown",
   "metadata": {},
   "source": [
    "#### blazignsql.BlazingContext.explain()"
   ]
  },
  {
   "cell_type": "code",
   "execution_count": 14,
   "metadata": {},
   "outputs": [
    {
     "data": {
      "text/plain": [
       "'LogicalSort(fetch=[3])\\n  LogicalTableScan(table=[[main, parking_locations]])\\n'"
      ]
     },
     "execution_count": 14,
     "metadata": {},
     "output_type": "execute_result"
    }
   ],
   "source": [
    "bc.explain('SELECT * FROM parking_locations LIMIT 3')"
   ]
  },
  {
   "cell_type": "markdown",
   "metadata": {},
   "source": [
    "#### blazignsql.BlazingContext.log()"
   ]
  },
  {
   "cell_type": "code",
   "execution_count": 15,
   "metadata": {},
   "outputs": [
    {
     "data": {
      "text/html": [
       "<div>\n",
       "<style scoped>\n",
       "    .dataframe tbody tr th:only-of-type {\n",
       "        vertical-align: middle;\n",
       "    }\n",
       "\n",
       "    .dataframe tbody tr th {\n",
       "        vertical-align: top;\n",
       "    }\n",
       "\n",
       "    .dataframe thead th {\n",
       "        text-align: right;\n",
       "    }\n",
       "</style>\n",
       "<table border=\"1\" class=\"dataframe\">\n",
       "  <thead>\n",
       "    <tr style=\"text-align: right;\">\n",
       "      <th></th>\n",
       "      <th>log_time</th>\n",
       "      <th>query_id</th>\n",
       "      <th>duration</th>\n",
       "    </tr>\n",
       "  </thead>\n",
       "  <tbody>\n",
       "    <tr>\n",
       "      <th>0</th>\n",
       "      <td>2021-02-22 19:32:54.380</td>\n",
       "      <td>1354187413</td>\n",
       "      <td>0.0</td>\n",
       "    </tr>\n",
       "    <tr>\n",
       "      <th>1</th>\n",
       "      <td>2021-02-22 19:32:06.398</td>\n",
       "      <td>1221019996</td>\n",
       "      <td>0.0</td>\n",
       "    </tr>\n",
       "    <tr>\n",
       "      <th>2</th>\n",
       "      <td>2021-02-22 19:32:06.165</td>\n",
       "      <td>903985917</td>\n",
       "      <td>0.0</td>\n",
       "    </tr>\n",
       "    <tr>\n",
       "      <th>3</th>\n",
       "      <td>2021-02-22 19:31:30.310</td>\n",
       "      <td>42308095</td>\n",
       "      <td>0.0</td>\n",
       "    </tr>\n",
       "    <tr>\n",
       "      <th>4</th>\n",
       "      <td>2021-02-22 19:31:30.087</td>\n",
       "      <td>1190851056</td>\n",
       "      <td>0.0</td>\n",
       "    </tr>\n",
       "    <tr>\n",
       "      <th>...</th>\n",
       "      <td>...</td>\n",
       "      <td>...</td>\n",
       "      <td>...</td>\n",
       "    </tr>\n",
       "    <tr>\n",
       "      <th>125</th>\n",
       "      <td>2020-12-07 05:42:53.225</td>\n",
       "      <td>350886341</td>\n",
       "      <td>28.0</td>\n",
       "    </tr>\n",
       "    <tr>\n",
       "      <th>126</th>\n",
       "      <td>2020-12-05 00:07:49.350</td>\n",
       "      <td>896922691</td>\n",
       "      <td>60.0</td>\n",
       "    </tr>\n",
       "    <tr>\n",
       "      <th>127</th>\n",
       "      <td>2020-12-05 00:07:12.421</td>\n",
       "      <td>984749867</td>\n",
       "      <td>781.0</td>\n",
       "    </tr>\n",
       "    <tr>\n",
       "      <th>128</th>\n",
       "      <td>2020-12-05 00:07:07.608</td>\n",
       "      <td>1292265483</td>\n",
       "      <td>1156.0</td>\n",
       "    </tr>\n",
       "    <tr>\n",
       "      <th>129</th>\n",
       "      <td>2020-12-05 00:05:05.425</td>\n",
       "      <td>1168405988</td>\n",
       "      <td>1228.0</td>\n",
       "    </tr>\n",
       "  </tbody>\n",
       "</table>\n",
       "<p>130 rows × 3 columns</p>\n",
       "</div>"
      ],
      "text/plain": [
       "                   log_time    query_id  duration\n",
       "0   2021-02-22 19:32:54.380  1354187413       0.0\n",
       "1   2021-02-22 19:32:06.398  1221019996       0.0\n",
       "2   2021-02-22 19:32:06.165   903985917       0.0\n",
       "3   2021-02-22 19:31:30.310    42308095       0.0\n",
       "4   2021-02-22 19:31:30.087  1190851056       0.0\n",
       "..                      ...         ...       ...\n",
       "125 2020-12-07 05:42:53.225   350886341      28.0\n",
       "126 2020-12-05 00:07:49.350   896922691      60.0\n",
       "127 2020-12-05 00:07:12.421   984749867     781.0\n",
       "128 2020-12-05 00:07:07.608  1292265483    1156.0\n",
       "129 2020-12-05 00:05:05.425  1168405988    1228.0\n",
       "\n",
       "[130 rows x 3 columns]"
      ]
     },
     "execution_count": 15,
     "metadata": {},
     "output_type": "execute_result"
    }
   ],
   "source": [
    "bc.log('''\n",
    "    SELECT log_time\n",
    "        , query_id\n",
    "        , duration \n",
    "    FROM bsql_logs \n",
    "    WHERE info = 'Query Execution Done' \n",
    "    ORDER BY log_time DESC\n",
    "''')"
   ]
  }
 ],
 "metadata": {
  "kernelspec": {
   "display_name": "Python 3",
   "language": "python",
   "name": "python3"
  },
  "language_info": {
   "codemirror_mode": {
    "name": "ipython",
    "version": 3
   },
   "file_extension": ".py",
   "mimetype": "text/x-python",
   "name": "python",
   "nbconvert_exporter": "python",
   "pygments_lexer": "ipython3",
   "version": "3.8.6"
  }
 },
 "nbformat": 4,
 "nbformat_minor": 4
}
