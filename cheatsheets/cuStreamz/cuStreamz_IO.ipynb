{
 "cells": [
  {
   "cell_type": "markdown",
   "metadata": {},
   "source": [
    "# cuDF Cheat Sheets sample code\n",
    "\n",
    "(c) 2020 NVIDIA, Blazing SQL\n",
    "\n",
    "Distributed under Apache License 2.0"
   ]
  },
  {
   "cell_type": "markdown",
   "metadata": {},
   "source": [
    "# Imports"
   ]
  },
  {
   "cell_type": "code",
   "execution_count": 6,
   "metadata": {},
   "outputs": [],
   "source": [
    "import streamz\n",
    "import cudf\n",
    "import json\n",
    "\n",
    "from streamz.dataframe import DataFrame"
   ]
  },
  {
   "cell_type": "markdown",
   "metadata": {},
   "source": [
    "# cuStreamz I/O"
   ]
  },
  {
   "cell_type": "markdown",
   "metadata": {},
   "source": [
    "#### streamz.from_kafka()"
   ]
  },
  {
   "cell_type": "code",
   "execution_count": 2,
   "metadata": {},
   "outputs": [],
   "source": [
    "consumer_conf = {'bootstrap.servers': 'kafka0:19092,kafka1:19095',\n",
    "                 'group.id': 'custreamz'\n",
    "                }\n",
    "\n",
    "source = streamz.Stream.from_kafka(\n",
    "    ['docs_log']\n",
    "    , consumer_conf\n",
    "    , poll_interval=1\n",
    "    , asynchronous=True\n",
    "    , start=False\n",
    ")"
   ]
  },
  {
   "cell_type": "code",
   "execution_count": 3,
   "metadata": {},
   "outputs": [
    {
     "data": {
      "application/vnd.jupyter.widget-view+json": {
       "model_id": "acf99b6ba68c473fb70eaa75ec54fc4f",
       "version_major": 2,
       "version_minor": 0
      },
      "text/plain": [
       "Output()"
      ]
     },
     "metadata": {},
     "output_type": "display_data"
    }
   ],
   "source": [
    "'''\n",
    "This is a helper function to do some data pre-processing.\n",
    "This also prints out the word count for each batch.\n",
    "'''\n",
    "def process_message(message):\n",
    "    words = []\n",
    "    words = words + list(json.loads(message).values())[0].split(' ')\n",
    "    \n",
    "    # Create a cudf dataframe\n",
    "    batch_df = cudf.DataFrame({'word': words, 'count': [1]*len(words)})\n",
    "    \n",
    "    # [Optional] Show local (stateless) word count for this batch  \n",
    "    local_word_count = batch_df.groupby('word').sum()\n",
    "    print(local_word_count)\n",
    "    \n",
    "    return batch_df\n",
    "\n",
    "stream_df = source.map(process_message)\n",
    "\n",
    "# Create a streamz dataframe to get stateful word count\n",
    "sdf = DataFrame(stream_df, example=cudf.DataFrame({'word':[], 'count':[]}))\n",
    "\n",
    "# Formatting the print statements\n",
    "def print_format(sdf):\n",
    "    return sdf\n",
    "\n",
    "# Print cumulative word count from the start of the stream, after every batch. \n",
    "# One can also sink the output to a list.\n",
    "sdf.groupby('word').sum().stream.gather().map(print_format)"
   ]
  },
  {
   "cell_type": "code",
   "execution_count": 4,
   "metadata": {},
   "outputs": [
    {
     "data": {
      "text/html": [
       "<div>\n",
       "<style scoped>\n",
       "    .dataframe tbody tr th:only-of-type {\n",
       "        vertical-align: middle;\n",
       "    }\n",
       "\n",
       "    .dataframe tbody tr th {\n",
       "        vertical-align: top;\n",
       "    }\n",
       "\n",
       "    .dataframe thead th {\n",
       "        text-align: right;\n",
       "    }\n",
       "</style>\n",
       "<table border=\"1\" class=\"dataframe\">\n",
       "  <thead>\n",
       "    <tr style=\"text-align: right;\">\n",
       "      <th></th>\n",
       "      <th>count</th>\n",
       "    </tr>\n",
       "    <tr>\n",
       "      <th>word</th>\n",
       "      <th></th>\n",
       "    </tr>\n",
       "  </thead>\n",
       "  <tbody>\n",
       "    <tr>\n",
       "      <th>and</th>\n",
       "      <td>18</td>\n",
       "    </tr>\n",
       "    <tr>\n",
       "      <th>bar</th>\n",
       "      <td>28</td>\n",
       "    </tr>\n",
       "    <tr>\n",
       "      <th>mike</th>\n",
       "      <td>9</td>\n",
       "    </tr>\n",
       "    <tr>\n",
       "      <th>pipe</th>\n",
       "      <td>9</td>\n",
       "    </tr>\n",
       "    <tr>\n",
       "      <th>soap</th>\n",
       "      <td>28</td>\n",
       "    </tr>\n",
       "  </tbody>\n",
       "</table>\n",
       "</div>"
      ],
      "text/plain": [
       "      count\n",
       "word       \n",
       "and      18\n",
       "bar      28\n",
       "mike      9\n",
       "pipe      9\n",
       "soap     28"
      ]
     },
     "metadata": {},
     "output_type": "display_data"
    }
   ],
   "source": [
    "source.start()"
   ]
  },
  {
   "cell_type": "markdown",
   "metadata": {},
   "source": [
    "#### streamz.from_kafka_batched()"
   ]
  },
  {
   "cell_type": "code",
   "execution_count": null,
   "metadata": {},
   "outputs": [],
   "source": [
    "# Kafka consumer configuration\n",
    "consumer_conf = {'bootstrap.servers': 'kafka0:19092,kafka1:19095',\n",
    "                 'group.id': 'custreamz',\n",
    "                 'session.timeout.ms': '60000'\n",
    "                }\n",
    "\n",
    "source = streamz.Stream.from_kafka_batched(\n",
    "    'docs_log'\n",
    "    , consumer_conf\n",
    "    , poll_interval='2s'\n",
    "    , asynchronous=True\n",
    "    , dask=False\n",
    "    , engine=\"cudf\"\n",
    "    , start=False\n",
    ")"
   ]
  },
  {
   "cell_type": "code",
   "execution_count": null,
   "metadata": {},
   "outputs": [],
   "source": [
    "def process_batch(messages):\n",
    "    batch_df = cudf.DataFrame()\n",
    "    \n",
    "    for message in messages:\n",
    "        df_split = messages[message].str.tokenize()\n",
    "        df_split = (\n",
    "            df_split\n",
    "            .to_frame('word')\n",
    "            .reset_index()\n",
    "            .groupby(by='word')\n",
    "            .agg({'index': 'count'})\n",
    "            .rename(columns={'index': 'count'})\n",
    "            .reset_index()\n",
    "        )\n",
    "        print(\"\\nWord Count for this batch:\")\n",
    "        \n",
    "        batch_df = cudf.concat([batch_df, df_split])\n",
    "    \n",
    "    return batch_df\n",
    "\n",
    "stream_df = source.map(process_batch)\n",
    "\n",
    "# Create a streamz dataframe to get stateful word count\n",
    "sdf = DataFrame(stream_df, example=cudf.DataFrame({'word':[], 'count':[]}))\n",
    "\n",
    "# Formatting the print statements\n",
    "def print_format(sdf):\n",
    "    print(\"\\nGlobal Word Count:\")\n",
    "    return sdf\n",
    "\n",
    "# Print cumulative word count from the start of the stream, after every batch. \n",
    "# One can also sink the output to a list.\n",
    "sdf.groupby('word').sum().stream.gather().map(print_format)"
   ]
  },
  {
   "cell_type": "code",
   "execution_count": null,
   "metadata": {},
   "outputs": [],
   "source": [
    "source.start()"
   ]
  },
  {
   "cell_type": "markdown",
   "metadata": {},
   "source": [
    "#### streamz.from_textfile()"
   ]
  },
  {
   "cell_type": "code",
   "execution_count": null,
   "metadata": {},
   "outputs": [],
   "source": [
    "source = streamz.Stream.from_textfile(\n",
    "    'sample.json'\n",
    "    , poll_interval=2\n",
    "    , delimiter='\\n'\n",
    "    , start=False\n",
    "    , from_end=False\n",
    ")"
   ]
  },
  {
   "cell_type": "code",
   "execution_count": null,
   "metadata": {},
   "outputs": [],
   "source": [
    "def process_message(message):\n",
    "    words = []\n",
    "    words = words + list(json.loads(message).values())[0].split(' ')\n",
    "    \n",
    "    # Create a cudf dataframe\n",
    "    batch_df = cudf.DataFrame({'word': words, 'count': [1]*len(words)})\n",
    "    \n",
    "    # [Optional] Show local (stateless) word count for this batch  \n",
    "    local_word_count = batch_df.groupby('word').sum()\n",
    "    print(local_word_count)\n",
    "    \n",
    "    return batch_df\n",
    "    \n",
    "stream_df = source.map(process_message)\n",
    "\n",
    "# Create a streamz dataframe to get stateful word count\n",
    "sdf = DataFrame(stream_df, example=cudf.DataFrame({'word':[], 'count':[]}))\n",
    "\n",
    "# Formatting the print statements\n",
    "def print_format(sdf):\n",
    "    print(\"\\nGlobal Word Count:\")\n",
    "    return sdf\n",
    "\n",
    "# Print cumulative word count from the start of the stream, after every batch. \n",
    "# One can also sink the output to a list.\n",
    "sdf.groupby('word').sum().stream.gather().map(print_format)"
   ]
  },
  {
   "cell_type": "code",
   "execution_count": null,
   "metadata": {},
   "outputs": [],
   "source": [
    "source.start()"
   ]
  },
  {
   "cell_type": "markdown",
   "metadata": {},
   "source": [
    "#### streamz.to_dataframe()"
   ]
  },
  {
   "cell_type": "code",
   "execution_count": 7,
   "metadata": {},
   "outputs": [],
   "source": [
    "source = streamz.Stream.from_textfile(\n",
    "    'sample.json'\n",
    "    , poll_interval=2\n",
    "    , delimiter='\\n'\n",
    "    , start=False\n",
    "    , from_end=False\n",
    ")"
   ]
  },
  {
   "cell_type": "code",
   "execution_count": 10,
   "metadata": {},
   "outputs": [
    {
     "data": {
      "application/vnd.jupyter.widget-view+json": {
       "model_id": "8ceeec9facd54d75bd30a665e621c9cc",
       "version_major": 2,
       "version_minor": 0
      },
      "text/plain": [
       "Output()"
      ]
     },
     "metadata": {},
     "output_type": "display_data"
    }
   ],
   "source": [
    "def process_message(message):\n",
    "    words = []\n",
    "    words = words + list(json.loads(message).values())[0].split(' ')\n",
    "    \n",
    "    # Create a cudf dataframe\n",
    "    batch_df = cudf.DataFrame({'word': words, 'count': [1]*len(words)})\n",
    "    \n",
    "    # [Optional] Show local (stateless) word count for this batch  \n",
    "    local_word_count = batch_df.groupby('word').sum()\n",
    "    print(local_word_count)\n",
    "    \n",
    "    return batch_df\n",
    "    \n",
    "stream_df = source.map(process_message)\n",
    "\n",
    "# Create a streamz dataframe to get stateful word count\n",
    "sdf = stream_df.to_dataframe(example=cudf.DataFrame({'word':[], 'count':[]}))\n",
    "\n",
    "# Formatting the print statements\n",
    "def print_format(sdf):\n",
    "    print(\"\\nGlobal Word Count:\")\n",
    "    return sdf\n",
    "\n",
    "# Print cumulative word count from the start of the stream, after every batch. \n",
    "# One can also sink the output to a list.\n",
    "sdf.groupby('word').sum().stream.gather().map(print_format)"
   ]
  },
  {
   "cell_type": "code",
   "execution_count": 11,
   "metadata": {},
   "outputs": [
    {
     "data": {
      "text/html": [
       "<div>\n",
       "<style scoped>\n",
       "    .dataframe tbody tr th:only-of-type {\n",
       "        vertical-align: middle;\n",
       "    }\n",
       "\n",
       "    .dataframe tbody tr th {\n",
       "        vertical-align: top;\n",
       "    }\n",
       "\n",
       "    .dataframe thead th {\n",
       "        text-align: right;\n",
       "    }\n",
       "</style>\n",
       "<table border=\"1\" class=\"dataframe\">\n",
       "  <thead>\n",
       "    <tr style=\"text-align: right;\">\n",
       "      <th></th>\n",
       "      <th>count</th>\n",
       "    </tr>\n",
       "    <tr>\n",
       "      <th>word</th>\n",
       "      <th></th>\n",
       "    </tr>\n",
       "  </thead>\n",
       "  <tbody>\n",
       "    <tr>\n",
       "      <th>and</th>\n",
       "      <td>2</td>\n",
       "    </tr>\n",
       "    <tr>\n",
       "      <th>bar</th>\n",
       "      <td>2</td>\n",
       "    </tr>\n",
       "    <tr>\n",
       "      <th>mike</th>\n",
       "      <td>1</td>\n",
       "    </tr>\n",
       "    <tr>\n",
       "      <th>pipe</th>\n",
       "      <td>1</td>\n",
       "    </tr>\n",
       "    <tr>\n",
       "      <th>soap</th>\n",
       "      <td>2</td>\n",
       "    </tr>\n",
       "  </tbody>\n",
       "</table>\n",
       "</div>"
      ],
      "text/plain": [
       "      count\n",
       "word       \n",
       "and       2\n",
       "bar       2\n",
       "mike      1\n",
       "pipe      1\n",
       "soap      2"
      ]
     },
     "metadata": {},
     "output_type": "display_data"
    }
   ],
   "source": [
    "source.start()"
   ]
  }
 ],
 "metadata": {
  "kernelspec": {
   "display_name": "Python 3",
   "language": "python",
   "name": "python3"
  },
  "language_info": {
   "codemirror_mode": {
    "name": "ipython",
    "version": 3
   },
   "file_extension": ".py",
   "mimetype": "text/x-python",
   "name": "python",
   "nbconvert_exporter": "python",
   "pygments_lexer": "ipython3",
   "version": "3.7.8"
  }
 },
 "nbformat": 4,
 "nbformat_minor": 4
}
