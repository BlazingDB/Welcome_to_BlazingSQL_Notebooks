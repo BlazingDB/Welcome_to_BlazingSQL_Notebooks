{
 "cells": [
  {
   "cell_type": "markdown",
   "metadata": {},
   "source": [
    "# cuDF Cheat Sheets sample code\n",
    "\n",
    "(c) 2020 NVIDIA, Blazing SQL\n",
    "\n",
    "Distributed under Apache License 2.0"
   ]
  },
  {
   "cell_type": "markdown",
   "metadata": {},
   "source": [
    "# Imports"
   ]
  },
  {
   "cell_type": "code",
   "execution_count": 1,
   "metadata": {},
   "outputs": [],
   "source": [
    "import streamz\n",
    "import cudf\n",
    "import json\n",
    "\n",
    "from streamz.dataframe import DataFrame"
   ]
  },
  {
   "cell_type": "markdown",
   "metadata": {},
   "source": [
    "# cuStreamz Stream"
   ]
  },
  {
   "cell_type": "markdown",
   "metadata": {},
   "source": [
    "#### streamz.Stream()"
   ]
  },
  {
   "cell_type": "code",
   "execution_count": 2,
   "metadata": {},
   "outputs": [],
   "source": [
    "source1 = streamz.Stream(\n",
    "    stream_name = 'stream1'\n",
    "    , upstream=None\n",
    "    , upstreams=None\n",
    ")"
   ]
  },
  {
   "cell_type": "markdown",
   "metadata": {},
   "source": [
    "#### streamz.Stream.connect()"
   ]
  },
  {
   "cell_type": "code",
   "execution_count": 3,
   "metadata": {},
   "outputs": [],
   "source": [
    "source2 = streamz.Stream(stream_name='stream2')\n",
    "\n",
    "source1.connect(source2)"
   ]
  },
  {
   "cell_type": "code",
   "execution_count": 4,
   "metadata": {},
   "outputs": [
    {
     "data": {
      "text/plain": [
       "'stream1'"
      ]
     },
     "execution_count": 4,
     "metadata": {},
     "output_type": "execute_result"
    }
   ],
   "source": [
    "source2.upstreams[0].name"
   ]
  },
  {
   "cell_type": "markdown",
   "metadata": {},
   "source": [
    "#### streamz.Stream.disconnect()"
   ]
  },
  {
   "cell_type": "code",
   "execution_count": 5,
   "metadata": {},
   "outputs": [],
   "source": [
    "source1.disconnect(source2)"
   ]
  },
  {
   "cell_type": "code",
   "execution_count": 6,
   "metadata": {},
   "outputs": [
    {
     "data": {
      "text/plain": [
       "[[None]]"
      ]
     },
     "execution_count": 6,
     "metadata": {},
     "output_type": "execute_result"
    }
   ],
   "source": [
    "source2.upstreams"
   ]
  },
  {
   "cell_type": "markdown",
   "metadata": {},
   "source": [
    "#### streamz.Stream.destroy()"
   ]
  },
  {
   "cell_type": "code",
   "execution_count": 9,
   "metadata": {},
   "outputs": [
    {
     "data": {
      "text/plain": [
       "[<stream1; Stream>]"
      ]
     },
     "execution_count": 9,
     "metadata": {},
     "output_type": "execute_result"
    }
   ],
   "source": [
    "source3 = streamz.Stream(stream_name='stream3')\n",
    "source1.connect(source3)\n",
    "source3.upstreams"
   ]
  },
  {
   "cell_type": "code",
   "execution_count": 10,
   "metadata": {},
   "outputs": [],
   "source": [
    "source3.destroy()"
   ]
  },
  {
   "cell_type": "code",
   "execution_count": 11,
   "metadata": {},
   "outputs": [
    {
     "data": {
      "text/plain": [
       "[]"
      ]
     },
     "execution_count": 11,
     "metadata": {},
     "output_type": "execute_result"
    }
   ],
   "source": [
    "source3.upstreams"
   ]
  },
  {
   "cell_type": "markdown",
   "metadata": {},
   "source": [
    "#### streamz.Stream.emit()"
   ]
  },
  {
   "cell_type": "code",
   "execution_count": 5,
   "metadata": {},
   "outputs": [],
   "source": [
    "def print_message(msg):\n",
    "    return msg.split(' ')\n",
    "    \n",
    "source_df = source1.map(print_message).sink(print)"
   ]
  },
  {
   "cell_type": "code",
   "execution_count": 7,
   "metadata": {},
   "outputs": [
    {
     "name": "stdout",
     "output_type": "stream",
     "text": [
      "['RAPIDS', 'is', 'super', 'fast!!!']\n",
      "['Blazing', 'Notebooks', 'is', 'the', 'easiest', 'way', 'to', 'start', 'GPU', 'Data', 'Science!!!']\n"
     ]
    }
   ],
   "source": [
    "source1.emit('RAPIDS is super fast!!!')\n",
    "source1.emit('Blazing Notebooks is the easiest way to start GPU Data Science!!!')"
   ]
  },
  {
   "cell_type": "markdown",
   "metadata": {},
   "source": [
    "#### streamz.Stream.frequencies()"
   ]
  },
  {
   "cell_type": "code",
   "execution_count": 10,
   "metadata": {},
   "outputs": [
    {
     "data": {
      "application/vnd.jupyter.widget-view+json": {
       "model_id": "ece42204c5d74f208269014ed6c9f739",
       "version_major": 2,
       "version_minor": 0
      },
      "text/plain": [
       "Output()"
      ]
     },
     "metadata": {},
     "output_type": "display_data"
    }
   ],
   "source": [
    "source1.frequencies().sink(print)"
   ]
  },
  {
   "cell_type": "code",
   "execution_count": 12,
   "metadata": {},
   "outputs": [
    {
     "data": {
      "text/plain": [
       "{'RAPIDS is super fast!!!': 7,\n",
       " 'Blazing Notebooks is the easiest way to start GPU Data Science!!!': 2}"
      ]
     },
     "metadata": {},
     "output_type": "display_data"
    },
    {
     "name": "stdout",
     "output_type": "stream",
     "text": [
      "{'RAPIDS is super fast!!!': 7, 'Blazing Notebooks is the easiest way to start GPU Data Science!!!': 2}\n"
     ]
    }
   ],
   "source": [
    "source1.emit('RAPIDS is super fast!!!')\n",
    "source1.emit('RAPIDS is super fast!!!')\n",
    "source1.emit('RAPIDS is super fast!!!')\n",
    "source1.emit('RAPIDS is super fast!!!')\n",
    "source1.emit('RAPIDS is super fast!!!')\n",
    "source1.emit('RAPIDS is super fast!!!')\n",
    "source1.emit('Blazing Notebooks is the easiest way to start GPU Data Science!!!')"
   ]
  },
  {
   "cell_type": "code",
   "execution_count": 17,
   "metadata": {},
   "outputs": [],
   "source": [
    "import toolz"
   ]
  },
  {
   "cell_type": "markdown",
   "metadata": {},
   "source": [
    "#### streamz.Stream.register_api()"
   ]
  },
  {
   "cell_type": "code",
   "execution_count": 119,
   "metadata": {},
   "outputs": [
    {
     "data": {
      "application/vnd.jupyter.widget-view+json": {
       "model_id": "c261d144ebe540339144568349682463",
       "version_major": 2,
       "version_minor": 0
      },
      "text/plain": [
       "Output()"
      ]
     },
     "metadata": {},
     "output_type": "display_data"
    }
   ],
   "source": [
    "@streamz.Stream.register_api()\n",
    "class Blazing(streamz.Stream):\n",
    "    def __init__(\n",
    "        self\n",
    "        , stream_name=None\n",
    "        , upstream=None\n",
    "        , upstreams=None\n",
    "    ):\n",
    "        super(Blazing, self).__init__(stream_name, upstream, upstreams)\n",
    "        \n",
    "    def word_frequencies(self, **kwargs):        \n",
    "        def update_frequencies(last, x):\n",
    "            temp = last\n",
    "            \n",
    "            for msg in x.split(' '):\n",
    "                temp = toolz.assoc(temp, msg, temp.get(msg, 0) + 1)\n",
    "            return temp\n",
    "\n",
    "        return self.scan(update_frequencies, start={}, **kwargs)\n",
    "        \n",
    "source3 = streamz.Stream().Blazing()\n",
    "source3.word_frequencies().sink(print)"
   ]
  },
  {
   "cell_type": "code",
   "execution_count": 116,
   "metadata": {},
   "outputs": [
    {
     "name": "stdout",
     "output_type": "stream",
     "text": [
      "{'RAPIDS': 109, 'is': 127, 'super': 109, 'fast!!!': 109, 'Blazing': 18, 'Notebooks': 18, 'the': 18, 'easiest': 18, 'way': 18, 'to': 18, 'start': 18, 'GPU': 18, 'Data': 18, 'Science!!!': 18}\n",
      "{'RAPIDS': 110, 'is': 128, 'super': 110, 'fast!!!': 110, 'Blazing': 18, 'Notebooks': 18, 'the': 18, 'easiest': 18, 'way': 18, 'to': 18, 'start': 18, 'GPU': 18, 'Data': 18, 'Science!!!': 18}\n",
      "{'RAPIDS': 111, 'is': 129, 'super': 111, 'fast!!!': 111, 'Blazing': 18, 'Notebooks': 18, 'the': 18, 'easiest': 18, 'way': 18, 'to': 18, 'start': 18, 'GPU': 18, 'Data': 18, 'Science!!!': 18}\n",
      "{'RAPIDS': 112, 'is': 130, 'super': 112, 'fast!!!': 112, 'Blazing': 18, 'Notebooks': 18, 'the': 18, 'easiest': 18, 'way': 18, 'to': 18, 'start': 18, 'GPU': 18, 'Data': 18, 'Science!!!': 18}\n",
      "{'RAPIDS': 113, 'is': 131, 'super': 113, 'fast!!!': 113, 'Blazing': 18, 'Notebooks': 18, 'the': 18, 'easiest': 18, 'way': 18, 'to': 18, 'start': 18, 'GPU': 18, 'Data': 18, 'Science!!!': 18}\n",
      "{'RAPIDS': 114, 'is': 132, 'super': 114, 'fast!!!': 114, 'Blazing': 18, 'Notebooks': 18, 'the': 18, 'easiest': 18, 'way': 18, 'to': 18, 'start': 18, 'GPU': 18, 'Data': 18, 'Science!!!': 18}\n",
      "{'RAPIDS': 114, 'is': 133, 'super': 114, 'fast!!!': 114, 'Blazing': 19, 'Notebooks': 19, 'the': 19, 'easiest': 19, 'way': 19, 'to': 19, 'start': 19, 'GPU': 19, 'Data': 19, 'Science!!!': 19}\n"
     ]
    }
   ],
   "source": [
    "source3.emit('RAPIDS is super fast!!!')\n",
    "source3.emit('RAPIDS is super fast!!!')\n",
    "source3.emit('RAPIDS is super fast!!!')\n",
    "source3.emit('RAPIDS is super fast!!!')\n",
    "source3.emit('RAPIDS is super fast!!!')\n",
    "source3.emit('RAPIDS is super fast!!!')\n",
    "source3.emit('Blazing Notebooks is the easiest way to start GPU Data Science!!!')"
   ]
  },
  {
   "cell_type": "markdown",
   "metadata": {},
   "source": [
    "#### streamz.Stream.sink_to_list()"
   ]
  },
  {
   "cell_type": "code",
   "execution_count": 140,
   "metadata": {},
   "outputs": [],
   "source": [
    "source4 = streamz.Source()\n",
    "\n",
    "def word_append(word):\n",
    "    return f'RAPIDS is {word}'\n",
    "L = source4.map(word_append).sink_to_list()"
   ]
  },
  {
   "cell_type": "code",
   "execution_count": 143,
   "metadata": {},
   "outputs": [],
   "source": [
    "source4.emit('super fast!!!')\n",
    "source4.emit('beyond fast!!!')"
   ]
  },
  {
   "cell_type": "code",
   "execution_count": 144,
   "metadata": {},
   "outputs": [
    {
     "data": {
      "text/plain": [
       "['RAPIDS is super fast!!!',\n",
       " 'RAPIDS is super fast!!!',\n",
       " 'RAPIDS is beyond fast!!!']"
      ]
     },
     "execution_count": 144,
     "metadata": {},
     "output_type": "execute_result"
    }
   ],
   "source": [
    "L"
   ]
  },
  {
   "cell_type": "markdown",
   "metadata": {},
   "source": [
    "#### streamz.Stream.update()"
   ]
  },
  {
   "cell_type": "code",
   "execution_count": 146,
   "metadata": {},
   "outputs": [],
   "source": [
    "source4.update('super fast!!!')"
   ]
  },
  {
   "cell_type": "code",
   "execution_count": 148,
   "metadata": {},
   "outputs": [
    {
     "data": {
      "text/plain": [
       "['RAPIDS is super fast!!!',\n",
       " 'RAPIDS is super fast!!!',\n",
       " 'RAPIDS is beyond fast!!!',\n",
       " 'RAPIDS is super fast!!!',\n",
       " 'RAPIDS is super fast!!!']"
      ]
     },
     "execution_count": 148,
     "metadata": {},
     "output_type": "execute_result"
    }
   ],
   "source": [
    "L"
   ]
  }
 ],
 "metadata": {
  "kernelspec": {
   "display_name": "Python 3",
   "language": "python",
   "name": "python3"
  },
  "language_info": {
   "codemirror_mode": {
    "name": "ipython",
    "version": 3
   },
   "file_extension": ".py",
   "mimetype": "text/x-python",
   "name": "python",
   "nbconvert_exporter": "python",
   "pygments_lexer": "ipython3",
   "version": "3.7.8"
  }
 },
 "nbformat": 4,
 "nbformat_minor": 4
}
