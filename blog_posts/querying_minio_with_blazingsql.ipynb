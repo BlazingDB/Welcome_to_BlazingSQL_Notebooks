{
 "cells": [
  {
   "cell_type": "markdown",
   "metadata": {},
   "source": [
    "# Querying MinIO with BlazingSQL\n",
    "\n",
    "[Read on Medium](https://blog.blazingdb.com/querying-minio-with-blazingsql-91b6b3485027?source=friends_link&sk=a30c725b5bd3e9394801e21fbf954283) | [Launch BlazingSQL Notebooks](https://app.blazingsql.com/jupyter/user-redirect/lab/workspaces/auto-b/tree/Welcome_to_BlazingSQL_Notebooks/blog_posts/querying_minio_with_blazingsql.ipynb)\n",
    "\n",
    "BlazingSQL is an open-source project, and as such, we gladly receive feature requests on our Github repository all the time. One such request ([#242](https://github.com/BlazingDB/blazingsql/issues/242)) was to allow registering a Storage Plugin that was AWS S3 API compliant, in this case MinIO.\n",
    "\n",
    "> MinIO is a high performance, Kubernetes-friendly, object store released open source under the Apache License v2.0. It is API compatible with Amazon S3 cloud storage service. Using MinIO, you can build high performance infrastructure for machine learning, analytics and application data workloads.\n",
    "\n",
    "In this Notebook, we'll go over how to install MinIO Server and register a MinIO bucket with BlazingSQL so we can run queries on top of files that are stored in a MinIO cluster."
   ]
  },
  {
   "cell_type": "code",
   "execution_count": null,
   "metadata": {},
   "outputs": [],
   "source": [
    "from blazingsql import BlazingContext\n",
    "bc = BlazingContext()"
   ]
  },
  {
   "cell_type": "markdown",
   "metadata": {},
   "source": [
    "### Set Up MinIO Server\n",
    "MinIO can be deployed on Linux, Kubernetes, MacOS, Windows and with Source. This demo was built in an Ubuntu 18.04 environment, so we’ll set up MinIO for Linux.\n",
    "\n",
    "Start by downloading the MinIO Server. The code cell below will download MinIO Server one level above where you are running this Notebook."
   ]
  },
  {
   "cell_type": "code",
   "execution_count": null,
   "metadata": {},
   "outputs": [],
   "source": [
    "import os\n",
    "\n",
    "# do we have minio downloaded?\n",
    "if not os.path.exists('../minio'):\n",
    "    print('downloading minio')\n",
    "    # no, so download it one directory above here\n",
    "    !wget -P .. https://dl.min.io/server/minio/release/linux-amd64/minio"
   ]
  },
  {
   "cell_type": "markdown",
   "metadata": {},
   "source": [
    "Once the download completes, simply grant permissions with; "
   ]
  },
  {
   "cell_type": "code",
   "execution_count": null,
   "metadata": {},
   "outputs": [],
   "source": [
    "!chmod +x ../minio"
   ]
  },
  {
   "cell_type": "markdown",
   "metadata": {},
   "source": [
    "### Launch MinIO Server\n",
    "MinIO Server installed, you’re now equipped to start a Server by calling `./minio server` followed the relative path to where you’d like the Server to run. In this case, we’re going to set up inside the `Welcome_to_BlazingSQL_Notebooks` repo. \n",
    "\n",
    "**Note**: running a continuous server in a Jupyter Notebook Code cell means that cell will execute until the server is turned off, so you will not be able to run the MinIO Server within this Notebook and complete the demo simultaneously. Please start a Terminal session with the JupyterLab Launcher, then:\n",
    "\n",
    "```bash\n",
    "cd Welcome_to_BlazingSQL_Notebooks\n",
    "\n",
    "./minio server .\n",
    "```"
   ]
  },
  {
   "cell_type": "code",
   "execution_count": null,
   "metadata": {},
   "outputs": [],
   "source": [
    "# !../minio server ."
   ]
  },
  {
   "cell_type": "markdown",
   "metadata": {},
   "source": [
    "<img src=\"../data/imgs/minio_server.png\" width=\"69%\" />"
   ]
  },
  {
   "cell_type": "markdown",
   "metadata": {},
   "source": [
    "### Register MinIO S3 bucker\n",
    "With the Server running in `Welcome_to_BlazingSQL_Noteooks`, all of the repo's sub-directories have automatically are accessable as S3 buckets.\n",
    "\n",
    "For this demo, we'll use data stored in the `data` bucket. As this bucket is not public, we'll need to input our `access_key_id` and `secret_key`.\n",
    "\n",
    "To help BlazingSQL locate MinIO bucket, we'll also input the Server's URL as the `endpoint_override`.\n",
    "\n",
    "`endpoint_override` is a new parameter that was added with [BlazingDB/blazingsql#524](https://github.com/BlazingDB/blazingsql/pull/524) to support MinIO S3 by extending our AWS S3 Storage Plugin to use custom URL endpoints."
   ]
  },
  {
   "cell_type": "code",
   "execution_count": null,
   "metadata": {},
   "outputs": [],
   "source": [
    "bc.s3('taxi', \n",
    "      bucket_name='data',\n",
    "      access_key_id='minioadmin', \n",
    "      secret_key='minioadmin',\n",
    "      endpoint_override=\"http://172.17.0.1:9000\")"
   ]
  },
  {
   "cell_type": "markdown",
   "metadata": {},
   "source": [
    "### Create & Query table from MinIO S3 bucket\n",
    "\n",
    "Now that the MinIO S3 bucket is registered with BlazingContext, we can easily create & query tables from data stored there."
   ]
  },
  {
   "cell_type": "code",
   "execution_count": null,
   "metadata": {},
   "outputs": [],
   "source": [
    "bc.create_table('taxi', 's3://taxi/sample_taxi.csv')"
   ]
  },
  {
   "cell_type": "markdown",
   "metadata": {},
   "source": [
    "And pull DataFrames from those tables with `.sql()`;"
   ]
  },
  {
   "cell_type": "code",
   "execution_count": null,
   "metadata": {},
   "outputs": [],
   "source": [
    "bc.sql(\"select * from taxi\")"
   ]
  },
  {
   "cell_type": "markdown",
   "metadata": {},
   "source": [
    "Handoff results to data viz packages like Matplotlib the same way;"
   ]
  },
  {
   "cell_type": "code",
   "execution_count": null,
   "metadata": {},
   "outputs": [],
   "source": [
    "query = '''\n",
    "        SELECT \n",
    "            cast(trip_distance as int) int_dist, tip_amount \n",
    "        FROM \n",
    "            taxi\n",
    "            WHERE\n",
    "                trip_distance <= 20\n",
    "                AND tip_amount BETWEEN 0 AND 40\n",
    "                '''\n",
    "bc.sql(query).to_pandas().plot(kind='scatter', x='int_dist', y='tip_amount', figsize=(12, 4))"
   ]
  },
  {
   "cell_type": "markdown",
   "metadata": {},
   "source": [
    "Train machine learning models with suites like cuML;"
   ]
  },
  {
   "cell_type": "code",
   "execution_count": null,
   "metadata": {},
   "outputs": [],
   "source": [
    "from cuml import LinearRegression\n",
    "lr = LinearRegression()\n",
    "\n",
    "lr.fit(X=bc.sql('SELECT tip_amount, passenger_count FROM taxi'),\n",
    "       y=bc.sql('SELECT trip_distance FROM taxi')['trip_distance'])\n",
    "\n",
    "import cudf\n",
    "df = cudf.DataFrame()\n",
    "\n",
    "df['tip_amount'] = [0.00, 5.00, 20.00]\n",
    "df['passenger_count'] = [1.0, 1.0, 1.0]\n",
    "\n",
    "lr.predict(df)"
   ]
  },
  {
   "cell_type": "markdown",
   "metadata": {},
   "source": [
    "Or whatever else you please!\n",
    "\n",
    "<a href='https://app.blazingsql.com/jupyter/user-redirect/lab/workspaces/auto-b/tree/Welcome_to_BlazingSQL_Notebooks/blog_posts/querying_minio_with_blazingsql.ipynb'><img src=\"https://blazingsql.com/launch-notebooks.png\" alt=\"Launch on BlazingSQL Notebooks\" width=\"500\"/></a>"
   ]
  }
 ],
 "metadata": {
  "kernelspec": {
   "display_name": "RAPIDS Nightly",
   "language": "python",
   "name": "python3"
  },
  "language_info": {
   "codemirror_mode": {
    "name": "ipython",
    "version": 3
   },
   "file_extension": ".py",
   "mimetype": "text/x-python",
   "name": "python",
   "nbconvert_exporter": "python",
   "pygments_lexer": "ipython3",
   "version": "3.7.7"
  }
 },
 "nbformat": 4,
 "nbformat_minor": 4
}
