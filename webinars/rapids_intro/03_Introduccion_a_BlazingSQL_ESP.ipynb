{
 "cells": [
  {
   "cell_type": "markdown",
   "metadata": {},
   "source": [
    "# Ciencia de Datos Acelerado con GPU: Introducción a BlazingSQL y RAPIDS\n",
    "\n",
    "Programar sobre GPUs puede ser intimidante al inicio. En el pasado, necesitabas un sólido conocimiento en lenguajes como C++ y CUDA, así como la capacidad de pensar *en paralelo*. Hoy, con [RAPIDS](https://rapids.ai) y [BlazingSQL](https://blazingsql.com), puedes comenzar a usar el inmenso poder de la GPU de forma inmediata. Todo esto, con el mínimo de cambios en código: ya sea usando herramientas del ecosistema PyData como *pandas* o *Scikit-Learn*, o te resulte más familiar *SQL*, RAPIDS y BlazingSQL te permiten lograr aceleraciones increíbles usando la tecnología de una GPU."
   ]
  },
  {
   "cell_type": "markdown",
   "metadata": {},
   "source": [
    "## Imports\n",
    "Primero, importemos las librerías que vamos a necesitar."
   ]
  },
  {
   "cell_type": "code",
   "execution_count": null,
   "metadata": {},
   "outputs": [],
   "source": [
    "import cudf\n",
    "import blazingsql as bsql\n",
    "import s3fs\n",
    "import numpy as np\n",
    "from collections import OrderedDict"
   ]
  },
  {
   "cell_type": "markdown",
   "metadata": {},
   "source": [
    "### `BlazingContext`\n",
    "Debes establecer un `BlazingContext` para conectarte a una instancia BlazingSQL y con ello poder crear tablas, ejecutar consultas y básicamente hacer cualquier cosa con tu data usando BlazingSQL."
   ]
  },
  {
   "cell_type": "code",
   "execution_count": null,
   "metadata": {},
   "outputs": [],
   "source": [
    "bc = bsql.BlazingContext()"
   ]
  },
  {
   "cell_type": "markdown",
   "metadata": {},
   "source": [
    "El `BlazingContext` es un punto de entrada para todo el abanico de posibilidades que ofrece BlazingSQL. En esta instancia particular iniciamos el `BlazingContext` con parámetros en default, pero existen muchas formas de customizar y lograr mayores capacidades.\n",
    "\n",
    "|Argument|Required|Description|Defaults|\n",
    "|:-------|:------:|:----------|-------:|\n",
    "allocator|      No|Las opciones son: \"default\", \"managed\". Cuando figura \"managed\" usa Unified Virtual Memory (UVM) y  puede usar memoria del sistema si la memoria del GPU se agota, o \"existing\" cuando asumimos que ya está configurado el rmm allocator y por ello no se inicializa (esto para usuarios avanzados).|\"managed\"\n",
    "dask_client|No|El cliente Dask es usado para comunicación con otros nodos. Esto es sólo necesario para ejecutar BlazingSQL con múltiples nodos.|None\n",
    "enable_logging|No|Si figura en True, el memory allocator logging estará activo, pero puede impactar de forma negativa en la performance. Esto es para usuarios avanzados.|False\n",
    "initial_pool_size|No|Tamaño inicial de memory pool en bytes (si pool=True). Si no, estará en default para usar la mitad de la memoria de GPU.|None\n",
    "pool|No|Si es True, If True, se asigna la memory pool en el inicio. Esto puede mejorar considerablemente el performance.|False\n",
    "network_interface|No|Interface de red usada para comunicarse con el dask-scheduler. Mira la nota debajo.|'eth0'\n",
    "config_options|No|Un diccionario para configurar ciertos parámetros en el motor.|"
   ]
  },
  {
   "cell_type": "markdown",
   "metadata": {},
   "source": [
    "## Leyendo data y ejecutando consultas\n",
    "\n",
    "Hay dos maneras para cargar y ejecutar data usando las herramientas del ecosistema de RAPIDS: cargar directamente a la memoria usando `cudf` o  usando `.create_table()` del  `BlazingContext`."
   ]
  },
  {
   "cell_type": "markdown",
   "metadata": {},
   "source": [
    "### Data de vuelos"
   ]
  },
  {
   "cell_type": "code",
   "execution_count": null,
   "metadata": {},
   "outputs": [],
   "source": [
    "flight_data_path = 's3://bsql/data/air_transport/flight_ontime_2020-0[1-5].parquet'\n",
    "s3 = s3fs.S3FileSystem(anon=True)\n",
    "files = [f's3://{f}' for f in s3.glob(flight_data_path)]\n",
    "files"
   ]
  },
  {
   "cell_type": "markdown",
   "metadata": {},
   "source": [
    "#### cuDF"
   ]
  },
  {
   "cell_type": "code",
   "execution_count": null,
   "metadata": {},
   "outputs": [],
   "source": [
    "%%time\n",
    "flights = []\n",
    "\n",
    "for f in files:\n",
    "    flights.append(cudf.read_parquet(f, storage_options={'anon': True}))\n",
    "    \n",
    "flights = cudf.concat(flights)"
   ]
  },
  {
   "cell_type": "code",
   "execution_count": null,
   "metadata": {},
   "outputs": [],
   "source": [
    "flights.head(5)"
   ]
  },
  {
   "cell_type": "code",
   "execution_count": null,
   "metadata": {},
   "outputs": [],
   "source": [
    "print(f'Número total de vuelos en el dataset: {len(flights):,}')"
   ]
  },
  {
   "cell_type": "markdown",
   "metadata": {},
   "source": [
    "#### BlazingSQL"
   ]
  },
  {
   "cell_type": "code",
   "execution_count": null,
   "metadata": {},
   "outputs": [],
   "source": [
    "bc.s3('bsql', bucket_name = 'bsql')"
   ]
  },
  {
   "cell_type": "code",
   "execution_count": null,
   "metadata": {},
   "outputs": [],
   "source": [
    "bc.create_table('air_transport', files)"
   ]
  },
  {
   "cell_type": "code",
   "execution_count": null,
   "metadata": {},
   "outputs": [],
   "source": [
    "%%time\n",
    "bc.sql('SELECT * FROM air_transport LIMIT 5')"
   ]
  },
  {
   "cell_type": "code",
   "execution_count": null,
   "metadata": {},
   "outputs": [],
   "source": [
    "print(f'Número total de vuelos en el dataset: {bc.sql(\"SELECT COUNT(*) AS CNT FROM air_transport\")[\"CNT\"].iloc[0]:,}')"
   ]
  },
  {
   "cell_type": "markdown",
   "metadata": {},
   "source": [
    "#### Columnas y tipos de data"
   ]
  },
  {
   "cell_type": "code",
   "execution_count": null,
   "metadata": {},
   "outputs": [],
   "source": [
    "flights.columns"
   ]
  },
  {
   "cell_type": "code",
   "execution_count": null,
   "metadata": {},
   "outputs": [],
   "source": [
    "flights.dtypes"
   ]
  },
  {
   "cell_type": "markdown",
   "metadata": {},
   "source": [
    "El `BlazingContext` retorna un objeto cuDF DataFrame, por lo que tenemos acceso al mismo API."
   ]
  },
  {
   "cell_type": "code",
   "execution_count": null,
   "metadata": {},
   "outputs": [],
   "source": [
    "bc_df = bc.sql('SELECT * FROM air_transport LIMIT 5')\n",
    "type(bc_df)"
   ]
  },
  {
   "cell_type": "code",
   "execution_count": null,
   "metadata": {},
   "outputs": [],
   "source": [
    "bc_df.columns"
   ]
  },
  {
   "cell_type": "code",
   "execution_count": null,
   "metadata": {},
   "outputs": [],
   "source": [
    "bc_df.dtypes"
   ]
  },
  {
   "cell_type": "markdown",
   "metadata": {},
   "source": [
    "### Data de vuelos y aeropuertos"
   ]
  },
  {
   "cell_type": "code",
   "execution_count": null,
   "metadata": {},
   "outputs": [],
   "source": [
    "airports_path = 's3://bsql/data/air_transport/airports.csv'\n",
    "airlines_path = 's3://bsql/data/air_transport/airlines.csv'"
   ]
  },
  {
   "cell_type": "code",
   "execution_count": null,
   "metadata": {},
   "outputs": [],
   "source": [
    "airports_dtypes = OrderedDict([\n",
    "      ('Airport ID', 'int64')\n",
    "    , ('Name', 'str')\n",
    "    , ('City', 'str')\n",
    "    , ('Country', 'str')\n",
    "    , ('IATA', 'str')\n",
    "    , ('ICAO', 'str')\n",
    "    , ('Latitude', 'float64')\n",
    "    , ('Longitude', 'float64')\n",
    "    , ('Altitude', 'int64')\n",
    "    , ('Timezone', 'str')\n",
    "    , ('DST', 'str')\n",
    "    , ('Type', 'str')\n",
    "    , ('Source', 'str')\n",
    "])\n",
    "\n",
    "airports = cudf.read_csv(\n",
    "    airports_path\n",
    "    , names=list(airports_dtypes.keys())\n",
    "    , dtype=list(airports_dtypes.values())\n",
    "    , storage_options={'anon': True}\n",
    ")\n",
    "airports.head()"
   ]
  },
  {
   "cell_type": "code",
   "execution_count": null,
   "metadata": {},
   "outputs": [],
   "source": [
    "airlines_dtypes = OrderedDict([\n",
    "    ('Airline ID', 'int64')\n",
    "    , ('Name', 'str')\n",
    "    , ('Alias', 'str')\n",
    "    , ('IATA', 'str')\n",
    "    , ('ICAO', 'str')\n",
    "    , ('Callsign', 'str')\n",
    "    , ('Country', 'str')\n",
    "    , ('Active', 'str')\n",
    "])\n",
    "\n",
    "airlines = cudf.read_csv(\n",
    "    airlines_path\n",
    "    , names=list(airlines_dtypes.keys())\n",
    "    , dtype=list(airlines_dtypes.values())\n",
    "    , storage_options={'anon': True}\n",
    ")\n",
    "airlines.head()"
   ]
  },
  {
   "cell_type": "markdown",
   "metadata": {},
   "source": [
    "Puedes crear tablas BlazingSQL directamente desde cuDF DataFrames."
   ]
  },
  {
   "cell_type": "code",
   "execution_count": null,
   "metadata": {},
   "outputs": [],
   "source": [
    "bc.create_table('airports', airports)\n",
    "bc.create_table('airlines', airlines)"
   ]
  },
  {
   "cell_type": "markdown",
   "metadata": {},
   "source": [
    "Y ahora, podemos consultar y unir estos datasets."
   ]
  },
  {
   "cell_type": "code",
   "execution_count": null,
   "metadata": {},
   "outputs": [],
   "source": [
    "%%time\n",
    "bc.sql('''\n",
    "    SELECT A.FL_DATE\n",
    "        , A.OP_UNIQUE_CARRIER\n",
    "        , B.Name AS CARRIER_NAME\n",
    "        , A.ORIGIN\n",
    "        , C.Name AS ORIGIN_NAME\n",
    "        , C.City AS ORIGIN_CITY\n",
    "        , A.DEST\n",
    "        , D.Name AS DEST_NAME\n",
    "        , D.City AS DEST_CITY\n",
    "    FROM air_transport AS A\n",
    "    LEFT OUTER JOIN airlines AS B\n",
    "        ON A.OP_UNIQUE_CARRIER = B.IATA\n",
    "    LEFT OUTER JOIN airports AS C\n",
    "        ON A.ORIGIN = C.IATA\n",
    "    LEFT OUTER JOIN airports AS D\n",
    "        ON A.DEST = D.IATA\n",
    "    LIMIT 4\n",
    "''')"
   ]
  },
  {
   "cell_type": "markdown",
   "metadata": {},
   "source": [
    "Lo hermoso de este ecosistema, y particualrmente de BlazingSQL, es la inter-operatividad con RAPIDS: podemos crear tablas desde cudf y cualquier formato soportado por cuDF, ya sea local o remoto; podemos registrar buckets desde `s3`, `gcp` con el `BlazingContext` y con soporte para Azure en futuros releases. Tambien podemos crear de forma sencilla, tablas directamente desde archivos y escribir código que retorne un cuDF DataFrame uniendo Parquet y archivos CSV en sólo un par de líneas!"
   ]
  },
  {
   "cell_type": "code",
   "execution_count": null,
   "metadata": {},
   "outputs": [],
   "source": [
    "bc.create_table('airports_table', airports_path, names=list(airports_dtypes.keys()), dtype=list(airports_dtypes.values()))\n",
    "bc.create_table('airlines_table', airlines_path, names=list(airlines_dtypes.keys()), dtype=list(airlines_dtypes.values()))"
   ]
  },
  {
   "cell_type": "code",
   "execution_count": null,
   "metadata": {},
   "outputs": [],
   "source": [
    "%%time\n",
    "bc.sql('''\n",
    "    SELECT A.FL_DATE\n",
    "        , A.OP_UNIQUE_CARRIER\n",
    "        , B.Name AS CARRIER_NAME\n",
    "        , A.ORIGIN\n",
    "        , C.Name AS ORIGIN_NAME\n",
    "        , C.City AS ORIGIN_CITY\n",
    "        , A.DEST\n",
    "        , D.Name AS DEST_NAME\n",
    "        , D.City AS DEST_CITY\n",
    "    FROM air_transport AS A                // READING FROM PARQUET\n",
    "    LEFT OUTER JOIN airlines AS B\n",
    "        ON A.OP_UNIQUE_CARRIER = B.IATA\n",
    "    LEFT OUTER JOIN airports_table AS C    // READING FROM CSV\n",
    "        ON A.ORIGIN = C.IATA\n",
    "    LEFT OUTER JOIN airports_table AS D    // READING FROM CSV\n",
    "        ON A.DEST = D.IATA\n",
    "    LIMIT 4\n",
    "''')"
   ]
  },
  {
   "cell_type": "code",
   "execution_count": null,
   "metadata": {},
   "outputs": [],
   "source": [
    "%%time\n",
    "(\n",
    "    flights[['FL_DATE', 'OP_UNIQUE_CARRIER', 'ORIGIN', 'DEST']]\n",
    "    .merge(airlines[['IATA', 'Name']], left_on='OP_UNIQUE_CARRIER', right_on='IATA')\n",
    "    .rename(columns={'Name': 'CARRIER_NAME'})\n",
    "    .drop(columns=['IATA'])\n",
    "    .merge(airports[['IATA', 'Name', 'City']], left_on='ORIGIN', right_on='IATA')\n",
    "    .rename(columns={'Name': 'ORIGIN_NAME', 'City': 'ORIGIN_CITY'})\n",
    "    .drop(columns=['IATA'])\n",
    "    .merge(airports[['IATA', 'Name', 'City']], left_on='DEST', right_on='IATA')\n",
    "    .rename(columns={'Name': 'DEST_NAME', 'City': 'DEST_CITY'})\n",
    "    .drop(columns=['IATA'])\n",
    ").head()"
   ]
  },
  {
   "cell_type": "markdown",
   "metadata": {},
   "source": [
    "## Preguntas"
   ]
  },
  {
   "cell_type": "markdown",
   "metadata": {},
   "source": [
    "### 1. ¿Cuántos aeropuertos hay en el dataset?"
   ]
  },
  {
   "cell_type": "code",
   "execution_count": null,
   "metadata": {},
   "outputs": [],
   "source": [
    "print(f'Existen {len(flights[\"ORIGIN\"].unique())} aeropuertos en el dataset')"
   ]
  },
  {
   "cell_type": "code",
   "execution_count": null,
   "metadata": {},
   "outputs": [],
   "source": [
    "print(f'Existen {bc.sql(\"SELECT COUNT(DISTINCT ORIGIN) AS CNT FROM air_transport\")[\"CNT\"][0]} aeropuertos en el dataset')"
   ]
  },
  {
   "cell_type": "markdown",
   "metadata": {},
   "source": [
    "### 2. ¿Cuántos vuelos tuvieron retraso y cuántos partieron a tiempo? ¿Cuál es la distribución?"
   ]
  },
  {
   "cell_type": "code",
   "execution_count": null,
   "metadata": {},
   "outputs": [],
   "source": [
    "print(f'{len(flights[flights[\"DEP_DELAY\"] > 0]):,} vuelos con retraso y {len(flights[flights[\"DEP_DELAY\"] <= 0]):,} vuelos a tiempo')"
   ]
  },
  {
   "cell_type": "code",
   "execution_count": null,
   "metadata": {},
   "outputs": [],
   "source": [
    "### calculando la distribución\n",
    "n_bins = 100\n",
    "\n",
    "delays = flights[flights['DEP_DELAY'] >  0]['DEP_DELAY']\n",
    "ontime = flights[flights['DEP_DELAY'] <= 0]['DEP_DELAY']"
   ]
  },
  {
   "cell_type": "code",
   "execution_count": null,
   "metadata": {},
   "outputs": [],
   "source": [
    "%%time\n",
    "del_bins = np.array([i * 15 for i in range(0, n_bins)], dtype='float64')\n",
    "delays_binned = delays.digitize(del_bins)\n",
    "delays_histogram = delays_binned.groupby().count() / len(delays)\n",
    "(\n",
    "    delays_histogram\n",
    "    .set_index(del_bins[delays_histogram.index.to_array()-1])\n",
    "    .to_pandas()\n",
    "    .plot(kind='bar', figsize=(20,9), ylim=[0,1.0], title='Distribución de salidas retrasadas')\n",
    ")"
   ]
  },
  {
   "cell_type": "code",
   "execution_count": null,
   "metadata": {},
   "outputs": [],
   "source": [
    "%%time\n",
    "ontime_bins = np.array([i * (-1) for i in range(n_bins,0,-1)], dtype='float64')\n",
    "ontime_binned = ontime.digitize(ontime_bins)\n",
    "ontime_histogram = ontime_binned.groupby().count() / len(ontime)\n",
    "(\n",
    "    ontime_histogram\n",
    "    .set_index(ontime_bins[ontime_histogram.index.to_array()-1])\n",
    "    .to_pandas()\n",
    "    .plot(kind='bar', figsize=(20,9), ylim=[0,1.0], title='Distribución de salidas a tiempo')\n",
    ")"
   ]
  },
  {
   "cell_type": "markdown",
   "metadata": {},
   "source": [
    "### 3. ¿Cuáles son las 10 aerolíneas top y aeropuertos con mayores retrasos en por lo menos 1000 vuelos? ¿Cuál es el promedio de demora?"
   ]
  },
  {
   "cell_type": "code",
   "execution_count": null,
   "metadata": {},
   "outputs": [],
   "source": [
    "delays = flights[flights['DEP_DELAY'] >  0][['DEP_DELAY', 'ORIGIN', 'DEST', 'OP_UNIQUE_CARRIER']]\n",
    "ontime = flights[flights['DEP_DELAY'] <= 0][['DEP_DELAY', 'ORIGIN', 'DEST', 'OP_UNIQUE_CARRIER']]"
   ]
  },
  {
   "cell_type": "code",
   "execution_count": null,
   "metadata": {},
   "outputs": [],
   "source": [
    "bc.create_table('delays', delays)\n",
    "bc.create_table('ontime', ontime)"
   ]
  },
  {
   "cell_type": "markdown",
   "metadata": {},
   "source": [
    "#### Los que presentaron mayores retrasos"
   ]
  },
  {
   "cell_type": "code",
   "execution_count": null,
   "metadata": {},
   "outputs": [],
   "source": [
    "%%time\n",
    "bc.sql('''\n",
    "    SELECT A.ORIGIN\n",
    "        , B.Name AS ORIGIN_Airport\n",
    "        , B.City AS ORIGIN_City\n",
    "        , B.Country AS ORIGIN_Country\n",
    "        , COUNT(*) AS DELAY_CNT\n",
    "        , AVG(DEP_DELAY) AS AVG_DELAY\n",
    "    FROM delays AS A\n",
    "    LEFT OUTER JOIN airports AS B\n",
    "        ON A.ORIGIN = B.IATA\n",
    "    GROUP BY A.ORIGIN\n",
    "        , B.Name\n",
    "        , B.City\n",
    "        , B.Country\n",
    "    HAVING COUNT(*) > 1000\n",
    "    ORDER BY AVG(DEP_DELAY) DESC\n",
    "    LIMIT 10\n",
    "''')"
   ]
  },
  {
   "cell_type": "code",
   "execution_count": null,
   "metadata": {},
   "outputs": [],
   "source": [
    "%%time\n",
    "bc.sql('''\n",
    "    SELECT A.DEST\n",
    "        , B.Name AS DEST_Airport\n",
    "        , B.City AS DEST_City\n",
    "        , B.Country AS DEST_Country\n",
    "        , COUNT(*) AS DELAY_CNT\n",
    "        , AVG(DEP_DELAY) AS AVG_DELAY\n",
    "    FROM delays AS A\n",
    "    LEFT OUTER JOIN airports AS B\n",
    "        ON A.DEST = B.IATA\n",
    "    GROUP BY A.DEST\n",
    "        , B.Name\n",
    "        , B.City\n",
    "        , B.Country\n",
    "    HAVING COUNT(*) > 1000\n",
    "    ORDER BY AVG(DEP_DELAY) DESC\n",
    "    LIMIT 10\n",
    "''')"
   ]
  },
  {
   "cell_type": "code",
   "execution_count": null,
   "metadata": {},
   "outputs": [],
   "source": [
    "%%time\n",
    "bc.sql('''\n",
    "    SELECT A.OP_UNIQUE_CARRIER AS CARRIER\n",
    "        , B.Name AS CARRIER_Name\n",
    "        , B.Country AS CARRIER_Country\n",
    "        , COUNT(*) AS DELAY_CNT\n",
    "        , AVG(DEP_DELAY) AS AVG_DELAY\n",
    "    FROM delays AS A\n",
    "    LEFT OUTER JOIN airlines AS B\n",
    "        ON A.OP_UNIQUE_CARRIER = B.IATA\n",
    "    GROUP BY A.OP_UNIQUE_CARRIER\n",
    "        , B.Name\n",
    "        , B.Country\n",
    "    HAVING COUNT(*) > 1000\n",
    "    ORDER BY AVG(DEP_DELAY) DESC\n",
    "    LIMIT 10\n",
    "''')"
   ]
  },
  {
   "cell_type": "markdown",
   "metadata": {},
   "source": [
    "#### Los más puntuales"
   ]
  },
  {
   "cell_type": "code",
   "execution_count": null,
   "metadata": {},
   "outputs": [],
   "source": [
    "%%time\n",
    "bc.sql('''\n",
    "    SELECT A.ORIGIN\n",
    "        , B.Name AS ORIGIN_Airport\n",
    "        , B.City AS ORIGIN_City\n",
    "        , B.Country AS ORIGIN_Country\n",
    "        , COUNT(*) AS ONTIME_CNT\n",
    "        , AVG(DEP_DELAY) AS AVG_ONTIME\n",
    "    FROM ontime AS A\n",
    "    LEFT OUTER JOIN airports AS B\n",
    "        ON A.ORIGIN = B.IATA\n",
    "    GROUP BY A.ORIGIN\n",
    "        , B.Name\n",
    "        , B.City\n",
    "        , B.Country\n",
    "    HAVING COUNT(*) > 1000\n",
    "    ORDER BY AVG(DEP_DELAY) DESC\n",
    "    LIMIT 10\n",
    "''')"
   ]
  },
  {
   "cell_type": "code",
   "execution_count": null,
   "metadata": {},
   "outputs": [],
   "source": [
    "%%time\n",
    "bc.sql('''\n",
    "    SELECT A.DEST\n",
    "        , B.Name AS DEST_Airport\n",
    "        , B.City AS DEST_City\n",
    "        , B.Country AS DEST_Country\n",
    "        , COUNT(*) AS ONTIME_CNT\n",
    "        , AVG(DEP_DELAY) AS AVG_ONTIME\n",
    "    FROM ontime AS A\n",
    "    LEFT OUTER JOIN airports AS B\n",
    "        ON A.DEST = B.IATA\n",
    "    GROUP BY A.DEST\n",
    "        , B.Name\n",
    "        , B.City\n",
    "        , B.Country\n",
    "    HAVING COUNT(*) > 1000\n",
    "    ORDER BY AVG(DEP_DELAY) DESC\n",
    "    LIMIT 10\n",
    "''')"
   ]
  },
  {
   "cell_type": "code",
   "execution_count": null,
   "metadata": {},
   "outputs": [],
   "source": [
    "%%time\n",
    "bc.sql('''\n",
    "    SELECT A.OP_UNIQUE_CARRIER AS CARRIER\n",
    "        , B.Name AS CARRIER_Name\n",
    "        , B.Country AS CARRIER_Country\n",
    "        , AVG(DEP_DELAY) AS AVG_ONTIME\n",
    "    FROM ontime AS A\n",
    "    LEFT OUTER JOIN airlines AS B\n",
    "        ON A.OP_UNIQUE_CARRIER = B.IATA\n",
    "    GROUP BY A.OP_UNIQUE_CARRIER\n",
    "        , B.Name\n",
    "        , B.Country\n",
    "    HAVING COUNT(*) > 1000\n",
    "    ORDER BY AVG(DEP_DELAY) DESC\n",
    "    LIMIT 10\n",
    "''')"
   ]
  },
  {
   "cell_type": "markdown",
   "metadata": {},
   "source": [
    "## Fechas, strings, oh my...\n",
    "\n",
    "Un error común es creer que usar GPUs es sólo útil para cálculos numéricos. Sin embargo, con RAPIDS y BlazingSQL puedes realizar operaciones en fechas y strings fácilmente y a la velocidad de GPUs!"
   ]
  },
  {
   "cell_type": "markdown",
   "metadata": {},
   "source": [
    "### Vuelos por mes y día de la semana\n",
    "\n",
    "Aunque ya contamos con columnas como `YEAR` o `MONTH`, vamos a calcular estos valores nosotros mismos!"
   ]
  },
  {
   "cell_type": "code",
   "execution_count": null,
   "metadata": {},
   "outputs": [],
   "source": [
    "%%time\n",
    "flights['FL_DATE'] = flights['FL_DATE'].astype('datetime64[ms]')\n",
    "dated = flights[['FL_DATE', 'OP_UNIQUE_CARRIER']]\n",
    "dated['YEAR'] = dated['FL_DATE'].dt.year\n",
    "dated['MONTH'] = dated['FL_DATE'].dt.month\n",
    "dated['DAY'] = dated['FL_DATE'].dt.day\n",
    "dated['DOW'] = dated['FL_DATE'].dt.dayofweek"
   ]
  },
  {
   "cell_type": "code",
   "execution_count": null,
   "metadata": {},
   "outputs": [],
   "source": [
    "%%time\n",
    "(\n",
    "    dated\n",
    "    .groupby(['YEAR','MONTH'])\n",
    "    .agg({'FL_DATE': 'count'})\n",
    "    .to_pandas()\n",
    "    .plot(kind='bar', figsize=(12,9), title='Vuelos totales por mes')\n",
    ")"
   ]
  },
  {
   "cell_type": "code",
   "execution_count": null,
   "metadata": {},
   "outputs": [],
   "source": [
    "%%time\n",
    "(\n",
    "    dated\n",
    "    .groupby(['MONTH','DAY', 'DOW'])\n",
    "    .agg({'FL_DATE': 'count'})\n",
    "    .reset_index()\n",
    "    .groupby(['DOW'])\n",
    "    .agg({'FL_DATE': 'mean'})\n",
    "    .to_pandas()\n",
    "    .plot(kind='bar', figsize=(12,9), title='Numero promedio de vuelos por dia de semana')\n",
    ")"
   ]
  }
 ],
 "metadata": {
  "kernelspec": {
   "display_name": "RAPIDS Stable",
   "language": "python",
   "name": "python3"
  },
  "language_info": {
   "codemirror_mode": {
    "name": "ipython",
    "version": 3
   },
   "file_extension": ".py",
   "mimetype": "text/x-python",
   "name": "python",
   "nbconvert_exporter": "python",
   "pygments_lexer": "ipython3",
   "version": "3.8.5"
  }
 },
 "nbformat": 4,
 "nbformat_minor": 4
}
