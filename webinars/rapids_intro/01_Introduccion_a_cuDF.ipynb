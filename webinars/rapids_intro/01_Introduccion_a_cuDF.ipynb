{
 "cells": [
  {
   "cell_type": "markdown",
   "metadata": {},
   "source": [
    "<a id=\"introduction\"></a>\n",
    "# Ciencia de Datos Acelerada con GPU\n",
    "## RAPIDS: Introducción a cuDF\n",
    "#### Presentador: Mario Inga (BLAZINGSQL)\n",
    "\n",
    "Notebook adaptado por Tom Drabas (BlazingSQL) de [Introduction to cuDF notebook](https://github.com/rapidsai-community/notebooks-contrib/blob/community_relaunch/getting_started_materials/intro_tutorials_and_guides/02_Introduction_to_cuDF.ipynb) por Paul Hendricks. \n",
    "\n",
    "-------\n",
    "\n",
    "En este Notebook mostraremos cómo usar cuDF DataFrames en RAPIDS.\n",
    "\n",
    "**Table of Contents**\n",
    "\n",
    "* [Introduction to cuDF](#introducción)\n",
    "* [Setup](#configuración)\n",
    "* [cuDF Series Basics](#series)\n",
    "* [cuDF DataFrame Basics](#dataframes)\n",
    "* [Input/Output](#io)\n",
    "* [cuDF API](#cudfapi)\n",
    "* [Conclusion](#conclusiones)"
   ]
  },
  {
   "cell_type": "markdown",
   "metadata": {},
   "source": [
    "<a id=\"setup\"></a>\n",
    "## Setup\n",
    "\n",
    "Este notebook fue testeado en Blazing Notebooks, corriendo sobre un GPU de T4 NVIDIA, CON 16GB de RAM: tu sistemas puede que sea diferente y necesites modificar o instalar algún paquete para poder ejecuitar los siguientes ejemplos.\n",
    "\n",
    "Hemos usado cuDF version 0.17.0."
   ]
  },
  {
   "cell_type": "markdown",
   "metadata": {},
   "source": [
    "<a id=\"series\"></a>\n",
    "## Básicos de cuDF Series\n",
    "\n",
    "Primero, vamos a cargar la librería de cuDF."
   ]
  },
  {
   "cell_type": "code",
   "execution_count": 75,
   "metadata": {},
   "outputs": [],
   "source": [
    "%config IPCompleter.greedy=True"
   ]
  },
  {
   "cell_type": "code",
   "execution_count": 1,
   "metadata": {},
   "outputs": [
    {
     "name": "stdout",
     "output_type": "stream",
     "text": [
      "cuDF Version: 0.17.0\n"
     ]
    }
   ],
   "source": [
    "import cudf\n",
    "print(f'cuDF Version: {cudf.__version__}')"
   ]
  },
  {
   "cell_type": "markdown",
   "metadata": {},
   "source": [
    "Existen dos estructuras de data principales, en cuDF: un objeto `Series` y un objeto `DataFrame`. Múltiples objetos `Series` son usados como columnas por un `DataFrame`. Vamos a explorar la clase `Series` para luego revisar, cómo trabajar con objetos de tipo `DataFrame`.\n",
    "\n",
    "Entonces, iniciemos!\n",
    "Podemos crear un objeto `Series` usando la clase `cudf.Series`."
   ]
  },
  {
   "cell_type": "code",
   "execution_count": 2,
   "metadata": {},
   "outputs": [
    {
     "data": {
      "text/plain": [
       "0    10\n",
       "1    11\n",
       "2    12\n",
       "3    13\n",
       "dtype: int64"
      ]
     },
     "execution_count": 2,
     "metadata": {},
     "output_type": "execute_result"
    }
   ],
   "source": [
    "column = cudf.Series([10, 11, 12, 13])\n",
    "column"
   ]
  },
  {
   "cell_type": "markdown",
   "metadata": {},
   "source": [
    "Podemos observar que `column` es un objeto de tipo `cudf.Series` y que tiene 4 filas.\n",
    "\n",
    "Otra forma de visualizar `Series` es usando `print`."
   ]
  },
  {
   "cell_type": "code",
   "execution_count": 3,
   "metadata": {},
   "outputs": [
    {
     "name": "stdout",
     "output_type": "stream",
     "text": [
      "0    10\n",
      "1    11\n",
      "2    12\n",
      "3    13\n",
      "dtype: int64\n"
     ]
    }
   ],
   "source": [
    "print(column)"
   ]
  },
  {
   "cell_type": "markdown",
   "metadata": {},
   "source": [
    "Observamos que nuestro objeto `Series` tiene cuatro filas con valores 10, 11, 12 y 13. Además el tipo de data es `int64`. Hay varias maneras de representar data usando cuDF. Los formatos más comunes son `int8`, `int32`, `int64`, `float32` y `float64`.\n",
    "\n",
    "Podemos observar además otra columna a la izquierda, con valores 0, 1, 2 y 3. Estos valores representan los index de `Series`. "
   ]
  },
  {
   "cell_type": "code",
   "execution_count": 4,
   "metadata": {},
   "outputs": [
    {
     "name": "stdout",
     "output_type": "stream",
     "text": [
      "RangeIndex(start=0, stop=4, step=1)\n"
     ]
    }
   ],
   "source": [
    "print(column.index)"
   ]
  },
  {
   "cell_type": "markdown",
   "metadata": {},
   "source": [
    "Podemos crear uan nueva columna con index diferentes usando el método `set_index`."
   ]
  },
  {
   "cell_type": "code",
   "execution_count": 5,
   "metadata": {},
   "outputs": [
    {
     "name": "stdout",
     "output_type": "stream",
     "text": [
      "5    10\n",
      "6    11\n",
      "7    12\n",
      "8    13\n",
      "dtype: int64\n"
     ]
    }
   ],
   "source": [
    "new_column = column.set_index([5, 6, 7, 8]) \n",
    "print(new_column)"
   ]
  },
  {
   "cell_type": "markdown",
   "metadata": {},
   "source": [
    "Los index son útiles para operaciones como joins y groupbys."
   ]
  },
  {
   "cell_type": "markdown",
   "metadata": {},
   "source": [
    "<a id=\"dataframes\"></a>\n",
    "## Básicos de cuDF DataFrame\n",
    "\n",
    "Cómo acabamos de mostrar, cuDF DataFrames son estructuras tabulares de data que residen en el GPU. Interactuamos con estos cuDF DataFrames, de la misma manera en la que interactuamos con Pandas DataFrames que residen en la CPU - con algunas pocas diferencias.\n",
    "\n",
    "En las siguientes secciones, mostraremos cómo crear y manipular cuDF DataFrames. Para mayor ifnormación en el uso de cuDF DataFrames, pueden revisar la documentación en: https://docs.rapids.ai/api/cudf/stable/"
   ]
  },
  {
   "cell_type": "markdown",
   "metadata": {},
   "source": [
    "#### Creación de cudf DataFrame usando listas\n",
    "\n",
    "Hay varias maneras de crear cuDF DataFrame. La más sencilla es instanciar un cuDF DataFrame vacío, y luego usar Python list objects o arreglos NumPy para crear columnas. En la siguiente sentencia, estamos creando un cuDF DataFrame vacío."
   ]
  },
  {
   "cell_type": "code",
   "execution_count": 6,
   "metadata": {},
   "outputs": [
    {
     "name": "stdout",
     "output_type": "stream",
     "text": [
      "Empty DataFrame\n",
      "Columns: []\n",
      "Index: []\n"
     ]
    }
   ],
   "source": [
    "df = cudf.DataFrame()\n",
    "print(df)"
   ]
  },
  {
   "cell_type": "markdown",
   "metadata": {},
   "source": [
    "Luego, podemos crear dos columnas:`key` y `value`, usando el bracket notation con el cuDF DataFrame y almacenando, ya sea una lista de valores de python o un arreglo NumPy en dicha columna. "
   ]
  },
  {
   "cell_type": "code",
   "execution_count": 7,
   "metadata": {},
   "outputs": [
    {
     "name": "stdout",
     "output_type": "stream",
     "text": [
      "NumPy Version: 1.19.5\n",
      "   key  value\n",
      "0    0     10\n",
      "1    1     11\n",
      "2    2     12\n",
      "3    3     13\n",
      "4    4     14\n"
     ]
    }
   ],
   "source": [
    "import numpy as np; print('NumPy Version:', np.__version__)\n",
    "\n",
    "\n",
    "# acá creamos dos columnas llamadas \"key\" y \"value\"\n",
    "df['key'] = [0, 1, 2, 3, 4]\n",
    "df['value'] = np.arange(10, 15)\n",
    "print(df)"
   ]
  },
  {
   "cell_type": "markdown",
   "metadata": {},
   "source": [
    "#### Creación de cudf DataFrame usando una lista de tuples o diccionario\n",
    "\n",
    "Otra forma de crear un cuDF DataFrame es suministrando un mapping de  de nombres de columna a valores de columna, ya sea con una lista de tuples o usando un diccionario. En los siguientes ejemplos, creamos una lista two-value tuples; el primer valor es el nombre de la columna - por ejemplo, `id` o `timestamp` - y el segundo valor es una lista de objectos Python o arreglos Numpy. Nótese que no tenemos que restringir la data almacenada a tipos comunes de data como integers o floats - podemos usar tipos de data más complejos como datetimes o strings. Vamos a analizar cómo estos tipos de data se comportan en la GPU más adelante."
   ]
  },
  {
   "cell_type": "code",
   "execution_count": 10,
   "metadata": {},
   "outputs": [
    {
     "name": "stdout",
     "output_type": "stream",
     "text": [
      "[0, 2, 3, 4]\n",
      "(1, 2, 3, 4)\n",
      "Juan\n"
     ]
    }
   ],
   "source": [
    "# Breve ejemplo de arreglos de datos en Python\n",
    "lista = [1,2,3,4]\n",
    "lista[0] = 0\n",
    "print(lista)\n",
    "\n",
    "tupla = (1,2,3,4)\n",
    "#tupla[0] = 0\n",
    "print(tupla)\n",
    "\n",
    "diccionario = {\n",
    "    \"key1\": \"value1\", \n",
    "    \"nombre\": \"Juan\",\n",
    "    \"apellido\": \"Perez\"\n",
    "}\n",
    "print(diccionario[\"nombre\"])"
   ]
  },
  {
   "cell_type": "code",
   "execution_count": 11,
   "metadata": {},
   "outputs": [],
   "source": [
    "from datetime import datetime, timedelta\n",
    "\n",
    "ids = np.arange(5)\n",
    "t0 = datetime.strptime('2018-10-07 12:00:00', '%Y-%m-%d %H:%M:%S')\n",
    "timestamps = [(t0+ timedelta(seconds=x)) for x in range(5)]\n",
    "timestamps_np = np.array(timestamps, dtype='datetime64')"
   ]
  },
  {
   "cell_type": "code",
   "execution_count": 12,
   "metadata": {},
   "outputs": [
    {
     "name": "stdout",
     "output_type": "stream",
     "text": [
      "   ids           timestamp\n",
      "0    0 2018-10-07 12:00:00\n",
      "1    1 2018-10-07 12:00:01\n",
      "2    2 2018-10-07 12:00:02\n",
      "3    3 2018-10-07 12:00:03\n",
      "4    4 2018-10-07 12:00:04\n"
     ]
    }
   ],
   "source": [
    "df = cudf.DataFrame()\n",
    "df['ids'] = ids\n",
    "df['timestamp'] = timestamps_np\n",
    "print(df)"
   ]
  },
  {
   "cell_type": "markdown",
   "metadata": {},
   "source": [
    "Alternativamente, podemos crear un diccionario de key-value pares, donde cada key en el diccionario repesenta un nombre de columna y cada valor asociado con el key reprsentaría los valores que corresponden en dicha columna."
   ]
  },
  {
   "cell_type": "code",
   "execution_count": 13,
   "metadata": {},
   "outputs": [
    {
     "name": "stdout",
     "output_type": "stream",
     "text": [
      "   id           timestamp\n",
      "0   0 2018-10-07 12:00:00\n",
      "1   1 2018-10-07 12:00:01\n",
      "2   2 2018-10-07 12:00:02\n",
      "3   3 2018-10-07 12:00:03\n",
      "4   4 2018-10-07 12:00:04\n"
     ]
    }
   ],
   "source": [
    "df = cudf.DataFrame({'id': ids, 'timestamp': timestamps_np})\n",
    "print(df)"
   ]
  },
  {
   "cell_type": "markdown",
   "metadata": {},
   "source": [
    "#### Creación de cudf DataFrame desde un Pandas DataFrame\n",
    "\n",
    "Podemos crear un cuDF DataFrame a partir de un Pandas DataFrame y viceversa."
   ]
  },
  {
   "cell_type": "code",
   "execution_count": 14,
   "metadata": {},
   "outputs": [
    {
     "name": "stdout",
     "output_type": "stream",
     "text": [
      "Pandas Version: 1.1.4\n",
      "     a    b\n",
      "0    0  0.0\n",
      "1    1  0.1\n",
      "2    2  0.2\n",
      "3    3  NaN\n",
      "4    4  0.4\n",
      "5    5  0.5\n",
      "6    6  0.6\n",
      "7    7  0.7\n",
      "8    8  0.8\n",
      "9    9  0.9\n",
      "10  10  1.0\n"
     ]
    }
   ],
   "source": [
    "import pandas as pd\n",
    "print('Pandas Version:', pd.__version__)\n",
    "\n",
    "\n",
    "pandas_df = pd.DataFrame({'a': [0, 1, 2, 3, 4, 5, 6, 7, 8, 9, 10],\n",
    "                          'b': [0.0, 0.1, 0.2, None, 0.4, 0.5, 0.6, 0.7, 0.8, 0.9, 1.0]})\n",
    "print(pandas_df)"
   ]
  },
  {
   "cell_type": "markdown",
   "metadata": {},
   "source": [
    "Podemos usar las funciones `cudf.from_pandas` o `cudf.DataFrame.from_pandas` para crear un cuDF DataFrame a partir de un Pandas DataFrame."
   ]
  },
  {
   "cell_type": "code",
   "execution_count": 15,
   "metadata": {},
   "outputs": [
    {
     "name": "stdout",
     "output_type": "stream",
     "text": [
      "     a     b\n",
      "0    0   0.0\n",
      "1    1   0.1\n",
      "2    2   0.2\n",
      "3    3  <NA>\n",
      "4    4   0.4\n",
      "5    5   0.5\n",
      "6    6   0.6\n",
      "7    7   0.7\n",
      "8    8   0.8\n",
      "9    9   0.9\n",
      "10  10   1.0\n"
     ]
    }
   ],
   "source": [
    "df = cudf.from_pandas(pandas_df)\n",
    "# df = cudf.DataFrame.from_pandas(pandas_df)  # alternative\n",
    "print(df)"
   ]
  },
  {
   "cell_type": "markdown",
   "metadata": {},
   "source": [
    "#### Creación de cuDF DataFrame desde cuDF Series\n",
    "\n",
    "Podemos crear cuDF DataFrame desde uno o más objetos de cuDF Series, pasando el objeto Series en un diccionario y mapeando cada objeto Series a un nombre de columna."
   ]
  },
  {
   "cell_type": "code",
   "execution_count": 19,
   "metadata": {},
   "outputs": [
    {
     "name": "stdout",
     "output_type": "stream",
     "text": [
      "   a  b   c\n",
      "0  1  5   9\n",
      "1  2  6  10\n",
      "2  3  7  11\n",
      "3  4  8  12\n"
     ]
    }
   ],
   "source": [
    "column1 = cudf.Series([1, 2, 3, 4])\n",
    "column2 = cudf.Series([5, 6, 7, 8])\n",
    "column3 = cudf.Series([9, 10, 11, 12])\n",
    "\n",
    "df = cudf.DataFrame({'a': column1, 'b': column2, 'c': column3})\n",
    "print(df)"
   ]
  },
  {
   "cell_type": "raw",
   "metadata": {},
   "source": [
    "#### Revisando un cuDF DataFrame\n",
    "\n",
    "Hay varias formas de inspeccionar un cuDF DataFrame. El primer método es ingresar al cuDF DataFrame directamente de REPL. Esto nos mostrará informacion sobre el tipo de objeto y metadata, como el número de filas y columnas."
   ]
  },
  {
   "cell_type": "code",
   "execution_count": 20,
   "metadata": {},
   "outputs": [],
   "source": [
    "df = cudf.DataFrame({'a': np.arange(0, 100), 'b': np.arange(100, 0, -1)})"
   ]
  },
  {
   "cell_type": "code",
   "execution_count": 22,
   "metadata": {},
   "outputs": [
    {
     "data": {
      "text/html": [
       "<div>\n",
       "<style scoped>\n",
       "    .dataframe tbody tr th:only-of-type {\n",
       "        vertical-align: middle;\n",
       "    }\n",
       "\n",
       "    .dataframe tbody tr th {\n",
       "        vertical-align: top;\n",
       "    }\n",
       "\n",
       "    .dataframe thead th {\n",
       "        text-align: right;\n",
       "    }\n",
       "</style>\n",
       "<table border=\"1\" class=\"dataframe\">\n",
       "  <thead>\n",
       "    <tr style=\"text-align: right;\">\n",
       "      <th></th>\n",
       "      <th>a</th>\n",
       "      <th>b</th>\n",
       "    </tr>\n",
       "  </thead>\n",
       "  <tbody>\n",
       "    <tr>\n",
       "      <th>0</th>\n",
       "      <td>0</td>\n",
       "      <td>100</td>\n",
       "    </tr>\n",
       "    <tr>\n",
       "      <th>1</th>\n",
       "      <td>1</td>\n",
       "      <td>99</td>\n",
       "    </tr>\n",
       "    <tr>\n",
       "      <th>2</th>\n",
       "      <td>2</td>\n",
       "      <td>98</td>\n",
       "    </tr>\n",
       "    <tr>\n",
       "      <th>3</th>\n",
       "      <td>3</td>\n",
       "      <td>97</td>\n",
       "    </tr>\n",
       "    <tr>\n",
       "      <th>4</th>\n",
       "      <td>4</td>\n",
       "      <td>96</td>\n",
       "    </tr>\n",
       "    <tr>\n",
       "      <th>...</th>\n",
       "      <td>...</td>\n",
       "      <td>...</td>\n",
       "    </tr>\n",
       "    <tr>\n",
       "      <th>95</th>\n",
       "      <td>95</td>\n",
       "      <td>5</td>\n",
       "    </tr>\n",
       "    <tr>\n",
       "      <th>96</th>\n",
       "      <td>96</td>\n",
       "      <td>4</td>\n",
       "    </tr>\n",
       "    <tr>\n",
       "      <th>97</th>\n",
       "      <td>97</td>\n",
       "      <td>3</td>\n",
       "    </tr>\n",
       "    <tr>\n",
       "      <th>98</th>\n",
       "      <td>98</td>\n",
       "      <td>2</td>\n",
       "    </tr>\n",
       "    <tr>\n",
       "      <th>99</th>\n",
       "      <td>99</td>\n",
       "      <td>1</td>\n",
       "    </tr>\n",
       "  </tbody>\n",
       "</table>\n",
       "<p>100 rows × 2 columns</p>\n",
       "</div>"
      ],
      "text/plain": [
       "     a    b\n",
       "0    0  100\n",
       "1    1   99\n",
       "2    2   98\n",
       "3    3   97\n",
       "4    4   96\n",
       "..  ..  ...\n",
       "95  95    5\n",
       "96  96    4\n",
       "97  97    3\n",
       "98  98    2\n",
       "99  99    1\n",
       "\n",
       "[100 rows x 2 columns]"
      ]
     },
     "execution_count": 22,
     "metadata": {},
     "output_type": "execute_result"
    }
   ],
   "source": [
    "df"
   ]
  },
  {
   "cell_type": "markdown",
   "metadata": {},
   "source": [
    "Una segunda forma de inspeccionar un cuDF DataFrame es empaquetar el objeto en la función de Python `print`. Y así podremo ver las filas y columnas del dataframe."
   ]
  },
  {
   "cell_type": "code",
   "execution_count": 23,
   "metadata": {},
   "outputs": [
    {
     "name": "stdout",
     "output_type": "stream",
     "text": [
      "     a    b\n",
      "0    0  100\n",
      "1    1   99\n",
      "2    2   98\n",
      "3    3   97\n",
      "4    4   96\n",
      "..  ..  ...\n",
      "95  95    5\n",
      "96  96    4\n",
      "97  97    3\n",
      "98  98    2\n",
      "99  99    1\n",
      "\n",
      "[100 rows x 2 columns]\n"
     ]
    }
   ],
   "source": [
    "print(df)"
   ]
  },
  {
   "cell_type": "markdown",
   "metadata": {},
   "source": [
    "Para dataframes grandes, preferimos visualizar los primeros pares de filas, para ello podemos usar el método `head` y así visualizar las N filas que queramos."
   ]
  },
  {
   "cell_type": "code",
   "execution_count": 39,
   "metadata": {},
   "outputs": [
    {
     "data": {
      "text/html": [
       "<div>\n",
       "<style scoped>\n",
       "    .dataframe tbody tr th:only-of-type {\n",
       "        vertical-align: middle;\n",
       "    }\n",
       "\n",
       "    .dataframe tbody tr th {\n",
       "        vertical-align: top;\n",
       "    }\n",
       "\n",
       "    .dataframe thead th {\n",
       "        text-align: right;\n",
       "    }\n",
       "</style>\n",
       "<table border=\"1\" class=\"dataframe\">\n",
       "  <thead>\n",
       "    <tr style=\"text-align: right;\">\n",
       "      <th></th>\n",
       "      <th>a</th>\n",
       "      <th>b</th>\n",
       "    </tr>\n",
       "  </thead>\n",
       "  <tbody>\n",
       "    <tr>\n",
       "      <th>0</th>\n",
       "      <td>0</td>\n",
       "      <td>100</td>\n",
       "    </tr>\n",
       "    <tr>\n",
       "      <th>1</th>\n",
       "      <td>1</td>\n",
       "      <td>99</td>\n",
       "    </tr>\n",
       "    <tr>\n",
       "      <th>2</th>\n",
       "      <td>2</td>\n",
       "      <td>98</td>\n",
       "    </tr>\n",
       "    <tr>\n",
       "      <th>3</th>\n",
       "      <td>3</td>\n",
       "      <td>97</td>\n",
       "    </tr>\n",
       "    <tr>\n",
       "      <th>4</th>\n",
       "      <td>4</td>\n",
       "      <td>96</td>\n",
       "    </tr>\n",
       "    <tr>\n",
       "      <th>5</th>\n",
       "      <td>5</td>\n",
       "      <td>95</td>\n",
       "    </tr>\n",
       "    <tr>\n",
       "      <th>6</th>\n",
       "      <td>6</td>\n",
       "      <td>94</td>\n",
       "    </tr>\n",
       "    <tr>\n",
       "      <th>7</th>\n",
       "      <td>7</td>\n",
       "      <td>93</td>\n",
       "    </tr>\n",
       "    <tr>\n",
       "      <th>8</th>\n",
       "      <td>8</td>\n",
       "      <td>92</td>\n",
       "    </tr>\n",
       "    <tr>\n",
       "      <th>9</th>\n",
       "      <td>9</td>\n",
       "      <td>91</td>\n",
       "    </tr>\n",
       "  </tbody>\n",
       "</table>\n",
       "</div>"
      ],
      "text/plain": [
       "   a    b\n",
       "0  0  100\n",
       "1  1   99\n",
       "2  2   98\n",
       "3  3   97\n",
       "4  4   96\n",
       "5  5   95\n",
       "6  6   94\n",
       "7  7   93\n",
       "8  8   92\n",
       "9  9   91"
      ]
     },
     "execution_count": 39,
     "metadata": {},
     "output_type": "execute_result"
    }
   ],
   "source": [
    "#df.head()\n",
    "df.head(10)"
   ]
  },
  {
   "cell_type": "markdown",
   "metadata": {},
   "source": [
    "#### Columnas\n",
    "\n",
    "cuDF DataFrames almacenan metadata con información sobre columnas o tipo de data. Podemos acceder a las columnas usando el atributo `.columns`."
   ]
  },
  {
   "cell_type": "code",
   "execution_count": 40,
   "metadata": {},
   "outputs": [
    {
     "name": "stdout",
     "output_type": "stream",
     "text": [
      "Index(['a', 'b'], dtype='object')\n"
     ]
    }
   ],
   "source": [
    "print(df.columns)"
   ]
  },
  {
   "cell_type": "markdown",
   "metadata": {},
   "source": [
    "Podemos modificar las columnas de un cuDF DataFrame, modificando el atributo `columns`. Podemos realizar esto configurando el atributo, igual a una lista de strings que representen las nuevas columnas."
   ]
  },
  {
   "cell_type": "code",
   "execution_count": 42,
   "metadata": {},
   "outputs": [
    {
     "name": "stdout",
     "output_type": "stream",
     "text": [
      "Index(['c', 'd'], dtype='object')\n",
      "     c    d\n",
      "0    0  100\n",
      "1    1   99\n",
      "2    2   98\n",
      "3    3   97\n",
      "4    4   96\n",
      "..  ..  ...\n",
      "95  95    5\n",
      "96  96    4\n",
      "97  97    3\n",
      "98  98    2\n",
      "99  99    1\n",
      "\n",
      "[100 rows x 2 columns]\n"
     ]
    }
   ],
   "source": [
    "df.columns = ['c', 'd']\n",
    "print(df.columns)\n",
    "print(df)"
   ]
  },
  {
   "cell_type": "markdown",
   "metadata": {},
   "source": [
    "#### Data Types\n",
    "\n",
    "Además podemos inspeccionar el tipo de data de las columnas usando el atributo `dtypes`."
   ]
  },
  {
   "cell_type": "code",
   "execution_count": 50,
   "metadata": {},
   "outputs": [
    {
     "name": "stdout",
     "output_type": "stream",
     "text": [
      "<class 'cudf.core.dataframe.DataFrame'>\n",
      "RangeIndex: 100 entries, 0 to 99\n",
      "Data columns (total 2 columns):\n",
      " #   Column  Non-Null Count  Dtype\n",
      "---  ------  --------------  -----\n",
      " 0   c       100 non-null    float32\n",
      " 1   d       100 non-null    int32\n",
      "dtypes: float32(1), int32(1)\n",
      "memory usage: 800.0 bytes\n"
     ]
    }
   ],
   "source": [
    "#print(df.dtypes)\n",
    "df.info()"
   ]
  },
  {
   "cell_type": "code",
   "execution_count": null,
   "metadata": {},
   "outputs": [],
   "source": [
    "df.shape"
   ]
  },
  {
   "cell_type": "markdown",
   "metadata": {},
   "source": [
    "Podemos modificar el tipo de data de las columnas, pasando en un cuDF Series con los tipos de datos modificados. Atento que algunos errores pueden aparecer for conversiones incoherentes - por ejemplo, cambiar un float a integer o vice versa."
   ]
  },
  {
   "cell_type": "code",
   "execution_count": 53,
   "metadata": {},
   "outputs": [
    {
     "name": "stdout",
     "output_type": "stream",
     "text": [
      "c    float32\n",
      "d      int32\n",
      "dtype: object\n"
     ]
    }
   ],
   "source": [
    "df['c'] = df['c'].astype(np.float32)\n",
    "df['d'] = df['d'].astype(np.int32)\n",
    "print(df.dtypes)\n",
    "#df.info()"
   ]
  },
  {
   "cell_type": "markdown",
   "metadata": {},
   "source": [
    "#### Series\n",
    "\n",
    "cuDF DataFrames están compuestos de filas y columnas. Cada columna está representada usando un objeto de tipo `Series`. Por ejemplo, si dividimos un DataFrame usando una sola columna, retornaremos un objeto de tipo `cudf.dataframe.series.Series`."
   ]
  },
  {
   "cell_type": "code",
   "execution_count": 54,
   "metadata": {},
   "outputs": [
    {
     "name": "stdout",
     "output_type": "stream",
     "text": [
      "<class 'cudf.core.series.Series'>\n",
      "0      0.0\n",
      "1      1.0\n",
      "2      2.0\n",
      "3      3.0\n",
      "4      4.0\n",
      "      ... \n",
      "95    95.0\n",
      "96    96.0\n",
      "97    97.0\n",
      "98    98.0\n",
      "99    99.0\n",
      "Name: c, Length: 100, dtype: float32\n"
     ]
    }
   ],
   "source": [
    "print(type(df['c']))\n",
    "print(df['c'])"
   ]
  },
  {
   "cell_type": "markdown",
   "metadata": {},
   "source": [
    "#### Index\n",
    "\n",
    "Así como los objetos `Series`, cada `DataFrame` tiene un atributo index."
   ]
  },
  {
   "cell_type": "code",
   "execution_count": 55,
   "metadata": {},
   "outputs": [
    {
     "data": {
      "text/plain": [
       "RangeIndex(start=0, stop=100, step=1)"
      ]
     },
     "execution_count": 55,
     "metadata": {},
     "output_type": "execute_result"
    }
   ],
   "source": [
    "df.index"
   ]
  },
  {
   "cell_type": "markdown",
   "metadata": {},
   "source": [
    "Podemos usar valores index para subconjuntos de `DataFrame`."
   ]
  },
  {
   "cell_type": "code",
   "execution_count": 61,
   "metadata": {},
   "outputs": [
    {
     "name": "stdout",
     "output_type": "stream",
     "text": [
      "     c    d\n",
      "0  0.0  100\n"
     ]
    }
   ],
   "source": [
    "print(df[df.index == 0])\n",
    "#df.head(1)"
   ]
  },
  {
   "cell_type": "markdown",
   "metadata": {},
   "source": [
    "#### Converting a cudf DataFrame to a Pandas DataFrame\n",
    "\n",
    "Podemos reconvertir un cuDF DataFrame a Pandas DataFrame usando el método `to_pandas`."
   ]
  },
  {
   "cell_type": "code",
   "execution_count": 63,
   "metadata": {},
   "outputs": [
    {
     "name": "stdout",
     "output_type": "stream",
     "text": [
      "<class 'pandas.core.frame.DataFrame'>\n"
     ]
    },
    {
     "data": {
      "text/html": [
       "<div>\n",
       "<style scoped>\n",
       "    .dataframe tbody tr th:only-of-type {\n",
       "        vertical-align: middle;\n",
       "    }\n",
       "\n",
       "    .dataframe tbody tr th {\n",
       "        vertical-align: top;\n",
       "    }\n",
       "\n",
       "    .dataframe thead th {\n",
       "        text-align: right;\n",
       "    }\n",
       "</style>\n",
       "<table border=\"1\" class=\"dataframe\">\n",
       "  <thead>\n",
       "    <tr style=\"text-align: right;\">\n",
       "      <th></th>\n",
       "      <th>c</th>\n",
       "      <th>d</th>\n",
       "    </tr>\n",
       "  </thead>\n",
       "  <tbody>\n",
       "    <tr>\n",
       "      <th>0</th>\n",
       "      <td>0.0</td>\n",
       "      <td>100</td>\n",
       "    </tr>\n",
       "    <tr>\n",
       "      <th>1</th>\n",
       "      <td>1.0</td>\n",
       "      <td>99</td>\n",
       "    </tr>\n",
       "    <tr>\n",
       "      <th>2</th>\n",
       "      <td>2.0</td>\n",
       "      <td>98</td>\n",
       "    </tr>\n",
       "    <tr>\n",
       "      <th>3</th>\n",
       "      <td>3.0</td>\n",
       "      <td>97</td>\n",
       "    </tr>\n",
       "    <tr>\n",
       "      <th>4</th>\n",
       "      <td>4.0</td>\n",
       "      <td>96</td>\n",
       "    </tr>\n",
       "    <tr>\n",
       "      <th>...</th>\n",
       "      <td>...</td>\n",
       "      <td>...</td>\n",
       "    </tr>\n",
       "    <tr>\n",
       "      <th>95</th>\n",
       "      <td>95.0</td>\n",
       "      <td>5</td>\n",
       "    </tr>\n",
       "    <tr>\n",
       "      <th>96</th>\n",
       "      <td>96.0</td>\n",
       "      <td>4</td>\n",
       "    </tr>\n",
       "    <tr>\n",
       "      <th>97</th>\n",
       "      <td>97.0</td>\n",
       "      <td>3</td>\n",
       "    </tr>\n",
       "    <tr>\n",
       "      <th>98</th>\n",
       "      <td>98.0</td>\n",
       "      <td>2</td>\n",
       "    </tr>\n",
       "    <tr>\n",
       "      <th>99</th>\n",
       "      <td>99.0</td>\n",
       "      <td>1</td>\n",
       "    </tr>\n",
       "  </tbody>\n",
       "</table>\n",
       "<p>100 rows × 2 columns</p>\n",
       "</div>"
      ],
      "text/plain": [
       "       c    d\n",
       "0    0.0  100\n",
       "1    1.0   99\n",
       "2    2.0   98\n",
       "3    3.0   97\n",
       "4    4.0   96\n",
       "..   ...  ...\n",
       "95  95.0    5\n",
       "96  96.0    4\n",
       "97  97.0    3\n",
       "98  98.0    2\n",
       "99  99.0    1\n",
       "\n",
       "[100 rows x 2 columns]"
      ]
     },
     "execution_count": 63,
     "metadata": {},
     "output_type": "execute_result"
    }
   ],
   "source": [
    "pandas_df = df.to_pandas()\n",
    "print(type(pandas_df))\n",
    "pandas_df"
   ]
  },
  {
   "cell_type": "markdown",
   "metadata": {},
   "source": [
    "#### Convertir un cudf DataFrame a NumPy Array\n",
    "\n",
    "Frecuentemente queremos trabajar con arreglos NumPy. Podemos convertir un cuDF DataFrame a un arreglo NumPy, conviertiéndolo primero a un Pandas DataFrame usando el método `to_pandas` y luego accediendo al atributo `values`."
   ]
  },
  {
   "cell_type": "code",
   "execution_count": 65,
   "metadata": {},
   "outputs": [
    {
     "name": "stdout",
     "output_type": "stream",
     "text": [
      "<class 'numpy.ndarray'>\n"
     ]
    }
   ],
   "source": [
    "numpy_array = df.to_pandas().values\n",
    "print(type(numpy_array))\n",
    "#numpy_array"
   ]
  },
  {
   "cell_type": "markdown",
   "metadata": {},
   "source": [
    "#### Covertir un cudf DataFrame a cualquier otro formato de Data\n",
    "\n",
    "\n",
    "Para mayor información, revisa la documentación en: https://docs.rapids.ai/api/cudf/stable/"
   ]
  },
  {
   "cell_type": "markdown",
   "metadata": {},
   "source": [
    "<a id=\"io\"></a>\n",
    "## Input/Output\n",
    "\n",
    "Antes de procesar data y usarla en modelos de machine learning, necesitamos cargarla a la memoria y poder imprimirla después de usarla/editarla. Hay varias formas de hacer esto usando cuDF."
   ]
  },
  {
   "cell_type": "markdown",
   "metadata": {},
   "source": [
    "#### Escribir y cargar CSV Files\n",
    "\n",
    "Podemos usar un cuDF DataFrame directamente de un CSV."
   ]
  },
  {
   "cell_type": "code",
   "execution_count": 66,
   "metadata": {},
   "outputs": [],
   "source": [
    "df.to_csv('./dataset.csv', index=False)"
   ]
  },
  {
   "cell_type": "markdown",
   "metadata": {},
   "source": [
    "Tal vez la forma más común de crear un cuDF DataFrames es cargando una tabla que está almacenada como archivo en el disco. cuDF nos ofrece varias funcionalidades para leer desde diferentes tipos de formatos de data. A continuación, mostraremos lo fácil que es leer un file CSV:"
   ]
  },
  {
   "cell_type": "code",
   "execution_count": 70,
   "metadata": {},
   "outputs": [
    {
     "name": "stdout",
     "output_type": "stream",
     "text": [
      "<class 'cudf.core.dataframe.DataFrame'>\n",
      "       c    d\n",
      "0    0.0  100\n",
      "1    1.0   99\n",
      "2    2.0   98\n",
      "3    3.0   97\n",
      "4    4.0   96\n",
      "..   ...  ...\n",
      "95  95.0    5\n",
      "96  96.0    4\n",
      "97  97.0    3\n",
      "98  98.0    2\n",
      "99  99.0    1\n",
      "\n",
      "[100 rows x 2 columns]\n"
     ]
    }
   ],
   "source": [
    "#df_p = pd.read_csv('./dataset.csv')\n",
    "#print(type(df_p))\n",
    "#print(df_p)\n",
    "\n",
    "df = cudf.read_csv('./dataset.csv')\n",
    "print(type(df))\n",
    "print(df)"
   ]
  },
  {
   "cell_type": "markdown",
   "metadata": {},
   "source": [
    "cuDF intenta ser lo más flexible posible, buscando la mayor semejanza a los Pandas API . Para mayor información en parámetros para trabajar con archivos, pueden revisar la documentación de cuDF IO: \n",
    "\n",
    "https://rapidsai.github.io/projects/cudf/en/stable/api.html#cudf.io.csv.read_csv"
   ]
  },
  {
   "cell_type": "markdown",
   "metadata": {},
   "source": [
    "<a id=\"cudfapi\"></a>\n",
    "## cuDF API\n",
    "\n",
    "El API de cuDF es bastante simple y similar al Pandas API. En esta sección, vamos a explorar el API de cuDF y mostrar cómo trabajar con operaciones comunes de manipulación de data."
   ]
  },
  {
   "cell_type": "markdown",
   "metadata": {},
   "source": [
    "#### Seleccionado Filas o Columnas\n",
    "\n",
    "Podemos seleccionar filas desde un cuDF DataFrame usando cortas sintaxis. "
   ]
  },
  {
   "cell_type": "code",
   "execution_count": 71,
   "metadata": {},
   "outputs": [],
   "source": [
    "df = cudf.DataFrame({'a': np.arange(0, 100).astype(np.float32), \n",
    "                     'b': np.arange(100, 0, -1).astype(np.float32)})"
   ]
  },
  {
   "cell_type": "code",
   "execution_count": 80,
   "metadata": {},
   "outputs": [
    {
     "name": "stdout",
     "output_type": "stream",
     "text": [
      "     a      b\n",
      "0  0.0  100.0\n",
      "1  1.0   99.0\n",
      "2  2.0   98.0\n",
      "3  3.0   97.0\n",
      "4  4.0   96.0\n"
     ]
    }
   ],
   "source": [
    "print(df[0:5])\n",
    "#df.head(5)\n",
    "#print(df[2:5])\n"
   ]
  },
  {
   "cell_type": "markdown",
   "metadata": {},
   "source": [
    "Hay varias maneras de seleccionar una columna desde un cuDF DataFrame."
   ]
  },
  {
   "cell_type": "code",
   "execution_count": 81,
   "metadata": {},
   "outputs": [
    {
     "name": "stdout",
     "output_type": "stream",
     "text": [
      "0      0.0\n",
      "1      1.0\n",
      "2      2.0\n",
      "3      3.0\n",
      "4      4.0\n",
      "      ... \n",
      "95    95.0\n",
      "96    96.0\n",
      "97    97.0\n",
      "98    98.0\n",
      "99    99.0\n",
      "Name: a, Length: 100, dtype: float32\n"
     ]
    }
   ],
   "source": [
    "print(df['a'])\n",
    "# print(df.a)  # alternative"
   ]
  },
  {
   "cell_type": "markdown",
   "metadata": {},
   "source": [
    "Podemos seleccionar múltiples columnas también, usando una lista de nombres de columnas."
   ]
  },
  {
   "cell_type": "code",
   "execution_count": 82,
   "metadata": {},
   "outputs": [
    {
     "name": "stdout",
     "output_type": "stream",
     "text": [
      "       a      b\n",
      "0    0.0  100.0\n",
      "1    1.0   99.0\n",
      "2    2.0   98.0\n",
      "3    3.0   97.0\n",
      "4    4.0   96.0\n",
      "..   ...    ...\n",
      "95  95.0    5.0\n",
      "96  96.0    4.0\n",
      "97  97.0    3.0\n",
      "98  98.0    2.0\n",
      "99  99.0    1.0\n",
      "\n",
      "[100 rows x 2 columns]\n"
     ]
    }
   ],
   "source": [
    "print(df[['a', 'b']])"
   ]
  },
  {
   "cell_type": "markdown",
   "metadata": {},
   "source": [
    "Podemos también seleccionar filasy columnas específicas."
   ]
  },
  {
   "cell_type": "code",
   "execution_count": 85,
   "metadata": {},
   "outputs": [
    {
     "name": "stdout",
     "output_type": "stream",
     "text": [
      "     a\n",
      "0  0.0\n",
      "1  1.0\n",
      "2  2.0\n",
      "3  3.0\n",
      "4  4.0\n",
      "5  5.0\n"
     ]
    }
   ],
   "source": [
    "print(df.loc[0:5, ['a']])\n",
    "# print(df.loc[0:5, ['a', 'b']])  # para seleccionar múltiples columnas, añade múltiples nombres de columnas"
   ]
  },
  {
   "cell_type": "markdown",
   "metadata": {},
   "source": [
    "#### Definiendo nuevas Columnas\n"
   ]
  },
  {
   "cell_type": "code",
   "execution_count": 87,
   "metadata": {},
   "outputs": [
    {
     "data": {
      "text/html": [
       "<div>\n",
       "<style scoped>\n",
       "    .dataframe tbody tr th:only-of-type {\n",
       "        vertical-align: middle;\n",
       "    }\n",
       "\n",
       "    .dataframe tbody tr th {\n",
       "        vertical-align: top;\n",
       "    }\n",
       "\n",
       "    .dataframe thead th {\n",
       "        text-align: right;\n",
       "    }\n",
       "</style>\n",
       "<table border=\"1\" class=\"dataframe\">\n",
       "  <thead>\n",
       "    <tr style=\"text-align: right;\">\n",
       "      <th></th>\n",
       "      <th>a</th>\n",
       "      <th>b</th>\n",
       "      <th>c</th>\n",
       "    </tr>\n",
       "  </thead>\n",
       "  <tbody>\n",
       "    <tr>\n",
       "      <th>0</th>\n",
       "      <td>0.0</td>\n",
       "      <td>100.0</td>\n",
       "      <td>100.0</td>\n",
       "    </tr>\n",
       "    <tr>\n",
       "      <th>1</th>\n",
       "      <td>1.0</td>\n",
       "      <td>99.0</td>\n",
       "      <td>101.0</td>\n",
       "    </tr>\n",
       "    <tr>\n",
       "      <th>2</th>\n",
       "      <td>2.0</td>\n",
       "      <td>98.0</td>\n",
       "      <td>102.0</td>\n",
       "    </tr>\n",
       "    <tr>\n",
       "      <th>3</th>\n",
       "      <td>3.0</td>\n",
       "      <td>97.0</td>\n",
       "      <td>103.0</td>\n",
       "    </tr>\n",
       "    <tr>\n",
       "      <th>4</th>\n",
       "      <td>4.0</td>\n",
       "      <td>96.0</td>\n",
       "      <td>104.0</td>\n",
       "    </tr>\n",
       "    <tr>\n",
       "      <th>...</th>\n",
       "      <td>...</td>\n",
       "      <td>...</td>\n",
       "      <td>...</td>\n",
       "    </tr>\n",
       "    <tr>\n",
       "      <th>95</th>\n",
       "      <td>95.0</td>\n",
       "      <td>5.0</td>\n",
       "      <td>195.0</td>\n",
       "    </tr>\n",
       "    <tr>\n",
       "      <th>96</th>\n",
       "      <td>96.0</td>\n",
       "      <td>4.0</td>\n",
       "      <td>196.0</td>\n",
       "    </tr>\n",
       "    <tr>\n",
       "      <th>97</th>\n",
       "      <td>97.0</td>\n",
       "      <td>3.0</td>\n",
       "      <td>197.0</td>\n",
       "    </tr>\n",
       "    <tr>\n",
       "      <th>98</th>\n",
       "      <td>98.0</td>\n",
       "      <td>2.0</td>\n",
       "      <td>198.0</td>\n",
       "    </tr>\n",
       "    <tr>\n",
       "      <th>99</th>\n",
       "      <td>99.0</td>\n",
       "      <td>1.0</td>\n",
       "      <td>199.0</td>\n",
       "    </tr>\n",
       "  </tbody>\n",
       "</table>\n",
       "<p>100 rows × 3 columns</p>\n",
       "</div>"
      ],
      "text/plain": [
       "       a      b      c\n",
       "0    0.0  100.0  100.0\n",
       "1    1.0   99.0  101.0\n",
       "2    2.0   98.0  102.0\n",
       "3    3.0   97.0  103.0\n",
       "4    4.0   96.0  104.0\n",
       "..   ...    ...    ...\n",
       "95  95.0    5.0  195.0\n",
       "96  96.0    4.0  196.0\n",
       "97  97.0    3.0  197.0\n",
       "98  98.0    2.0  198.0\n",
       "99  99.0    1.0  199.0\n",
       "\n",
       "[100 rows x 3 columns]"
      ]
     },
     "execution_count": 87,
     "metadata": {},
     "output_type": "execute_result"
    }
   ],
   "source": [
    "df = cudf.DataFrame({'a': np.arange(0, 100).astype(np.float32), \n",
    "                     'b': np.arange(100, 0, -1).astype(np.float32), \n",
    "                     'c': np.arange(100, 200).astype(np.float32)})\n",
    "df"
   ]
  },
  {
   "cell_type": "code",
   "execution_count": 97,
   "metadata": {},
   "outputs": [
    {
     "name": "stdout",
     "output_type": "stream",
     "text": [
      "       a      b      c      d\n",
      "0    0.0  100.0  100.0  200.0\n",
      "1    1.0   99.0  101.0  201.0\n",
      "2    2.0   98.0  102.0  202.0\n",
      "3    3.0   97.0  103.0  203.0\n",
      "4    4.0   96.0  104.0  204.0\n",
      "..   ...    ...    ...    ...\n",
      "95  95.0    5.0  195.0  295.0\n",
      "96  96.0    4.0  196.0  296.0\n",
      "97  97.0    3.0  197.0  297.0\n",
      "98  98.0    2.0  198.0  298.0\n",
      "99  99.0    1.0  199.0  299.0\n",
      "\n",
      "[100 rows x 4 columns]\n",
      "<class 'cudf.core.dataframe.DataFrame'>\n",
      "RangeIndex: 100 entries, 0 to 99\n",
      "Data columns (total 4 columns):\n",
      " #   Column  Non-Null Count  Dtype\n",
      "---  ------  --------------  -----\n",
      " 0   a       100 non-null    float32\n",
      " 1   b       100 non-null    float32\n",
      " 2   c       100 non-null    float32\n",
      " 3   d       100 non-null    float32\n",
      "dtypes: float32(4)\n",
      "memory usage: 1.6 KB\n",
      "None\n"
     ]
    }
   ],
   "source": [
    "df['d'] = np.arange(200, 300).astype(np.float32)\n",
    "# df['d'] = np.arange(200, 300).astype(np.float64)\n",
    "\n",
    "print(df)\n",
    "print(df.info())"
   ]
  },
  {
   "cell_type": "markdown",
   "metadata": {},
   "source": [
    "#### Suprimir Columnas\n",
    "\n",
    "Podemos querer borrar columnas de nuestro `DataFrame`. Podemos hacerlo usando el método `drop_column`. Vale remarcar que este método borra la columna in-place - lo que significa que el `DataFrame` donde operamos, se verá modificado."
   ]
  },
  {
   "cell_type": "code",
   "execution_count": 107,
   "metadata": {},
   "outputs": [
    {
     "data": {
      "text/html": [
       "<div>\n",
       "<style scoped>\n",
       "    .dataframe tbody tr th:only-of-type {\n",
       "        vertical-align: middle;\n",
       "    }\n",
       "\n",
       "    .dataframe tbody tr th {\n",
       "        vertical-align: top;\n",
       "    }\n",
       "\n",
       "    .dataframe thead th {\n",
       "        text-align: right;\n",
       "    }\n",
       "</style>\n",
       "<table border=\"1\" class=\"dataframe\">\n",
       "  <thead>\n",
       "    <tr style=\"text-align: right;\">\n",
       "      <th></th>\n",
       "      <th>a</th>\n",
       "      <th>b</th>\n",
       "      <th>c</th>\n",
       "    </tr>\n",
       "  </thead>\n",
       "  <tbody>\n",
       "    <tr>\n",
       "      <th>0</th>\n",
       "      <td>0.0</td>\n",
       "      <td>100.0</td>\n",
       "      <td>100.0</td>\n",
       "    </tr>\n",
       "    <tr>\n",
       "      <th>1</th>\n",
       "      <td>1.0</td>\n",
       "      <td>99.0</td>\n",
       "      <td>101.0</td>\n",
       "    </tr>\n",
       "    <tr>\n",
       "      <th>2</th>\n",
       "      <td>2.0</td>\n",
       "      <td>98.0</td>\n",
       "      <td>102.0</td>\n",
       "    </tr>\n",
       "    <tr>\n",
       "      <th>3</th>\n",
       "      <td>3.0</td>\n",
       "      <td>97.0</td>\n",
       "      <td>103.0</td>\n",
       "    </tr>\n",
       "    <tr>\n",
       "      <th>4</th>\n",
       "      <td>4.0</td>\n",
       "      <td>96.0</td>\n",
       "      <td>104.0</td>\n",
       "    </tr>\n",
       "    <tr>\n",
       "      <th>...</th>\n",
       "      <td>...</td>\n",
       "      <td>...</td>\n",
       "      <td>...</td>\n",
       "    </tr>\n",
       "    <tr>\n",
       "      <th>95</th>\n",
       "      <td>95.0</td>\n",
       "      <td>5.0</td>\n",
       "      <td>195.0</td>\n",
       "    </tr>\n",
       "    <tr>\n",
       "      <th>96</th>\n",
       "      <td>96.0</td>\n",
       "      <td>4.0</td>\n",
       "      <td>196.0</td>\n",
       "    </tr>\n",
       "    <tr>\n",
       "      <th>97</th>\n",
       "      <td>97.0</td>\n",
       "      <td>3.0</td>\n",
       "      <td>197.0</td>\n",
       "    </tr>\n",
       "    <tr>\n",
       "      <th>98</th>\n",
       "      <td>98.0</td>\n",
       "      <td>2.0</td>\n",
       "      <td>198.0</td>\n",
       "    </tr>\n",
       "    <tr>\n",
       "      <th>99</th>\n",
       "      <td>99.0</td>\n",
       "      <td>1.0</td>\n",
       "      <td>199.0</td>\n",
       "    </tr>\n",
       "  </tbody>\n",
       "</table>\n",
       "<p>100 rows × 3 columns</p>\n",
       "</div>"
      ],
      "text/plain": [
       "       a      b      c\n",
       "0    0.0  100.0  100.0\n",
       "1    1.0   99.0  101.0\n",
       "2    2.0   98.0  102.0\n",
       "3    3.0   97.0  103.0\n",
       "4    4.0   96.0  104.0\n",
       "..   ...    ...    ...\n",
       "95  95.0    5.0  195.0\n",
       "96  96.0    4.0  196.0\n",
       "97  97.0    3.0  197.0\n",
       "98  98.0    2.0  198.0\n",
       "99  99.0    1.0  199.0\n",
       "\n",
       "[100 rows x 3 columns]"
      ]
     },
     "execution_count": 107,
     "metadata": {},
     "output_type": "execute_result"
    }
   ],
   "source": [
    "df = cudf.DataFrame({'a': np.arange(0, 100).astype(np.float32), \n",
    "                     'b': np.arange(100, 0, -1).astype(np.float32), \n",
    "                     'c': np.arange(100, 200).astype(np.float32)})\n",
    "df"
   ]
  },
  {
   "cell_type": "code",
   "execution_count": 108,
   "metadata": {},
   "outputs": [
    {
     "name": "stdout",
     "output_type": "stream",
     "text": [
      "        b      c\n",
      "0   100.0  100.0\n",
      "1    99.0  101.0\n",
      "2    98.0  102.0\n",
      "3    97.0  103.0\n",
      "4    96.0  104.0\n",
      "..    ...    ...\n",
      "95    5.0  195.0\n",
      "96    4.0  196.0\n",
      "97    3.0  197.0\n",
      "98    2.0  198.0\n",
      "99    1.0  199.0\n",
      "\n",
      "[100 rows x 2 columns]\n"
     ]
    }
   ],
   "source": [
    "df.drop(columns=['a'], inplace=True)\n",
    "print(df)"
   ]
  },
  {
   "cell_type": "markdown",
   "metadata": {},
   "source": [
    "Si queremos borrar una columnas sin modificar el DataFrame original, podemos usar el método `drop`. Este método retornará un nuevo DataFrame sin la columna o columnas eliminadas."
   ]
  },
  {
   "cell_type": "code",
   "execution_count": 109,
   "metadata": {},
   "outputs": [],
   "source": [
    "df = cudf.DataFrame({'a': np.arange(0, 100).astype(np.float32), \n",
    "                     'b': np.arange(100, 0, -1).astype(np.float32), \n",
    "                     'c': np.arange(100, 200).astype(np.float32)})"
   ]
  },
  {
   "cell_type": "code",
   "execution_count": 110,
   "metadata": {},
   "outputs": [
    {
     "name": "stdout",
     "output_type": "stream",
     "text": [
      "Original DataFrame:\n",
      "       a      b      c\n",
      "0    0.0  100.0  100.0\n",
      "1    1.0   99.0  101.0\n",
      "2    2.0   98.0  102.0\n",
      "3    3.0   97.0  103.0\n",
      "4    4.0   96.0  104.0\n",
      "..   ...    ...    ...\n",
      "95  95.0    5.0  195.0\n",
      "96  96.0    4.0  196.0\n",
      "97  97.0    3.0  197.0\n",
      "98  98.0    2.0  198.0\n",
      "99  99.0    1.0  199.0\n",
      "\n",
      "[100 rows x 3 columns]\n",
      "----------------------\n",
      "New DataFrame:\n",
      "        b      c\n",
      "0   100.0  100.0\n",
      "1    99.0  101.0\n",
      "2    98.0  102.0\n",
      "3    97.0  103.0\n",
      "4    96.0  104.0\n",
      "..    ...    ...\n",
      "95    5.0  195.0\n",
      "96    4.0  196.0\n",
      "97    3.0  197.0\n",
      "98    2.0  198.0\n",
      "99    1.0  199.0\n",
      "\n",
      "[100 rows x 2 columns]\n"
     ]
    }
   ],
   "source": [
    "new_df = df.drop(columns=['a'])\n",
    "\n",
    "print('Original DataFrame:')\n",
    "print(df)\n",
    "print(22 * '-')\n",
    "print('New DataFrame:')\n",
    "print(new_df)"
   ]
  },
  {
   "cell_type": "markdown",
   "metadata": {},
   "source": [
    "Podemos incluso, pasar una lista de nombres de columna a borrar."
   ]
  },
  {
   "cell_type": "code",
   "execution_count": 111,
   "metadata": {},
   "outputs": [
    {
     "name": "stdout",
     "output_type": "stream",
     "text": [
      "Original DataFrame:\n",
      "       a      b      c\n",
      "0    0.0  100.0  100.0\n",
      "1    1.0   99.0  101.0\n",
      "2    2.0   98.0  102.0\n",
      "3    3.0   97.0  103.0\n",
      "4    4.0   96.0  104.0\n",
      "..   ...    ...    ...\n",
      "95  95.0    5.0  195.0\n",
      "96  96.0    4.0  196.0\n",
      "97  97.0    3.0  197.0\n",
      "98  98.0    2.0  198.0\n",
      "99  99.0    1.0  199.0\n",
      "\n",
      "[100 rows x 3 columns]\n",
      "----------------------\n",
      "New DataFrame:\n",
      "        c\n",
      "0   100.0\n",
      "1   101.0\n",
      "2   102.0\n",
      "3   103.0\n",
      "4   104.0\n",
      "..    ...\n",
      "95  195.0\n",
      "96  196.0\n",
      "97  197.0\n",
      "98  198.0\n",
      "99  199.0\n",
      "\n",
      "[100 rows x 1 columns]\n"
     ]
    }
   ],
   "source": [
    "new_df = df.drop(columns=['a', 'b'])\n",
    "\n",
    "print('Original DataFrame:')\n",
    "print(df)\n",
    "print(22 * '-')\n",
    "print('New DataFrame:')\n",
    "print(new_df)"
   ]
  },
  {
   "cell_type": "markdown",
   "metadata": {},
   "source": [
    "#### Data Incompleta\n",
    "\n",
    "A veces la data que tenemos no está limpia como quisiéramos - es común tener valores errados o incluso incompletos. cuDF DataFrames puede presentar data incompleta usando el keyword de Python `None`."
   ]
  },
  {
   "cell_type": "code",
   "execution_count": 112,
   "metadata": {},
   "outputs": [
    {
     "name": "stdout",
     "output_type": "stream",
     "text": [
      "       a     b     c\n",
      "0      0   0.0   0.0\n",
      "1   <NA>   0.1   0.1\n",
      "2      2   0.2  <NA>\n",
      "3      3  <NA>  <NA>\n",
      "4      4   0.4   0.4\n",
      "5      5   0.5   0.5\n",
      "6      6   0.6  <NA>\n",
      "7      7   0.7   0.7\n",
      "8      8   0.8   0.8\n",
      "9   <NA>   0.9   0.9\n",
      "10    10   1.0   1.0\n"
     ]
    }
   ],
   "source": [
    "df = cudf.DataFrame({'a': [0, None, 2, 3, 4, 5, 6, 7, 8, None, 10],\n",
    "                     'b': [0.0, 0.1, 0.2, None, 0.4, 0.5, 0.6, 0.7, 0.8, 0.9, 1.0], \n",
    "                     'c': [0.0, 0.1, None, None, 0.4, 0.5, None, 0.7, 0.8, 0.9, 1.0]})\n",
    "print(df)"
   ]
  },
  {
   "cell_type": "markdown",
   "metadata": {},
   "source": [
    "También podemos completar estos valores incompletos usando otto método: `fillna`. Ambos objetos `Series` y `DataFrame`, implementan este método."
   ]
  },
  {
   "cell_type": "code",
   "execution_count": 113,
   "metadata": {},
   "outputs": [
    {
     "name": "stdout",
     "output_type": "stream",
     "text": [
      "       a     b      c\n",
      "0      0   0.0    0.0\n",
      "1   <NA>   0.1    0.1\n",
      "2      2   0.2  999.0\n",
      "3      3  <NA>  999.0\n",
      "4      4   0.4    0.4\n",
      "5      5   0.5    0.5\n",
      "6      6   0.6  999.0\n",
      "7      7   0.7    0.7\n",
      "8      8   0.8    0.8\n",
      "9   <NA>   0.9    0.9\n",
      "10    10   1.0    1.0\n"
     ]
    }
   ],
   "source": [
    "df['c'] = df['c'].fillna(999)\n",
    "print(df)"
   ]
  },
  {
   "cell_type": "code",
   "execution_count": 114,
   "metadata": {},
   "outputs": [
    {
     "name": "stdout",
     "output_type": "stream",
     "text": [
      "     a    b      c\n",
      "0    0  0.0    0.0\n",
      "1   -1  0.1    0.1\n",
      "2    2  0.2  999.0\n",
      "3    3 -1.0  999.0\n",
      "4    4  0.4    0.4\n",
      "5    5  0.5    0.5\n",
      "6    6  0.6  999.0\n",
      "7    7  0.7    0.7\n",
      "8    8  0.8    0.8\n",
      "9   -1  0.9    0.9\n",
      "10  10  1.0    1.0\n"
     ]
    }
   ],
   "source": [
    "new_df = df.fillna(-1)\n",
    "print(new_df)"
   ]
  },
  {
   "cell_type": "markdown",
   "metadata": {},
   "source": [
    "#### Boolean Indexing\n",
    "\n",
    "Al inicio, hemos podido observar cómo podemos seleccionar ciertas filas de nuestro dataset, usando la notación brackets `[]`. Sin embargo, podríamos querer seleccionar filas bajo cierto criterio - esto se llama boolean indexing. Podemos combinar la notación indexing con un arreglo de valores booleanos, para seleccionar ciertas filas que coincidan con este criterio."
   ]
  },
  {
   "cell_type": "code",
   "execution_count": 115,
   "metadata": {},
   "outputs": [
    {
     "data": {
      "text/html": [
       "<div>\n",
       "<style scoped>\n",
       "    .dataframe tbody tr th:only-of-type {\n",
       "        vertical-align: middle;\n",
       "    }\n",
       "\n",
       "    .dataframe tbody tr th {\n",
       "        vertical-align: top;\n",
       "    }\n",
       "\n",
       "    .dataframe thead th {\n",
       "        text-align: right;\n",
       "    }\n",
       "</style>\n",
       "<table border=\"1\" class=\"dataframe\">\n",
       "  <thead>\n",
       "    <tr style=\"text-align: right;\">\n",
       "      <th></th>\n",
       "      <th>a</th>\n",
       "      <th>b</th>\n",
       "      <th>c</th>\n",
       "      <th>d</th>\n",
       "    </tr>\n",
       "  </thead>\n",
       "  <tbody>\n",
       "    <tr>\n",
       "      <th>0</th>\n",
       "      <td>0</td>\n",
       "      <td>0</td>\n",
       "      <td>0</td>\n",
       "      <td>100</td>\n",
       "    </tr>\n",
       "    <tr>\n",
       "      <th>1</th>\n",
       "      <td>0</td>\n",
       "      <td>1</td>\n",
       "      <td>1</td>\n",
       "      <td>99</td>\n",
       "    </tr>\n",
       "    <tr>\n",
       "      <th>2</th>\n",
       "      <td>0</td>\n",
       "      <td>1</td>\n",
       "      <td>2</td>\n",
       "      <td>98</td>\n",
       "    </tr>\n",
       "    <tr>\n",
       "      <th>3</th>\n",
       "      <td>0</td>\n",
       "      <td>0</td>\n",
       "      <td>3</td>\n",
       "      <td>97</td>\n",
       "    </tr>\n",
       "    <tr>\n",
       "      <th>4</th>\n",
       "      <td>0</td>\n",
       "      <td>1</td>\n",
       "      <td>4</td>\n",
       "      <td>96</td>\n",
       "    </tr>\n",
       "    <tr>\n",
       "      <th>...</th>\n",
       "      <td>...</td>\n",
       "      <td>...</td>\n",
       "      <td>...</td>\n",
       "      <td>...</td>\n",
       "    </tr>\n",
       "    <tr>\n",
       "      <th>95</th>\n",
       "      <td>3</td>\n",
       "      <td>1</td>\n",
       "      <td>95</td>\n",
       "      <td>5</td>\n",
       "    </tr>\n",
       "    <tr>\n",
       "      <th>96</th>\n",
       "      <td>3</td>\n",
       "      <td>1</td>\n",
       "      <td>96</td>\n",
       "      <td>4</td>\n",
       "    </tr>\n",
       "    <tr>\n",
       "      <th>97</th>\n",
       "      <td>3</td>\n",
       "      <td>0</td>\n",
       "      <td>97</td>\n",
       "      <td>3</td>\n",
       "    </tr>\n",
       "    <tr>\n",
       "      <th>98</th>\n",
       "      <td>3</td>\n",
       "      <td>0</td>\n",
       "      <td>98</td>\n",
       "      <td>2</td>\n",
       "    </tr>\n",
       "    <tr>\n",
       "      <th>99</th>\n",
       "      <td>3</td>\n",
       "      <td>0</td>\n",
       "      <td>99</td>\n",
       "      <td>1</td>\n",
       "    </tr>\n",
       "  </tbody>\n",
       "</table>\n",
       "<p>100 rows × 4 columns</p>\n",
       "</div>"
      ],
      "text/plain": [
       "    a  b   c    d\n",
       "0   0  0   0  100\n",
       "1   0  1   1   99\n",
       "2   0  1   2   98\n",
       "3   0  0   3   97\n",
       "4   0  1   4   96\n",
       ".. .. ..  ..  ...\n",
       "95  3  1  95    5\n",
       "96  3  1  96    4\n",
       "97  3  0  97    3\n",
       "98  3  0  98    2\n",
       "99  3  0  99    1\n",
       "\n",
       "[100 rows x 4 columns]"
      ]
     },
     "execution_count": 115,
     "metadata": {},
     "output_type": "execute_result"
    }
   ],
   "source": [
    "df = cudf.DataFrame({'a': np.repeat([0, 1, 2, 3], 25).astype(np.int32), \n",
    "                     'b': np.random.randint(2, size=100).astype(np.int32), \n",
    "                     'c': np.arange(0, 100).astype(np.int32), \n",
    "                     'd': np.arange(100, 0, -1).astype(np.int32)})\n",
    "df"
   ]
  },
  {
   "cell_type": "code",
   "execution_count": 119,
   "metadata": {},
   "outputs": [
    {
     "data": {
      "text/html": [
       "<div>\n",
       "<style scoped>\n",
       "    .dataframe tbody tr th:only-of-type {\n",
       "        vertical-align: middle;\n",
       "    }\n",
       "\n",
       "    .dataframe tbody tr th {\n",
       "        vertical-align: top;\n",
       "    }\n",
       "\n",
       "    .dataframe thead th {\n",
       "        text-align: right;\n",
       "    }\n",
       "</style>\n",
       "<table border=\"1\" class=\"dataframe\">\n",
       "  <thead>\n",
       "    <tr style=\"text-align: right;\">\n",
       "      <th></th>\n",
       "      <th>a</th>\n",
       "      <th>b</th>\n",
       "      <th>c</th>\n",
       "      <th>d</th>\n",
       "    </tr>\n",
       "  </thead>\n",
       "  <tbody>\n",
       "    <tr>\n",
       "      <th>75</th>\n",
       "      <td>3</td>\n",
       "      <td>0</td>\n",
       "      <td>75</td>\n",
       "      <td>25</td>\n",
       "    </tr>\n",
       "    <tr>\n",
       "      <th>76</th>\n",
       "      <td>3</td>\n",
       "      <td>1</td>\n",
       "      <td>76</td>\n",
       "      <td>24</td>\n",
       "    </tr>\n",
       "    <tr>\n",
       "      <th>77</th>\n",
       "      <td>3</td>\n",
       "      <td>1</td>\n",
       "      <td>77</td>\n",
       "      <td>23</td>\n",
       "    </tr>\n",
       "    <tr>\n",
       "      <th>78</th>\n",
       "      <td>3</td>\n",
       "      <td>1</td>\n",
       "      <td>78</td>\n",
       "      <td>22</td>\n",
       "    </tr>\n",
       "    <tr>\n",
       "      <th>79</th>\n",
       "      <td>3</td>\n",
       "      <td>1</td>\n",
       "      <td>79</td>\n",
       "      <td>21</td>\n",
       "    </tr>\n",
       "    <tr>\n",
       "      <th>80</th>\n",
       "      <td>3</td>\n",
       "      <td>0</td>\n",
       "      <td>80</td>\n",
       "      <td>20</td>\n",
       "    </tr>\n",
       "    <tr>\n",
       "      <th>81</th>\n",
       "      <td>3</td>\n",
       "      <td>0</td>\n",
       "      <td>81</td>\n",
       "      <td>19</td>\n",
       "    </tr>\n",
       "    <tr>\n",
       "      <th>82</th>\n",
       "      <td>3</td>\n",
       "      <td>1</td>\n",
       "      <td>82</td>\n",
       "      <td>18</td>\n",
       "    </tr>\n",
       "    <tr>\n",
       "      <th>83</th>\n",
       "      <td>3</td>\n",
       "      <td>0</td>\n",
       "      <td>83</td>\n",
       "      <td>17</td>\n",
       "    </tr>\n",
       "    <tr>\n",
       "      <th>84</th>\n",
       "      <td>3</td>\n",
       "      <td>1</td>\n",
       "      <td>84</td>\n",
       "      <td>16</td>\n",
       "    </tr>\n",
       "    <tr>\n",
       "      <th>85</th>\n",
       "      <td>3</td>\n",
       "      <td>0</td>\n",
       "      <td>85</td>\n",
       "      <td>15</td>\n",
       "    </tr>\n",
       "    <tr>\n",
       "      <th>86</th>\n",
       "      <td>3</td>\n",
       "      <td>1</td>\n",
       "      <td>86</td>\n",
       "      <td>14</td>\n",
       "    </tr>\n",
       "    <tr>\n",
       "      <th>87</th>\n",
       "      <td>3</td>\n",
       "      <td>0</td>\n",
       "      <td>87</td>\n",
       "      <td>13</td>\n",
       "    </tr>\n",
       "    <tr>\n",
       "      <th>88</th>\n",
       "      <td>3</td>\n",
       "      <td>0</td>\n",
       "      <td>88</td>\n",
       "      <td>12</td>\n",
       "    </tr>\n",
       "    <tr>\n",
       "      <th>89</th>\n",
       "      <td>3</td>\n",
       "      <td>1</td>\n",
       "      <td>89</td>\n",
       "      <td>11</td>\n",
       "    </tr>\n",
       "    <tr>\n",
       "      <th>90</th>\n",
       "      <td>3</td>\n",
       "      <td>0</td>\n",
       "      <td>90</td>\n",
       "      <td>10</td>\n",
       "    </tr>\n",
       "    <tr>\n",
       "      <th>91</th>\n",
       "      <td>3</td>\n",
       "      <td>0</td>\n",
       "      <td>91</td>\n",
       "      <td>9</td>\n",
       "    </tr>\n",
       "    <tr>\n",
       "      <th>92</th>\n",
       "      <td>3</td>\n",
       "      <td>1</td>\n",
       "      <td>92</td>\n",
       "      <td>8</td>\n",
       "    </tr>\n",
       "    <tr>\n",
       "      <th>93</th>\n",
       "      <td>3</td>\n",
       "      <td>0</td>\n",
       "      <td>93</td>\n",
       "      <td>7</td>\n",
       "    </tr>\n",
       "    <tr>\n",
       "      <th>94</th>\n",
       "      <td>3</td>\n",
       "      <td>1</td>\n",
       "      <td>94</td>\n",
       "      <td>6</td>\n",
       "    </tr>\n",
       "    <tr>\n",
       "      <th>95</th>\n",
       "      <td>3</td>\n",
       "      <td>1</td>\n",
       "      <td>95</td>\n",
       "      <td>5</td>\n",
       "    </tr>\n",
       "    <tr>\n",
       "      <th>96</th>\n",
       "      <td>3</td>\n",
       "      <td>1</td>\n",
       "      <td>96</td>\n",
       "      <td>4</td>\n",
       "    </tr>\n",
       "    <tr>\n",
       "      <th>97</th>\n",
       "      <td>3</td>\n",
       "      <td>0</td>\n",
       "      <td>97</td>\n",
       "      <td>3</td>\n",
       "    </tr>\n",
       "    <tr>\n",
       "      <th>98</th>\n",
       "      <td>3</td>\n",
       "      <td>0</td>\n",
       "      <td>98</td>\n",
       "      <td>2</td>\n",
       "    </tr>\n",
       "    <tr>\n",
       "      <th>99</th>\n",
       "      <td>3</td>\n",
       "      <td>0</td>\n",
       "      <td>99</td>\n",
       "      <td>1</td>\n",
       "    </tr>\n",
       "  </tbody>\n",
       "</table>\n",
       "</div>"
      ],
      "text/plain": [
       "    a  b   c   d\n",
       "75  3  0  75  25\n",
       "76  3  1  76  24\n",
       "77  3  1  77  23\n",
       "78  3  1  78  22\n",
       "79  3  1  79  21\n",
       "80  3  0  80  20\n",
       "81  3  0  81  19\n",
       "82  3  1  82  18\n",
       "83  3  0  83  17\n",
       "84  3  1  84  16\n",
       "85  3  0  85  15\n",
       "86  3  1  86  14\n",
       "87  3  0  87  13\n",
       "88  3  0  88  12\n",
       "89  3  1  89  11\n",
       "90  3  0  90  10\n",
       "91  3  0  91   9\n",
       "92  3  1  92   8\n",
       "93  3  0  93   7\n",
       "94  3  1  94   6\n",
       "95  3  1  95   5\n",
       "96  3  1  96   4\n",
       "97  3  0  97   3\n",
       "98  3  0  98   2\n",
       "99  3  0  99   1"
      ]
     },
     "execution_count": 119,
     "metadata": {},
     "output_type": "execute_result"
    }
   ],
   "source": [
    "mask = df['a'] == 3\n",
    "# mask = df['a'] == 0\n",
    "df[mask]"
   ]
  },
  {
   "cell_type": "markdown",
   "metadata": {},
   "source": [
    "#### Almacenando Data\n",
    "\n",
    "La Data frecuentemente no está ordenada antes de trabajar con ella. Ordenar la data es bastante útil para optimizar operaciones como joins y agregaciones, especialmente cuando la data es distribuida.\n",
    "\n",
    "Podemos ordenar la data en cuDF usando el método `sort_values` y asignando a cada columna el criterio de orden."
   ]
  },
  {
   "cell_type": "code",
   "execution_count": 120,
   "metadata": {},
   "outputs": [
    {
     "name": "stdout",
     "output_type": "stream",
     "text": [
      "   a  b  c    d\n",
      "0  0  1  0  100\n",
      "1  0  1  1   99\n",
      "2  0  1  2   98\n",
      "3  0  0  3   97\n",
      "4  0  0  4   96\n"
     ]
    }
   ],
   "source": [
    "df = cudf.DataFrame({'a': np.repeat([0, 1, 2, 3], 25).astype(np.int32), \n",
    "                     'b': np.random.randint(2, size=100).astype(np.int32), \n",
    "                     'c': np.arange(0, 100).astype(np.int32), \n",
    "                     'd': np.arange(100, 0, -1).astype(np.int32)})\n",
    "print(df.head())"
   ]
  },
  {
   "cell_type": "code",
   "execution_count": 121,
   "metadata": {},
   "outputs": [
    {
     "name": "stdout",
     "output_type": "stream",
     "text": [
      "    a  b   c  d\n",
      "99  3  0  99  1\n",
      "98  3  1  98  2\n",
      "97  3  1  97  3\n",
      "96  3  1  96  4\n",
      "95  3  1  95  5\n"
     ]
    }
   ],
   "source": [
    "print(df.sort_values('d').head())"
   ]
  },
  {
   "cell_type": "markdown",
   "metadata": {},
   "source": [
    "Podemos además especificar si la columna que estamos ordenando, debería ser ordenada de forma ascendente o descendente usando el argumento `ascending` con `True` o `False` según queramos."
   ]
  },
  {
   "cell_type": "code",
   "execution_count": 124,
   "metadata": {},
   "outputs": [
    {
     "name": "stdout",
     "output_type": "stream",
     "text": [
      "    a  b   c  d\n",
      "99  3  0  99  1\n",
      "98  3  1  98  2\n",
      "97  3  1  97  3\n",
      "96  3  1  96  4\n",
      "95  3  1  95  5\n"
     ]
    }
   ],
   "source": [
    "#print(df.sort_values('c', ascending=True).head())\n",
    "print(df.sort_values('c', ascending=False).head())"
   ]
  },
  {
   "cell_type": "markdown",
   "metadata": {},
   "source": [
    "Podemos ordenar múltiples columnas usando una lista de nombres de columnas."
   ]
  },
  {
   "cell_type": "code",
   "execution_count": 125,
   "metadata": {},
   "outputs": [
    {
     "name": "stdout",
     "output_type": "stream",
     "text": [
      "    a  b   c   d\n",
      "3   0  0   3  97\n",
      "4   0  0   4  96\n",
      "7   0  0   7  93\n",
      "8   0  0   8  92\n",
      "10  0  0  10  90\n"
     ]
    }
   ],
   "source": [
    "print(df.sort_values(['a', 'b']).head())"
   ]
  },
  {
   "cell_type": "markdown",
   "metadata": {},
   "source": [
    "Podemos además ser específicos con aquellas columnas que deben ser ordenadas, de forma ascendente o descendente, usando una lista de valores booleanos, donde cada uno mapea una columna respectivamente."
   ]
  },
  {
   "cell_type": "code",
   "execution_count": 126,
   "metadata": {},
   "outputs": [
    {
     "name": "stdout",
     "output_type": "stream",
     "text": [
      "Sort with all columns specified descending:\n",
      "    a  b   c   d\n",
      "75  3  1  75  25\n",
      "78  3  1  78  22\n",
      "80  3  1  80  20\n",
      "82  3  1  82  18\n",
      "87  3  1  87  13\n",
      "--------------------------------------------\n",
      "Sort with both a descending and b ascending:\n",
      "    a  b   c   d\n",
      "76  3  0  76  24\n",
      "77  3  0  77  23\n",
      "79  3  0  79  21\n",
      "81  3  0  81  19\n",
      "83  3  0  83  17\n"
     ]
    },
    {
     "name": "stderr",
     "output_type": "stream",
     "text": [
      "/opt/conda-environments/rapids-stable/lib/python3.8/site-packages/cudf/core/frame.py:2560: UserWarning: When using a sequence of booleans for `ascending`, `na_position` flag is not yet supported and defaults to treating nulls as greater than all numbers\n",
      "  warnings.warn(\n"
     ]
    }
   ],
   "source": [
    "print('Sort with all columns specified descending:')\n",
    "print(df.sort_values(['a', 'b'], ascending=False).head())\n",
    "print(44 * '-')\n",
    "print('Sort with both a descending and b ascending:')\n",
    "print(df.sort_values(['a', 'b'], ascending=[False, True]).head())"
   ]
  },
  {
   "cell_type": "markdown",
   "metadata": {},
   "source": [
    "#### Operaciones estadísticas\n",
    "\n",
    "Existen varias operaciones estadísticas que podemos usar. Estas operaciones pueden ser aplicadas a ambos: `Series` y `DataFrame`."
   ]
  },
  {
   "cell_type": "code",
   "execution_count": 127,
   "metadata": {},
   "outputs": [
    {
     "data": {
      "text/html": [
       "<div>\n",
       "<style scoped>\n",
       "    .dataframe tbody tr th:only-of-type {\n",
       "        vertical-align: middle;\n",
       "    }\n",
       "\n",
       "    .dataframe tbody tr th {\n",
       "        vertical-align: top;\n",
       "    }\n",
       "\n",
       "    .dataframe thead th {\n",
       "        text-align: right;\n",
       "    }\n",
       "</style>\n",
       "<table border=\"1\" class=\"dataframe\">\n",
       "  <thead>\n",
       "    <tr style=\"text-align: right;\">\n",
       "      <th></th>\n",
       "      <th>a</th>\n",
       "      <th>b</th>\n",
       "      <th>c</th>\n",
       "      <th>d</th>\n",
       "    </tr>\n",
       "  </thead>\n",
       "  <tbody>\n",
       "    <tr>\n",
       "      <th>0</th>\n",
       "      <td>0</td>\n",
       "      <td>1</td>\n",
       "      <td>0</td>\n",
       "      <td>100</td>\n",
       "    </tr>\n",
       "    <tr>\n",
       "      <th>1</th>\n",
       "      <td>0</td>\n",
       "      <td>0</td>\n",
       "      <td>1</td>\n",
       "      <td>99</td>\n",
       "    </tr>\n",
       "    <tr>\n",
       "      <th>2</th>\n",
       "      <td>0</td>\n",
       "      <td>0</td>\n",
       "      <td>2</td>\n",
       "      <td>98</td>\n",
       "    </tr>\n",
       "    <tr>\n",
       "      <th>3</th>\n",
       "      <td>0</td>\n",
       "      <td>1</td>\n",
       "      <td>3</td>\n",
       "      <td>97</td>\n",
       "    </tr>\n",
       "    <tr>\n",
       "      <th>4</th>\n",
       "      <td>0</td>\n",
       "      <td>1</td>\n",
       "      <td>4</td>\n",
       "      <td>96</td>\n",
       "    </tr>\n",
       "    <tr>\n",
       "      <th>...</th>\n",
       "      <td>...</td>\n",
       "      <td>...</td>\n",
       "      <td>...</td>\n",
       "      <td>...</td>\n",
       "    </tr>\n",
       "    <tr>\n",
       "      <th>95</th>\n",
       "      <td>3</td>\n",
       "      <td>0</td>\n",
       "      <td>95</td>\n",
       "      <td>5</td>\n",
       "    </tr>\n",
       "    <tr>\n",
       "      <th>96</th>\n",
       "      <td>3</td>\n",
       "      <td>0</td>\n",
       "      <td>96</td>\n",
       "      <td>4</td>\n",
       "    </tr>\n",
       "    <tr>\n",
       "      <th>97</th>\n",
       "      <td>3</td>\n",
       "      <td>1</td>\n",
       "      <td>97</td>\n",
       "      <td>3</td>\n",
       "    </tr>\n",
       "    <tr>\n",
       "      <th>98</th>\n",
       "      <td>3</td>\n",
       "      <td>1</td>\n",
       "      <td>98</td>\n",
       "      <td>2</td>\n",
       "    </tr>\n",
       "    <tr>\n",
       "      <th>99</th>\n",
       "      <td>3</td>\n",
       "      <td>0</td>\n",
       "      <td>99</td>\n",
       "      <td>1</td>\n",
       "    </tr>\n",
       "  </tbody>\n",
       "</table>\n",
       "<p>100 rows × 4 columns</p>\n",
       "</div>"
      ],
      "text/plain": [
       "    a  b   c    d\n",
       "0   0  1   0  100\n",
       "1   0  0   1   99\n",
       "2   0  0   2   98\n",
       "3   0  1   3   97\n",
       "4   0  1   4   96\n",
       ".. .. ..  ..  ...\n",
       "95  3  0  95    5\n",
       "96  3  0  96    4\n",
       "97  3  1  97    3\n",
       "98  3  1  98    2\n",
       "99  3  0  99    1\n",
       "\n",
       "[100 rows x 4 columns]"
      ]
     },
     "execution_count": 127,
     "metadata": {},
     "output_type": "execute_result"
    }
   ],
   "source": [
    "df = cudf.DataFrame({'a': np.repeat([0, 1, 2, 3], 25).astype(np.int32), \n",
    "                     'b': np.random.randint(2, size=100).astype(np.int32), \n",
    "                     'c': np.arange(0, 100).astype(np.int32), \n",
    "                     'd': np.arange(100, 0, -1).astype(np.int32)})\n",
    "df"
   ]
  },
  {
   "cell_type": "code",
   "execution_count": 129,
   "metadata": {},
   "outputs": [
    {
     "data": {
      "text/plain": [
       "150"
      ]
     },
     "execution_count": 129,
     "metadata": {},
     "output_type": "execute_result"
    }
   ],
   "source": [
    "df['a'].sum()"
   ]
  },
  {
   "cell_type": "code",
   "execution_count": 135,
   "metadata": {},
   "outputs": [
    {
     "data": {
      "text/plain": [
       "a     150\n",
       "b      47\n",
       "c    4950\n",
       "d    5050\n",
       "dtype: int32"
      ]
     },
     "execution_count": 135,
     "metadata": {},
     "output_type": "execute_result"
    }
   ],
   "source": [
    "df.sum()\n"
   ]
  },
  {
   "cell_type": "code",
   "execution_count": 139,
   "metadata": {},
   "outputs": [
    {
     "data": {
      "text/html": [
       "<div>\n",
       "<style scoped>\n",
       "    .dataframe tbody tr th:only-of-type {\n",
       "        vertical-align: middle;\n",
       "    }\n",
       "\n",
       "    .dataframe tbody tr th {\n",
       "        vertical-align: top;\n",
       "    }\n",
       "\n",
       "    .dataframe thead th {\n",
       "        text-align: right;\n",
       "    }\n",
       "</style>\n",
       "<table border=\"1\" class=\"dataframe\">\n",
       "  <thead>\n",
       "    <tr style=\"text-align: right;\">\n",
       "      <th></th>\n",
       "      <th>a</th>\n",
       "      <th>b</th>\n",
       "      <th>c</th>\n",
       "      <th>d</th>\n",
       "    </tr>\n",
       "  </thead>\n",
       "  <tbody>\n",
       "    <tr>\n",
       "      <th>count</th>\n",
       "      <td>100.000000</td>\n",
       "      <td>100.000000</td>\n",
       "      <td>100.000000</td>\n",
       "      <td>100.000000</td>\n",
       "    </tr>\n",
       "    <tr>\n",
       "      <th>mean</th>\n",
       "      <td>1.500000</td>\n",
       "      <td>0.470000</td>\n",
       "      <td>49.500000</td>\n",
       "      <td>50.500000</td>\n",
       "    </tr>\n",
       "    <tr>\n",
       "      <th>std</th>\n",
       "      <td>1.123666</td>\n",
       "      <td>0.501614</td>\n",
       "      <td>29.011492</td>\n",
       "      <td>29.011492</td>\n",
       "    </tr>\n",
       "    <tr>\n",
       "      <th>min</th>\n",
       "      <td>0.000000</td>\n",
       "      <td>0.000000</td>\n",
       "      <td>0.000000</td>\n",
       "      <td>1.000000</td>\n",
       "    </tr>\n",
       "    <tr>\n",
       "      <th>25%</th>\n",
       "      <td>0.750000</td>\n",
       "      <td>0.000000</td>\n",
       "      <td>24.750000</td>\n",
       "      <td>25.750000</td>\n",
       "    </tr>\n",
       "    <tr>\n",
       "      <th>50%</th>\n",
       "      <td>1.500000</td>\n",
       "      <td>0.000000</td>\n",
       "      <td>49.500000</td>\n",
       "      <td>50.500000</td>\n",
       "    </tr>\n",
       "    <tr>\n",
       "      <th>75%</th>\n",
       "      <td>2.250000</td>\n",
       "      <td>1.000000</td>\n",
       "      <td>74.250000</td>\n",
       "      <td>75.250000</td>\n",
       "    </tr>\n",
       "    <tr>\n",
       "      <th>max</th>\n",
       "      <td>3.000000</td>\n",
       "      <td>1.000000</td>\n",
       "      <td>99.000000</td>\n",
       "      <td>100.000000</td>\n",
       "    </tr>\n",
       "  </tbody>\n",
       "</table>\n",
       "</div>"
      ],
      "text/plain": [
       "                a           b           c           d\n",
       "count  100.000000  100.000000  100.000000  100.000000\n",
       "mean     1.500000    0.470000   49.500000   50.500000\n",
       "std      1.123666    0.501614   29.011492   29.011492\n",
       "min      0.000000    0.000000    0.000000    1.000000\n",
       "25%      0.750000    0.000000   24.750000   25.750000\n",
       "50%      1.500000    0.000000   49.500000   50.500000\n",
       "75%      2.250000    1.000000   74.250000   75.250000\n",
       "max      3.000000    1.000000   99.000000  100.000000"
      ]
     },
     "execution_count": 139,
     "metadata": {},
     "output_type": "execute_result"
    }
   ],
   "source": [
    "df.describe()"
   ]
  },
  {
   "cell_type": "markdown",
   "metadata": {},
   "source": [
    "#### Operaciones Applymap\n",
    "\n",
    "Si bien cuDF nos permite definir nuevas columnas, es normal querer trabajar con funciones más complejas. Podemos definir una función y usar el método `applymap` para aplicar la función a cada valor en una columna. Vayamos a un ejemplo simple, el cual puede fácilmente aplicarse a workfloks más complejos."
   ]
  },
  {
   "cell_type": "code",
   "execution_count": 140,
   "metadata": {},
   "outputs": [
    {
     "data": {
      "text/html": [
       "<div>\n",
       "<style scoped>\n",
       "    .dataframe tbody tr th:only-of-type {\n",
       "        vertical-align: middle;\n",
       "    }\n",
       "\n",
       "    .dataframe tbody tr th {\n",
       "        vertical-align: top;\n",
       "    }\n",
       "\n",
       "    .dataframe thead th {\n",
       "        text-align: right;\n",
       "    }\n",
       "</style>\n",
       "<table border=\"1\" class=\"dataframe\">\n",
       "  <thead>\n",
       "    <tr style=\"text-align: right;\">\n",
       "      <th></th>\n",
       "      <th>a</th>\n",
       "      <th>b</th>\n",
       "      <th>c</th>\n",
       "      <th>d</th>\n",
       "    </tr>\n",
       "  </thead>\n",
       "  <tbody>\n",
       "    <tr>\n",
       "      <th>0</th>\n",
       "      <td>0</td>\n",
       "      <td>1</td>\n",
       "      <td>0</td>\n",
       "      <td>100</td>\n",
       "    </tr>\n",
       "    <tr>\n",
       "      <th>1</th>\n",
       "      <td>0</td>\n",
       "      <td>0</td>\n",
       "      <td>1</td>\n",
       "      <td>99</td>\n",
       "    </tr>\n",
       "    <tr>\n",
       "      <th>2</th>\n",
       "      <td>0</td>\n",
       "      <td>1</td>\n",
       "      <td>2</td>\n",
       "      <td>98</td>\n",
       "    </tr>\n",
       "    <tr>\n",
       "      <th>3</th>\n",
       "      <td>0</td>\n",
       "      <td>0</td>\n",
       "      <td>3</td>\n",
       "      <td>97</td>\n",
       "    </tr>\n",
       "    <tr>\n",
       "      <th>4</th>\n",
       "      <td>0</td>\n",
       "      <td>0</td>\n",
       "      <td>4</td>\n",
       "      <td>96</td>\n",
       "    </tr>\n",
       "    <tr>\n",
       "      <th>...</th>\n",
       "      <td>...</td>\n",
       "      <td>...</td>\n",
       "      <td>...</td>\n",
       "      <td>...</td>\n",
       "    </tr>\n",
       "    <tr>\n",
       "      <th>95</th>\n",
       "      <td>3</td>\n",
       "      <td>0</td>\n",
       "      <td>95</td>\n",
       "      <td>5</td>\n",
       "    </tr>\n",
       "    <tr>\n",
       "      <th>96</th>\n",
       "      <td>3</td>\n",
       "      <td>0</td>\n",
       "      <td>96</td>\n",
       "      <td>4</td>\n",
       "    </tr>\n",
       "    <tr>\n",
       "      <th>97</th>\n",
       "      <td>3</td>\n",
       "      <td>1</td>\n",
       "      <td>97</td>\n",
       "      <td>3</td>\n",
       "    </tr>\n",
       "    <tr>\n",
       "      <th>98</th>\n",
       "      <td>3</td>\n",
       "      <td>1</td>\n",
       "      <td>98</td>\n",
       "      <td>2</td>\n",
       "    </tr>\n",
       "    <tr>\n",
       "      <th>99</th>\n",
       "      <td>3</td>\n",
       "      <td>0</td>\n",
       "      <td>99</td>\n",
       "      <td>1</td>\n",
       "    </tr>\n",
       "  </tbody>\n",
       "</table>\n",
       "<p>100 rows × 4 columns</p>\n",
       "</div>"
      ],
      "text/plain": [
       "    a  b   c    d\n",
       "0   0  1   0  100\n",
       "1   0  0   1   99\n",
       "2   0  1   2   98\n",
       "3   0  0   3   97\n",
       "4   0  0   4   96\n",
       ".. .. ..  ..  ...\n",
       "95  3  0  95    5\n",
       "96  3  0  96    4\n",
       "97  3  1  97    3\n",
       "98  3  1  98    2\n",
       "99  3  0  99    1\n",
       "\n",
       "[100 rows x 4 columns]"
      ]
     },
     "execution_count": 140,
     "metadata": {},
     "output_type": "execute_result"
    }
   ],
   "source": [
    "df = cudf.DataFrame({'a': np.repeat([0, 1, 2, 3], 25).astype(np.int32), \n",
    "                     'b': np.random.randint(2, size=100).astype(np.int32), \n",
    "                     'c': np.arange(0, 100).astype(np.int32), \n",
    "                     'd': np.arange(100, 0, -1).astype(np.int32)})\n",
    "df"
   ]
  },
  {
   "cell_type": "code",
   "execution_count": 141,
   "metadata": {},
   "outputs": [
    {
     "name": "stdout",
     "output_type": "stream",
     "text": [
      "0      10\n",
      "1      11\n",
      "2      12\n",
      "3      13\n",
      "4      14\n",
      "     ... \n",
      "95    105\n",
      "96    106\n",
      "97    107\n",
      "98    108\n",
      "99    109\n",
      "Name: c, Length: 100, dtype: int64\n"
     ]
    }
   ],
   "source": [
    "def add_ten_to_x(x):\n",
    "    return x + 10\n",
    "\n",
    "print(df['c'].applymap(add_ten_to_x))"
   ]
  },
  {
   "cell_type": "markdown",
   "metadata": {},
   "source": [
    "#### Histogramming\n",
    "\n",
    "Podemos acceder al conteo de valores de una columna usando el método `value_counts`. Ojo, que este método es usado mayormente en columnas con data discreta, por ejemplo integers, strings, categoricals, etc. Puede que no estemos tan interesados en el conteo de valores de data numérica, por ejemplo qué tan seguido aparece el valor 2.1. El resultado del método `value_counts` puede ser usado con librerías de Python plotting como Matplotlib o Seaborn para generar visualizaciones como histogramas."
   ]
  },
  {
   "cell_type": "code",
   "execution_count": 142,
   "metadata": {},
   "outputs": [
    {
     "data": {
      "text/html": [
       "<div>\n",
       "<style scoped>\n",
       "    .dataframe tbody tr th:only-of-type {\n",
       "        vertical-align: middle;\n",
       "    }\n",
       "\n",
       "    .dataframe tbody tr th {\n",
       "        vertical-align: top;\n",
       "    }\n",
       "\n",
       "    .dataframe thead th {\n",
       "        text-align: right;\n",
       "    }\n",
       "</style>\n",
       "<table border=\"1\" class=\"dataframe\">\n",
       "  <thead>\n",
       "    <tr style=\"text-align: right;\">\n",
       "      <th></th>\n",
       "      <th>a</th>\n",
       "      <th>b</th>\n",
       "      <th>c</th>\n",
       "      <th>d</th>\n",
       "    </tr>\n",
       "  </thead>\n",
       "  <tbody>\n",
       "    <tr>\n",
       "      <th>0</th>\n",
       "      <td>0</td>\n",
       "      <td>1</td>\n",
       "      <td>0</td>\n",
       "      <td>100</td>\n",
       "    </tr>\n",
       "    <tr>\n",
       "      <th>1</th>\n",
       "      <td>0</td>\n",
       "      <td>1</td>\n",
       "      <td>1</td>\n",
       "      <td>99</td>\n",
       "    </tr>\n",
       "    <tr>\n",
       "      <th>2</th>\n",
       "      <td>0</td>\n",
       "      <td>1</td>\n",
       "      <td>2</td>\n",
       "      <td>98</td>\n",
       "    </tr>\n",
       "    <tr>\n",
       "      <th>3</th>\n",
       "      <td>0</td>\n",
       "      <td>0</td>\n",
       "      <td>3</td>\n",
       "      <td>97</td>\n",
       "    </tr>\n",
       "    <tr>\n",
       "      <th>4</th>\n",
       "      <td>0</td>\n",
       "      <td>0</td>\n",
       "      <td>4</td>\n",
       "      <td>96</td>\n",
       "    </tr>\n",
       "  </tbody>\n",
       "</table>\n",
       "</div>"
      ],
      "text/plain": [
       "   a  b  c    d\n",
       "0  0  1  0  100\n",
       "1  0  1  1   99\n",
       "2  0  1  2   98\n",
       "3  0  0  3   97\n",
       "4  0  0  4   96"
      ]
     },
     "execution_count": 142,
     "metadata": {},
     "output_type": "execute_result"
    }
   ],
   "source": [
    "df = cudf.DataFrame({'a': np.repeat([0, 1, 2, 3], 25).astype(np.int32), \n",
    "                     'b': np.random.randint(2, size=100).astype(np.int32), \n",
    "                     'c': np.arange(0, 100).astype(np.int32), \n",
    "                     'd': np.arange(100, 0, -1).astype(np.int32)})\n",
    "df.head()"
   ]
  },
  {
   "cell_type": "code",
   "execution_count": 146,
   "metadata": {},
   "outputs": [
    {
     "name": "stdout",
     "output_type": "stream",
     "text": [
      "0    25\n",
      "1    25\n",
      "2    25\n",
      "3    25\n",
      "Name: a, dtype: int32\n"
     ]
    }
   ],
   "source": [
    "result = df['a'].value_counts()\n",
    "#result = df['b'].value_counts()\n",
    "#result = df['c'].value_counts()\n",
    "print(result)"
   ]
  },
  {
   "cell_type": "markdown",
   "metadata": {},
   "source": [
    "#### Concatenaciones\n",
    "\n",
    "Todo data scientists suele trabajar con múltiples fuentes de data, y lo ideal en pode combinar en una sola representación meas robusta y completa. Estas operaciones son llamadas concatenaciones y joins. Podemos concatenar dos o más dataframes juntos por filas o por columnas, usando una lista de los dataframes a la función `cudf.concat` y especificando el eje de concantenación para los dataframes.\n",
    "\n",
    "Si queremos concantenar dataframes por filas, podemos especificar `axis=0`. Para concantenar por columnas, podemos especificar`axis=1`."
   ]
  },
  {
   "cell_type": "code",
   "execution_count": 147,
   "metadata": {},
   "outputs": [],
   "source": [
    "df1 = cudf.DataFrame({'a': np.repeat([0, 1, 2, 3], 25).astype(np.int32), \n",
    "                      'b': np.random.randint(2, size=100).astype(np.int32), \n",
    "                      'c': np.arange(0, 100).astype(np.int32), \n",
    "                      'd': np.arange(100, 0, -1).astype(np.int32)})\n",
    "df2 = cudf.DataFrame({'a': np.repeat([0, 1, 2, 3], 25).astype(np.int32), \n",
    "                      'b': np.random.randint(2, size=100).astype(np.int32), \n",
    "                      'c': np.arange(0, 100).astype(np.int32), \n",
    "                      'd': np.arange(100, 0, -1).astype(np.int32)})"
   ]
  },
  {
   "cell_type": "code",
   "execution_count": 148,
   "metadata": {},
   "outputs": [
    {
     "data": {
      "text/html": [
       "<div>\n",
       "<style scoped>\n",
       "    .dataframe tbody tr th:only-of-type {\n",
       "        vertical-align: middle;\n",
       "    }\n",
       "\n",
       "    .dataframe tbody tr th {\n",
       "        vertical-align: top;\n",
       "    }\n",
       "\n",
       "    .dataframe thead th {\n",
       "        text-align: right;\n",
       "    }\n",
       "</style>\n",
       "<table border=\"1\" class=\"dataframe\">\n",
       "  <thead>\n",
       "    <tr style=\"text-align: right;\">\n",
       "      <th></th>\n",
       "      <th>a</th>\n",
       "      <th>b</th>\n",
       "      <th>c</th>\n",
       "      <th>d</th>\n",
       "    </tr>\n",
       "  </thead>\n",
       "  <tbody>\n",
       "    <tr>\n",
       "      <th>0</th>\n",
       "      <td>0</td>\n",
       "      <td>0</td>\n",
       "      <td>0</td>\n",
       "      <td>100</td>\n",
       "    </tr>\n",
       "    <tr>\n",
       "      <th>1</th>\n",
       "      <td>0</td>\n",
       "      <td>1</td>\n",
       "      <td>1</td>\n",
       "      <td>99</td>\n",
       "    </tr>\n",
       "    <tr>\n",
       "      <th>2</th>\n",
       "      <td>0</td>\n",
       "      <td>0</td>\n",
       "      <td>2</td>\n",
       "      <td>98</td>\n",
       "    </tr>\n",
       "    <tr>\n",
       "      <th>3</th>\n",
       "      <td>0</td>\n",
       "      <td>1</td>\n",
       "      <td>3</td>\n",
       "      <td>97</td>\n",
       "    </tr>\n",
       "    <tr>\n",
       "      <th>4</th>\n",
       "      <td>0</td>\n",
       "      <td>0</td>\n",
       "      <td>4</td>\n",
       "      <td>96</td>\n",
       "    </tr>\n",
       "    <tr>\n",
       "      <th>...</th>\n",
       "      <td>...</td>\n",
       "      <td>...</td>\n",
       "      <td>...</td>\n",
       "      <td>...</td>\n",
       "    </tr>\n",
       "    <tr>\n",
       "      <th>95</th>\n",
       "      <td>3</td>\n",
       "      <td>0</td>\n",
       "      <td>95</td>\n",
       "      <td>5</td>\n",
       "    </tr>\n",
       "    <tr>\n",
       "      <th>96</th>\n",
       "      <td>3</td>\n",
       "      <td>0</td>\n",
       "      <td>96</td>\n",
       "      <td>4</td>\n",
       "    </tr>\n",
       "    <tr>\n",
       "      <th>97</th>\n",
       "      <td>3</td>\n",
       "      <td>0</td>\n",
       "      <td>97</td>\n",
       "      <td>3</td>\n",
       "    </tr>\n",
       "    <tr>\n",
       "      <th>98</th>\n",
       "      <td>3</td>\n",
       "      <td>1</td>\n",
       "      <td>98</td>\n",
       "      <td>2</td>\n",
       "    </tr>\n",
       "    <tr>\n",
       "      <th>99</th>\n",
       "      <td>3</td>\n",
       "      <td>1</td>\n",
       "      <td>99</td>\n",
       "      <td>1</td>\n",
       "    </tr>\n",
       "  </tbody>\n",
       "</table>\n",
       "<p>200 rows × 4 columns</p>\n",
       "</div>"
      ],
      "text/plain": [
       "    a  b   c    d\n",
       "0   0  0   0  100\n",
       "1   0  1   1   99\n",
       "2   0  0   2   98\n",
       "3   0  1   3   97\n",
       "4   0  0   4   96\n",
       ".. .. ..  ..  ...\n",
       "95  3  0  95    5\n",
       "96  3  0  96    4\n",
       "97  3  0  97    3\n",
       "98  3  1  98    2\n",
       "99  3  1  99    1\n",
       "\n",
       "[200 rows x 4 columns]"
      ]
     },
     "execution_count": 148,
     "metadata": {},
     "output_type": "execute_result"
    }
   ],
   "source": [
    "df = cudf.concat([df1, df2], axis=0)\n",
    "df"
   ]
  },
  {
   "cell_type": "code",
   "execution_count": 149,
   "metadata": {},
   "outputs": [],
   "source": [
    "df1 = cudf.DataFrame({'a': np.repeat([0, 1, 2, 3], 25).astype(np.int32), \n",
    "                      'b': np.random.randint(2, size=100).astype(np.int32), \n",
    "                      'c': np.arange(0, 100).astype(np.int32), \n",
    "                      'd': np.arange(100, 0, -1).astype(np.int32)})\n",
    "df2 = cudf.DataFrame({'e': np.repeat([0, 1, 2, 3], 25).astype(np.int32), \n",
    "                      'f': np.random.randint(2, size=100).astype(np.int32), \n",
    "                      'g': np.arange(0, 100).astype(np.int32), \n",
    "                      'h': np.arange(100, 0, -1).astype(np.int32)})"
   ]
  },
  {
   "cell_type": "code",
   "execution_count": 150,
   "metadata": {},
   "outputs": [
    {
     "data": {
      "text/html": [
       "<div>\n",
       "<style scoped>\n",
       "    .dataframe tbody tr th:only-of-type {\n",
       "        vertical-align: middle;\n",
       "    }\n",
       "\n",
       "    .dataframe tbody tr th {\n",
       "        vertical-align: top;\n",
       "    }\n",
       "\n",
       "    .dataframe thead th {\n",
       "        text-align: right;\n",
       "    }\n",
       "</style>\n",
       "<table border=\"1\" class=\"dataframe\">\n",
       "  <thead>\n",
       "    <tr style=\"text-align: right;\">\n",
       "      <th></th>\n",
       "      <th>a</th>\n",
       "      <th>b</th>\n",
       "      <th>c</th>\n",
       "      <th>d</th>\n",
       "      <th>e</th>\n",
       "      <th>f</th>\n",
       "      <th>g</th>\n",
       "      <th>h</th>\n",
       "    </tr>\n",
       "  </thead>\n",
       "  <tbody>\n",
       "    <tr>\n",
       "      <th>0</th>\n",
       "      <td>0</td>\n",
       "      <td>1</td>\n",
       "      <td>0</td>\n",
       "      <td>100</td>\n",
       "      <td>0</td>\n",
       "      <td>0</td>\n",
       "      <td>0</td>\n",
       "      <td>100</td>\n",
       "    </tr>\n",
       "    <tr>\n",
       "      <th>1</th>\n",
       "      <td>0</td>\n",
       "      <td>0</td>\n",
       "      <td>1</td>\n",
       "      <td>99</td>\n",
       "      <td>0</td>\n",
       "      <td>1</td>\n",
       "      <td>1</td>\n",
       "      <td>99</td>\n",
       "    </tr>\n",
       "    <tr>\n",
       "      <th>2</th>\n",
       "      <td>0</td>\n",
       "      <td>1</td>\n",
       "      <td>2</td>\n",
       "      <td>98</td>\n",
       "      <td>0</td>\n",
       "      <td>1</td>\n",
       "      <td>2</td>\n",
       "      <td>98</td>\n",
       "    </tr>\n",
       "    <tr>\n",
       "      <th>3</th>\n",
       "      <td>0</td>\n",
       "      <td>0</td>\n",
       "      <td>3</td>\n",
       "      <td>97</td>\n",
       "      <td>0</td>\n",
       "      <td>1</td>\n",
       "      <td>3</td>\n",
       "      <td>97</td>\n",
       "    </tr>\n",
       "    <tr>\n",
       "      <th>4</th>\n",
       "      <td>0</td>\n",
       "      <td>0</td>\n",
       "      <td>4</td>\n",
       "      <td>96</td>\n",
       "      <td>0</td>\n",
       "      <td>0</td>\n",
       "      <td>4</td>\n",
       "      <td>96</td>\n",
       "    </tr>\n",
       "    <tr>\n",
       "      <th>...</th>\n",
       "      <td>...</td>\n",
       "      <td>...</td>\n",
       "      <td>...</td>\n",
       "      <td>...</td>\n",
       "      <td>...</td>\n",
       "      <td>...</td>\n",
       "      <td>...</td>\n",
       "      <td>...</td>\n",
       "    </tr>\n",
       "    <tr>\n",
       "      <th>95</th>\n",
       "      <td>3</td>\n",
       "      <td>0</td>\n",
       "      <td>95</td>\n",
       "      <td>5</td>\n",
       "      <td>3</td>\n",
       "      <td>1</td>\n",
       "      <td>95</td>\n",
       "      <td>5</td>\n",
       "    </tr>\n",
       "    <tr>\n",
       "      <th>96</th>\n",
       "      <td>3</td>\n",
       "      <td>1</td>\n",
       "      <td>96</td>\n",
       "      <td>4</td>\n",
       "      <td>3</td>\n",
       "      <td>1</td>\n",
       "      <td>96</td>\n",
       "      <td>4</td>\n",
       "    </tr>\n",
       "    <tr>\n",
       "      <th>97</th>\n",
       "      <td>3</td>\n",
       "      <td>1</td>\n",
       "      <td>97</td>\n",
       "      <td>3</td>\n",
       "      <td>3</td>\n",
       "      <td>0</td>\n",
       "      <td>97</td>\n",
       "      <td>3</td>\n",
       "    </tr>\n",
       "    <tr>\n",
       "      <th>98</th>\n",
       "      <td>3</td>\n",
       "      <td>1</td>\n",
       "      <td>98</td>\n",
       "      <td>2</td>\n",
       "      <td>3</td>\n",
       "      <td>1</td>\n",
       "      <td>98</td>\n",
       "      <td>2</td>\n",
       "    </tr>\n",
       "    <tr>\n",
       "      <th>99</th>\n",
       "      <td>3</td>\n",
       "      <td>0</td>\n",
       "      <td>99</td>\n",
       "      <td>1</td>\n",
       "      <td>3</td>\n",
       "      <td>0</td>\n",
       "      <td>99</td>\n",
       "      <td>1</td>\n",
       "    </tr>\n",
       "  </tbody>\n",
       "</table>\n",
       "<p>100 rows × 8 columns</p>\n",
       "</div>"
      ],
      "text/plain": [
       "    a  b   c    d  e  f   g    h\n",
       "0   0  1   0  100  0  0   0  100\n",
       "1   0  0   1   99  0  1   1   99\n",
       "2   0  1   2   98  0  1   2   98\n",
       "3   0  0   3   97  0  1   3   97\n",
       "4   0  0   4   96  0  0   4   96\n",
       ".. .. ..  ..  ... .. ..  ..  ...\n",
       "95  3  0  95    5  3  1  95    5\n",
       "96  3  1  96    4  3  1  96    4\n",
       "97  3  1  97    3  3  0  97    3\n",
       "98  3  1  98    2  3  1  98    2\n",
       "99  3  0  99    1  3  0  99    1\n",
       "\n",
       "[100 rows x 8 columns]"
      ]
     },
     "execution_count": 150,
     "metadata": {},
     "output_type": "execute_result"
    }
   ],
   "source": [
    "df = cudf.concat([df1, df2], axis=1)\n",
    "df"
   ]
  },
  {
   "cell_type": "markdown",
   "metadata": {},
   "source": [
    "#### Joins / Merges\n",
    "\n",
    "A múltiples dataframes se les puede aplicar un join, usando una (o múltiples) columnas(s). Hay dos sintaxis para ejecutar estos joins:\n",
    "\n",
    "* El método `DataFrame.merge` y pasar a otro dataframe para unir, o\n",
    "* La función `cudf.merge` y usar uno de los dataframe para la unión.\n",
    "\n",
    "Ambas sintaxis pueden usar una lista de nombres de columna a un argumento adicional con el keyword `on` - esto especificara qué columnas del dataframe serán unidas. Si este keyword no es especificado, cuDF por default aplicará el join usando los nombres de columnas que aparezcan en ambos dataframes."
   ]
  },
  {
   "cell_type": "code",
   "execution_count": 151,
   "metadata": {},
   "outputs": [],
   "source": [
    "df1 = cudf.DataFrame({'a': np.repeat([0, 1, 2, 3], 25).astype(np.int32), \n",
    "                      'b': np.random.randint(2, size=100).astype(np.int32), \n",
    "                      'c': np.arange(0, 100).astype(np.int32), \n",
    "                      'd': np.arange(100, 0, -1).astype(np.int32)})\n",
    "df2 = cudf.DataFrame({'a': np.repeat([0, 1, 2, 3], 25).astype(np.int32), \n",
    "                      'b': np.random.randint(2, size=100).astype(np.int32), \n",
    "                      'e': np.arange(0, 100).astype(np.int32), \n",
    "                      'f': np.arange(100, 0, -1).astype(np.int32)})"
   ]
  },
  {
   "cell_type": "code",
   "execution_count": 152,
   "metadata": {},
   "outputs": [
    {
     "name": "stdout",
     "output_type": "stream",
     "text": [
      "   a  b   c   d   e   f\n",
      "0  1  1  32  68  25  75\n",
      "1  1  0  33  67  28  72\n",
      "2  1  1  34  66  25  75\n",
      "3  1  0  35  65  28  72\n",
      "4  1  1  36  64  25  75\n"
     ]
    }
   ],
   "source": [
    "df = df1.merge(df2)\n",
    "print(df.head())"
   ]
  },
  {
   "cell_type": "code",
   "execution_count": 153,
   "metadata": {},
   "outputs": [
    {
     "name": "stdout",
     "output_type": "stream",
     "text": [
      "   a  b_x  c    d  b_y  e    f\n",
      "0  0    0  0  100    1  0  100\n",
      "1  0    0  1   99    1  0  100\n",
      "2  0    1  2   98    1  0  100\n",
      "3  0    0  3   97    1  0  100\n",
      "4  0    1  4   96    1  0  100\n"
     ]
    }
   ],
   "source": [
    "df = df1.merge(df2, on=['a'])\n",
    "print(df.head())"
   ]
  },
  {
   "cell_type": "code",
   "execution_count": 154,
   "metadata": {},
   "outputs": [
    {
     "name": "stdout",
     "output_type": "stream",
     "text": [
      "   a  b  c    d  e    f\n",
      "0  0  0  0  100  1   99\n",
      "1  0  0  1   99  1   99\n",
      "2  0  1  2   98  0  100\n",
      "3  0  0  3   97  1   99\n",
      "4  0  1  4   96  0  100\n"
     ]
    }
   ],
   "source": [
    "df = df1.merge(df2, on=['a', 'b'])\n",
    "print(df.head())"
   ]
  },
  {
   "cell_type": "code",
   "execution_count": 155,
   "metadata": {},
   "outputs": [
    {
     "name": "stdout",
     "output_type": "stream",
     "text": [
      "   a  b  c    d  e    f\n",
      "0  0  0  0  100  1   99\n",
      "1  0  0  1   99  1   99\n",
      "2  0  1  2   98  0  100\n",
      "3  0  0  3   97  1   99\n",
      "4  0  1  4   96  0  100\n"
     ]
    }
   ],
   "source": [
    "df = cudf.merge(df1, df2)\n",
    "print(df.head())"
   ]
  },
  {
   "cell_type": "code",
   "execution_count": 156,
   "metadata": {},
   "outputs": [
    {
     "name": "stdout",
     "output_type": "stream",
     "text": [
      "   a  b_x  c    d  b_y  e    f\n",
      "0  0    0  0  100    1  0  100\n",
      "1  0    0  1   99    1  0  100\n",
      "2  0    1  2   98    1  0  100\n",
      "3  0    0  3   97    1  0  100\n",
      "4  0    1  4   96    1  0  100\n"
     ]
    }
   ],
   "source": [
    "df = cudf.merge(df1, df2, on=['a'])\n",
    "print(df.head())"
   ]
  },
  {
   "cell_type": "code",
   "execution_count": 157,
   "metadata": {},
   "outputs": [
    {
     "name": "stdout",
     "output_type": "stream",
     "text": [
      "   a  b  c    d  e    f\n",
      "0  0  0  0  100  1   99\n",
      "1  0  0  1   99  1   99\n",
      "2  0  1  2   98  0  100\n",
      "3  0  0  3   97  1   99\n",
      "4  0  1  4   96  0  100\n"
     ]
    }
   ],
   "source": [
    "df = cudf.merge(df1, df2, on=['a', 'b'])\n",
    "print(df.head())"
   ]
  },
  {
   "cell_type": "markdown",
   "metadata": {},
   "source": [
    "#### Groupbys\n",
    "\n",
    "Una operación muy usada cuando se trabaja con datasets es el groupby. Agrupar la data usando llaves y agregando valores mapeados a esas llaves. Por ejemplo, podríamos querer agregar múltiples medidas de temperatura tomadas durante el día de un sensor específico y promediar dichas temperaturas para encontrar el promedio diario de un lugar.\n",
    "\n",
    "cuDF nos permite realizar la anterior operación usando el método `groupby`. Esto creará un objeto de tipo `cudf.groupby.groupby.Groupby` donde podremos operar usando funciones de agregación como `sum`, `var`, o más complejas definidas por el usuario.\n",
    "\n",
    "Podemos también especificar múltiples columnas a un grupo al usar una lista de nombres de columnas con el método `groupby`."
   ]
  },
  {
   "cell_type": "code",
   "execution_count": 158,
   "metadata": {},
   "outputs": [
    {
     "name": "stdout",
     "output_type": "stream",
     "text": [
      "   a  b  c    d\n",
      "0  0  0  0  100\n",
      "1  0  0  1   99\n",
      "2  0  1  2   98\n",
      "3  0  1  3   97\n",
      "4  0  1  4   96\n"
     ]
    }
   ],
   "source": [
    "df = cudf.DataFrame({'a': np.repeat([0, 1, 2, 3], 25).astype(np.int32), \n",
    "                     'b': np.random.randint(2, size=100).astype(np.int32), \n",
    "                     'c': np.arange(0, 100).astype(np.int32), \n",
    "                     'd': np.arange(100, 0, -1).astype(np.int32)})\n",
    "print(df.head())"
   ]
  },
  {
   "cell_type": "code",
   "execution_count": 159,
   "metadata": {},
   "outputs": [
    {
     "data": {
      "text/plain": [
       "<cudf.core.groupby.groupby.DataFrameGroupBy at 0x7f017084b9d0>"
      ]
     },
     "execution_count": 159,
     "metadata": {},
     "output_type": "execute_result"
    }
   ],
   "source": [
    "grouped_df = df.groupby('a')\n",
    "grouped_df"
   ]
  },
  {
   "cell_type": "code",
   "execution_count": 160,
   "metadata": {},
   "outputs": [
    {
     "name": "stdout",
     "output_type": "stream",
     "text": [
      "    b     c     d\n",
      "a                \n",
      "0  12   300  2200\n",
      "1  13   925  1575\n",
      "2  15  1550   950\n",
      "3  12  2175   325\n"
     ]
    }
   ],
   "source": [
    "aggregation = grouped_df.sum()\n",
    "print(aggregation)"
   ]
  },
  {
   "cell_type": "code",
   "execution_count": 161,
   "metadata": {},
   "outputs": [
    {
     "name": "stdout",
     "output_type": "stream",
     "text": [
      "        c     d\n",
      "a b            \n",
      "0 0   160  1140\n",
      "  1   140  1060\n",
      "1 0   449   751\n",
      "  1   476   824\n",
      "2 0   625   375\n",
      "  1   925   575\n",
      "3 0  1134   166\n",
      "  1  1041   159\n"
     ]
    }
   ],
   "source": [
    "aggregation = df.groupby(['a', 'b']).sum().to_pandas()\n",
    "print(aggregation)"
   ]
  },
  {
   "cell_type": "markdown",
   "metadata": {},
   "source": [
    "#### One Hot Encoding\n",
    "\n",
    "Data scientists suelen trabajar con data discreta como integers o categorías. Sin embargo, esta data puede ser representada usando el formato One Hot Encoding.\n",
    "\n",
    "cuDF nos permite convertir la data discreta en formato One Hot Encoding usando el método `one_hot_encoding`. Podemos pasar este método a un nombre de columna para la conversión, un prefijo con el cual anteponer cada nueva colmuna, y las categorías de data para crear las nuevas columnas. Podemos usar en todas las categorías de la data discreta o subcategoría - cuDF manejará de forma flexible ambas y sólo creará nuevas columnas para las categorías específicas."
   ]
  },
  {
   "cell_type": "code",
   "execution_count": 162,
   "metadata": {},
   "outputs": [
    {
     "name": "stdout",
     "output_type": "stream",
     "text": [
      "   a  b    c\n",
      "0  0  0  100\n",
      "1  0  1   99\n",
      "2  0  2   98\n",
      "3  0  3   97\n",
      "4  0  4   96\n"
     ]
    }
   ],
   "source": [
    "categories = [0, 1, 2, 3]\n",
    "df = cudf.DataFrame({'a': np.repeat(categories, 25).astype(np.int32), \n",
    "                     'b': np.arange(0, 100).astype(np.int32), \n",
    "                     'c': np.arange(100, 0, -1).astype(np.int32)})\n",
    "print(df.head())"
   ]
  },
  {
   "cell_type": "code",
   "execution_count": 163,
   "metadata": {},
   "outputs": [
    {
     "name": "stdout",
     "output_type": "stream",
     "text": [
      "   a  b    c  a__0  a__1  a__2  a__3\n",
      "0  0  0  100   1.0   0.0   0.0   0.0\n",
      "1  0  1   99   1.0   0.0   0.0   0.0\n",
      "2  0  2   98   1.0   0.0   0.0   0.0\n",
      "3  0  3   97   1.0   0.0   0.0   0.0\n",
      "4  0  4   96   1.0   0.0   0.0   0.0\n",
      "    a   b  c  a__0  a__1  a__2  a__3\n",
      "95  3  95  5   0.0   0.0   0.0   1.0\n",
      "96  3  96  4   0.0   0.0   0.0   1.0\n",
      "97  3  97  3   0.0   0.0   0.0   1.0\n",
      "98  3  98  2   0.0   0.0   0.0   1.0\n",
      "99  3  99  1   0.0   0.0   0.0   1.0\n"
     ]
    }
   ],
   "source": [
    "result = df.one_hot_encoding('a', prefix='a_', cats=categories)\n",
    "print(result.head())\n",
    "print(result.tail())"
   ]
  },
  {
   "cell_type": "code",
   "execution_count": 167,
   "metadata": {},
   "outputs": [
    {
     "name": "stdout",
     "output_type": "stream",
     "text": [
      "   a  b    c  a__0  a__1  a__2\n",
      "0  0  0  100   1.0   0.0   0.0\n",
      "1  0  1   99   1.0   0.0   0.0\n",
      "2  0  2   98   1.0   0.0   0.0\n",
      "3  0  3   97   1.0   0.0   0.0\n",
      "4  0  4   96   1.0   0.0   0.0\n",
      "    a   b  c  a__0  a__1  a__2\n",
      "95  3  95  5   0.0   0.0   0.0\n",
      "96  3  96  4   0.0   0.0   0.0\n",
      "97  3  97  3   0.0   0.0   0.0\n",
      "98  3  98  2   0.0   0.0   0.0\n",
      "99  3  99  1   0.0   0.0   0.0\n"
     ]
    }
   ],
   "source": [
    "result = df.one_hot_encoding('a', prefix='a_', cats=[0, 1, 2])\n",
    "# result = df.one_hot_encoding('a', prefix='a_', cats=[1, 2])\n",
    "print(result.head())\n",
    "print(result.tail())"
   ]
  },
  {
   "cell_type": "markdown",
   "metadata": {},
   "source": [
    "<a id=\"conclusion\"></a>\n",
    "## Conclusion\n",
    "\n",
    "In this notebook, we showed how to work with cuDF DataFrames in RAPIDS.\n",
    "\n",
    "Para aprender más de RAPIDS, puedes revisar los siguientes links: \n",
    "\n",
    "* [Open Source Website](http://rapids.ai)\n",
    "* [GitHub](https://github.com/rapidsai/)\n",
    "* [Press Release](https://nvidianews.nvidia.com/news/nvidia-introduces-rapids-open-source-gpu-acceleration-platform-for-large-scale-data-analytics-and-machine-learning)\n",
    "* [NVIDIA Blog](https://blogs.nvidia.com/blog/2018/10/10/rapids-data-science-open-source-community/)\n",
    "* [Developer Blog](https://devblogs.nvidia.com/gpu-accelerated-analytics-rapids/)\n",
    "* [NVIDIA Data Science Webpage](https://www.nvidia.com/en-us/deep-learning-ai/solutions/data-science/)"
   ]
  }
 ],
 "metadata": {
  "kernelspec": {
   "display_name": "RAPIDS Stable",
   "language": "python",
   "name": "python3"
  },
  "language_info": {
   "codemirror_mode": {
    "name": "ipython",
    "version": 3
   },
   "file_extension": ".py",
   "mimetype": "text/x-python",
   "name": "python",
   "nbconvert_exporter": "python",
   "pygments_lexer": "ipython3",
   "version": "3.8.5"
  }
 },
 "nbformat": 4,
 "nbformat_minor": 4
}
