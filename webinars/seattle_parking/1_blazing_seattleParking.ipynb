{
 "cells": [
  {
   "cell_type": "markdown",
   "metadata": {},
   "source": [
    "# Parking in Seattle\n",
    "\n",
    "Driving in Seattle is quickly becoming very similar to driving in cities like San Francisco, Silicon Valley or Los Angeles: more and more companies choose to settle or open their offices in Seattle so they can tap into the tech community that Seattle has to offer. With that, parking in Seattle is getting harder by day.\n",
    "\n",
    "Paid Parking Occupancy dataset provided by the City of Seattle Department of Transportation provides a view into around 300 million parking transactions annually from around 12 thousands parking spots on roughly 1,500 block faces. The dataset does not include any transaction for Sundays as there is no paid parking. Most of the parking spots have a 2-hour limit."
   ]
  },
  {
   "cell_type": "markdown",
   "metadata": {},
   "source": [
    "## Load the modules\n",
    "\n",
    "First, we'll load the necessary modules and instantiate the `BlazingContext()`."
   ]
  },
  {
   "cell_type": "code",
   "execution_count": null,
   "metadata": {},
   "outputs": [],
   "source": [
    "from blazingsql import BlazingContext\n",
    "from dask_cuda import LocalCUDACluster\n",
    "from dask.distributed import Client\n",
    "\n",
    "import cudf\n",
    "import pandas as pd\n",
    "import json\n",
    "\n",
    "pd.options.display.max_rows = 100\n",
    "\n",
    "cluster = LocalCUDACluster()\n",
    "client = Client(cluster)\n",
    "\n",
    "bc = BlazingContext(dask_client=client)"
   ]
  },
  {
   "cell_type": "markdown",
   "metadata": {},
   "source": [
    "# Register S3 bucket\n",
    "Next, since we are reading from S3 we need to register the bucket we hold the data in."
   ]
  },
  {
   "cell_type": "code",
   "execution_count": null,
   "metadata": {},
   "outputs": [],
   "source": [
    "_ = bc.s3(\n",
    "    'bsql'\n",
    "    , bucket_name = 'bsql'\n",
    ")"
   ]
  },
  {
   "cell_type": "markdown",
   "metadata": {},
   "source": [
    "# Create the tables\n",
    "\n",
    "Now that we registered the S3 bucket we can create our tables. First, specify the locations."
   ]
  },
  {
   "cell_type": "code",
   "execution_count": null,
   "metadata": {},
   "outputs": [],
   "source": [
    "transactions_partitions_cnt = 40\n",
    "transactions_path = 's3://bsql/data/seattle_parking/parking_MayJun2019.parquet/partition_idx={partition}/'\n",
    "transactions_parq = [transactions_path.format(partition=p) for p in range(transactions_partitions_cnt)]\n",
    "\n",
    "locations_parq = 's3://bsql/data/seattle_parking/parking_locations.parquet/'"
   ]
  },
  {
   "cell_type": "markdown",
   "metadata": {},
   "source": [
    "The table below helps mapping the day-of-the-week to its string representation."
   ]
  },
  {
   "cell_type": "code",
   "execution_count": null,
   "metadata": {},
   "outputs": [],
   "source": [
    "dow = cudf.DataFrame([\n",
    "          (0, 'Monday')\n",
    "        , (1, 'Tuesday')\n",
    "        , (2, 'Wednesday')\n",
    "        , (3, 'Thursday')\n",
    "        , (4, 'Friday')\n",
    "        , (5, 'Saturday')\n",
    "        , (6, 'Sunday')\n",
    "    ], columns=['dow', 'dow_str'])"
   ]
  },
  {
   "cell_type": "markdown",
   "metadata": {},
   "source": [
    "Finally, create the table."
   ]
  },
  {
   "cell_type": "code",
   "execution_count": null,
   "metadata": {},
   "outputs": [],
   "source": [
    "%%time\n",
    "bc.create_table('parking_transactions', transactions_parq)\n",
    "bc.create_table('parking_locations', locations_parq)\n",
    "bc.create_table('dow', dow)"
   ]
  },
  {
   "cell_type": "markdown",
   "metadata": {},
   "source": [
    "# Basic information\n",
    "Let's build some basic understanding of the data we're dealing with."
   ]
  },
  {
   "cell_type": "markdown",
   "metadata": {},
   "source": [
    "## Parking transactions\n",
    "Let's look up the first 10 parking transactions."
   ]
  },
  {
   "cell_type": "code",
   "execution_count": null,
   "metadata": {},
   "outputs": [],
   "source": [
    "%%time\n",
    "transactions_sample = bc.sql('SELECT * FROM parking_transactions LIMIT 10')"
   ]
  },
  {
   "cell_type": "markdown",
   "metadata": {},
   "source": [
    "The top 10 transactions are now in the `transactions_sample` cudf DataFrame. \n",
    "\n",
    "Let's look at the features of this dataset."
   ]
  },
  {
   "cell_type": "code",
   "execution_count": null,
   "metadata": {},
   "outputs": [],
   "source": [
    "%%time\n",
    "print(f'The dataset has {bc.sql(\"SELECT COUNT(*) FROM parking_transactions\").compute().to_pandas().values.tolist()[0][0]:,} records and {transactions_sample.shape[1]} columns.')"
   ]
  },
  {
   "cell_type": "code",
   "execution_count": null,
   "metadata": {},
   "outputs": [],
   "source": [
    "print(f'List of columns: {\", \".join(list(transactions_sample.columns))}.')"
   ]
  },
  {
   "cell_type": "code",
   "execution_count": null,
   "metadata": {},
   "outputs": [],
   "source": [
    "transactions_sample.dtypes"
   ]
  },
  {
   "cell_type": "markdown",
   "metadata": {},
   "source": [
    "Most of the columns are self-explanatory: \n",
    "\n",
    "1. `OccupancyDateTime` describes when the transaction took place.\n",
    "2. `PaidOccupancy` indicated the total number of spots occupied at that point in time.\n",
    "3. `SourceElementKey` is the ID of the parking spot.\n",
    "4. `dow` is the integer representation of the day-of-week (0 = Monday)."
   ]
  },
  {
   "cell_type": "markdown",
   "metadata": {},
   "source": [
    "Here's the sample rows."
   ]
  },
  {
   "cell_type": "code",
   "execution_count": null,
   "metadata": {},
   "outputs": [],
   "source": [
    "transactions_sample.compute()"
   ]
  },
  {
   "cell_type": "markdown",
   "metadata": {},
   "source": [
    "## Parking locations\n",
    "The next table holds the list of all the transactions with their metadata."
   ]
  },
  {
   "cell_type": "code",
   "execution_count": null,
   "metadata": {},
   "outputs": [],
   "source": [
    "%%time\n",
    "locations_sample = bc.sql('SELECT * FROM parking_locations LIMIT 10')"
   ]
  },
  {
   "cell_type": "markdown",
   "metadata": {},
   "source": [
    "Let's look at the metadata here."
   ]
  },
  {
   "cell_type": "code",
   "execution_count": null,
   "metadata": {},
   "outputs": [],
   "source": [
    "print(f'The dataset has {bc.sql(\"SELECT COUNT(*) FROM parking_locations\").compute().to_pandas().values.tolist()[0][0]:,} records and {locations_sample.shape[1]} columns.')"
   ]
  },
  {
   "cell_type": "code",
   "execution_count": null,
   "metadata": {},
   "outputs": [],
   "source": [
    "print(f'List of columns: {\", \".join(list(locations_sample.columns))}.')"
   ]
  },
  {
   "cell_type": "code",
   "execution_count": null,
   "metadata": {},
   "outputs": [],
   "source": [
    "locations_sample.dtypes"
   ]
  },
  {
   "cell_type": "markdown",
   "metadata": {},
   "source": [
    "We have 9 columns:\n",
    "\n",
    "1. `SourceElementKey` is the ID of the parking spot. We will use it to join with the `parking_transactions` table\n",
    "2. `BlockfaceName` describes the location of the parking spot in terms of blocks (see below for an example)\n",
    "3. `SideOfStreet` indicates whether the parking is on the e.g. north or south side for a street that runs from east to west\n",
    "4. `ParkingTimeLimitCategory` shows the maximum allowed parking time (in minutes) at the location\n",
    "5. `ParkingSpaceCount` gives the total number of parking spots available at the location\n",
    "6. `PaidParkingArea` describes the broader parking area name\n",
    "7. `PaidParkingSubArea` can be better understood as a city-quarter (e.g. Belltown, or Pioneer Square)\n",
    "8. `ParkingCategory` indicates either a Carpool Parking, Paid Parking or RPZ (Restricted Parking Zone)\n",
    "9. `Location` a point location in a WKT (Well Known Text) format (see an example below)."
   ]
  },
  {
   "cell_type": "code",
   "execution_count": null,
   "metadata": {},
   "outputs": [],
   "source": [
    "locations_sample.compute()"
   ]
  },
  {
   "cell_type": "markdown",
   "metadata": {},
   "source": [
    "Clean up some duplicates"
   ]
  },
  {
   "cell_type": "code",
   "execution_count": null,
   "metadata": {},
   "outputs": [],
   "source": [
    "bc.create_table('parking_locations', bc.sql('SELECT * FROM parking_locations').drop_duplicates(subset=['SourceElementKey']))"
   ]
  },
  {
   "cell_type": "markdown",
   "metadata": {},
   "source": [
    "# Featurize parking transactions\n",
    "Since we'll be looking at the parking occupancy per hour of the day, per day of the week, let's extract the date features."
   ]
  },
  {
   "cell_type": "code",
   "execution_count": null,
   "metadata": {},
   "outputs": [],
   "source": [
    "bc.create_table('parking_transactions'\n",
    "    , bc.sql('''\n",
    "        SELECT *\n",
    "            , YEAR(OccupancyDateTime) AS o_year \n",
    "            , MONTH(OccupancyDateTime) AS o_month\n",
    "            , DAYOFMONTH(OccupancyDateTime) AS o_day\n",
    "            , HOUR(OccupancyDateTime) AS o_hour\n",
    "        FROM parking_transactions\n",
    "    ''')\n",
    ")\n",
    "bc.sql('SELECT * FROM parking_transactions LIMIT 10').compute()"
   ]
  },
  {
   "cell_type": "markdown",
   "metadata": {},
   "source": [
    "Let's see how many transactions we get per day."
   ]
  },
  {
   "cell_type": "code",
   "execution_count": null,
   "metadata": {},
   "outputs": [],
   "source": [
    "%%time\n",
    "counts = bc.sql('''\n",
    "    SELECT o_year\n",
    "        , o_month\n",
    "        , o_day\n",
    "        , COUNT(*) AS cnt\n",
    "    FROM parking_transactions\n",
    "    GROUP BY o_year\n",
    "        , o_month\n",
    "        , o_day\n",
    "    ORDER BY o_year\n",
    "        , o_month\n",
    "        , o_day\n",
    "''')\n",
    "counts.compute().to_pandas().set_index(['o_year', 'o_month', 'o_day']).plot(kind='bar', figsize=(18,9))"
   ]
  },
  {
   "cell_type": "markdown",
   "metadata": {},
   "source": [
    "As you can see we get almost consistently the same daily number of transactions."
   ]
  },
  {
   "cell_type": "code",
   "execution_count": null,
   "metadata": {},
   "outputs": [],
   "source": [
    "print('Average number of transactions per day: {0:,.0f}'.format(counts['cnt'].mean().compute()))"
   ]
  },
  {
   "cell_type": "markdown",
   "metadata": {},
   "source": [
    "# Featurize parking locations\n",
    "Let's now extract the latitude and longitude from the parking `Location` metadata."
   ]
  },
  {
   "cell_type": "code",
   "execution_count": null,
   "metadata": {},
   "outputs": [],
   "source": [
    "bc.create_table('parking_locations', \n",
    "    bc.sql('''\n",
    "        SELECT *\n",
    "            , CAST(SUBSTRING(Location, 8, delimiter_location - 10) AS FLOAT) AS LON\n",
    "            , SUBSTRING(Location, delimiter_location, A.len - delimiter_location) AS LAT\n",
    "        FROM (\n",
    "            SELECT *\n",
    "                , CHAR_LENGTH(Location) AS len\n",
    "                , CASE \n",
    "                    WHEN SUBSTRING(Location, 19, 1) = ' ' THEN 20 \n",
    "                    WHEN SUBSTRING(Location, 20, 1) = ' ' THEN 21 \n",
    "                    WHEN SUBSTRING(Location, 21, 1) = ' ' THEN 22\n",
    "                    WHEN SUBSTRING(Location, 22, 1) = ' ' THEN 23\n",
    "                  END AS delimiter_location\n",
    "            FROM parking_locations \n",
    "        ) AS A\n",
    "    ''')\n",
    ")"
   ]
  },
  {
   "cell_type": "markdown",
   "metadata": {},
   "source": [
    "# Average occupancy\n",
    "Average occupancy can be higher than 100%: I think it's a data fluke. Thus, we cap it at 100% in the query below."
   ]
  },
  {
   "cell_type": "code",
   "execution_count": null,
   "metadata": {},
   "outputs": [],
   "source": [
    "%%time\n",
    "bc.create_table('parking_transactions'\n",
    "    , bc.sql('''\n",
    "        SELECT SourceElementKey\n",
    "            , OccupancyDateTime\n",
    "            , PaidOccupancy\n",
    "            , ParkingSpaceCount\n",
    "            , CASE WHEN AvgOccupancy > 1 THEN 1 ELSE AvgOccupancy END AS AvgOccupancy\n",
    "            , dow\n",
    "            , o_hour\n",
    "        FROM (\n",
    "            SELECT A.*\n",
    "                , B.ParkingSpaceCount\n",
    "                , A.PaidOccupancy / CAST(B.ParkingSpaceCount AS FLOAT) AS AvgOccupancy\n",
    "            FROM parking_transactions AS A\n",
    "            LEFT OUTER JOIN (SELECT SourceElementKey, ParkingSpaceCount FROM parking_locations) AS B\n",
    "                ON A.SourceElementKey = B.SourceElementKey\n",
    "        ) AS inner_table\n",
    "    ''')\n",
    ")\n",
    "\n",
    "bc.sql('SELECT * FROM parking_transactions LIMIT 10').compute()"
   ]
  },
  {
   "cell_type": "code",
   "execution_count": null,
   "metadata": {},
   "outputs": [],
   "source": [
    "%%time\n",
    "bc.create_table('means', bc.sql('''\n",
    "    SELECT SourceElementKey\n",
    "        , dow\n",
    "        , o_hour\n",
    "        , AVG(AvgOccupancy) AS MeanOccupancy\n",
    "    FROM parking_transactions\n",
    "    GROUP BY SourceElementKey\n",
    "        , dow\n",
    "        , o_hour\n",
    "'''))"
   ]
  },
  {
   "cell_type": "markdown",
   "metadata": {},
   "source": [
    "## Average per day-of-week and per hour"
   ]
  },
  {
   "cell_type": "markdown",
   "metadata": {},
   "source": [
    "Let's see an average occupancy per day of the week, per hour of the day."
   ]
  },
  {
   "cell_type": "code",
   "execution_count": null,
   "metadata": {},
   "outputs": [],
   "source": [
    "%%time\n",
    "mean_occupancy = bc.sql('''\n",
    "    SELECT A.dow\n",
    "        , B.dow_str\n",
    "        , A.o_hour\n",
    "        , AVG(A.AvgOccupancy) AS MeanOccupancy\n",
    "    FROM parking_transactions AS A\n",
    "    LEFT OUTER JOIN dow AS B\n",
    "        ON A.dow = B.dow\n",
    "    GROUP BY A.dow\n",
    "        , B.dow_str\n",
    "        , A.o_hour\n",
    "    ORDER BY A.dow\n",
    "        , A.o_hour\n",
    "''')"
   ]
  },
  {
   "cell_type": "code",
   "execution_count": null,
   "metadata": {},
   "outputs": [],
   "source": [
    "mean_occupancy.compute().to_pandas().set_index(['dow_str', 'o_hour'])['MeanOccupancy'].plot(kind='bar', figsize=(18,9))"
   ]
  },
  {
   "cell_type": "markdown",
   "metadata": {},
   "source": [
    "You can clearly see the daily seasonality and the effects of the Friday night. **NOTE** Sunday is not present here as the parking in Seattle if free on Sundays."
   ]
  },
  {
   "cell_type": "markdown",
   "metadata": {},
   "source": [
    "# Find the best parking\n",
    "Let's now consider a usecase: you want to come to visit Space Needle in Seattle that has the iconic view of Downtown and of the Puget Sound."
   ]
  },
  {
   "cell_type": "code",
   "execution_count": null,
   "metadata": {},
   "outputs": [],
   "source": [
    "%%time\n",
    "bc.create_table('parking_locations'\n",
    "    , bc.sql('''\n",
    "        SELECT *\n",
    "            , 47.620422 AS LAT_Ref\n",
    "            , -122.349358 AS LON_Ref\n",
    "        FROM parking_locations\n",
    "    ''')\n",
    ")\n",
    "\n",
    "bc.sql('SELECT * FROM parking_locations LIMIT 5').compute()"
   ]
  },
  {
   "cell_type": "markdown",
   "metadata": {},
   "source": [
    "First, we'll calculate a haversine distance from the Kerry Park to each and every parking location in our dataset."
   ]
  },
  {
   "cell_type": "code",
   "execution_count": null,
   "metadata": {},
   "outputs": [],
   "source": [
    "bc.create_table('temp', bc.sql('''\n",
    "    SELECT SourceElementKey\n",
    "        , LON\n",
    "        , LAT\n",
    "        , LON_Ref\n",
    "        , LAT_Ref\n",
    "        , LAT / 180.0 * 3.141592653589 AS LAT_RAD\n",
    "        , LAT_Ref / 180.0 * 3.141592653589 AS LAT_REF_RAD\n",
    "        , (LON_Ref - LON) / 180.0 * 3.141592653589 AS DELTA_LON\n",
    "        , (LAT_Ref - LAT) / 180.0 * 3.141592653589 AS DELTA_LAT\n",
    "    FROM parking_locations\n",
    "'''))\n",
    "\n",
    "bc.create_table('temp', bc.sql('''\n",
    "        SELECT *\n",
    "            , POWER(SIN(DELTA_LAT / 2.0),2) + COS(LAT_RAD) * COS(LAT_REF_RAD) * POWER(SIN(DELTA_LON / 2.0),2) AS A\n",
    "        FROM temp\n",
    "    ''')\n",
    ")\n",
    "\n",
    "bc.create_table('parking_locations', \n",
    "    bc.sql('''\n",
    "        SELECT A.*\n",
    "            , ASIN(SQRT(A)) * 2 * 3958.8 * 5280 AS DISTANCE_FEET\n",
    "        FROM parking_locations AS A\n",
    "        LEFT OUTER JOIN temp AS B\n",
    "            ON A.SourceElementKey = B.SourceElementKey\n",
    "    ''')\n",
    ")"
   ]
  },
  {
   "cell_type": "code",
   "execution_count": null,
   "metadata": {},
   "outputs": [],
   "source": [
    "bc.drop_table('temp')"
   ]
  },
  {
   "cell_type": "markdown",
   "metadata": {},
   "source": [
    "Further, let's now consider that you want to come to visit on Thursday around 5PM. Here's a list of the parking spots that are nearest to Kerry Park and give you the highest chances of actually finding a parking spot."
   ]
  },
  {
   "cell_type": "code",
   "execution_count": null,
   "metadata": {},
   "outputs": [],
   "source": [
    "%%time\n",
    "day_of_week = 4\n",
    "hour_of_day = 17\n",
    "\n",
    "bc.sql(f'''\n",
    "    SELECT BlockfaceName\n",
    "        , PaidParkingArea\n",
    "        , ParkingCategory\n",
    "        , {day_of_week} AS day_of_week\n",
    "        , {hour_of_day} AS hour_of_day\n",
    "        , LON\n",
    "        , LAT\n",
    "        , DISTANCE_FEET\n",
    "        , B.MeanOccupancy\n",
    "    FROM parking_locations AS A\n",
    "    LEFT OUTER JOIN means AS B\n",
    "        ON A.SourceElementKey = B.SourceElementKey\n",
    "            AND B.dow = {day_of_week}\n",
    "            AND B.o_hour = {hour_of_day}\n",
    "    WHERE DISTANCE_FEET < 1000\n",
    "        AND B.MeanOccupancy <= 0.5\n",
    "    ORDER BY DISTANCE_FEET ASC\n",
    "''').compute()"
   ]
  },
  {
   "cell_type": "markdown",
   "metadata": {},
   "source": [
    "So, the nearest two parking spots are mostly located in Belltown: within 1000ft you can find 6 parking spots with quite a few open parking spots (on average)."
   ]
  }
 ],
 "metadata": {
  "kernelspec": {
   "display_name": "RAPIDS Stable",
   "language": "python",
   "name": "python3"
  },
  "language_info": {
   "codemirror_mode": {
    "name": "ipython",
    "version": 3
   },
   "file_extension": ".py",
   "mimetype": "text/x-python",
   "name": "python",
   "nbconvert_exporter": "python",
   "pygments_lexer": "ipython3",
   "version": "3.7.9"
  }
 },
 "nbformat": 4,
 "nbformat_minor": 4
}
