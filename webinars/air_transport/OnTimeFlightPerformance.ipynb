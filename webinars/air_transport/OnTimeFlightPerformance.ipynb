{
 "cells": [
  {
   "cell_type": "markdown",
   "metadata": {},
   "source": [
    "# GPU-Accelerated Data Science: On-time flight performance during COVID\n",
    "\n",
    "When the COVID-19 pandemic hit in 2019 a lot of industries were put on hold. During this time air travel was hit particularly hard. Has it had any impact on the ontime performance of airports and airlines? Let's find out!\n",
    "\n",
    "Sources:\n",
    "1. [Open Flights Data](https://openflights.org/data.html)\n",
    "2. [Bureau of Transportation Statistics](https://www.transtats.bts.gov/DL_SelectFields.asp?Table_ID=236&DB_Short_Name=On-Time). We will look at period 1/1/2020 to 5/31/2020."
   ]
  },
  {
   "cell_type": "markdown",
   "metadata": {},
   "source": [
    "jupyter labextension install @jupyter-widgets/jupyterlab-manager## Imports\n",
    "First, of course, let's import the tools that we need."
   ]
  },
  {
   "cell_type": "code",
   "execution_count": null,
   "metadata": {},
   "outputs": [],
   "source": [
    "import cudf\n",
    "import blazingsql as bsql\n",
    "import s3fs\n",
    "import numpy as np\n",
    "from collections import OrderedDict\n",
    "import matplotlib.pyplot as plt\n",
    "import cartopy.crs as ccrs\n",
    "import cartopy.feature as cfeature"
   ]
  },
  {
   "cell_type": "markdown",
   "metadata": {},
   "source": [
    "### `BlazingContext`\n",
    "You must establish a `BlazingContext` to connect to a BlazingSQL instance to create tables, run queries, and basically do anything with BlazingSQL."
   ]
  },
  {
   "cell_type": "code",
   "execution_count": null,
   "metadata": {},
   "outputs": [],
   "source": [
    "bc = bsql.BlazingContext()"
   ]
  },
  {
   "cell_type": "markdown",
   "metadata": {},
   "source": [
    "## Data reading and querying\n",
    "\n",
    "There are two ways to load and query data using tools from the RAPIDS ecosystem: load directly into memory using `cudf` or `.create_table()` using `BlazingContext`."
   ]
  },
  {
   "cell_type": "markdown",
   "metadata": {},
   "source": [
    "### Flight data\n",
    "Paths to files"
   ]
  },
  {
   "cell_type": "code",
   "execution_count": null,
   "metadata": {},
   "outputs": [],
   "source": [
    "flight_data_path = 's3://bsql/data/air_transport/flight_ontime_2020-0[1-5].parquet'\n",
    "s3 = s3fs.S3FileSystem(anon=True)\n",
    "files = [f's3://{f}' for f in s3.glob(flight_data_path)]\n",
    "files"
   ]
  },
  {
   "cell_type": "markdown",
   "metadata": {},
   "source": [
    "#### Read the data\n",
    "We will use cuDF to read the data."
   ]
  },
  {
   "cell_type": "code",
   "execution_count": null,
   "metadata": {},
   "outputs": [],
   "source": [
    "%%time\n",
    "flights = []\n",
    "\n",
    "for f in files:\n",
    "    flights.append(cudf.read_parquet(f, storage_options={'anon': True}))\n",
    "    \n",
    "flights = cudf.concat(flights)"
   ]
  },
  {
   "cell_type": "code",
   "execution_count": null,
   "metadata": {},
   "outputs": [],
   "source": [
    "flights.head(5)"
   ]
  },
  {
   "cell_type": "code",
   "execution_count": null,
   "metadata": {},
   "outputs": [],
   "source": [
    "print(f'Total number of flights in the dataset: {len(flights):,}')"
   ]
  },
  {
   "cell_type": "markdown",
   "metadata": {},
   "source": [
    "Register a table with `BlazingContext`"
   ]
  },
  {
   "cell_type": "code",
   "execution_count": null,
   "metadata": {},
   "outputs": [],
   "source": [
    "bc.create_table('flights', flights)"
   ]
  },
  {
   "cell_type": "markdown",
   "metadata": {},
   "source": [
    "#### Columns and data types"
   ]
  },
  {
   "cell_type": "code",
   "execution_count": null,
   "metadata": {},
   "outputs": [],
   "source": [
    "flights.columns"
   ]
  },
  {
   "cell_type": "code",
   "execution_count": null,
   "metadata": {},
   "outputs": [],
   "source": [
    "flights.dtypes"
   ]
  },
  {
   "cell_type": "markdown",
   "metadata": {},
   "source": [
    "### Airlines and airports data\n",
    "Paths to files"
   ]
  },
  {
   "cell_type": "code",
   "execution_count": null,
   "metadata": {},
   "outputs": [],
   "source": [
    "airports_path = 's3://bsql/data/air_transport/airports.csv'\n",
    "airlines_path = 's3://bsql/data/air_transport/airlines.csv'"
   ]
  },
  {
   "cell_type": "markdown",
   "metadata": {},
   "source": [
    "#### Read the data"
   ]
  },
  {
   "cell_type": "code",
   "execution_count": null,
   "metadata": {},
   "outputs": [],
   "source": [
    "airports_dtypes = OrderedDict([\n",
    "      ('Airport ID', 'int64')\n",
    "    , ('Name', 'str')\n",
    "    , ('City', 'str')\n",
    "    , ('Country', 'str')\n",
    "    , ('IATA', 'str')\n",
    "    , ('ICAO', 'str')\n",
    "    , ('Latitude', 'float64')\n",
    "    , ('Longitude', 'float64')\n",
    "    , ('Altitude', 'int64')\n",
    "    , ('Timezone', 'str')\n",
    "    , ('DST', 'str')\n",
    "    , ('Type', 'str')\n",
    "    , ('Source', 'str')\n",
    "])\n",
    "\n",
    "airports = cudf.read_csv(\n",
    "    airports_path\n",
    "    , names=list(airports_dtypes.keys())\n",
    "    , dtype=list(airports_dtypes.values())\n",
    "    , storage_options={'anon': True}\n",
    ")\n",
    "airports.head()"
   ]
  },
  {
   "cell_type": "code",
   "execution_count": null,
   "metadata": {},
   "outputs": [],
   "source": [
    "airlines_dtypes = OrderedDict([\n",
    "    ('Airline ID', 'int64')\n",
    "    , ('Name', 'str')\n",
    "    , ('Alias', 'str')\n",
    "    , ('IATA', 'str')\n",
    "    , ('ICAO', 'str')\n",
    "    , ('Callsign', 'str')\n",
    "    , ('Country', 'str')\n",
    "    , ('Active', 'str')\n",
    "])\n",
    "\n",
    "airlines = cudf.read_csv(\n",
    "    airlines_path\n",
    "    , names=list(airlines_dtypes.keys())\n",
    "    , dtype=list(airlines_dtypes.values())\n",
    "    , storage_options={'anon': True}\n",
    ")\n",
    "airlines.head()"
   ]
  },
  {
   "cell_type": "markdown",
   "metadata": {},
   "source": [
    "Register tables with `BlazingContext`"
   ]
  },
  {
   "cell_type": "code",
   "execution_count": null,
   "metadata": {},
   "outputs": [],
   "source": [
    "bc.create_table('airports', airports)\n",
    "bc.create_table('airlines', airlines)"
   ]
  },
  {
   "cell_type": "markdown",
   "metadata": {},
   "source": [
    "Add state to the `airports` table."
   ]
  },
  {
   "cell_type": "code",
   "execution_count": null,
   "metadata": {},
   "outputs": [],
   "source": [
    "airports_geo = bc.sql('''\n",
    "    SELECT DISTINCT A.airport\n",
    "        , A.State\n",
    "        , B.Name\n",
    "        , B.City\n",
    "    FROM (\n",
    "        SELECT DISTINCT ORIGIN AS Airport\n",
    "            , ORIGIN_STATE_ABR AS State\n",
    "        FROM flights\n",
    "\n",
    "        UNION ALL\n",
    "        SELECT DISTINCT DEST AS Airport\n",
    "            , DEST_STATE_ABR AS State\n",
    "        FROM flights AS A\n",
    "    ) AS A\n",
    "    LEFT OUTER JOIN airports AS B\n",
    "        ON A.Airport = B.IATA\n",
    "''')\n",
    "bc.create_table('airports_geo', airports_geo)"
   ]
  },
  {
   "cell_type": "code",
   "execution_count": null,
   "metadata": {},
   "outputs": [],
   "source": [
    "%%time\n",
    "bc.sql('''\n",
    "    SELECT A.FL_DATE\n",
    "        , A.OP_UNIQUE_CARRIER\n",
    "        , B.Name AS CARRIER_NAME\n",
    "        , A.ORIGIN\n",
    "        , C.Name AS ORIGIN_NAME\n",
    "        , C.City AS ORIGIN_CITY\n",
    "        , C.State AS ORIGIN_STATE        \n",
    "        , A.DEST\n",
    "        , D.Name AS DEST_NAME\n",
    "        , D.City AS DEST_CITY\n",
    "        , A.DEP_DELAY AS Delay\n",
    "    FROM flights AS A\n",
    "    LEFT OUTER JOIN airlines AS B\n",
    "        ON A.OP_UNIQUE_CARRIER = B.IATA\n",
    "    LEFT OUTER JOIN airports_geo AS C\n",
    "        ON A.ORIGIN = C.airport\n",
    "    LEFT OUTER JOIN airports_geo AS D\n",
    "        ON A.DEST = D.airport\n",
    "    LIMIT 4\n",
    "''')"
   ]
  },
  {
   "cell_type": "markdown",
   "metadata": {},
   "source": [
    "## Questions"
   ]
  },
  {
   "cell_type": "markdown",
   "metadata": {},
   "source": [
    "### 1. How many unique airports are in the dataset?"
   ]
  },
  {
   "cell_type": "code",
   "execution_count": null,
   "metadata": {},
   "outputs": [],
   "source": [
    "print(f'There are {len(flights[\"ORIGIN\"].unique())} distinct airports in the dataset')"
   ]
  },
  {
   "cell_type": "markdown",
   "metadata": {},
   "source": [
    "### 2. How many flights were delayed and departed early? What is the distribution?"
   ]
  },
  {
   "cell_type": "code",
   "execution_count": null,
   "metadata": {},
   "outputs": [],
   "source": [
    "print(f'{len(flights[flights[\"DEP_DELAY\"] > 0]):,} flights were delayed and {len(flights[flights[\"DEP_DELAY\"] <= 0]):,} left on time or early')"
   ]
  },
  {
   "cell_type": "code",
   "execution_count": null,
   "metadata": {},
   "outputs": [],
   "source": [
    "### calculate the distribution\n",
    "n_bins = 100\n",
    "\n",
    "delays = flights[flights['DEP_DELAY'] >  0]['DEP_DELAY']\n",
    "ontime = flights[flights['DEP_DELAY'] <= 0]['DEP_DELAY']"
   ]
  },
  {
   "cell_type": "code",
   "execution_count": null,
   "metadata": {},
   "outputs": [],
   "source": [
    "%%time\n",
    "del_bins = np.array([i * 15 for i in range(0, n_bins)], dtype='float64')\n",
    "delays_binned = delays.digitize(del_bins)\n",
    "delays_histogram = delays_binned.groupby().count() / len(delays)\n",
    "(\n",
    "    delays_histogram\n",
    "    .set_index(del_bins[delays_histogram.index.to_array()-1])\n",
    "    .to_pandas()\n",
    "    .plot(kind='bar', figsize=(20,9), ylim=[0,1.0], title='Delayed departure distribution')\n",
    ")"
   ]
  },
  {
   "cell_type": "code",
   "execution_count": null,
   "metadata": {},
   "outputs": [],
   "source": [
    "%%time\n",
    "ontime_bins = np.array([i * (-1) for i in range(n_bins,0,-1)], dtype='float64')\n",
    "ontime_binned = ontime.digitize(ontime_bins)\n",
    "ontime_histogram = ontime_binned.groupby().count() / len(ontime)\n",
    "(\n",
    "    ontime_histogram\n",
    "    .set_index(ontime_bins[ontime_histogram.index.to_array()-1])\n",
    "    .to_pandas()\n",
    "    .plot(kind='bar', figsize=(20,9), ylim=[0,1.0], title='Early departure distribution')\n",
    ")"
   ]
  },
  {
   "cell_type": "markdown",
   "metadata": {},
   "source": [
    "### 3. Delays distribution over time"
   ]
  },
  {
   "cell_type": "code",
   "execution_count": null,
   "metadata": {},
   "outputs": [],
   "source": [
    "q10 = lambda x: x.quantile(0.10); q10.__name__ = \"q0.10\"\n",
    "q25 = lambda x: x.quantile(0.25); q25.__name__ = \"q0.25\"\n",
    "q75 = lambda x: x.quantile(0.75); q75.__name__ = \"q0.75\"\n",
    "q90 = lambda x: x.quantile(0.90); q90.__name__ = \"q0.90\"\n",
    "\n",
    "delay_aggs = (\n",
    "    flights[['MONTH', 'DEP_DELAY']]\n",
    "    .groupby(by='MONTH')\n",
    "    .agg({'DEP_DELAY': [q10, q25,'median',q75, q90]})\n",
    ")\n",
    "\n",
    "delay_aggs.columns = ['_'.join(col) for col in delay_aggs.columns]"
   ]
  },
  {
   "cell_type": "code",
   "execution_count": null,
   "metadata": {},
   "outputs": [],
   "source": [
    "host=delay_aggs.to_pandas()\n",
    "host"
   ]
  },
  {
   "cell_type": "code",
   "execution_count": null,
   "metadata": {},
   "outputs": [],
   "source": [
    "x = ['JAN', 'FEB', 'MAR', 'APR', 'MAY']\n",
    "fig, ax = plt.subplots(figsize=(12,9))\n",
    "ax.plot(x, host['DEP_DELAY_median'], 'r--', label='median')\n",
    "ax.fill_between(x, host['DEP_DELAY_q0.10'], host['DEP_DELAY_q0.90']\n",
    "                , alpha=.2, label='Quart10 - Quart90')\n",
    "ax.fill_between(x, host['DEP_DELAY_q0.25'], host['DEP_DELAY_q0.75']\n",
    "                , alpha=.2, label='Quart25 - Quart75')\n",
    "ax.legend()"
   ]
  },
  {
   "cell_type": "markdown",
   "metadata": {},
   "source": [
    "### 4. What are the top 5 airlines and airports with most delays and at least 1000 flights? What is average delay?"
   ]
  },
  {
   "cell_type": "code",
   "execution_count": null,
   "metadata": {},
   "outputs": [],
   "source": [
    "delays = flights[flights['DEP_DELAY'] >  0][['DEP_DELAY', 'ORIGIN', 'DEST', 'OP_UNIQUE_CARRIER']]\n",
    "ontime = flights[flights['DEP_DELAY'] <= 0][['DEP_DELAY', 'ORIGIN', 'DEST', 'OP_UNIQUE_CARRIER']]"
   ]
  },
  {
   "cell_type": "code",
   "execution_count": null,
   "metadata": {},
   "outputs": [],
   "source": [
    "bc.create_table('delays', delays)\n",
    "bc.create_table('ontime', ontime)"
   ]
  },
  {
   "cell_type": "code",
   "execution_count": null,
   "metadata": {},
   "outputs": [],
   "source": [
    "def plot_airports(df, cmap, agg_cols, indicator):\n",
    "    host = df.to_pandas()\n",
    "    \n",
    "    ### figure\n",
    "    fig = plt.figure(figsize=(12,9))\n",
    "    \n",
    "    ### plot on map\n",
    "    ax = fig.add_subplot(1, 1, 1, projection=ccrs.PlateCarree())\n",
    "    ax.set_extent([-125, -70, 22, 55], crs=ccrs.PlateCarree()) ## US Continental\n",
    "    ax.stock_img()\n",
    "    \n",
    "    ### add features\n",
    "    ax.add_feature(cfeature.LAKES)\n",
    "    ax.add_feature(cfeature.STATES)\n",
    "    ax.add_feature(cfeature.COASTLINE)\n",
    "    \n",
    "    ### add data\n",
    "    bubbles = ax.scatter(\n",
    "        host['Longitude']\n",
    "        , host['Latitude']\n",
    "        , s=host[agg_cols['CNT']] / 50, label=\"Flight Count\"\n",
    "        , c=host[agg_cols['AVG']]\n",
    "        , cmap=plt.get_cmap(cmap)\n",
    "        , alpha=0.8\n",
    "    )\n",
    "\n",
    "    ### add colorbar\n",
    "    delays = host[agg_cols['AVG']]\n",
    "    tick_values = np.linspace(delays.min(), delays.max(), 11)\n",
    "    cbar = fig.colorbar(bubbles, shrink=0.7)\n",
    "    cbar.ax.set_yticklabels([f'{round(v)} mins' for v in tick_values], fontsize=14)\n",
    "    cbar.set_label(f'Average {indicator}', fontsize=16)\n",
    "    plt.legend(fontsize=16)"
   ]
  },
  {
   "cell_type": "markdown",
   "metadata": {},
   "source": [
    "### Most delayed\n",
    "#### Origin"
   ]
  },
  {
   "cell_type": "code",
   "execution_count": null,
   "metadata": {},
   "outputs": [],
   "source": [
    "%%time\n",
    "delayed_origin = bc.sql('''\n",
    "    SELECT A.ORIGIN\n",
    "        , B.Name AS ORIGIN_Airport\n",
    "        , B.City AS ORIGIN_City\n",
    "        , B.Country AS ORIGIN_Country\n",
    "        , B.Latitude\n",
    "        , B.Longitude\n",
    "        , COUNT(*) AS DELAY_CNT\n",
    "        , AVG(DEP_DELAY) AS AVG_DELAY\n",
    "    FROM delays AS A\n",
    "    LEFT OUTER JOIN airports AS B\n",
    "        ON A.ORIGIN = B.IATA\n",
    "    GROUP BY A.ORIGIN\n",
    "        , B.Name\n",
    "        , B.City\n",
    "        , B.Country\n",
    "        , B.Latitude\n",
    "        , B.Longitude\n",
    "    HAVING COUNT(*) > 1000\n",
    "        AND B.Country = 'United States'\n",
    "    ORDER BY AVG(DEP_DELAY) DESC\n",
    "    LIMIT 60\n",
    "''')\n",
    "delayed_origin.head()"
   ]
  },
  {
   "cell_type": "code",
   "execution_count": null,
   "metadata": {},
   "outputs": [],
   "source": [
    "### plot\n",
    "plot_airports(\n",
    "    delayed_origin\n",
    "    , 'YlOrRd'\n",
    "    , {'CNT': 'DELAY_CNT', 'AVG': 'AVG_DELAY'}\n",
    "    , 'delays'\n",
    ")"
   ]
  },
  {
   "cell_type": "markdown",
   "metadata": {},
   "source": [
    "#### Destination"
   ]
  },
  {
   "cell_type": "code",
   "execution_count": null,
   "metadata": {},
   "outputs": [],
   "source": [
    "%%time\n",
    "delayed_destination = bc.sql('''\n",
    "    SELECT A.DEST\n",
    "        , B.Name AS DEST_Airport\n",
    "        , B.City AS DEST_City\n",
    "        , B.Country AS DEST_Country\n",
    "        , B.Latitude\n",
    "        , B.Longitude\n",
    "        , COUNT(*) AS DELAY_CNT\n",
    "        , AVG(DEP_DELAY) AS AVG_DELAY\n",
    "    FROM delays AS A\n",
    "    LEFT OUTER JOIN airports AS B\n",
    "        ON A.DEST = B.IATA\n",
    "    GROUP BY A.DEST\n",
    "        , B.Name\n",
    "        , B.City\n",
    "        , B.Country\n",
    "        , B.Latitude\n",
    "        , B.Longitude\n",
    "    HAVING COUNT(*) > 1000\n",
    "        AND B.Country = 'United States'\n",
    "    ORDER BY AVG(DEP_DELAY) DESC\n",
    "    LIMIT 60\n",
    "''')\n",
    "delayed_destination.head()"
   ]
  },
  {
   "cell_type": "code",
   "execution_count": null,
   "metadata": {},
   "outputs": [],
   "source": [
    "### plot\n",
    "plot_airports(\n",
    "    delayed_destination\n",
    "    , 'YlOrRd'\n",
    "    , {'CNT': 'DELAY_CNT', 'AVG': 'AVG_DELAY'}\n",
    "    , 'delays'\n",
    ")"
   ]
  },
  {
   "cell_type": "markdown",
   "metadata": {},
   "source": [
    "#### Airlines"
   ]
  },
  {
   "cell_type": "code",
   "execution_count": null,
   "metadata": {},
   "outputs": [],
   "source": [
    "%%time\n",
    "bc.sql('''\n",
    "    SELECT A.OP_UNIQUE_CARRIER AS CARRIER\n",
    "        , B.Name AS CARRIER_Name\n",
    "        , B.Country AS CARRIER_Country\n",
    "        , COUNT(*) AS DELAY_CNT\n",
    "        , AVG(DEP_DELAY) AS AVG_DELAY\n",
    "    FROM delays AS A\n",
    "    LEFT OUTER JOIN airlines AS B\n",
    "        ON A.OP_UNIQUE_CARRIER = B.IATA\n",
    "    GROUP BY A.OP_UNIQUE_CARRIER\n",
    "        , B.Name\n",
    "        , B.Country\n",
    "    HAVING COUNT(*) > 1000\n",
    "    ORDER BY AVG(DEP_DELAY) DESC\n",
    "    LIMIT 5\n",
    "''')"
   ]
  },
  {
   "cell_type": "markdown",
   "metadata": {},
   "source": [
    "### Most punctual"
   ]
  },
  {
   "cell_type": "markdown",
   "metadata": {},
   "source": [
    "#### Origin"
   ]
  },
  {
   "cell_type": "code",
   "execution_count": null,
   "metadata": {},
   "outputs": [],
   "source": [
    "%%time\n",
    "ontime_origin = bc.sql('''\n",
    "    SELECT A.ORIGIN\n",
    "        , B.Name AS ORIGIN_Airport\n",
    "        , B.City AS ORIGIN_City\n",
    "        , B.Country AS ORIGIN_Country\n",
    "        , B.Latitude\n",
    "        , B.Longitude\n",
    "        , COUNT(*) AS ONTIME_CNT\n",
    "        , AVG(DEP_DELAY) AS AVG_ONTIME\n",
    "    FROM ontime AS A\n",
    "    LEFT OUTER JOIN airports AS B\n",
    "        ON A.ORIGIN = B.IATA\n",
    "    GROUP BY A.ORIGIN\n",
    "        , B.Name\n",
    "        , B.City\n",
    "        , B.Country\n",
    "        , B.Latitude\n",
    "        , B.Longitude\n",
    "    HAVING COUNT(*) > 1000\n",
    "        AND B.Country = 'United States'\n",
    "    ORDER BY AVG(DEP_DELAY) DESC\n",
    "    LIMIT 60\n",
    "''')\n",
    "ontime_origin.head()"
   ]
  },
  {
   "cell_type": "code",
   "execution_count": null,
   "metadata": {},
   "outputs": [],
   "source": [
    "### plot\n",
    "plot_airports(\n",
    "    ontime_origin\n",
    "    , 'Greens'\n",
    "    , {'CNT': 'ONTIME_CNT', 'AVG': 'AVG_ONTIME'}\n",
    "    , 'ontime'\n",
    ")"
   ]
  },
  {
   "cell_type": "markdown",
   "metadata": {},
   "source": [
    "#### Destination"
   ]
  },
  {
   "cell_type": "code",
   "execution_count": null,
   "metadata": {},
   "outputs": [],
   "source": [
    "%%time\n",
    "ontime_destination = bc.sql('''\n",
    "    SELECT A.DEST\n",
    "        , B.Name AS DEST_Airport\n",
    "        , B.City AS DEST_City\n",
    "        , B.Country AS DEST_Country\n",
    "        , B.Latitude\n",
    "        , B.Longitude\n",
    "        , COUNT(*) AS ONTIME_CNT\n",
    "        , AVG(DEP_DELAY) AS AVG_ONTIME\n",
    "    FROM ontime AS A\n",
    "    LEFT OUTER JOIN airports AS B\n",
    "        ON A.DEST = B.IATA\n",
    "    GROUP BY A.DEST\n",
    "        , B.Name\n",
    "        , B.City\n",
    "        , B.Country\n",
    "        , B.Latitude\n",
    "        , B.Longitude\n",
    "    HAVING COUNT(*) > 1000\n",
    "        AND B.Country = 'United States'\n",
    "    ORDER BY AVG(DEP_DELAY) DESC\n",
    "    LIMIT 30\n",
    "''')\n",
    "ontime_destination.head(5)"
   ]
  },
  {
   "cell_type": "code",
   "execution_count": null,
   "metadata": {},
   "outputs": [],
   "source": [
    "### plot\n",
    "plot_airports(\n",
    "    ontime_destination\n",
    "    , 'Greens'\n",
    "    , {'CNT': 'ONTIME_CNT', 'AVG': 'AVG_ONTIME'}\n",
    "    , 'ontime'\n",
    ")"
   ]
  },
  {
   "cell_type": "markdown",
   "metadata": {},
   "source": [
    "#### Airline"
   ]
  },
  {
   "cell_type": "code",
   "execution_count": null,
   "metadata": {},
   "outputs": [],
   "source": [
    "%%time\n",
    "bc.sql('''\n",
    "    SELECT A.OP_UNIQUE_CARRIER AS CARRIER\n",
    "        , B.Name AS CARRIER_Name\n",
    "        , B.Country AS CARRIER_Country\n",
    "        , AVG(DEP_DELAY) AS AVG_ONTIME\n",
    "    FROM ontime AS A\n",
    "    LEFT OUTER JOIN airlines AS B\n",
    "        ON A.OP_UNIQUE_CARRIER = B.IATA\n",
    "    GROUP BY A.OP_UNIQUE_CARRIER\n",
    "        , B.Name\n",
    "        , B.Country\n",
    "    HAVING COUNT(*) > 1000\n",
    "    ORDER BY AVG(DEP_DELAY) DESC\n",
    "    LIMIT 5\n",
    "''')"
   ]
  },
  {
   "cell_type": "markdown",
   "metadata": {},
   "source": [
    "### 5. What flights departing SEA experienced significant delays?"
   ]
  },
  {
   "cell_type": "code",
   "execution_count": null,
   "metadata": {},
   "outputs": [],
   "source": [
    "%%time\n",
    "destinations = bc.sql('''\n",
    "    SELECT ORIGIN\n",
    "        , ORIGIN_LAT\n",
    "        , ORIGIN_LON\n",
    "        , DEST\n",
    "        , DEST_LAT\n",
    "        , DEST_LON\n",
    "        , COUNT(*) AS DELAY_CNT\n",
    "        , AVG(Delay) AS AVG_DELAY\n",
    "    FROM (\n",
    "        SELECT A.ORIGIN\n",
    "            , B.Latitude AS ORIGIN_LAT\n",
    "            , B.Longitude AS ORIGIN_LON\n",
    "            , A.DEST\n",
    "            , C.Latitude AS DEST_LAT\n",
    "            , C.Longitude AS DEST_LON\n",
    "            , A.DEP_DELAY AS Delay\n",
    "        FROM flights AS A\n",
    "        LEFT OUTER JOIN airports AS B\n",
    "            ON A.ORIGIN = B.IATA\n",
    "        LEFT OUTER JOIN airports AS C\n",
    "            ON A.DEST = C.IATA\n",
    "        WHERE ORIGIN = 'SEA'\n",
    "            AND C.Country = 'United States'\n",
    "            AND DEP_DELAY > 60  -- DELAYED BY MORE THAN HOUR\n",
    "    ) AS A\n",
    "    GROUP BY ORIGIN\n",
    "        , ORIGIN_LAT\n",
    "        , ORIGIN_LON\n",
    "        , DEST\n",
    "        , DEST_LAT\n",
    "        , DEST_LON\n",
    "    HAVING COUNT(*) > 50\n",
    "    ORDER BY AVG_DELAY DESC\n",
    "    LIMIT 30\n",
    "''')\n",
    "destinations.head(5)"
   ]
  },
  {
   "cell_type": "markdown",
   "metadata": {},
   "source": [
    "Plot the results on the map"
   ]
  },
  {
   "cell_type": "code",
   "execution_count": null,
   "metadata": {},
   "outputs": [],
   "source": [
    "def add_lines(ax, host):\n",
    "    lines = host[['ORIGIN_LON', 'ORIGIN_LAT', 'DEST_LON', 'DEST_LAT']].to_dict('list')\n",
    "    \n",
    "    sea = (lines['ORIGIN_LON'][0], lines['ORIGIN_LAT'][0])\n",
    "    for dest in zip(lines['DEST_LON'], lines['DEST_LAT']):\n",
    "        ax.arrow(*dest\n",
    "                 , sea[0]-dest[0], sea[1]-dest[1]\n",
    "                 , head_width=0.0, head_length=0.0\n",
    "                 , fc='k', ec='k')\n",
    "\n",
    "host = destinations.to_pandas()\n",
    "    \n",
    "### figure\n",
    "fig = plt.figure(figsize=(12,9))\n",
    "\n",
    "### plot on map\n",
    "ax = fig.add_subplot(1, 1, 1, projection=ccrs.PlateCarree())\n",
    "ax.set_extent([-125, -70, 22, 55], crs=ccrs.PlateCarree()) ## US Continental\n",
    "ax.stock_img()\n",
    "\n",
    "### add features\n",
    "ax.add_feature(cfeature.LAKES)\n",
    "ax.add_feature(cfeature.STATES)\n",
    "ax.add_feature(cfeature.COASTLINE)\n",
    "\n",
    "### add data\n",
    "bubbles = ax.scatter(\n",
    "    host['DEST_LON']\n",
    "    , host['DEST_LAT']\n",
    "    , s=host['DELAY_CNT'] * 2, label=\"Flight Count\"\n",
    "    , c=host['AVG_DELAY']\n",
    "    , cmap=plt.get_cmap('jet')\n",
    "    , alpha=0.8\n",
    ")\n",
    "\n",
    "add_lines(ax, host)\n",
    "\n",
    "### add colorbar\n",
    "delays = host['AVG_DELAY']\n",
    "tick_values = np.linspace(delays.min(), delays.max(), 11)\n",
    "cbar = fig.colorbar(bubbles, shrink=0.7)\n",
    "cbar.ax.set_yticklabels([f'{round(v)} mins' for v in tick_values], fontsize=14)\n",
    "cbar.set_label(f'Average delays', fontsize=16)\n",
    "plt.legend(fontsize=16)"
   ]
  },
  {
   "cell_type": "markdown",
   "metadata": {},
   "source": [
    "### 6. Are there any specifc aircrafts (tail number) that are less reliable?"
   ]
  },
  {
   "cell_type": "code",
   "execution_count": null,
   "metadata": {},
   "outputs": [],
   "source": [
    "tail_numbers = bc.sql('''\n",
    "    SELECT TAIL_NUM\n",
    "        , B.Name AS AirlineName\n",
    "        , DEP_DELAY\n",
    "    FROM flights AS A\n",
    "    LEFT OUTER JOIN airlines AS B\n",
    "        ON A.OP_UNIQUE_CARRIER = B.IATA\n",
    "    WHERE TAIL_NUM <> ''\n",
    "        AND DEP_DELAY > 0\n",
    "''')"
   ]
  },
  {
   "cell_type": "code",
   "execution_count": null,
   "metadata": {},
   "outputs": [],
   "source": [
    "aircraft_aggs = (\n",
    "    tail_numbers\n",
    "    .groupby(by=['TAIL_NUM', 'AirlineName'])\n",
    "    .agg({'DEP_DELAY': ['count', q25,'median',q75, 'max']})\n",
    ")\n",
    "\n",
    "aircraft_aggs.columns = ['_'.join(col) for col in aircraft_aggs.columns]\n",
    "aircraft_aggs = (\n",
    "    aircraft_aggs\n",
    "    .query('DEP_DELAY_count > 100')\n",
    "    .sort_values(by='DEP_DELAY_median', ascending=False)\n",
    ")"
   ]
  },
  {
   "cell_type": "code",
   "execution_count": null,
   "metadata": {},
   "outputs": [],
   "source": [
    "aircraft_aggs.head(10)"
   ]
  }
 ],
 "metadata": {
  "kernelspec": {
   "display_name": "Python 3",
   "language": "python",
   "name": "python3"
  },
  "language_info": {
   "codemirror_mode": {
    "name": "ipython",
    "version": 3
   },
   "file_extension": ".py",
   "mimetype": "text/x-python",
   "name": "python",
   "nbconvert_exporter": "python",
   "pygments_lexer": "ipython3",
   "version": "3.8.5"
  }
 },
 "nbformat": 4,
 "nbformat_minor": 4
}
