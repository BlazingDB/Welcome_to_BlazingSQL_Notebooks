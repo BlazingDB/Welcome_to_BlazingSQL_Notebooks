{
 "cells": [
  {
   "cell_type": "markdown",
   "metadata": {},
   "source": [
    "# Ciencia de Datos acelerada con GPUs: Puntualidad en tráfico aéreo durante COVID\n",
    "\n",
    "Cuando la pandemia inició, muchas industrias se vieron obligadas a disminuir y hasta cerrar operaciones. Un ejemplo, es la insdustria aérea, que sufrió una disminución significativa en los vuelos. Esto habrá tenido algún impacto en su performance de puntualidad? los vuelos son más puntuales?\n",
    "\n",
    "Fuentes:\n",
    "1. [Open Flights Data](https://openflights.org/data.html)\n",
    "2. [Bureau of Transportation Statistics](https://www.transtats.bts.gov/DL_SelectFields.asp?Table_ID=236&DB_Short_Name=On-Time). Vamos a usar data del periodo de 1/01/2020 a 31/05/2020."
   ]
  },
  {
   "cell_type": "markdown",
   "metadata": {},
   "source": [
    "jupyter labextension install @jupyter-widgets/jupyterlab-manager\n",
    "\n",
    "## Imports\n",
    "Primero lo primero, vamos a importar las herramientas que necesitaremos."
   ]
  },
  {
   "cell_type": "code",
   "execution_count": null,
   "metadata": {},
   "outputs": [],
   "source": [
    "import cudf\n",
    "import blazingsql as bsql\n",
    "import s3fs\n",
    "import numpy as np\n",
    "from collections import OrderedDict\n",
    "import matplotlib.pyplot as plt\n",
    "import cartopy.crs as ccrs\n",
    "import cartopy.feature as cfeature"
   ]
  },
  {
   "cell_type": "markdown",
   "metadata": {},
   "source": [
    "### `BlazingContext`\n",
    "Es necesario que establezcas a BlazingContext para conectarte a la instancia BlazingSQL, y así crear tablas, ejecutar consultas y básicamente, hacer cualquier cosa con BlazingSQL."
   ]
  },
  {
   "cell_type": "code",
   "execution_count": null,
   "metadata": {},
   "outputs": [],
   "source": [
    "bc = bsql.BlazingContext()"
   ]
  },
  {
   "cell_type": "markdown",
   "metadata": {},
   "source": [
    "## Ingesta y ejecucion de datos\n",
    "\n",
    "Hay dos maneras para cargar y ejecutar data usando las herramientas del ecosistema de RAPIDS: cargar directamente a la memoria usando `cudf` o `.create_table()` usando `BlazingContext`."
   ]
  },
  {
   "cell_type": "markdown",
   "metadata": {},
   "source": [
    "### Data de vuelos\n",
    "Rutas a archivos en AWS s3"
   ]
  },
  {
   "cell_type": "code",
   "execution_count": null,
   "metadata": {},
   "outputs": [],
   "source": [
    "flight_data_path = 's3://bsql/data/air_transport/flight_ontime_2020-0[1-5].parquet'\n",
    "s3 = s3fs.S3FileSystem(anon=True)\n",
    "files = [f's3://{f}' for f in s3.glob(flight_data_path)]\n",
    "files"
   ]
  },
  {
   "cell_type": "markdown",
   "metadata": {},
   "source": [
    "#### Leyendo la data\n",
    "Usaremos cuDF."
   ]
  },
  {
   "cell_type": "code",
   "execution_count": null,
   "metadata": {},
   "outputs": [],
   "source": [
    "%%time\n",
    "flights = []\n",
    "\n",
    "for f in files:\n",
    "    flights.append(cudf.read_parquet(f, storage_options={'anon': True}))\n",
    "    \n",
    "flights = cudf.concat(flights)"
   ]
  },
  {
   "cell_type": "code",
   "execution_count": null,
   "metadata": {},
   "outputs": [],
   "source": [
    "flights.head(5)"
   ]
  },
  {
   "cell_type": "code",
   "execution_count": null,
   "metadata": {},
   "outputs": [],
   "source": [
    "print(f'Número total de vuelos en el dataset: {len(flights):,}')"
   ]
  },
  {
   "cell_type": "markdown",
   "metadata": {},
   "source": [
    "#### Registrando una tabla con `BlazingContext`"
   ]
  },
  {
   "cell_type": "code",
   "execution_count": null,
   "metadata": {},
   "outputs": [],
   "source": [
    "bc.create_table('flights', flights)"
   ]
  },
  {
   "cell_type": "markdown",
   "metadata": {},
   "source": [
    "#### Columnas y tipo de data"
   ]
  },
  {
   "cell_type": "code",
   "execution_count": null,
   "metadata": {},
   "outputs": [],
   "source": [
    "flights.columns"
   ]
  },
  {
   "cell_type": "code",
   "execution_count": null,
   "metadata": {},
   "outputs": [],
   "source": [
    "flights.dtypes"
   ]
  },
  {
   "cell_type": "markdown",
   "metadata": {},
   "source": [
    "### Data de vuelos y aeropuertos\n",
    "Definimos la ruta de los archivos en s3"
   ]
  },
  {
   "cell_type": "code",
   "execution_count": null,
   "metadata": {},
   "outputs": [],
   "source": [
    "airports_path = 's3://bsql/data/air_transport/airports.csv'\n",
    "airlines_path = 's3://bsql/data/air_transport/airlines.csv'"
   ]
  },
  {
   "cell_type": "markdown",
   "metadata": {},
   "source": [
    "#### Leyendo la data"
   ]
  },
  {
   "cell_type": "code",
   "execution_count": null,
   "metadata": {},
   "outputs": [],
   "source": [
    "airports_dtypes = OrderedDict([\n",
    "      ('Airport ID', 'int64')\n",
    "    , ('Name', 'str')\n",
    "    , ('City', 'str')\n",
    "    , ('Country', 'str')\n",
    "    , ('IATA', 'str')\n",
    "    , ('ICAO', 'str')\n",
    "    , ('Latitude', 'float64')\n",
    "    , ('Longitude', 'float64')\n",
    "    , ('Altitude', 'int64')\n",
    "    , ('Timezone', 'str')\n",
    "    , ('DST', 'str')\n",
    "    , ('Type', 'str')\n",
    "    , ('Source', 'str')\n",
    "])\n",
    "\n",
    "airports = cudf.read_csv(\n",
    "    airports_path\n",
    "    , names=list(airports_dtypes.keys())\n",
    "    , dtype=list(airports_dtypes.values())\n",
    "    , storage_options={'anon': True}\n",
    ")\n",
    "airports.head()"
   ]
  },
  {
   "cell_type": "code",
   "execution_count": null,
   "metadata": {},
   "outputs": [],
   "source": [
    "airlines_dtypes = OrderedDict([\n",
    "    ('Airline ID', 'int64')\n",
    "    , ('Name', 'str')\n",
    "    , ('Alias', 'str')\n",
    "    , ('IATA', 'str')\n",
    "    , ('ICAO', 'str')\n",
    "    , ('Callsign', 'str')\n",
    "    , ('Country', 'str')\n",
    "    , ('Active', 'str')\n",
    "])\n",
    "\n",
    "airlines = cudf.read_csv(\n",
    "    airlines_path\n",
    "    , names=list(airlines_dtypes.keys())\n",
    "    , dtype=list(airlines_dtypes.values())\n",
    "    , storage_options={'anon': True}\n",
    ")\n",
    "airlines.head()"
   ]
  },
  {
   "cell_type": "markdown",
   "metadata": {},
   "source": [
    "Registramos las tablas dentro de `BlazingContext`"
   ]
  },
  {
   "cell_type": "code",
   "execution_count": null,
   "metadata": {},
   "outputs": [],
   "source": [
    "bc.create_table('airports', airports)\n",
    "bc.create_table('airlines', airlines)"
   ]
  },
  {
   "cell_type": "markdown",
   "metadata": {},
   "source": [
    "Añadir el estado donde se encuentra el aeropuerto en la tabla `airports`."
   ]
  },
  {
   "cell_type": "code",
   "execution_count": null,
   "metadata": {},
   "outputs": [],
   "source": [
    "airports_geo = bc.sql('''\n",
    "    SELECT DISTINCT A.airport\n",
    "        , A.State\n",
    "        , B.Name\n",
    "        , B.City\n",
    "    FROM (\n",
    "        SELECT DISTINCT ORIGIN AS Airport\n",
    "            , ORIGIN_STATE_ABR AS State\n",
    "        FROM flights\n",
    "\n",
    "        UNION ALL\n",
    "        SELECT DISTINCT DEST AS Airport\n",
    "            , DEST_STATE_ABR AS State\n",
    "        FROM flights AS A\n",
    "    ) AS A\n",
    "    LEFT OUTER JOIN airports AS B\n",
    "        ON A.Airport = B.IATA\n",
    "''')\n",
    "bc.create_table('airports_geo', airports_geo)"
   ]
  },
  {
   "cell_type": "code",
   "execution_count": null,
   "metadata": {},
   "outputs": [],
   "source": [
    "%%time\n",
    "bc.sql('''\n",
    "    SELECT A.FL_DATE\n",
    "        , A.OP_UNIQUE_CARRIER\n",
    "        , B.Name AS CARRIER_NAME\n",
    "        , A.ORIGIN\n",
    "        , C.Name AS ORIGIN_NAME\n",
    "        , C.City AS ORIGIN_CITY\n",
    "        , C.State AS ORIGIN_STATE        \n",
    "        , A.DEST\n",
    "        , D.Name AS DEST_NAME\n",
    "        , D.City AS DEST_CITY\n",
    "        , A.DEP_DELAY AS Delay\n",
    "    FROM flights AS A\n",
    "    LEFT OUTER JOIN airlines AS B\n",
    "        ON A.OP_UNIQUE_CARRIER = B.IATA\n",
    "    LEFT OUTER JOIN airports_geo AS C\n",
    "        ON A.ORIGIN = C.airport\n",
    "    LEFT OUTER JOIN airports_geo AS D\n",
    "        ON A.DEST = D.airport\n",
    "    LIMIT 4\n",
    "''')"
   ]
  },
  {
   "cell_type": "markdown",
   "metadata": {},
   "source": [
    "## Preguntas"
   ]
  },
  {
   "cell_type": "markdown",
   "metadata": {},
   "source": [
    "### 1. Cuántos aeropuertos hay en el dataset?"
   ]
  },
  {
   "cell_type": "code",
   "execution_count": null,
   "metadata": {},
   "outputs": [],
   "source": [
    "print(f'Hay {len(flights[\"ORIGIN\"].unique())} aeropuertos en el dataset')"
   ]
  },
  {
   "cell_type": "markdown",
   "metadata": {},
   "source": [
    "### 2. Cuántos vuelos tuvieron retraso y cuántos partieron a tiempo? Cuál es la distribución?"
   ]
  },
  {
   "cell_type": "code",
   "execution_count": null,
   "metadata": {},
   "outputs": [],
   "source": [
    "print(f'{len(flights[flights[\"DEP_DELAY\"] > 0]):,} vuelos con retraso y {len(flights[flights[\"DEP_DELAY\"] <= 0]):,} vuelos a tiempo')"
   ]
  },
  {
   "cell_type": "code",
   "execution_count": null,
   "metadata": {},
   "outputs": [],
   "source": [
    "### calculando la distribución\n",
    "n_bins = 100\n",
    "\n",
    "delays = flights[flights['DEP_DELAY'] >  0]['DEP_DELAY']\n",
    "ontime = flights[flights['DEP_DELAY'] <= 0]['DEP_DELAY']"
   ]
  },
  {
   "cell_type": "code",
   "execution_count": null,
   "metadata": {},
   "outputs": [],
   "source": [
    "%%time\n",
    "del_bins = np.array([i * 15 for i in range(0, n_bins)], dtype='float64')\n",
    "delays_binned = delays.digitize(del_bins)\n",
    "delays_histogram = delays_binned.groupby().count() / len(delays)\n",
    "(\n",
    "    delays_histogram\n",
    "    .set_index(del_bins[delays_histogram.index.to_array()-1])\n",
    "    .to_pandas()\n",
    "    .plot(kind='bar', figsize=(20,9), ylim=[0,1.0], title='Distribución de salidas con demora')\n",
    ")"
   ]
  },
  {
   "cell_type": "code",
   "execution_count": null,
   "metadata": {},
   "outputs": [],
   "source": [
    "%%time\n",
    "ontime_bins = np.array([i * (-1) for i in range(n_bins,0,-1)], dtype='float64')\n",
    "ontime_binned = ontime.digitize(ontime_bins)\n",
    "ontime_histogram = ontime_binned.groupby().count() / len(ontime)\n",
    "(\n",
    "    ontime_histogram\n",
    "    .set_index(ontime_bins[ontime_histogram.index.to_array()-1])\n",
    "    .to_pandas()\n",
    "    .plot(kind='bar', figsize=(20,9), ylim=[0,1.0], title='Distribución de salidas a tiempo')\n",
    ")"
   ]
  },
  {
   "cell_type": "markdown",
   "metadata": {},
   "source": [
    "### 3. Distribución de demora a través del tiempo"
   ]
  },
  {
   "cell_type": "code",
   "execution_count": null,
   "metadata": {},
   "outputs": [],
   "source": [
    "q10 = lambda x: x.quantile(0.10); q10.__name__ = \"q0.10\"\n",
    "q25 = lambda x: x.quantile(0.25); q25.__name__ = \"q0.25\"\n",
    "q75 = lambda x: x.quantile(0.75); q75.__name__ = \"q0.75\"\n",
    "q90 = lambda x: x.quantile(0.90); q90.__name__ = \"q0.90\"\n",
    "\n",
    "delay_aggs = (\n",
    "    flights[['MONTH', 'DEP_DELAY']]\n",
    "    .groupby(by='MONTH')\n",
    "    .agg({'DEP_DELAY': [q10, q25,'median',q75, q90]})\n",
    ")\n",
    "\n",
    "delay_aggs.columns = ['_'.join(col) for col in delay_aggs.columns]"
   ]
  },
  {
   "cell_type": "code",
   "execution_count": null,
   "metadata": {},
   "outputs": [],
   "source": [
    "host=delay_aggs.to_pandas()\n",
    "host"
   ]
  },
  {
   "cell_type": "code",
   "execution_count": null,
   "metadata": {},
   "outputs": [],
   "source": [
    "x = ['JAN', 'FEB', 'MAR', 'APR', 'MAY']\n",
    "fig, ax = plt.subplots(figsize=(12,9))\n",
    "ax.plot(x, host['DEP_DELAY_median'], 'r--', label='median')\n",
    "ax.fill_between(x, host['DEP_DELAY_q0.10'], host['DEP_DELAY_q0.90']\n",
    "                , alpha=.2, label='Quart10 - Quart90')\n",
    "ax.fill_between(x, host['DEP_DELAY_q0.25'], host['DEP_DELAY_q0.75']\n",
    "                , alpha=.2, label='Quart25 - Quart75')\n",
    "ax.legend()"
   ]
  },
  {
   "cell_type": "markdown",
   "metadata": {},
   "source": [
    "### 4. Cuáles son las top 5 aerolíneas y aeropuertos con mayores retrasos y al menos 1000 vuelos? Cuál es el promedio de demora?"
   ]
  },
  {
   "cell_type": "code",
   "execution_count": null,
   "metadata": {},
   "outputs": [],
   "source": [
    "delays = flights[flights['DEP_DELAY'] >  0][['DEP_DELAY', 'ORIGIN', 'DEST', 'OP_UNIQUE_CARRIER']]\n",
    "ontime = flights[flights['DEP_DELAY'] <= 0][['DEP_DELAY', 'ORIGIN', 'DEST', 'OP_UNIQUE_CARRIER']]"
   ]
  },
  {
   "cell_type": "code",
   "execution_count": null,
   "metadata": {},
   "outputs": [],
   "source": [
    "bc.create_table('delays', delays)\n",
    "bc.create_table('ontime', ontime)"
   ]
  },
  {
   "cell_type": "code",
   "execution_count": null,
   "metadata": {},
   "outputs": [],
   "source": [
    "def plot_airports(df, cmap, agg_cols, indicator):\n",
    "    host = df.to_pandas()\n",
    "    \n",
    "    ### figure\n",
    "    fig = plt.figure(figsize=(12,9))\n",
    "    \n",
    "    ### plot on map\n",
    "    ax = fig.add_subplot(1, 1, 1, projection=ccrs.PlateCarree())\n",
    "    ax.set_extent([-125, -70, 22, 55], crs=ccrs.PlateCarree()) ## US Continental\n",
    "    ax.stock_img()\n",
    "    \n",
    "    ### add features\n",
    "    ax.add_feature(cfeature.LAKES)\n",
    "    ax.add_feature(cfeature.STATES)\n",
    "    ax.add_feature(cfeature.COASTLINE)\n",
    "    \n",
    "    ### add data\n",
    "    bubbles = ax.scatter(\n",
    "        host['Longitude']\n",
    "        , host['Latitude']\n",
    "        , s=host[agg_cols['CNT']] / 50, label=\"Flight Count\"\n",
    "        , c=host[agg_cols['AVG']]\n",
    "        , cmap=plt.get_cmap(cmap)\n",
    "        , alpha=0.8\n",
    "    )\n",
    "\n",
    "    ### add colorbar\n",
    "    delays = host[agg_cols['AVG']]\n",
    "    tick_values = np.linspace(delays.min(), delays.max(), 11)\n",
    "    cbar = fig.colorbar(bubbles, shrink=0.7)\n",
    "    cbar.ax.set_yticklabels([f'{round(v)} mins' for v in tick_values], fontsize=14)\n",
    "    cbar.set_label(f'Average {indicator}', fontsize=16)\n",
    "    plt.legend(fontsize=16)"
   ]
  },
  {
   "cell_type": "markdown",
   "metadata": {},
   "source": [
    "### Mayores retrasos\n",
    "#### Origen"
   ]
  },
  {
   "cell_type": "code",
   "execution_count": null,
   "metadata": {},
   "outputs": [],
   "source": [
    "%%time\n",
    "delayed_origin = bc.sql('''\n",
    "    SELECT A.ORIGIN\n",
    "        , B.Name AS ORIGIN_Airport\n",
    "        , B.City AS ORIGIN_City\n",
    "        , B.Country AS ORIGIN_Country\n",
    "        , B.Latitude\n",
    "        , B.Longitude\n",
    "        , COUNT(*) AS DELAY_CNT\n",
    "        , AVG(DEP_DELAY) AS AVG_DELAY\n",
    "    FROM delays AS A\n",
    "    LEFT OUTER JOIN airports AS B\n",
    "        ON A.ORIGIN = B.IATA\n",
    "    GROUP BY A.ORIGIN\n",
    "        , B.Name\n",
    "        , B.City\n",
    "        , B.Country\n",
    "        , B.Latitude\n",
    "        , B.Longitude\n",
    "    HAVING COUNT(*) > 1000\n",
    "        AND B.Country = 'United States'\n",
    "    ORDER BY AVG(DEP_DELAY) DESC\n",
    "    LIMIT 60\n",
    "''')\n",
    "delayed_origin.head()"
   ]
  },
  {
   "cell_type": "code",
   "execution_count": null,
   "metadata": {},
   "outputs": [],
   "source": [
    "### plot\n",
    "plot_airports(\n",
    "    delayed_origin\n",
    "    , 'YlOrRd'\n",
    "    , {'CNT': 'DELAY_CNT', 'AVG': 'AVG_DELAY'}\n",
    "    , 'delays'\n",
    ")"
   ]
  },
  {
   "cell_type": "markdown",
   "metadata": {},
   "source": [
    "#### Destino"
   ]
  },
  {
   "cell_type": "code",
   "execution_count": null,
   "metadata": {},
   "outputs": [],
   "source": [
    "%%time\n",
    "delayed_destination = bc.sql('''\n",
    "    SELECT A.DEST\n",
    "        , B.Name AS DEST_Airport\n",
    "        , B.City AS DEST_City\n",
    "        , B.Country AS DEST_Country\n",
    "        , B.Latitude\n",
    "        , B.Longitude\n",
    "        , COUNT(*) AS DELAY_CNT\n",
    "        , AVG(DEP_DELAY) AS AVG_DELAY\n",
    "    FROM delays AS A\n",
    "    LEFT OUTER JOIN airports AS B\n",
    "        ON A.DEST = B.IATA\n",
    "    GROUP BY A.DEST\n",
    "        , B.Name\n",
    "        , B.City\n",
    "        , B.Country\n",
    "        , B.Latitude\n",
    "        , B.Longitude\n",
    "    HAVING COUNT(*) > 1000\n",
    "        AND B.Country = 'United States'\n",
    "    ORDER BY AVG(DEP_DELAY) DESC\n",
    "    LIMIT 60\n",
    "''')\n",
    "delayed_destination.head()"
   ]
  },
  {
   "cell_type": "code",
   "execution_count": null,
   "metadata": {},
   "outputs": [],
   "source": [
    "### plot\n",
    "plot_airports(\n",
    "    delayed_destination\n",
    "    , 'YlOrRd'\n",
    "    , {'CNT': 'DELAY_CNT', 'AVG': 'AVG_DELAY'}\n",
    "    , 'delays'\n",
    ")"
   ]
  },
  {
   "cell_type": "markdown",
   "metadata": {},
   "source": [
    "#### Aerolíneas"
   ]
  },
  {
   "cell_type": "code",
   "execution_count": null,
   "metadata": {},
   "outputs": [],
   "source": [
    "%%time\n",
    "bc.sql('''\n",
    "    SELECT A.OP_UNIQUE_CARRIER AS CARRIER\n",
    "        , B.Name AS CARRIER_Name\n",
    "        , B.Country AS CARRIER_Country\n",
    "        , COUNT(*) AS DELAY_CNT\n",
    "        , AVG(DEP_DELAY) AS AVG_DELAY\n",
    "    FROM delays AS A\n",
    "    LEFT OUTER JOIN airlines AS B\n",
    "        ON A.OP_UNIQUE_CARRIER = B.IATA\n",
    "    GROUP BY A.OP_UNIQUE_CARRIER\n",
    "        , B.Name\n",
    "        , B.Country\n",
    "    HAVING COUNT(*) > 1000\n",
    "    ORDER BY AVG(DEP_DELAY) DESC\n",
    "    LIMIT 5\n",
    "''')"
   ]
  },
  {
   "cell_type": "markdown",
   "metadata": {},
   "source": [
    "### Los más puntuales"
   ]
  },
  {
   "cell_type": "markdown",
   "metadata": {},
   "source": [
    "#### Origen"
   ]
  },
  {
   "cell_type": "code",
   "execution_count": null,
   "metadata": {},
   "outputs": [],
   "source": [
    "%%time\n",
    "ontime_origin = bc.sql('''\n",
    "    SELECT A.ORIGIN\n",
    "        , B.Name AS ORIGIN_Airport\n",
    "        , B.City AS ORIGIN_City\n",
    "        , B.Country AS ORIGIN_Country\n",
    "        , B.Latitude\n",
    "        , B.Longitude\n",
    "        , COUNT(*) AS ONTIME_CNT\n",
    "        , AVG(DEP_DELAY) AS AVG_ONTIME\n",
    "    FROM ontime AS A\n",
    "    LEFT OUTER JOIN airports AS B\n",
    "        ON A.ORIGIN = B.IATA\n",
    "    GROUP BY A.ORIGIN\n",
    "        , B.Name\n",
    "        , B.City\n",
    "        , B.Country\n",
    "        , B.Latitude\n",
    "        , B.Longitude\n",
    "    HAVING COUNT(*) > 1000\n",
    "        AND B.Country = 'United States'\n",
    "    ORDER BY AVG(DEP_DELAY) DESC\n",
    "    LIMIT 60\n",
    "''')\n",
    "ontime_origin.head()"
   ]
  },
  {
   "cell_type": "code",
   "execution_count": null,
   "metadata": {},
   "outputs": [],
   "source": [
    "### plot\n",
    "plot_airports(\n",
    "    ontime_origin\n",
    "    , 'Greens'\n",
    "    , {'CNT': 'ONTIME_CNT', 'AVG': 'AVG_ONTIME'}\n",
    "    , 'ontime'\n",
    ")"
   ]
  },
  {
   "cell_type": "markdown",
   "metadata": {},
   "source": [
    "#### Destino"
   ]
  },
  {
   "cell_type": "code",
   "execution_count": null,
   "metadata": {},
   "outputs": [],
   "source": [
    "%%time\n",
    "ontime_destination = bc.sql('''\n",
    "    SELECT A.DEST\n",
    "        , B.Name AS DEST_Airport\n",
    "        , B.City AS DEST_City\n",
    "        , B.Country AS DEST_Country\n",
    "        , B.Latitude\n",
    "        , B.Longitude\n",
    "        , COUNT(*) AS ONTIME_CNT\n",
    "        , AVG(DEP_DELAY) AS AVG_ONTIME\n",
    "    FROM ontime AS A\n",
    "    LEFT OUTER JOIN airports AS B\n",
    "        ON A.DEST = B.IATA\n",
    "    GROUP BY A.DEST\n",
    "        , B.Name\n",
    "        , B.City\n",
    "        , B.Country\n",
    "        , B.Latitude\n",
    "        , B.Longitude\n",
    "    HAVING COUNT(*) > 1000\n",
    "        AND B.Country = 'United States'\n",
    "    ORDER BY AVG(DEP_DELAY) DESC\n",
    "    LIMIT 30\n",
    "''')\n",
    "ontime_destination.head(5)"
   ]
  },
  {
   "cell_type": "code",
   "execution_count": null,
   "metadata": {},
   "outputs": [],
   "source": [
    "### plot\n",
    "plot_airports(\n",
    "    ontime_destination\n",
    "    , 'Greens'\n",
    "    , {'CNT': 'ONTIME_CNT', 'AVG': 'AVG_ONTIME'}\n",
    "    , 'ontime'\n",
    ")"
   ]
  },
  {
   "cell_type": "markdown",
   "metadata": {},
   "source": [
    "#### Aerolinea"
   ]
  },
  {
   "cell_type": "code",
   "execution_count": null,
   "metadata": {},
   "outputs": [],
   "source": [
    "%%time\n",
    "bc.sql('''\n",
    "    SELECT A.OP_UNIQUE_CARRIER AS CARRIER\n",
    "        , B.Name AS CARRIER_Name\n",
    "        , B.Country AS CARRIER_Country\n",
    "        , AVG(DEP_DELAY) AS AVG_ONTIME\n",
    "    FROM ontime AS A\n",
    "    LEFT OUTER JOIN airlines AS B\n",
    "        ON A.OP_UNIQUE_CARRIER = B.IATA\n",
    "    GROUP BY A.OP_UNIQUE_CARRIER\n",
    "        , B.Name\n",
    "        , B.Country\n",
    "    HAVING COUNT(*) > 1000\n",
    "    ORDER BY AVG(DEP_DELAY) DESC\n",
    "    LIMIT 5\n",
    "''')"
   ]
  },
  {
   "cell_type": "markdown",
   "metadata": {},
   "source": [
    "### 5. Qué vuelos que salieron del estado de SEATLE tuvieron retrasos significantes?"
   ]
  },
  {
   "cell_type": "code",
   "execution_count": null,
   "metadata": {},
   "outputs": [],
   "source": [
    "%%time\n",
    "destinations = bc.sql('''\n",
    "    SELECT ORIGIN\n",
    "        , ORIGIN_LAT\n",
    "        , ORIGIN_LON\n",
    "        , DEST\n",
    "        , DEST_LAT\n",
    "        , DEST_LON\n",
    "        , COUNT(*) AS DELAY_CNT\n",
    "        , AVG(Delay) AS AVG_DELAY\n",
    "    FROM (\n",
    "        SELECT A.ORIGIN\n",
    "            , B.Latitude AS ORIGIN_LAT\n",
    "            , B.Longitude AS ORIGIN_LON\n",
    "            , A.DEST\n",
    "            , C.Latitude AS DEST_LAT\n",
    "            , C.Longitude AS DEST_LON\n",
    "            , A.DEP_DELAY AS Delay\n",
    "        FROM flights AS A\n",
    "        LEFT OUTER JOIN airports AS B\n",
    "            ON A.ORIGIN = B.IATA\n",
    "        LEFT OUTER JOIN airports AS C\n",
    "            ON A.DEST = C.IATA\n",
    "        WHERE ORIGIN = 'SEA'\n",
    "            AND C.Country = 'United States'\n",
    "            AND DEP_DELAY > 60  -- DELAYED BY MORE THAN HOUR\n",
    "    ) AS A\n",
    "    GROUP BY ORIGIN\n",
    "        , ORIGIN_LAT\n",
    "        , ORIGIN_LON\n",
    "        , DEST\n",
    "        , DEST_LAT\n",
    "        , DEST_LON\n",
    "    HAVING COUNT(*) > 50\n",
    "    ORDER BY AVG_DELAY DESC\n",
    "    LIMIT 30\n",
    "''')\n",
    "destinations.head(5)"
   ]
  },
  {
   "cell_type": "markdown",
   "metadata": {},
   "source": [
    "Graficar los resultados en un mapa"
   ]
  },
  {
   "cell_type": "code",
   "execution_count": null,
   "metadata": {},
   "outputs": [],
   "source": [
    "def add_lines(ax, host):\n",
    "    lines = host[['ORIGIN_LON', 'ORIGIN_LAT', 'DEST_LON', 'DEST_LAT']].to_dict('list')\n",
    "    \n",
    "    sea = (lines['ORIGIN_LON'][0], lines['ORIGIN_LAT'][0])\n",
    "    for dest in zip(lines['DEST_LON'], lines['DEST_LAT']):\n",
    "        ax.arrow(*dest\n",
    "                 , sea[0]-dest[0], sea[1]-dest[1]\n",
    "                 , head_width=0.0, head_length=0.0\n",
    "                 , fc='k', ec='k')\n",
    "\n",
    "host = destinations.to_pandas()\n",
    "    \n",
    "### figure\n",
    "fig = plt.figure(figsize=(12,9))\n",
    "\n",
    "### plot on map\n",
    "ax = fig.add_subplot(1, 1, 1, projection=ccrs.PlateCarree())\n",
    "ax.set_extent([-125, -70, 22, 55], crs=ccrs.PlateCarree()) ## US Continental\n",
    "ax.stock_img()\n",
    "\n",
    "### add features\n",
    "ax.add_feature(cfeature.LAKES)\n",
    "ax.add_feature(cfeature.STATES)\n",
    "ax.add_feature(cfeature.COASTLINE)\n",
    "\n",
    "### add data\n",
    "bubbles = ax.scatter(\n",
    "    host['DEST_LON']\n",
    "    , host['DEST_LAT']\n",
    "    , s=host['DELAY_CNT'] * 2, label=\"Flight Count\"\n",
    "    , c=host['AVG_DELAY']\n",
    "    , cmap=plt.get_cmap('jet')\n",
    "    , alpha=0.8\n",
    ")\n",
    "\n",
    "add_lines(ax, host)\n",
    "\n",
    "### add colorbar\n",
    "delays = host['AVG_DELAY']\n",
    "tick_values = np.linspace(delays.min(), delays.max(), 11)\n",
    "cbar = fig.colorbar(bubbles, shrink=0.7)\n",
    "cbar.ax.set_yticklabels([f'{round(v)} mins' for v in tick_values], fontsize=14)\n",
    "cbar.set_label(f'Average delays', fontsize=16)\n",
    "plt.legend(fontsize=16)"
   ]
  },
  {
   "cell_type": "markdown",
   "metadata": {},
   "source": [
    "### 6. Hay algun avion especifico (por numero de matricula [tail number]) que es menos confiable?"
   ]
  },
  {
   "cell_type": "code",
   "execution_count": null,
   "metadata": {},
   "outputs": [],
   "source": [
    "tail_numbers = bc.sql('''\n",
    "    SELECT TAIL_NUM\n",
    "        , B.Name AS AirlineName\n",
    "        , DEP_DELAY\n",
    "    FROM flights AS A\n",
    "    LEFT OUTER JOIN airlines AS B\n",
    "        ON A.OP_UNIQUE_CARRIER = B.IATA\n",
    "    WHERE TAIL_NUM <> ''\n",
    "        AND DEP_DELAY > 0\n",
    "''')"
   ]
  },
  {
   "cell_type": "code",
   "execution_count": null,
   "metadata": {},
   "outputs": [],
   "source": [
    "aircraft_aggs = (\n",
    "    tail_numbers\n",
    "    .groupby(by=['TAIL_NUM', 'AirlineName'])\n",
    "    .agg({'DEP_DELAY': ['count', q25,'median',q75, 'max']})\n",
    ")\n",
    "\n",
    "aircraft_aggs.columns = ['_'.join(col) for col in aircraft_aggs.columns]\n",
    "aircraft_aggs = (\n",
    "    aircraft_aggs\n",
    "    .query('DEP_DELAY_count > 100')\n",
    "    .sort_values(by='DEP_DELAY_median', ascending=False)\n",
    ")"
   ]
  },
  {
   "cell_type": "code",
   "execution_count": null,
   "metadata": {},
   "outputs": [],
   "source": [
    "aircraft_aggs.head(10)"
   ]
  }
 ],
 "metadata": {
  "kernelspec": {
   "display_name": "RAPIDS Stable",
   "language": "python",
   "name": "python3"
  },
  "language_info": {
   "codemirror_mode": {
    "name": "ipython",
    "version": 3
   },
   "file_extension": ".py",
   "mimetype": "text/x-python",
   "name": "python",
   "nbconvert_exporter": "python",
   "pygments_lexer": "ipython3",
   "version": "3.8.5"
  }
 },
 "nbformat": 4,
 "nbformat_minor": 4
}
