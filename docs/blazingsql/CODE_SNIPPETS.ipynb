{
 "cells": [
  {
   "cell_type": "markdown",
   "metadata": {},
   "source": [
    "# CSV"
   ]
  },
  {
   "cell_type": "code",
   "execution_count": 1,
   "metadata": {},
   "outputs": [
    {
     "name": "stdout",
     "output_type": "stream",
     "text": [
      "BlazingContext ready\n",
      "   payment_type     cnt\n",
      "0             1  642282\n",
      "1             2  352976\n",
      "2             3    3536\n",
      "3             4    1206\n"
     ]
    }
   ],
   "source": [
    "from blazingsql import BlazingContext\n",
    "\n",
    "# Start up BlazingSQL\n",
    "bc = BlazingContext()\n",
    "\n",
    "# Register S3 bucket\n",
    "bc.s3('bsql', bucket_name = 'bsql')\n",
    "\n",
    "# Create table from CSV\n",
    "bc.create_table('taxi', 's3://bsql/data/samples/nytaxi.csv')\n",
    "\n",
    "# Query table (Results return as cuDF DataFrame)\n",
    "df = bc.sql('''\n",
    "    SELECT payment_type\n",
    "        , COUNT(*) AS cnt \n",
    "    FROM taxi \n",
    "    GROUP BY payment_type\n",
    "    ORDER BY COUNT(*) DESC\n",
    "''')\n",
    "\n",
    "# Display query results \n",
    "print(df)"
   ]
  },
  {
   "cell_type": "markdown",
   "metadata": {},
   "source": [
    "# ORC"
   ]
  },
  {
   "cell_type": "code",
   "execution_count": 2,
   "metadata": {},
   "outputs": [
    {
     "name": "stdout",
     "output_type": "stream",
     "text": [
      "BlazingContext ready\n",
      "   payment_type     cnt\n",
      "0             1  642282\n",
      "1             2  352976\n",
      "2             3    3536\n",
      "3             4    1206\n"
     ]
    }
   ],
   "source": [
    "from blazingsql import BlazingContext\n",
    "\n",
    "# Start up BlazingSQL\n",
    "bc = BlazingContext()\n",
    "\n",
    "# Register S3 bucket\n",
    "bc.s3('bsql', bucket_name = 'bsql')\n",
    "\n",
    "# Create table from ORC\n",
    "bc.create_table('taxi', 's3://bsql/data/samples/nytaxi.orc')\n",
    "\n",
    "# Query table (Results return as cuDF DataFrame)\n",
    "df = bc.sql('''\n",
    "    SELECT payment_type\n",
    "        , COUNT(*) AS cnt \n",
    "    FROM taxi \n",
    "    GROUP BY payment_type\n",
    "    ORDER BY COUNT(*) DESC\n",
    "''')\n",
    "\n",
    "# Display query results \n",
    "print(df)"
   ]
  },
  {
   "cell_type": "markdown",
   "metadata": {},
   "source": [
    "# Parquet"
   ]
  },
  {
   "cell_type": "code",
   "execution_count": 3,
   "metadata": {},
   "outputs": [
    {
     "name": "stdout",
     "output_type": "stream",
     "text": [
      "BlazingContext ready\n",
      "   payment_type     cnt\n",
      "0             1  642282\n",
      "1             2  352976\n",
      "2             3    3536\n",
      "3             4    1206\n"
     ]
    }
   ],
   "source": [
    "from blazingsql import BlazingContext\n",
    "\n",
    "# Start up BlazingSQL\n",
    "bc = BlazingContext()\n",
    "\n",
    "# Register S3 bucket\n",
    "bc.s3('bsql', bucket_name = 'bsql')\n",
    "\n",
    "# Create table from Parquet\n",
    "bc.create_table('taxi', 's3://bsql/data/samples/nytaxi.parquet')\n",
    "\n",
    "# Query table (Results return as cuDF DataFrame)\n",
    "df = bc.sql('''\n",
    "    SELECT payment_type\n",
    "        , COUNT(*) AS cnt \n",
    "    FROM taxi \n",
    "    GROUP BY payment_type\n",
    "    ORDER BY COUNT(*) DESC\n",
    "''')\n",
    "\n",
    "# Display query results \n",
    "print(df)"
   ]
  },
  {
   "cell_type": "markdown",
   "metadata": {},
   "source": [
    "# cuDF DataFrame"
   ]
  },
  {
   "cell_type": "code",
   "execution_count": 4,
   "metadata": {},
   "outputs": [
    {
     "name": "stdout",
     "output_type": "stream",
     "text": [
      "BlazingContext ready\n",
      "   payment_type     cnt\n",
      "0             1  642282\n",
      "1             2  352976\n",
      "2             3    3536\n",
      "3             4    1206\n"
     ]
    }
   ],
   "source": [
    "from blazingsql import BlazingContext\n",
    "import cudf\n",
    "\n",
    "# Start up BlazingSQL\n",
    "bc = BlazingContext()\n",
    "\n",
    "# Register S3 bucket\n",
    "df_read = cudf.read_parquet(\n",
    "    's3://bsql/data/samples/nytaxi.parquet'\n",
    "    , storage_options={'anon': True}\n",
    ")\n",
    "\n",
    "# Create table from cuDF DataFrame\n",
    "bc.create_table('taxi', df_read)\n",
    "\n",
    "# Query table (Results return as cuDF DataFrame)\n",
    "df = bc.sql('''\n",
    "    SELECT payment_type\n",
    "        , COUNT(*) AS cnt \n",
    "    FROM taxi \n",
    "    GROUP BY payment_type\n",
    "    ORDER BY COUNT(*) DESC\n",
    "''')\n",
    "\n",
    "# Display query results \n",
    "print(df)"
   ]
  },
  {
   "cell_type": "markdown",
   "metadata": {},
   "source": [
    "# pandas DataFrame"
   ]
  },
  {
   "cell_type": "code",
   "execution_count": 5,
   "metadata": {},
   "outputs": [
    {
     "name": "stdout",
     "output_type": "stream",
     "text": [
      "BlazingContext ready\n",
      "   payment_type     cnt\n",
      "0             1  642282\n",
      "1             2  352976\n",
      "2             3    3536\n",
      "3             4    1206\n"
     ]
    }
   ],
   "source": [
    "from blazingsql import BlazingContext\n",
    "import pandas as pd\n",
    "\n",
    "# Start up BlazingSQL\n",
    "bc = BlazingContext()\n",
    "\n",
    "# Read data into pandas DataFrame\n",
    "df_read = pd.read_csv('s3://bsql/data/samples/nytaxi.csv')\n",
    "\n",
    "# Create table from pandas DataFrame\n",
    "bc.create_table('taxi', df_read)\n",
    "\n",
    "# Query table (Results return as cuDF DataFrame)\n",
    "df = bc.sql('''\n",
    "    SELECT payment_type\n",
    "        , COUNT(*) AS cnt \n",
    "    FROM taxi \n",
    "    GROUP BY payment_type\n",
    "    ORDER BY COUNT(*) DESC\n",
    "''')\n",
    "\n",
    "# Display query results \n",
    "print(df)"
   ]
  },
  {
   "cell_type": "markdown",
   "metadata": {},
   "source": [
    "# Multiple formats"
   ]
  },
  {
   "cell_type": "code",
   "execution_count": 7,
   "metadata": {},
   "outputs": [
    {
     "name": "stdout",
     "output_type": "stream",
     "text": [
      "BlazingContext ready\n",
      "   VendorID VendorType  payment_type     cnt\n",
      "0         2   Vendor 2             1  362171\n",
      "1         1   Vendor 1             1  280111\n",
      "2         2   Vendor 2             2  199006\n",
      "3         1   Vendor 1             2  153970\n",
      "4         1   Vendor 1             3    3346\n",
      "5         1   Vendor 1             4    1061\n",
      "6         2   Vendor 2             3     190\n",
      "7         2   Vendor 2             4     145\n"
     ]
    }
   ],
   "source": [
    "from blazingsql import BlazingContext\n",
    "\n",
    "# Start up BlazingSQL\n",
    "bc = BlazingContext()\n",
    "\n",
    "# Register S3 bucket\n",
    "bc.s3('bsql', bucket_name = 'bsql')\n",
    "\n",
    "# Create table from multiple sources\n",
    "bc.create_table('taxi', 's3://bsql/data/samples/nytaxi.parquet')\n",
    "bc.create_table('vendors', 's3://bsql/data/samples/vendors.csv')\n",
    "\n",
    "# Query table (Results return as cuDF DataFrame)\n",
    "df = bc.sql('''\n",
    "    SELECT A.VendorID\n",
    "        , B.VendorType\n",
    "        , A.payment_type\n",
    "        , COUNT(*) AS cnt \n",
    "    FROM taxi AS A\n",
    "    LEFT OUTER JOIN vendors AS B\n",
    "        ON A.VendorID = B.VendorID\n",
    "    GROUP BY A.VendorID\n",
    "        , B.VendorType\n",
    "        , A.payment_type\n",
    "    ORDER BY COUNT(*) DESC\n",
    "''')\n",
    "\n",
    "# Display query results \n",
    "print(df)"
   ]
  },
  {
   "cell_type": "code",
   "execution_count": null,
   "metadata": {},
   "outputs": [],
   "source": []
  }
 ],
 "metadata": {
  "kernelspec": {
   "display_name": "RAPIDS Stable",
   "language": "python",
   "name": "python3"
  },
  "language_info": {
   "codemirror_mode": {
    "name": "ipython",
    "version": 3
   },
   "file_extension": ".py",
   "mimetype": "text/x-python",
   "name": "python",
   "nbconvert_exporter": "python",
   "pygments_lexer": "ipython3",
   "version": "3.8.5"
  }
 },
 "nbformat": 4,
 "nbformat_minor": 4
}
