{
 "cells": [
  {
   "cell_type": "markdown",
   "metadata": {},
   "source": [
    "<a id=\"CSV\"></a>\n",
    "# CSV"
   ]
  },
  {
   "cell_type": "code",
   "execution_count": null,
   "metadata": {},
   "outputs": [],
   "source": [
    "from blazingsql import BlazingContext\n",
    "\n",
    "# Start up BlazingSQL\n",
    "bc = BlazingContext()\n",
    "\n",
    "# Register S3 bucket\n",
    "bc.s3('bsql', bucket_name = 'bsql')\n",
    "\n",
    "# Create table from CSV\n",
    "bc.create_table('taxi', 's3://bsql/data/samples/nytaxi.csv')\n",
    "\n",
    "# Query table (Results return as cuDF DataFrame)\n",
    "df = bc.sql('''\n",
    "    SELECT payment_type\n",
    "        , COUNT(*) AS cnt \n",
    "    FROM taxi \n",
    "    GROUP BY payment_type\n",
    "    ORDER BY COUNT(*) DESC\n",
    "''')\n",
    "\n",
    "# Display query results \n",
    "print(df)"
   ]
  },
  {
   "cell_type": "markdown",
   "metadata": {},
   "source": [
    "<a id=\"ORC\"></a>\n",
    "# ORC"
   ]
  },
  {
   "cell_type": "code",
   "execution_count": null,
   "metadata": {},
   "outputs": [],
   "source": [
    "from blazingsql import BlazingContext\n",
    "\n",
    "# Start up BlazingSQL\n",
    "bc = BlazingContext()\n",
    "\n",
    "# Register S3 bucket\n",
    "bc.s3('bsql', bucket_name = 'bsql')\n",
    "\n",
    "# Create table from ORC\n",
    "bc.create_table('taxi', 's3://bsql/data/samples/nytaxi.orc')\n",
    "\n",
    "# Query table (Results return as cuDF DataFrame)\n",
    "df = bc.sql('''\n",
    "    SELECT payment_type\n",
    "        , COUNT(*) AS cnt \n",
    "    FROM taxi \n",
    "    GROUP BY payment_type\n",
    "    ORDER BY COUNT(*) DESC\n",
    "''')\n",
    "\n",
    "# Display query results \n",
    "print(df)"
   ]
  },
  {
   "cell_type": "markdown",
   "metadata": {},
   "source": [
    "<a id=\"Parquet\"></a>\n",
    "# Parquet"
   ]
  },
  {
   "cell_type": "code",
   "execution_count": null,
   "metadata": {},
   "outputs": [],
   "source": [
    "from blazingsql import BlazingContext\n",
    "\n",
    "# Start up BlazingSQL\n",
    "bc = BlazingContext()\n",
    "\n",
    "# Register S3 bucket\n",
    "bc.s3('bsql', bucket_name = 'bsql')\n",
    "\n",
    "# Create table from Parquet\n",
    "bc.create_table('taxi', 's3://bsql/data/samples/nytaxi.parquet')\n",
    "\n",
    "# Query table (Results return as cuDF DataFrame)\n",
    "df = bc.sql('''\n",
    "    SELECT payment_type\n",
    "        , COUNT(*) AS cnt \n",
    "    FROM taxi \n",
    "    GROUP BY payment_type\n",
    "    ORDER BY COUNT(*) DESC\n",
    "''')\n",
    "\n",
    "# Display query results \n",
    "print(df)"
   ]
  },
  {
   "cell_type": "markdown",
   "metadata": {},
   "source": [
    "<a id=\"cudf\"></a>\n",
    "# cuDF DataFrame"
   ]
  },
  {
   "cell_type": "code",
   "execution_count": null,
   "metadata": {},
   "outputs": [],
   "source": [
    "from blazingsql import BlazingContext\n",
    "import cudf\n",
    "\n",
    "# Start up BlazingSQL\n",
    "bc = BlazingContext()\n",
    "\n",
    "# Register S3 bucket\n",
    "df_read = cudf.read_parquet(\n",
    "    's3://bsql/data/samples/nytaxi.parquet'\n",
    "    , storage_options={'anon': True}\n",
    ")\n",
    "\n",
    "# Create table from cuDF DataFrame\n",
    "bc.create_table('taxi', df_read)\n",
    "\n",
    "# Query table (Results return as cuDF DataFrame)\n",
    "df = bc.sql('''\n",
    "    SELECT payment_type\n",
    "        , COUNT(*) AS cnt \n",
    "    FROM taxi \n",
    "    GROUP BY payment_type\n",
    "    ORDER BY COUNT(*) DESC\n",
    "''')\n",
    "\n",
    "# Display query results \n",
    "print(df)"
   ]
  },
  {
   "cell_type": "markdown",
   "metadata": {},
   "source": [
    "<a id=\"pandas\"></a>\n",
    "# pandas DataFrame"
   ]
  },
  {
   "cell_type": "code",
   "execution_count": null,
   "metadata": {},
   "outputs": [],
   "source": [
    "from blazingsql import BlazingContext\n",
    "import pandas as pd\n",
    "\n",
    "# Start up BlazingSQL\n",
    "bc = BlazingContext()\n",
    "\n",
    "# Read data into pandas DataFrame\n",
    "df_read = pd.read_csv('s3://bsql/data/samples/nytaxi.csv')\n",
    "\n",
    "# Create table from pandas DataFrame\n",
    "bc.create_table('taxi', df_read)\n",
    "\n",
    "# Query table (Results return as cuDF DataFrame)\n",
    "df = bc.sql('''\n",
    "    SELECT payment_type\n",
    "        , COUNT(*) AS cnt \n",
    "    FROM taxi \n",
    "    GROUP BY payment_type\n",
    "    ORDER BY COUNT(*) DESC\n",
    "''')\n",
    "\n",
    "# Display query results \n",
    "print(df)"
   ]
  },
  {
   "cell_type": "markdown",
   "metadata": {},
   "source": [
    "<a id=\"multiple\"></a>\n",
    "# Multiple formats"
   ]
  },
  {
   "cell_type": "code",
   "execution_count": null,
   "metadata": {},
   "outputs": [],
   "source": [
    "from blazingsql import BlazingContext\n",
    "\n",
    "# Start up BlazingSQL\n",
    "bc = BlazingContext()\n",
    "\n",
    "# Register S3 bucket\n",
    "bc.s3('bsql', bucket_name = 'bsql')\n",
    "\n",
    "# Create table from multiple sources\n",
    "bc.create_table('taxi', 's3://bsql/data/samples/nytaxi.parquet')\n",
    "bc.create_table('vendors', 's3://bsql/data/samples/vendors.csv')\n",
    "\n",
    "# Query table (Results return as cuDF DataFrame)\n",
    "df = bc.sql('''\n",
    "    SELECT A.VendorID\n",
    "        , B.VendorType\n",
    "        , A.payment_type\n",
    "        , COUNT(*) AS cnt \n",
    "    FROM taxi AS A\n",
    "    LEFT OUTER JOIN vendors AS B\n",
    "        ON A.VendorID = B.VendorID\n",
    "    GROUP BY A.VendorID\n",
    "        , B.VendorType\n",
    "        , A.payment_type\n",
    "    ORDER BY COUNT(*) DESC\n",
    "''')\n",
    "\n",
    "# Display query results \n",
    "print(df)"
   ]
  }
 ],
 "metadata": {
  "kernelspec": {
   "display_name": "Python 3",
   "language": "python",
   "name": "python3"
  },
  "language_info": {
   "codemirror_mode": {
    "name": "ipython",
    "version": 3
   },
   "file_extension": ".py",
   "mimetype": "text/x-python",
   "name": "python",
   "nbconvert_exporter": "python",
   "pygments_lexer": "ipython3",
   "version": "3.8.5"
  }
 },
 "nbformat": 4,
 "nbformat_minor": 4
}
