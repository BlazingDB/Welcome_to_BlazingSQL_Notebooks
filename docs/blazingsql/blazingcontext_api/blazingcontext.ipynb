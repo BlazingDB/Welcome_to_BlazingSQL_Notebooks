{
 "cells": [
  {
   "cell_type": "markdown",
   "metadata": {},
   "source": [
    "# BlazingContext API"
   ]
  },
  {
   "cell_type": "markdown",
   "metadata": {},
   "source": [
    "## BlazingContext()"
   ]
  },
  {
   "cell_type": "markdown",
   "metadata": {},
   "source": [
    "### Single GPU\n",
    "[Docs](https://docs.blazingdb.com/docs/blazingcontext) | [BlazingSQL Notebooks](https://app.blazingsql.com/jupyter/user-redirect/lab/workspaces/auto-b/tree/Welcome_to_BlazingSQL_Notebooks/docs/blazingsql.ipynb#BlazingContext)\n",
    "\n",
    "Create basic (single GPU) BlazingContext instance."
   ]
  },
  {
   "cell_type": "code",
   "execution_count": null,
   "metadata": {},
   "outputs": [],
   "source": [
    "from blazingsql import BlazingContext"
   ]
  },
  {
   "cell_type": "code",
   "execution_count": null,
   "metadata": {},
   "outputs": [],
   "source": [
    "bc = BlazingContext()"
   ]
  },
  {
   "cell_type": "markdown",
   "metadata": {},
   "source": [
    "Configure some options when creating a BlazingContext instance."
   ]
  },
  {
   "cell_type": "code",
   "execution_count": null,
   "metadata": {},
   "outputs": [],
   "source": [
    "bc = BlazingContext(dask_client=None,\n",
    "                    network_interface=None,\n",
    "                    allocator='managed',\n",
    "                    pool=False,\n",
    "                    initial_pool_size=None,\n",
    "                    enable_logging=False,\n",
    "                    config_options={})"
   ]
  },
  {
   "cell_type": "markdown",
   "metadata": {},
   "source": [
    "### Multi-GPU\n",
    "\n",
    "Distribute BlazingSQL query execution across multiple GPUs with Dask. Read more with our blog post \"[Distributed SQL with Dask](https://blog.blazingdb.com/distributed-sql-with-dask-2979262acc8a?source=friends_link&sk=077319064cd7d9e18df8c0292eb5d33d)\"."
   ]
  },
  {
   "cell_type": "markdown",
   "metadata": {},
   "source": [
    "#### Single Node Multi-GPU\n",
    "[Docs](https://docs.blazingdb.com/docs/distributed) | [BlazingSQL Notebooks](query_tables.ipynb#Distributed-Queries)\n",
    "\n",
    "Distribute BlazingSQL query execution across all GPUs within the same system. "
   ]
  },
  {
   "cell_type": "code",
   "execution_count": null,
   "metadata": {},
   "outputs": [],
   "source": [
    "from dask_cuda import LocalCUDACluster\n",
    "from dask.distributed import Client\n",
    "\n",
    "cluster = LocalCUDACluster()\n",
    "client = Client(cluster)"
   ]
  },
  {
   "cell_type": "code",
   "execution_count": null,
   "metadata": {},
   "outputs": [],
   "source": [
    "from blazingsql import BlazingContext\n",
    "\n",
    "bc = BlazingContext(dask_client=client, network_interface='lo')"
   ]
  },
  {
   "cell_type": "markdown",
   "metadata": {},
   "source": [
    "#### Mulit Node Multi-GPU (MNMG)\n",
    "[Docs](https://docs.blazingdb.com/docs/distributed#multiple-node---multiple-gpu-with-dask-scheduler-and-dask-worker)\n",
    "\n",
    "Distribute BlazingSQL query execution across multiple GPUs within multiple . "
   ]
  },
  {
   "cell_type": "code",
   "execution_count": null,
   "metadata": {},
   "outputs": [],
   "source": [
    "# # on one terminal\n",
    "# conda activate bsql\n",
    "# CUDA_VISIBLE_DEVICES=0 dask-worker 127.0.0.1:8786\n",
    "\n",
    "# # on another terminal\n",
    "# conda activate bsql\n",
    "# CUDA_VISIBLE_DEVICES=1 dask-worker 127.0.0.1.123:8786\n",
    "\n",
    "# # repeat for other GPUs"
   ]
  },
  {
   "cell_type": "code",
   "execution_count": null,
   "metadata": {},
   "outputs": [],
   "source": [
    "# from blazingsql import BlazingContext\n",
    "# from dask.distributed import Client\n",
    "\n",
    "# client = Client('127.0.0.1:8786')\n",
    "\n",
    "# bc = BlazingContext(dask_client=client, network_interface='eth0')"
   ]
  },
  {
   "cell_type": "markdown",
   "metadata": {},
   "source": [
    "### .create_table()\n",
    "[Docs](https://docs.blazingdb.com/docs/create_table) | [BlazingSQL Notebooks](create_tables.ipynb)\n"
   ]
  },
  {
   "cell_type": "code",
   "execution_count": null,
   "metadata": {},
   "outputs": [],
   "source": [
    "from blazingsql import BlazingContext\n",
    "bc = BlazingContext()"
   ]
  },
  {
   "cell_type": "markdown",
   "metadata": {},
   "source": [
    "Create a table from a local file."
   ]
  },
  {
   "cell_type": "code",
   "execution_count": null,
   "metadata": {},
   "outputs": [],
   "source": [
    "bc.create_table('iris', '../../../data/iris.csv')"
   ]
  },
  {
   "cell_type": "markdown",
   "metadata": {},
   "source": [
    "Create a table from a `cudf.DataFrame`."
   ]
  },
  {
   "cell_type": "code",
   "execution_count": null,
   "metadata": {},
   "outputs": [],
   "source": [
    "import cudf\n",
    "df = cudf.read_csv('https://raw.githubusercontent.com/BlazingDB/Welcome_to_BlazingSQL_Notebooks/branch-0.15/data/iris.csv')\n",
    "\n",
    "bc.create_table('iris', df)"
   ]
  },
  {
   "cell_type": "markdown",
   "metadata": {},
   "source": [
    "Create a table from a AWS S3 bucket."
   ]
  },
  {
   "cell_type": "code",
   "execution_count": null,
   "metadata": {},
   "outputs": [],
   "source": [
    "bc.s3('bsql', bucket_name='blazingsql-colab')\n",
    "\n",
    "bc.create_table('taxi', 's3://bsql/yellow_taxi/1_0_0.parquet')"
   ]
  },
  {
   "cell_type": "markdown",
   "metadata": {},
   "source": [
    "### .drop_table()\n",
    "[Docs](https://docs.blazingdb.com/docs/drop_table) | [BlazingSQL Notebooks](https://app.blazingsql.com/jupyter/user-redirect/lab/workspaces/auto-b/tree/Welcome_to_BlazingSQL_Notebooks/docs/blazingsql/blazingcontext_api/blazingcontext.ipynb#.drop_table())                                                       \n",
    "\n",
    "Drop a BlazingSQL table."
   ]
  },
  {
   "cell_type": "code",
   "execution_count": null,
   "metadata": {},
   "outputs": [],
   "source": [
    "bc.drop_table('taxi')"
   ]
  },
  {
   "cell_type": "markdown",
   "metadata": {},
   "source": [
    "### .sql()\n",
    "[Docs](https://docs.blazingdb.com/docs/bcsql) | [BlazingSQL Notebooks](query_tables.ipynb)\n",
    "                                                                              \n",
    "Query a BlazingSQL table."
   ]
  },
  {
   "cell_type": "code",
   "execution_count": null,
   "metadata": {},
   "outputs": [],
   "source": [
    "bc.sql('SELECT * FROM iris')"
   ]
  },
  {
   "cell_type": "code",
   "execution_count": null,
   "metadata": {},
   "outputs": [],
   "source": [
    "query = '''\n",
    "        SELECT\n",
    "            petal_width,\n",
    "            sepal_length,\n",
    "            target\n",
    "        FROM\n",
    "            iris\n",
    "            '''\n",
    "bc.sql(query)"
   ]
  },
  {
   "cell_type": "code",
   "execution_count": null,
   "metadata": {},
   "outputs": [],
   "source": [
    "bc.sql(query).to_pandas().plot(kind='scatter', x='sepal_length', y='petal_width')"
   ]
  },
  {
   "cell_type": "markdown",
   "metadata": {},
   "source": [
    "### .explain()\n",
    "[Docs](https://docs.blazingdb.com/docs/explain)\n",
    "\n",
    "To better understand what's going on, BlazingContext's .explain() method can be called to break down a given query's Logical Relational Algebra plan. Note that internally at runtime, the Logical Relational Algebra will be converted to a Physical Relational Algebra plan that takes some of the Logical Relational Algebra steps and breaks them down further into more steps.\n"
   ]
  },
  {
   "cell_type": "code",
   "execution_count": null,
   "metadata": {},
   "outputs": [],
   "source": [
    "from blazingsql import BlazingContext\n",
    "bc = BlazingContext()\n",
    "\n",
    "bc.create_table('iris', '../../../data/iris.csv')"
   ]
  },
  {
   "cell_type": "code",
   "execution_count": null,
   "metadata": {},
   "outputs": [],
   "source": [
    "query = '''\n",
    "        SELECT\n",
    "            CAST(sepal_length AS INT) int_length,\n",
    "            CASE \n",
    "                WHEN sepal_width >= 1 THEN 1 \n",
    "                ELSE 0 END case_width\n",
    "        FROM\n",
    "            iris\n",
    "            '''\n",
    "bc.explain(query)"
   ]
  },
  {
   "cell_type": "code",
   "execution_count": null,
   "metadata": {},
   "outputs": [],
   "source": [
    "exp = bc.explain(query)\n",
    "\n",
    "print(exp)"
   ]
  },
  {
   "cell_type": "code",
   "execution_count": null,
   "metadata": {},
   "outputs": [],
   "source": [
    "bc.sql(query)"
   ]
  },
  {
   "cell_type": "markdown",
   "metadata": {},
   "source": [
    "### .log()\n",
    "[Docs](https://docs.blazingdb.com/docs/explain) | [BlazingSQL Notebooks](../../../intro_notebooks/bsql_logs.ipynb)\n",
    "\n",
    "BlazingSQL has an internal log that records events from every node from all queries run. The events include runtime query step execution information, performance timings, errors and warnings. The logs table is called bsql_logs. You can query the logs as if it were any other table, except you use the `.log()` function, instead of the `sql()`."
   ]
  },
  {
   "cell_type": "code",
   "execution_count": null,
   "metadata": {},
   "outputs": [],
   "source": [
    "from blazingsql import BlazingContext\n",
    "bc = BlazingContext()"
   ]
  },
  {
   "cell_type": "markdown",
   "metadata": {},
   "source": [
    "How long did each successfully run query take?"
   ]
  },
  {
   "cell_type": "code",
   "execution_count": null,
   "metadata": {},
   "outputs": [],
   "source": [
    "bc.log(\"SELECT log_time, query_id, duration FROM bsql_logs WHERE info = 'Query Execution Done' ORDER BY log_time DESC\")"
   ]
  },
  {
   "cell_type": "markdown",
   "metadata": {},
   "source": [
    "### .partition()\n",
    "[Docs](https://docs.blazingdb.com/docs/unify_partitions)\n",
    "\n",
    "BlazingSQL allows you to partition a dask_cudf DataFrame based on one or more columns. This can be useful as a preparation step before running a function on these partitions using dask, where you expect each partition that you run the function on to be partitioned on certain columns. The partitioning is done using a hash partition algorithm."
   ]
  },
  {
   "cell_type": "code",
   "execution_count": null,
   "metadata": {},
   "outputs": [],
   "source": [
    "from blazingsql import BlazingContext\n",
    "from dask.distributed import Client\n",
    "from dask_cuda import LocalCUDACluster\n",
    "\n",
    "cluster = LocalCUDACluster()\n",
    "client = Client(cluster)\n",
    "bc = BlazingContext(dask_client=client)\n",
    "\n",
    "bc.create_table('product_reviews', \"product_reviews/*.parquet\")\n",
    "\n",
    "query_1= \"\"\"\n",
    "        SELECT pr_item_sk, \n",
    "            pr_review_content, \n",
    "            pr_review_sk\n",
    "        FROM product_reviews \n",
    "        where pr_review_content IS NOT NULL\n",
    "    \"\"\"\n",
    "\n",
    "product_reviews_df = bc.sql(query_1)\n",
    "product_reviews_df = bc.partition(product_reviews_df, \n",
    "                                  by=[\"pr_item_sk\", \n",
    "                                      \"pr_review_content\", \n",
    "                                      \"pr_review_sk\"])\n",
    "\n",
    "sentences = product_reviews_df.map_partitions(create_sentences_from_reviews)\n"
   ]
  },
  {
   "cell_type": "markdown",
   "metadata": {},
   "source": [
    "### Version Info\n",
    "[Docs](https://docs.blazingdb.com/docs/blazingsql-version-info)"
   ]
  },
  {
   "cell_type": "code",
   "execution_count": null,
   "metadata": {},
   "outputs": [],
   "source": [
    "import blazingsql"
   ]
  },
  {
   "cell_type": "code",
   "execution_count": null,
   "metadata": {},
   "outputs": [],
   "source": [
    "blazingsql.__version__"
   ]
  },
  {
   "cell_type": "code",
   "execution_count": null,
   "metadata": {},
   "outputs": [],
   "source": [
    "blazingsql.__info__()"
   ]
  },
  {
   "cell_type": "markdown",
   "metadata": {},
   "source": [
    "# BlazingSQL Docs\n",
    "**[Table of Contents](../TABLE_OF_CONTENTS.ipynb) | [Issues (GitHub)](https://github.com/BlazingDB/Welcome_to_BlazingSQL_Notebooks/issues)**"
   ]
  }
 ],
 "metadata": {
  "kernelspec": {
   "display_name": "RAPIDS Stable",
   "language": "python",
   "name": "rapids-stable"
  },
  "language_info": {
   "codemirror_mode": {
    "name": "ipython",
    "version": 3
   },
   "file_extension": ".py",
   "mimetype": "text/x-python",
   "name": "python",
   "nbconvert_exporter": "python",
   "pygments_lexer": "ipython3",
   "version": "3.7.6"
  }
 },
 "nbformat": 4,
 "nbformat_minor": 4
}
