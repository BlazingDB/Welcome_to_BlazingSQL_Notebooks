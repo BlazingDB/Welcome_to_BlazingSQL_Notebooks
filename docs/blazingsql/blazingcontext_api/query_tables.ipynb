{
 "cells": [
  {
   "cell_type": "markdown",
   "metadata": {},
   "source": [
    "# BlazingContext API"
   ]
  },
  {
   "cell_type": "markdown",
   "metadata": {},
   "source": [
    "## Query Tables\n",
    "[Docs](https://docs.blazingdb.com/docs/single-gpu) | [BlazingSQL Notebooks](https://app.blazingsql.com/jupyter/user-redirect/lab/workspaces/auto-b/tree/Welcome_to_BlazingSQL_Notebooks/docs/blazingsql.ipynb#Create-Tables)"
   ]
  },
  {
   "cell_type": "code",
   "execution_count": null,
   "metadata": {},
   "outputs": [],
   "source": [
    "from blazingsql import BlazingContext\n",
    "bc = BlazingContext()"
   ]
  },
  {
   "cell_type": "code",
   "execution_count": null,
   "metadata": {},
   "outputs": [],
   "source": [
    "bc.create_table('taxi', '../../../data/sample_taxi.parquet')"
   ]
  },
  {
   "cell_type": "markdown",
   "metadata": {},
   "source": [
    "Pull all rows and all columns."
   ]
  },
  {
   "cell_type": "code",
   "execution_count": null,
   "metadata": {},
   "outputs": [],
   "source": [
    "bc.sql('SELECT * FROM taxi')"
   ]
  },
  {
   "cell_type": "markdown",
   "metadata": {},
   "source": [
    "Determine the average number riders per trip by hour of the day."
   ]
  },
  {
   "cell_type": "code",
   "execution_count": null,
   "metadata": {},
   "outputs": [],
   "source": [
    "avg_riders_by_hour = '''\n",
    "                     select\n",
    "                         avg(cast(passenger_count as float)) as avg_passenger_count,\n",
    "                         hour(dropoff_ts) as hour_of_the_day\n",
    "                     from (\n",
    "                         select\n",
    "                             passenger_count, \n",
    "                             cast(tpep_dropoff_datetime || '.0' as timestamp) dropoff_ts\n",
    "                         from\n",
    "                             taxi\n",
    "                             )\n",
    "                     group by\n",
    "                         hour(dropoff_ts)\n",
    "                     order by\n",
    "                         hour(dropoff_ts)\n",
    "                         '''\n",
    "bc.sql(avg_riders_by_hour)"
   ]
  },
  {
   "cell_type": "markdown",
   "metadata": {},
   "source": [
    "Convert results `.to_pandas()` for easy Matplotlib visualization."
   ]
  },
  {
   "cell_type": "code",
   "execution_count": null,
   "metadata": {},
   "outputs": [],
   "source": [
    "bc.sql(avg_riders_by_hour).to_pandas().plot(x='hour_of_the_day', y='avg_passenger_count')"
   ]
  },
  {
   "cell_type": "markdown",
   "metadata": {},
   "source": [
    "### Distributed Queries\n",
    "[Docs](https://docs.blazingdb.com/docs/distributed) | [BlazingSQL Notebooks](https://app.blazingsql.com/jupyter/user-redirect/lab/workspaces/auto-b/tree/Welcome_to_BlazingSQL_Notebooks/docs/blazingsql.ipynb#Distributed-Queries)\n",
    "\n",
    "BlazingSQL can easily distribute query execution across multiple GPUs or servers with Dask. You don't have to pass a list of IPs and ports to BSQL, whatever you configure with Dask will give your BlazingContext instance awareness of where all the GPUs or servers are. Check out blog_posts/[distributed_sql_with_dask.ipynb](../blog_posts/distributed_sql_with_dask.ipynb) or [Distributed SQL with Dask](https://blog.blazingdb.com/distributed-sql-with-dask-2979262acc8a?source=friends_link&sk=077319064cd7d9e18df8c0292eb5d33d) for more."
   ]
  },
  {
   "cell_type": "code",
   "execution_count": null,
   "metadata": {},
   "outputs": [],
   "source": [
    "from dask_cuda import LocalCUDACluster\n",
    "from dask.distributed import Client\n",
    "cluster = LocalCUDACluster()\n",
    "client = Client(cluster)\n",
    "\n",
    "from blazingsql import BlazingContext\n",
    "bc = BlazingContext(dask_client=client, network_interface='lo')\n",
    "\n",
    "bc.s3('bsql', bucket_name='blazingsql-colab')\n",
    "bc.create_table('taxi', 's3://bsql/yellow_taxi/taxi_data.parquet')"
   ]
  },
  {
   "cell_type": "markdown",
   "metadata": {},
   "source": [
    "Distributed queries return a dask_cudf.DataFrame. Learn more with [The DataFrame introductory Notebook](../../../intro_notebooks/the_dataframe.ipynb#Dask-cuDF)."
   ]
  },
  {
   "cell_type": "code",
   "execution_count": null,
   "metadata": {},
   "outputs": [],
   "source": [
    "type(bc.sql('SELECT * FROM taxi'))"
   ]
  },
  {
   "cell_type": "markdown",
   "metadata": {},
   "source": [
    "Pull all rows and all columns."
   ]
  },
  {
   "cell_type": "code",
   "execution_count": null,
   "metadata": {},
   "outputs": [],
   "source": [
    "bc.sql('SELECT * FROM taxi').compute()"
   ]
  },
  {
   "cell_type": "markdown",
   "metadata": {},
   "source": [
    "Determine the average number riders per trip by hour of the day."
   ]
  },
  {
   "cell_type": "code",
   "execution_count": null,
   "metadata": {},
   "outputs": [],
   "source": [
    "avg_riders_by_hour = '''\n",
    "                     select\n",
    "                         avg(cast(passenger_count as float)) as avg_passenger_count,\n",
    "                         hour(dropoff_ts) as hour_of_the_day\n",
    "                     from (\n",
    "                         select\n",
    "                             passenger_count, \n",
    "                             cast(tpep_dropoff_datetime || '.0' as timestamp) dropoff_ts\n",
    "                         from\n",
    "                             taxi\n",
    "                             )\n",
    "                     group by\n",
    "                         hour(dropoff_ts)\n",
    "                     order by\n",
    "                         hour(dropoff_ts)\n",
    "                         '''\n",
    "bc.sql(avg_riders_by_hour).compute()"
   ]
  },
  {
   "cell_type": "markdown",
   "metadata": {},
   "source": [
    "`.compute()` then convert results `.to_pandas()` for easy Matplotlib visualization."
   ]
  },
  {
   "cell_type": "code",
   "execution_count": null,
   "metadata": {},
   "outputs": [],
   "source": [
    "bc.sql(avg_riders_by_hour).compute().to_pandas().plot(x='hour_of_the_day', y='avg_passenger_count')"
   ]
  },
  {
   "cell_type": "markdown",
   "metadata": {},
   "source": [
    "# BlazingSQL Docs\n",
    "**[Table of Contents](../TABLE_OF_CONTENTS.ipynb) | [Issues (GitHub)](https://github.com/BlazingDB/Welcome_to_BlazingSQL_Notebooks/issues)**"
   ]
  }
 ],
 "metadata": {
  "kernelspec": {
   "display_name": "RAPIDS Stable",
   "language": "python",
   "name": "rapids-stable"
  },
  "language_info": {
   "codemirror_mode": {
    "name": "ipython",
    "version": 3
   },
   "file_extension": ".py",
   "mimetype": "text/x-python",
   "name": "python",
   "nbconvert_exporter": "python",
   "pygments_lexer": "ipython3",
   "version": "3.7.6"
  }
 },
 "nbformat": 4,
 "nbformat_minor": 4
}
