{
 "cells": [
  {
   "cell_type": "markdown",
   "metadata": {},
   "source": [
    "# SQL Reference\n",
    "## Functions\n",
    "### Aggregators\n",
    "Aggregators perform calculations of a set of elements. They can be used with and without a GROUP BY clause"
   ]
  },
  {
   "cell_type": "markdown",
   "metadata": {},
   "source": [
    "#### COUNT\n",
    "Counts non null-elements"
   ]
  },
  {
   "cell_type": "code",
   "execution_count": null,
   "metadata": {},
   "outputs": [],
   "source": [
    "from blazingsql import BlazingContext\n",
    "bc = BlazingContext()\n",
    "bc.create_table('nation', '../../../../data/nation.parquet')"
   ]
  },
  {
   "cell_type": "code",
   "execution_count": null,
   "metadata": {},
   "outputs": [],
   "source": [
    "query = '''\n",
    "        SELECT \n",
    "            COUNT(n_nationkey)\n",
    "        FROM\n",
    "            nation            \n",
    "            '''\n",
    "bc.sql(query)"
   ]
  },
  {
   "cell_type": "code",
   "execution_count": null,
   "metadata": {},
   "outputs": [],
   "source": [
    "query = '''\n",
    "        SELECT \n",
    "            n_regionkey, COUNT(n_nationkey)\n",
    "        FROM\n",
    "            nation \n",
    "        GROUP BY n_regionkey\n",
    "            '''\n",
    "bc.sql(query)"
   ]
  },
  {
   "cell_type": "markdown",
   "metadata": {},
   "source": [
    "#### SUM\n",
    "Sums non null-elements"
   ]
  },
  {
   "cell_type": "code",
   "execution_count": null,
   "metadata": {},
   "outputs": [],
   "source": [
    "from blazingsql import BlazingContext\n",
    "bc = BlazingContext()\n",
    "bc.create_table('nation', '../../../../data/nation.parquet')"
   ]
  },
  {
   "cell_type": "code",
   "execution_count": null,
   "metadata": {},
   "outputs": [],
   "source": [
    "query = '''\n",
    "        SELECT \n",
    "            SUM(n_nationkey)\n",
    "        FROM\n",
    "            nation            \n",
    "            '''\n",
    "bc.sql(query)"
   ]
  },
  {
   "cell_type": "code",
   "execution_count": null,
   "metadata": {},
   "outputs": [],
   "source": [
    "query = '''\n",
    "        SELECT \n",
    "            n_regionkey, SUM(n_nationkey)\n",
    "        FROM\n",
    "            nation \n",
    "        GROUP BY n_regionkey\n",
    "            '''\n",
    "bc.sql(query)"
   ]
  },
  {
   "cell_type": "markdown",
   "metadata": {},
   "source": [
    "#### MIN and MAX\n",
    "Takes the minimum and maximum of non-null elements respectively"
   ]
  },
  {
   "cell_type": "code",
   "execution_count": null,
   "metadata": {},
   "outputs": [],
   "source": [
    "from blazingsql import BlazingContext\n",
    "bc = BlazingContext()\n",
    "bc.create_table('nation', '../../../../data/nation.parquet')"
   ]
  },
  {
   "cell_type": "code",
   "execution_count": null,
   "metadata": {},
   "outputs": [],
   "source": [
    "query = '''\n",
    "        SELECT \n",
    "            MIN(n_nationkey), MAX(n_nationkey)\n",
    "        FROM\n",
    "            nation            \n",
    "            '''\n",
    "bc.sql(query)"
   ]
  },
  {
   "cell_type": "code",
   "execution_count": null,
   "metadata": {},
   "outputs": [],
   "source": [
    "query = '''\n",
    "        SELECT \n",
    "            n_regionkey, MIN(n_nationkey), MAX(n_nationkey)\n",
    "        FROM\n",
    "            nation \n",
    "        GROUP BY n_regionkey\n",
    "            '''\n",
    "bc.sql(query)"
   ]
  },
  {
   "cell_type": "markdown",
   "metadata": {},
   "source": [
    "#### AVG\n",
    "Takes the average of non-null elements"
   ]
  },
  {
   "cell_type": "code",
   "execution_count": null,
   "metadata": {},
   "outputs": [],
   "source": [
    "from blazingsql import BlazingContext\n",
    "bc = BlazingContext()\n",
    "bc.create_table('nation', '../../../../data/nation.parquet')"
   ]
  },
  {
   "cell_type": "code",
   "execution_count": null,
   "metadata": {},
   "outputs": [],
   "source": [
    "query = '''\n",
    "        SELECT \n",
    "            AVG(n_nationkey)\n",
    "        FROM\n",
    "            nation            \n",
    "            '''\n",
    "bc.sql(query)"
   ]
  },
  {
   "cell_type": "code",
   "execution_count": null,
   "metadata": {},
   "outputs": [],
   "source": [
    "query = '''\n",
    "        SELECT \n",
    "            n_regionkey, AVG(n_nationkey)\n",
    "        FROM\n",
    "            nation \n",
    "        GROUP BY n_regionkey\n",
    "            '''\n",
    "bc.sql(query)"
   ]
  },
  {
   "cell_type": "markdown",
   "metadata": {},
   "source": [
    "#### STDDEV, STDDEV_SAMP, STDDEV_POP\n",
    "STDDEV_SAMP takes the sample standard deviation of the elements.\n",
    "\n",
    "STDDEV_POP takes the population standard deviation of the elements.\n",
    "\n",
    "STDDEV is an alias of STDDEV_SAMP.\n",
    "\n",
    "NOTE: The difference between STDDEV_SAMP and STDDEV_POP is that STDDEV_SAMP is scaled by 1/(N-1) while STDDEV_POP is scaled by 1/N."
   ]
  },
  {
   "cell_type": "code",
   "execution_count": null,
   "metadata": {},
   "outputs": [],
   "source": [
    "from blazingsql import BlazingContext\n",
    "bc = BlazingContext()\n",
    "bc.create_table('nation', '../../../../data/nation.parquet')"
   ]
  },
  {
   "cell_type": "code",
   "execution_count": null,
   "metadata": {},
   "outputs": [],
   "source": [
    "query = '''\n",
    "        SELECT \n",
    "            STDDEV(n_nationkey) AS std_dev,\n",
    "            STDDEV_SAMP(n_nationkey) AS std_dev_samp,\n",
    "            STDDEV_POP(n_nationkey) as std_dev_pop\n",
    "        FROM\n",
    "            nation            \n",
    "            '''\n",
    "bc.sql(query)"
   ]
  },
  {
   "cell_type": "code",
   "execution_count": null,
   "metadata": {},
   "outputs": [],
   "source": [
    "query = '''\n",
    "        SELECT \n",
    "            n_regionkey,\n",
    "            STDDEV(n_nationkey) AS std_dev,\n",
    "            STDDEV_SAMP(n_nationkey) AS std_dev_samp,\n",
    "            STDDEV_POP(n_nationkey) as std_dev_pop\n",
    "        FROM\n",
    "            nation \n",
    "        GROUP BY n_regionkey\n",
    "            '''\n",
    "bc.sql(query)"
   ]
  },
  {
   "cell_type": "markdown",
   "metadata": {},
   "source": [
    "#### VARIANCE, VAR_SAMP, VAR_POP\n",
    "VAR_SAMP takes the sample variance of the elements.\n",
    "\n",
    "VAR_POP takes the population variance of the elements.\n",
    "\n",
    "VARIANCE is an alias of VAR_SAMP.\n",
    "\n",
    "NOTE: The difference between VAR_SAMP and VAR_POP is that VAR_SAMP is scaled by 1/(N*(N-1)) while VAR_POP is scaled by 1/(N^2)."
   ]
  },
  {
   "cell_type": "code",
   "execution_count": null,
   "metadata": {},
   "outputs": [],
   "source": [
    "from blazingsql import BlazingContext\n",
    "bc = BlazingContext()\n",
    "bc.create_table('nation', '../../../../data/nation.parquet')"
   ]
  },
  {
   "cell_type": "code",
   "execution_count": null,
   "metadata": {},
   "outputs": [],
   "source": [
    "query = '''\n",
    "        SELECT \n",
    "            VARIANCE(n_nationkey) AS var,\n",
    "            VAR_SAMP(n_nationkey) AS varsamp,\n",
    "            VAR_POP(n_nationkey) as varpop\n",
    "        FROM\n",
    "            nation            \n",
    "            '''\n",
    "bc.sql(query)"
   ]
  },
  {
   "cell_type": "code",
   "execution_count": null,
   "metadata": {},
   "outputs": [],
   "source": [
    "query = '''\n",
    "        SELECT \n",
    "            n_regionkey,\n",
    "            VARIANCE(n_nationkey) AS var,\n",
    "            VAR_SAMP(n_nationkey) AS varsamp,\n",
    "            VAR_POP(n_nationkey) as varpop\n",
    "        FROM\n",
    "            nation \n",
    "        GROUP BY n_regionkey\n",
    "            '''\n",
    "bc.sql(query)"
   ]
  }
 ],
 "metadata": {
  "kernelspec": {
   "display_name": "Python [conda env:bsql5] *",
   "language": "python",
   "name": "conda-env-bsql5-py"
  },
  "language_info": {
   "codemirror_mode": {
    "name": "ipython",
    "version": 3
   },
   "file_extension": ".py",
   "mimetype": "text/x-python",
   "name": "python",
   "nbconvert_exporter": "python",
   "pygments_lexer": "ipython3",
   "version": "3.8.6"
  }
 },
 "nbformat": 4,
 "nbformat_minor": 4
}
