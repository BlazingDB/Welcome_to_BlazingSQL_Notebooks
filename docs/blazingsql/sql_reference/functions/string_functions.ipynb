{
 "cells": [
  {
   "cell_type": "markdown",
   "metadata": {},
   "source": [
    "# SQL Reference"
   ]
  },
  {
   "cell_type": "markdown",
   "metadata": {},
   "source": [
    "## Functions"
   ]
  },
  {
   "cell_type": "markdown",
   "metadata": {},
   "source": [
    "### String Functions\n",
    "[Docs](https://docs.blazingdb.com/docs/string-functions)"
   ]
  },
  {
   "cell_type": "markdown",
   "metadata": {},
   "source": [
    "#### CHAR_LENGTH\n",
    "Gets the length of a string.\n",
    "```sql\n",
    "SELECT CHAR_LENGTH(string_col) FROM table\n",
    "```"
   ]
  },
  {
   "cell_type": "code",
   "execution_count": null,
   "metadata": {},
   "outputs": [],
   "source": [
    "from blazingsql import BlazingContext\n",
    "bc = BlazingContext()\n",
    "bc.create_table('nation', '../../../../data/nation.parquet')"
   ]
  },
  {
   "cell_type": "code",
   "execution_count": null,
   "metadata": {},
   "outputs": [],
   "source": [
    "query = '''\n",
    "        select \n",
    "            n_name, CHAR_LENGTH(n_name) \n",
    "        from \n",
    "            nation\n",
    "            '''\n",
    "bc.sql(query)"
   ]
  },
  {
   "cell_type": "markdown",
   "metadata": {},
   "source": [
    "#### CONCAT\n",
    "Concatenate two strings with the `||` operator.\n",
    "\n",
    "```sql\n",
    "SELECT column_A || column_B FROM table_A\n",
    "```"
   ]
  },
  {
   "cell_type": "code",
   "execution_count": null,
   "metadata": {},
   "outputs": [],
   "source": [
    "from blazingsql import BlazingContext\n",
    "bc = BlazingContext()\n",
    "bc.create_table('nation', '../../../../data/nation.parquet')"
   ]
  },
  {
   "cell_type": "code",
   "execution_count": null,
   "metadata": {},
   "outputs": [],
   "source": [
    "query = '''\n",
    "        select \n",
    "            n_name || ' is the best'\n",
    "        from\n",
    "            nation\n",
    "            '''\n",
    "bc.sql(query)"
   ]
  },
  {
   "cell_type": "markdown",
   "metadata": {},
   "source": [
    "#### LIKE \n",
    "\n",
    "The LIKE operator is used in a WHERE clause to search for a specified pattern in a column.\n",
    "\n",
    "There are two wildcards often used in conjunction with the LIKE operator:\n",
    "\n",
    "- `%` - The percent sign represents zero, one, or multiple characters\n",
    "- `_` - The underscore represents a single character\n",
    "\n",
    "#### LIKE (multiple characters)\n",
    "```sql\n",
    "SELECT p_partkey, p_type FROM part WHERE p_type LIKE '%BRASS'\n",
    "```"
   ]
  },
  {
   "cell_type": "code",
   "execution_count": null,
   "metadata": {},
   "outputs": [],
   "source": [
    "from blazingsql import BlazingContext\n",
    "bc = BlazingContext()\n",
    "bc.create_table('nation', '../../../../data/nation.parquet')"
   ]
  },
  {
   "cell_type": "code",
   "execution_count": null,
   "metadata": {},
   "outputs": [],
   "source": [
    "query = '''\n",
    "        select \n",
    "            n_comment\n",
    "        from\n",
    "            nation\n",
    "            where\n",
    "            n_comment LIKE '%the%'\n",
    "            '''\n",
    "bc.sql(query)"
   ]
  },
  {
   "cell_type": "markdown",
   "metadata": {},
   "source": [
    "#### LIKE (single character)\n",
    "```sql\n",
    "SELECT c_name FROM customer WHERE c_name LIKE 'Customer%7__8'\n",
    "```"
   ]
  },
  {
   "cell_type": "code",
   "execution_count": null,
   "metadata": {},
   "outputs": [],
   "source": [
    "from blazingsql import BlazingContext\n",
    "bc = BlazingContext()\n",
    "bc.create_table('taxi', '../../../../data/sample_taxi.parquet')"
   ]
  },
  {
   "cell_type": "code",
   "execution_count": null,
   "metadata": {},
   "outputs": [],
   "source": [
    "query = '''\n",
    "        select \n",
    "            fare_amount\n",
    "        from\n",
    "            taxi\n",
    "            where\n",
    "            fare_amount LIKE '1_.0'\n",
    "            '''\n",
    "bc.sql(query)"
   ]
  },
  {
   "cell_type": "markdown",
   "metadata": {},
   "source": [
    "#### SUBSTRING\n",
    "```sql\n",
    "SELECT SUBSTRING(string_column, start, length) FROM table\n",
    "```"
   ]
  },
  {
   "cell_type": "code",
   "execution_count": null,
   "metadata": {},
   "outputs": [],
   "source": [
    "from blazingsql import BlazingContext\n",
    "bc = BlazingContext()\n",
    "bc.create_table('taxi', '../../../../data/sample_taxi.parquet')"
   ]
  },
  {
   "cell_type": "code",
   "execution_count": null,
   "metadata": {},
   "outputs": [],
   "source": [
    "query = '''\n",
    "        select \n",
    "            SUBSTRING(tpep_pickup_datetime, 0, 4)\n",
    "        from\n",
    "            taxi\n",
    "            '''\n",
    "bc.sql(query)"
   ]
  },
  {
   "cell_type": "code",
   "execution_count": null,
   "metadata": {},
   "outputs": [],
   "source": [
    "query = '''\n",
    "        select \n",
    "            SUBSTRING(tpep_pickup_datetime, 0, 4) || '-' || SUBSTRING(tpep_pickup_datetime, 12, 8) \n",
    "        from\n",
    "            taxi\n",
    "            '''\n",
    "bc.sql(query)"
   ]
  },
  {
   "cell_type": "markdown",
   "metadata": {},
   "source": [
    "#### LTRIM and RTRIM\n",
    "```sql\n",
    "SELECT LTRIM(string_col), RTRIM(string_col) FROM table\n",
    "```"
   ]
  },
  {
   "cell_type": "code",
   "execution_count": null,
   "metadata": {},
   "outputs": [],
   "source": [
    "from blazingsql import BlazingContext\n",
    "bc = BlazingContext()\n",
    "bc.create_table('nation', '../../../../data/nation.parquet')"
   ]
  },
  {
   "cell_type": "code",
   "execution_count": null,
   "metadata": {},
   "outputs": [],
   "source": [
    "query = '''\n",
    "        select \n",
    "            n_name, LTRIM(n_comment), RTRIM(n_comment)\n",
    "        from\n",
    "            nation\n",
    "            '''\n",
    "bc.sql(query)"
   ]
  },
  {
   "cell_type": "markdown",
   "metadata": {},
   "source": [
    "#### TRIM"
   ]
  },
  {
   "cell_type": "code",
   "execution_count": null,
   "metadata": {},
   "outputs": [],
   "source": [
    "from blazingsql import BlazingContext\n",
    "bc = BlazingContext()\n",
    "bc.create_table('nation', '../../../../data/nation.parquet')"
   ]
  },
  {
   "cell_type": "code",
   "execution_count": null,
   "metadata": {},
   "outputs": [],
   "source": [
    "query = '''\n",
    "        select \n",
    "            n_name as original, \n",
    "            TRIM(LEADING 'A' FROM n_name) as leading_example, \n",
    "            TRIM(TRAILING 'A' FROM n_name) as trailing_example,\n",
    "            TRIM('A' FROM n_name) as both_example, \n",
    "            TRIM('AN' FROM n_name) as multi_char_example, \n",
    "            TRIM('a' FROM n_name) as case_sensitive_example, \n",
    "            n_comment as original2, \n",
    "            TRIM(n_comment) as no_char_example\n",
    "        from\n",
    "            nation\n",
    "            '''\n",
    "bc.sql(query)"
   ]
  },
  {
   "cell_type": "markdown",
   "metadata": {},
   "source": [
    "#### REPLACE\n",
    "```sql\n",
    "SELECT  REPLACE('bad', 'good', n_comment) FROM nation\n",
    "```"
   ]
  },
  {
   "cell_type": "code",
   "execution_count": null,
   "metadata": {},
   "outputs": [],
   "source": [
    "from blazingsql import BlazingContext\n",
    "bc = BlazingContext()\n",
    "bc.create_table('nation', '../../../../data/nation.parquet')"
   ]
  },
  {
   "cell_type": "code",
   "execution_count": null,
   "metadata": {},
   "outputs": [],
   "source": [
    "query = '''\n",
    "        select \n",
    "            n_name as original, \n",
    "            REPLACE(n_name, 'UNITED', 'DIVIDED') as replace_example\n",
    "        from\n",
    "            nation\n",
    "            '''\n",
    "bc.sql(query)"
   ]
  },
  {
   "cell_type": "markdown",
   "metadata": {},
   "source": [
    "#### UPPER and LOWER\n",
    "```sql\n",
    "SELECT UPPER(string_column), LOWER(string_column) FROM table\n",
    "```"
   ]
  },
  {
   "cell_type": "code",
   "execution_count": null,
   "metadata": {},
   "outputs": [],
   "source": [
    "from blazingsql import BlazingContext\n",
    "bc = BlazingContext()\n",
    "bc.create_table('nation', '../../../../data/nation.parquet')"
   ]
  },
  {
   "cell_type": "code",
   "execution_count": null,
   "metadata": {},
   "outputs": [],
   "source": [
    "query = '''\n",
    "        select \n",
    "            n_name as original, \n",
    "            LOWER(n_name) as lower_example,\n",
    "            n_comment as original2, \n",
    "            UPPER(n_comment) as upper_example\n",
    "        from\n",
    "            nation\n",
    "            '''\n",
    "bc.sql(query)"
   ]
  },
  {
   "cell_type": "markdown",
   "metadata": {},
   "source": [
    "#### REVERSE\n",
    "```sql\n",
    "SELECT REVERSE(string_column) FROM table\n",
    "```"
   ]
  },
  {
   "cell_type": "code",
   "execution_count": 1,
   "metadata": {},
   "outputs": [
    {
     "name": "stdout",
     "output_type": "stream",
     "text": [
      "BlazingContext ready\n"
     ]
    }
   ],
   "source": [
    "from blazingsql import BlazingContext\n",
    "bc = BlazingContext()\n",
    "bc.create_table('nation', '../../../../data/nation.parquet')"
   ]
  },
  {
   "cell_type": "code",
   "execution_count": 2,
   "metadata": {},
   "outputs": [
    {
     "data": {
      "text/html": [
       "<div>\n",
       "<style scoped>\n",
       "    .dataframe tbody tr th:only-of-type {\n",
       "        vertical-align: middle;\n",
       "    }\n",
       "\n",
       "    .dataframe tbody tr th {\n",
       "        vertical-align: top;\n",
       "    }\n",
       "\n",
       "    .dataframe thead th {\n",
       "        text-align: right;\n",
       "    }\n",
       "</style>\n",
       "<table border=\"1\" class=\"dataframe\">\n",
       "  <thead>\n",
       "    <tr style=\"text-align: right;\">\n",
       "      <th></th>\n",
       "      <th>original</th>\n",
       "      <th>reverse_example</th>\n",
       "      <th>original2</th>\n",
       "      <th>reverse_example2</th>\n",
       "    </tr>\n",
       "  </thead>\n",
       "  <tbody>\n",
       "    <tr>\n",
       "      <th>0</th>\n",
       "      <td>ALGERIA</td>\n",
       "      <td>AIREGLA</td>\n",
       "      <td>haggle. carefully final deposits detect slyly...</td>\n",
       "      <td>iaga ylyls tceted stisoped lanif ylluferac .el...</td>\n",
       "    </tr>\n",
       "    <tr>\n",
       "      <th>1</th>\n",
       "      <td>ARGENTINA</td>\n",
       "      <td>ANITNEGRA</td>\n",
       "      <td>al foxes promise slyly according to the regula...</td>\n",
       "      <td>nola stseuqer dlob .stnuocca raluger eht ot gn...</td>\n",
       "    </tr>\n",
       "    <tr>\n",
       "      <th>2</th>\n",
       "      <td>BRAZIL</td>\n",
       "      <td>LIZARB</td>\n",
       "      <td>y alongside of the pending deposits. carefully...</td>\n",
       "      <td>laiceps ylyls .segrof cinori eht tuoba era se...</td>\n",
       "    </tr>\n",
       "    <tr>\n",
       "      <th>3</th>\n",
       "      <td>CANADA</td>\n",
       "      <td>ADANAC</td>\n",
       "      <td>eas hang ironic, silent packages. slyly regula...</td>\n",
       "      <td>dlob yliffulf .sehtit eht revo ylsuoiruf era s...</td>\n",
       "    </tr>\n",
       "    <tr>\n",
       "      <th>4</th>\n",
       "      <td>EGYPT</td>\n",
       "      <td>TPYGE</td>\n",
       "      <td>y above the carefully unusual theodolites. fin...</td>\n",
       "      <td>d raluger ylsuoiruf eht ssorca ylkciuq era stu...</td>\n",
       "    </tr>\n",
       "    <tr>\n",
       "      <th>5</th>\n",
       "      <td>ETHIOPIA</td>\n",
       "      <td>AIPOIHTE</td>\n",
       "      <td>ven packages wake quickly. regu</td>\n",
       "      <td>uger .ylkciuq ekaw segakcap nev</td>\n",
       "    </tr>\n",
       "    <tr>\n",
       "      <th>6</th>\n",
       "      <td>FRANCE</td>\n",
       "      <td>ECNARF</td>\n",
       "      <td>refully final requests. regular, ironi</td>\n",
       "      <td>inori ,raluger .stseuqer lanif yllufer</td>\n",
       "    </tr>\n",
       "    <tr>\n",
       "      <th>7</th>\n",
       "      <td>GERMANY</td>\n",
       "      <td>YNAMREG</td>\n",
       "      <td>l platelets. regular accounts x-ray: unusual, ...</td>\n",
       "      <td>occa raluger ,lausunu :yar-x stnuocca raluger ...</td>\n",
       "    </tr>\n",
       "    <tr>\n",
       "      <th>8</th>\n",
       "      <td>INDIA</td>\n",
       "      <td>AIDNI</td>\n",
       "      <td>ss excuses cajole slyly across the packages. d...</td>\n",
       "      <td>nuora tnirp stisoped .segakcap eht ssorca ylyl...</td>\n",
       "    </tr>\n",
       "    <tr>\n",
       "      <th>9</th>\n",
       "      <td>INDONESIA</td>\n",
       "      <td>AISENODNI</td>\n",
       "      <td>slyly express asymptotes. regular deposits ha...</td>\n",
       "      <td>lluferac .ylehtilb peels sreyalp yekcoh cinori...</td>\n",
       "    </tr>\n",
       "    <tr>\n",
       "      <th>10</th>\n",
       "      <td>IRAN</td>\n",
       "      <td>NARI</td>\n",
       "      <td>efully alongside of the slyly final dependenci...</td>\n",
       "      <td>.seicnedneped lanif ylyls eht fo edisgnola yl...</td>\n",
       "    </tr>\n",
       "    <tr>\n",
       "      <th>11</th>\n",
       "      <td>IRAQ</td>\n",
       "      <td>QARI</td>\n",
       "      <td>nic deposits boost atop the quickly final requ...</td>\n",
       "      <td>aluger ylkciuq ?stseuqer lanif ylkciuq eht pot...</td>\n",
       "    </tr>\n",
       "    <tr>\n",
       "      <th>12</th>\n",
       "      <td>JAPAN</td>\n",
       "      <td>NAPAJ</td>\n",
       "      <td>ously. final, express gifts cajole a</td>\n",
       "      <td>a elojac stfig sserpxe ,lanif .ylsuo</td>\n",
       "    </tr>\n",
       "    <tr>\n",
       "      <th>13</th>\n",
       "      <td>JORDAN</td>\n",
       "      <td>NADROJ</td>\n",
       "      <td>ic deposits are blithely about the carefully r...</td>\n",
       "      <td>ap raluger ylluferac eht tuoba ylehtilb era st...</td>\n",
       "    </tr>\n",
       "    <tr>\n",
       "      <th>14</th>\n",
       "      <td>KENYA</td>\n",
       "      <td>AYNEK</td>\n",
       "      <td>pending excuses haggle furiously deposits. pe...</td>\n",
       "      <td>t tsap yliffulf ekaw snaeb otnip sserpxe ,gnid...</td>\n",
       "    </tr>\n",
       "    <tr>\n",
       "      <th>15</th>\n",
       "      <td>MOROCCO</td>\n",
       "      <td>OCCOROM</td>\n",
       "      <td>rns. blithely bold courts among the closely re...</td>\n",
       "      <td>?steletalp dlob ylsuoiruf esu segakcap raluger...</td>\n",
       "    </tr>\n",
       "    <tr>\n",
       "      <th>16</th>\n",
       "      <td>MOZAMBIQUE</td>\n",
       "      <td>EUQIBMAZOM</td>\n",
       "      <td>s. ironic, unusual asymptotes wake blithely r</td>\n",
       "      <td>r ylehtilb ekaw setotpmysa lausunu ,cinori .s</td>\n",
       "    </tr>\n",
       "    <tr>\n",
       "      <th>17</th>\n",
       "      <td>PERU</td>\n",
       "      <td>UREP</td>\n",
       "      <td>platelets. blithely pending dependencies use f...</td>\n",
       "      <td>nuocca tnelis ylluferac .snaeb otnip neve eht ...</td>\n",
       "    </tr>\n",
       "    <tr>\n",
       "      <th>18</th>\n",
       "      <td>CHINA</td>\n",
       "      <td>ANIHC</td>\n",
       "      <td>c dependencies. furiously express notornis sle...</td>\n",
       "      <td>soped .peels saedi .stnuocca raluger ylyls pee...</td>\n",
       "    </tr>\n",
       "    <tr>\n",
       "      <th>19</th>\n",
       "      <td>ROMANIA</td>\n",
       "      <td>AINAMOR</td>\n",
       "      <td>ular asymptotes are about the furious multipli...</td>\n",
       "      <td>tnuocca cinori yllacinori eht evoba gan seicne...</td>\n",
       "    </tr>\n",
       "    <tr>\n",
       "      <th>20</th>\n",
       "      <td>SAUDI ARABIA</td>\n",
       "      <td>AIBARA IDUAS</td>\n",
       "      <td>ts. silent requests haggle. closely express pa...</td>\n",
       "      <td>ylehtilb eht ssorca peels segakcap sserpxe yle...</td>\n",
       "    </tr>\n",
       "    <tr>\n",
       "      <th>21</th>\n",
       "      <td>VIETNAM</td>\n",
       "      <td>MANTEIV</td>\n",
       "      <td>hely enticingly express accounts. even, final</td>\n",
       "      <td>lanif ,neve .stnuocca sserpxe ylgnicitne yleh</td>\n",
       "    </tr>\n",
       "    <tr>\n",
       "      <th>22</th>\n",
       "      <td>RUSSIA</td>\n",
       "      <td>AISSUR</td>\n",
       "      <td>requests against the platelets use never acco...</td>\n",
       "      <td>tnip raluger ylkciuq eht ot gnidrocca reven es...</td>\n",
       "    </tr>\n",
       "    <tr>\n",
       "      <th>23</th>\n",
       "      <td>UNITED KINGDOM</td>\n",
       "      <td>MODGNIK DETINU</td>\n",
       "      <td>eans boost carefully special requests. account...</td>\n",
       "      <td>lluferac .era stnuocca .stseuqer laiceps ylluf...</td>\n",
       "    </tr>\n",
       "    <tr>\n",
       "      <th>24</th>\n",
       "      <td>UNITED STATES</td>\n",
       "      <td>SETATS DETINU</td>\n",
       "      <td>y final packages. slow foxes cajole quickly. q...</td>\n",
       "      <td>eb otnip lausunu .stnuocca cinori hcaerb stele...</td>\n",
       "    </tr>\n",
       "  </tbody>\n",
       "</table>\n",
       "</div>"
      ],
      "text/plain": [
       "          original reverse_example  \\\n",
       "0          ALGERIA         AIREGLA   \n",
       "1        ARGENTINA       ANITNEGRA   \n",
       "2           BRAZIL          LIZARB   \n",
       "3           CANADA          ADANAC   \n",
       "4            EGYPT           TPYGE   \n",
       "5         ETHIOPIA        AIPOIHTE   \n",
       "6           FRANCE          ECNARF   \n",
       "7          GERMANY         YNAMREG   \n",
       "8            INDIA           AIDNI   \n",
       "9        INDONESIA       AISENODNI   \n",
       "10            IRAN            NARI   \n",
       "11            IRAQ            QARI   \n",
       "12           JAPAN           NAPAJ   \n",
       "13          JORDAN          NADROJ   \n",
       "14           KENYA           AYNEK   \n",
       "15         MOROCCO         OCCOROM   \n",
       "16      MOZAMBIQUE      EUQIBMAZOM   \n",
       "17            PERU            UREP   \n",
       "18           CHINA           ANIHC   \n",
       "19         ROMANIA         AINAMOR   \n",
       "20    SAUDI ARABIA    AIBARA IDUAS   \n",
       "21         VIETNAM         MANTEIV   \n",
       "22          RUSSIA          AISSUR   \n",
       "23  UNITED KINGDOM  MODGNIK DETINU   \n",
       "24   UNITED STATES   SETATS DETINU   \n",
       "\n",
       "                                            original2  \\\n",
       "0    haggle. carefully final deposits detect slyly...   \n",
       "1   al foxes promise slyly according to the regula...   \n",
       "2   y alongside of the pending deposits. carefully...   \n",
       "3   eas hang ironic, silent packages. slyly regula...   \n",
       "4   y above the carefully unusual theodolites. fin...   \n",
       "5                     ven packages wake quickly. regu   \n",
       "6              refully final requests. regular, ironi   \n",
       "7   l platelets. regular accounts x-ray: unusual, ...   \n",
       "8   ss excuses cajole slyly across the packages. d...   \n",
       "9    slyly express asymptotes. regular deposits ha...   \n",
       "10  efully alongside of the slyly final dependenci...   \n",
       "11  nic deposits boost atop the quickly final requ...   \n",
       "12               ously. final, express gifts cajole a   \n",
       "13  ic deposits are blithely about the carefully r...   \n",
       "14   pending excuses haggle furiously deposits. pe...   \n",
       "15  rns. blithely bold courts among the closely re...   \n",
       "16      s. ironic, unusual asymptotes wake blithely r   \n",
       "17  platelets. blithely pending dependencies use f...   \n",
       "18  c dependencies. furiously express notornis sle...   \n",
       "19  ular asymptotes are about the furious multipli...   \n",
       "20  ts. silent requests haggle. closely express pa...   \n",
       "21     hely enticingly express accounts. even, final    \n",
       "22   requests against the platelets use never acco...   \n",
       "23  eans boost carefully special requests. account...   \n",
       "24  y final packages. slow foxes cajole quickly. q...   \n",
       "\n",
       "                                     reverse_example2  \n",
       "0   iaga ylyls tceted stisoped lanif ylluferac .el...  \n",
       "1   nola stseuqer dlob .stnuocca raluger eht ot gn...  \n",
       "2    laiceps ylyls .segrof cinori eht tuoba era se...  \n",
       "3   dlob yliffulf .sehtit eht revo ylsuoiruf era s...  \n",
       "4   d raluger ylsuoiruf eht ssorca ylkciuq era stu...  \n",
       "5                     uger .ylkciuq ekaw segakcap nev  \n",
       "6              inori ,raluger .stseuqer lanif yllufer  \n",
       "7   occa raluger ,lausunu :yar-x stnuocca raluger ...  \n",
       "8   nuora tnirp stisoped .segakcap eht ssorca ylyl...  \n",
       "9   lluferac .ylehtilb peels sreyalp yekcoh cinori...  \n",
       "10   .seicnedneped lanif ylyls eht fo edisgnola yl...  \n",
       "11  aluger ylkciuq ?stseuqer lanif ylkciuq eht pot...  \n",
       "12               a elojac stfig sserpxe ,lanif .ylsuo  \n",
       "13  ap raluger ylluferac eht tuoba ylehtilb era st...  \n",
       "14  t tsap yliffulf ekaw snaeb otnip sserpxe ,gnid...  \n",
       "15  ?steletalp dlob ylsuoiruf esu segakcap raluger...  \n",
       "16      r ylehtilb ekaw setotpmysa lausunu ,cinori .s  \n",
       "17  nuocca tnelis ylluferac .snaeb otnip neve eht ...  \n",
       "18  soped .peels saedi .stnuocca raluger ylyls pee...  \n",
       "19  tnuocca cinori yllacinori eht evoba gan seicne...  \n",
       "20  ylehtilb eht ssorca peels segakcap sserpxe yle...  \n",
       "21      lanif ,neve .stnuocca sserpxe ylgnicitne yleh  \n",
       "22  tnip raluger ylkciuq eht ot gnidrocca reven es...  \n",
       "23  lluferac .era stnuocca .stseuqer laiceps ylluf...  \n",
       "24  eb otnip lausunu .stnuocca cinori hcaerb stele...  "
      ]
     },
     "execution_count": 2,
     "metadata": {},
     "output_type": "execute_result"
    }
   ],
   "source": [
    "query = '''\n",
    "        select \n",
    "            n_name as original, \n",
    "            REVERSE(n_name) as reverse_example,\n",
    "            n_comment as original2, \n",
    "            REVERSE(n_comment) as reverse_example2\n",
    "        from\n",
    "            nation\n",
    "            '''\n",
    "bc.sql(query)"
   ]
  },
  {
   "cell_type": "code",
   "execution_count": 3,
   "metadata": {},
   "outputs": [
    {
     "name": "stdout",
     "output_type": "stream",
     "text": [
      "BlazingContext ready\n"
     ]
    }
   ],
   "source": [
    "from blazingsql import BlazingContext\n",
    "bc = BlazingContext()\n",
    "bc.create_table('taxi', '../../../../data/sample_taxi.parquet')\n"
   ]
  },
  {
   "cell_type": "code",
   "execution_count": 6,
   "metadata": {},
   "outputs": [
    {
     "data": {
      "text/html": [
       "<div>\n",
       "<style scoped>\n",
       "    .dataframe tbody tr th:only-of-type {\n",
       "        vertical-align: middle;\n",
       "    }\n",
       "\n",
       "    .dataframe tbody tr th {\n",
       "        vertical-align: top;\n",
       "    }\n",
       "\n",
       "    .dataframe thead th {\n",
       "        text-align: right;\n",
       "    }\n",
       "</style>\n",
       "<table border=\"1\" class=\"dataframe\">\n",
       "  <thead>\n",
       "    <tr style=\"text-align: right;\">\n",
       "      <th></th>\n",
       "      <th>tpep_pickup_datetime</th>\n",
       "      <th>EXPR$1</th>\n",
       "    </tr>\n",
       "  </thead>\n",
       "  <tbody>\n",
       "    <tr>\n",
       "      <th>0</th>\n",
       "      <td>2015-01-15 19:05:39</td>\n",
       "      <td>2015-01-15 19:05:39</td>\n",
       "    </tr>\n",
       "    <tr>\n",
       "      <th>1</th>\n",
       "      <td>2015-01-10 20:33:38</td>\n",
       "      <td>2015-01-10 20:33:38</td>\n",
       "    </tr>\n",
       "    <tr>\n",
       "      <th>2</th>\n",
       "      <td>2015-01-10 20:33:38</td>\n",
       "      <td>2015-01-10 20:33:38</td>\n",
       "    </tr>\n",
       "    <tr>\n",
       "      <th>3</th>\n",
       "      <td>2015-01-10 20:33:39</td>\n",
       "      <td>2015-01-10 20:33:39</td>\n",
       "    </tr>\n",
       "    <tr>\n",
       "      <th>4</th>\n",
       "      <td>2015-01-10 20:33:39</td>\n",
       "      <td>2015-01-10 20:33:39</td>\n",
       "    </tr>\n",
       "    <tr>\n",
       "      <th>...</th>\n",
       "      <td>...</td>\n",
       "      <td>...</td>\n",
       "    </tr>\n",
       "    <tr>\n",
       "      <th>743655</th>\n",
       "      <td>2015-01-28 11:11:43</td>\n",
       "      <td>2015-01-28 11:11:43</td>\n",
       "    </tr>\n",
       "    <tr>\n",
       "      <th>743656</th>\n",
       "      <td>2015-01-28 11:11:43</td>\n",
       "      <td>2015-01-28 11:11:43</td>\n",
       "    </tr>\n",
       "    <tr>\n",
       "      <th>743657</th>\n",
       "      <td>2015-01-28 11:11:43</td>\n",
       "      <td>2015-01-28 11:11:43</td>\n",
       "    </tr>\n",
       "    <tr>\n",
       "      <th>743658</th>\n",
       "      <td>2015-01-28 11:11:43</td>\n",
       "      <td>2015-01-28 11:11:43</td>\n",
       "    </tr>\n",
       "    <tr>\n",
       "      <th>743659</th>\n",
       "      <td>2015-01-28 11:11:44</td>\n",
       "      <td>2015-01-28 11:11:44</td>\n",
       "    </tr>\n",
       "  </tbody>\n",
       "</table>\n",
       "<p>743660 rows × 2 columns</p>\n",
       "</div>"
      ],
      "text/plain": [
       "       tpep_pickup_datetime               EXPR$1\n",
       "0       2015-01-15 19:05:39  2015-01-15 19:05:39\n",
       "1       2015-01-10 20:33:38  2015-01-10 20:33:38\n",
       "2       2015-01-10 20:33:38  2015-01-10 20:33:38\n",
       "3       2015-01-10 20:33:39  2015-01-10 20:33:39\n",
       "4       2015-01-10 20:33:39  2015-01-10 20:33:39\n",
       "...                     ...                  ...\n",
       "743655  2015-01-28 11:11:43  2015-01-28 11:11:43\n",
       "743656  2015-01-28 11:11:43  2015-01-28 11:11:43\n",
       "743657  2015-01-28 11:11:43  2015-01-28 11:11:43\n",
       "743658  2015-01-28 11:11:43  2015-01-28 11:11:43\n",
       "743659  2015-01-28 11:11:44  2015-01-28 11:11:44\n",
       "\n",
       "[743660 rows x 2 columns]"
      ]
     },
     "execution_count": 6,
     "metadata": {},
     "output_type": "execute_result"
    }
   ],
   "source": [
    "query = '''\n",
    "        select \n",
    "            tpep_pickup_datetime,\n",
    "            cast(tpep_pickup_datetime as CHAR)\n",
    "        from\n",
    "            taxi\n",
    "            '''\n",
    "bc.sql(query)"
   ]
  },
  {
   "cell_type": "markdown",
   "metadata": {},
   "source": [
    "# BlazingSQL Docs\n",
    "**[Table of Contents](../../TABLE_OF_CONTENTS.ipynb) | [Issues (GitHub)](https://github.com/BlazingDB/Welcome_to_BlazingSQL_Notebooks/issues)**"
   ]
  }
 ],
 "metadata": {
  "kernelspec": {
   "display_name": "Python [conda env:bsql5] *",
   "language": "python",
   "name": "conda-env-bsql5-py"
  },
  "language_info": {
   "codemirror_mode": {
    "name": "ipython",
    "version": 3
   },
   "file_extension": ".py",
   "mimetype": "text/x-python",
   "name": "python",
   "nbconvert_exporter": "python",
   "pygments_lexer": "ipython3",
   "version": "3.8.6"
  }
 },
 "nbformat": 4,
 "nbformat_minor": 4
}
