{
 "cells": [
  {
   "cell_type": "markdown",
   "metadata": {},
   "source": [
    "# SQL Reference\n",
    "## Functions"
   ]
  },
  {
   "cell_type": "markdown",
   "metadata": {},
   "source": [
    "#### CAST\n",
    "The CAST function allows you to cast a column from its original type to another type."
   ]
  },
  {
   "cell_type": "code",
   "execution_count": null,
   "metadata": {},
   "outputs": [],
   "source": [
    "from blazingsql import BlazingContext\n",
    "bc = BlazingContext()\n",
    "bc.create_table('taxi', '../../../../data/sample_taxi.parquet')"
   ]
  },
  {
   "cell_type": "code",
   "execution_count": null,
   "metadata": {},
   "outputs": [],
   "source": [
    "query = '''\n",
    "        SELECT \n",
    "            VendorID as orig_1,\n",
    "            CAST(MOD(VendorID, 2) AS BOOLEAN) as bool_example,\n",
    "            trip_distance as orig_2,\n",
    "            CAST(trip_distance AS TINYINT) as tiny_example,\n",
    "            CAST(trip_distance AS SMALLINT) as small_example,\n",
    "            CAST(trip_distance AS INTEGER) as int_example,\n",
    "            CAST(trip_distance AS BIGINT) as big_example,\n",
    "            passenger_count as orig_3,\n",
    "            CAST(passenger_count AS FLOAT) as float_example,\n",
    "            CAST(passenger_count AS DOUBLE) as double_example,\n",
    "            CAST(tpep_pickup_datetime AS DATE) as date_example,\n",
    "            CAST(RatecodeID AS TIMESTAMP) as timestamp_example,\n",
    "            CAST(RatecodeID AS VARCHAR) as char_example            \n",
    "        FROM\n",
    "            taxi           \n",
    "            '''\n",
    "df = bc.sql(query)\n",
    "print(df)\n",
    "print(df.dtypes)"
   ]
  },
  {
   "cell_type": "markdown",
   "metadata": {},
   "source": [
    "#### TO_DATE\n",
    "Casts a string to a date, allowing for formatting options.\n",
    "Formatting can be specified by using:\n",
    "- `%Y` for year\n",
    "- `%m` for month\n",
    "- `%d` for day\n",
    "- `%H` for hour\n",
    "- `%M` for minute\n",
    "- `%S` for second"
   ]
  },
  {
   "cell_type": "code",
   "execution_count": null,
   "metadata": {},
   "outputs": [],
   "source": [
    "from blazingsql import BlazingContext\n",
    "bc = BlazingContext()\n",
    "bc.create_table('taxi', '../../../../data/sample_taxi.parquet')"
   ]
  },
  {
   "cell_type": "code",
   "execution_count": null,
   "metadata": {},
   "outputs": [],
   "source": [
    "query = '''\n",
    "        SELECT \n",
    "            orig_date,\n",
    "            TO_DATE(year_str || '-' || day_str || '-' || month_str, '%Y-%d-%m')\n",
    "            FROM (\n",
    "                SELECT\n",
    "                    tpep_pickup_datetime as orig_date,\n",
    "                    CAST(YEAR(tpep_pickup_datetime) AS VARCHAR) as year_str,\n",
    "                    CAST(MONTH(tpep_pickup_datetime) AS VARCHAR) as month_str,\n",
    "                    CAST(DAYOFMONTH(tpep_pickup_datetime) AS VARCHAR) as day_str\n",
    "                FROM taxi\n",
    "            ) as date_str\n",
    "            '''\n",
    "bc.sql(query)"
   ]
  },
  {
   "cell_type": "markdown",
   "metadata": {},
   "source": [
    "#### TO_TIMESTAMP\n",
    "Casts a string to a date, allowing for formatting options. Formatting can be specified by using:\n",
    "- `%Y` for year\n",
    "- `%m` for month\n",
    "- `%d` for day\n",
    "- `%H` for hour\n",
    "- `%M` for minute\n",
    "- `%S` for second"
   ]
  },
  {
   "cell_type": "code",
   "execution_count": null,
   "metadata": {},
   "outputs": [],
   "source": [
    "from blazingsql import BlazingContext\n",
    "bc = BlazingContext()\n",
    "bc.create_table('taxi', '../../../../data/sample_taxi.parquet')"
   ]
  },
  {
   "cell_type": "code",
   "execution_count": null,
   "metadata": {},
   "outputs": [],
   "source": [
    "query = '''\n",
    "        SELECT \n",
    "            orig_date,\n",
    "            year_str || '-' || day_str || '-' || month_str || ' -- 01:02:03' as orig_str,\n",
    "            TO_TIMESTAMP(year_str || '-' || day_str || '-' || month_str || ' -- 01:02:03', '%Y-%d-%m -- %H:%M:%S')\n",
    "            FROM (\n",
    "                SELECT\n",
    "                    tpep_pickup_datetime as orig_date,\n",
    "                    CAST(YEAR(tpep_pickup_datetime) AS VARCHAR) as year_str,\n",
    "                    CAST(MONTH(tpep_pickup_datetime) AS VARCHAR) as month_str,\n",
    "                    CAST(DAYOFMONTH(tpep_pickup_datetime) AS VARCHAR) as day_str\n",
    "                FROM taxi\n",
    "            ) as date_str\n",
    "            '''\n",
    "bc.sql(query)"
   ]
  }
 ],
 "metadata": {
  "kernelspec": {
   "display_name": "Python [conda env:bsql5] *",
   "language": "python",
   "name": "conda-env-bsql5-py"
  },
  "language_info": {
   "codemirror_mode": {
    "name": "ipython",
    "version": 3
   },
   "file_extension": ".py",
   "mimetype": "text/x-python",
   "name": "python",
   "nbconvert_exporter": "python",
   "pygments_lexer": "ipython3",
   "version": "3.8.6"
  }
 },
 "nbformat": 4,
 "nbformat_minor": 4
}
