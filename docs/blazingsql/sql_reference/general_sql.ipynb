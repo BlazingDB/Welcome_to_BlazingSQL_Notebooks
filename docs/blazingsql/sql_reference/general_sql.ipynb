{
 "cells": [
  {
   "cell_type": "markdown",
   "metadata": {},
   "source": [
    "# SQL Reference"
   ]
  },
  {
   "cell_type": "markdown",
   "metadata": {},
   "source": [
    "## General SQL\n",
    "[Docs](https://docs.blazingdb.com/docs/queries)"
   ]
  },
  {
   "cell_type": "markdown",
   "metadata": {},
   "source": [
    "### CASE\n",
    "[Docs](https://docs.blazingdb.com/docs/queries#case)\n",
    "\n",
    "```sql\n",
    "SELECT CASE WHEN column_A > 5 THEN 1 ELSE 0 END FROM table_A\n",
    "```"
   ]
  },
  {
   "cell_type": "markdown",
   "metadata": {},
   "source": [
    "#### CASE"
   ]
  },
  {
   "cell_type": "code",
   "execution_count": null,
   "metadata": {},
   "outputs": [],
   "source": [
    "from blazingsql import BlazingContext\n",
    "bc = BlazingContext()\n",
    "bc.create_table('taxi', '../../../data/sample_taxi.parquet')"
   ]
  },
  {
   "cell_type": "code",
   "execution_count": null,
   "metadata": {},
   "outputs": [],
   "source": [
    "query = '''\n",
    "        select \n",
    "            CASE \n",
    "                WHEN fare_amount > 20 THEN 1 \n",
    "                ELSE 0 END, \n",
    "            CASE \n",
    "                WHEN tpep_pickup_datetime like '%-01-01%' THEN 1 \n",
    "                ELSE 0 END\n",
    "        from\n",
    "            taxi\n",
    "            '''\n",
    "bc.sql(query)"
   ]
  },
  {
   "cell_type": "markdown",
   "metadata": {},
   "source": [
    "### GROUP BY\n",
    "[Docs](https://docs.blazingdb.com/docs/queries#group-by)\n",
    "\n",
    "Groups result set of a query by one or more columns. Can be used with or without aggregations.\n",
    "```sql\n",
    "SELECT column_A FROM table_A GROUP BY column_A\n",
    "SELECT column_A, column_B FROM table_A GROUP BY column_A, column_B\n",
    "SELECT column_A, SUM(column_C), COUNT(column_D) FROM table_A GROUP BY column_A\n",
    "SELECT column_A, column_B, SUM(column_C), COUNT(column_D) FROM table_A GROUP BY column_A, column_B\n",
    "```"
   ]
  },
  {
   "cell_type": "code",
   "execution_count": null,
   "metadata": {},
   "outputs": [],
   "source": [
    "from blazingsql import BlazingContext\n",
    "bc = BlazingContext()\n",
    "bc.create_table('taxi', '../../../data/sample_taxi.parquet')\n",
    "bc.describe_table('taxi')"
   ]
  },
  {
   "cell_type": "code",
   "execution_count": null,
   "metadata": {},
   "outputs": [],
   "source": [
    "bc.sql('select VendorID from taxi GROUP BY VendorID')"
   ]
  },
  {
   "cell_type": "code",
   "execution_count": null,
   "metadata": {},
   "outputs": [],
   "source": [
    "bc.sql('select VendorID, payment_type from taxi GROUP BY VendorID, payment_type')"
   ]
  },
  {
   "cell_type": "code",
   "execution_count": null,
   "metadata": {},
   "outputs": [],
   "source": [
    "bc.sql('select VendorID, AVG(fare_amount) from taxi GROUP BY VendorID')"
   ]
  },
  {
   "cell_type": "code",
   "execution_count": null,
   "metadata": {},
   "outputs": [],
   "source": [
    "bc.sql('select VendorID, payment_type, AVG(fare_amount), MAX(trip_distance) from taxi GROUP BY VendorID, payment_type')"
   ]
  },
  {
   "cell_type": "markdown",
   "metadata": {},
   "source": [
    "#### DISTINCT"
   ]
  },
  {
   "cell_type": "code",
   "execution_count": null,
   "metadata": {},
   "outputs": [],
   "source": [
    "from blazingsql import BlazingContext\n",
    "bc = BlazingContext()\n",
    "bc.create_table('nation', '../../../data/nation.parquet')"
   ]
  },
  {
   "cell_type": "code",
   "execution_count": null,
   "metadata": {},
   "outputs": [],
   "source": [
    "bc.sql('select DISTINCT n_regionkey from nation')"
   ]
  },
  {
   "cell_type": "markdown",
   "metadata": {},
   "source": [
    "### JOIN\n",
    "[Docs](https://docs.blazingdb.com/docs/queries#join)\n",
    "\n",
    "Combine rows from two or more tables, based on a related column or columns between them."
   ]
  },
  {
   "cell_type": "markdown",
   "metadata": {},
   "source": [
    "#### INNER JOIN\n",
    "[Docs](https://docs.blazingdb.com/docs/queries#inner)\n",
    "\n",
    "```sql\n",
    "SELECT table_A.column_A, table_B.column_A, table_B.column_C \n",
    "FROM table_A \n",
    "INNER JOIN table_B \n",
    "ON (table_A.column_A = table_B.column_B)\n",
    "```"
   ]
  },
  {
   "cell_type": "markdown",
   "metadata": {},
   "source": [
    "#### INNER JOIN SINGLE COLUMN"
   ]
  },
  {
   "cell_type": "code",
   "execution_count": null,
   "metadata": {},
   "outputs": [],
   "source": [
    "from blazingsql import BlazingContext\n",
    "bc = BlazingContext()\n",
    "bc.create_table('taxi_a', '../../../data/sample_taxi.parquet')\n",
    "bc.create_table('taxi_b', '../../../data/sample_taxi.csv', header=0)"
   ]
  },
  {
   "cell_type": "code",
   "execution_count": null,
   "metadata": {},
   "outputs": [],
   "source": [
    "query = '''\n",
    "        select \n",
    "            A.tpep_pickup_datetime, A.VendorID,\n",
    "            B.passenger_count, B.trip_distance, B.fare_amount\n",
    "        from \n",
    "            taxi_a as A\n",
    "        INNER JOIN \n",
    "            taxi_b as B\n",
    "            ON A.tpep_pickup_datetime = B.tpep_pickup_datetime\n",
    "            '''\n",
    "bc.sql(query)"
   ]
  },
  {
   "cell_type": "markdown",
   "metadata": {},
   "source": [
    "#### INNER JOIN MULTI-COLUMN"
   ]
  },
  {
   "cell_type": "code",
   "execution_count": null,
   "metadata": {},
   "outputs": [],
   "source": [
    "from blazingsql import BlazingContext\n",
    "bc = BlazingContext()\n",
    "bc.create_table('taxi_a', '../../../data/sample_taxi.parquet')\n",
    "bc.create_table('taxi_b', '../../../data/sample_taxi.csv', header=0)"
   ]
  },
  {
   "cell_type": "code",
   "execution_count": null,
   "metadata": {},
   "outputs": [],
   "source": [
    "query = '''\n",
    "        select \n",
    "            A.tpep_pickup_datetime, A.VendorID,\n",
    "            B.passenger_count, B.trip_distance, B.fare_amount\n",
    "        from \n",
    "            taxi_a as A\n",
    "        INNER JOIN \n",
    "            taxi_b as B\n",
    "            ON A.tpep_pickup_datetime = B.tpep_pickup_datetime\n",
    "            AND A.VendorID = B.VendorID\n",
    "            '''\n",
    "bc.sql(query)"
   ]
  },
  {
   "cell_type": "markdown",
   "metadata": {},
   "source": [
    "#### FULL OUTER JOIN\n",
    "[Docs](https://docs.blazingdb.com/docs/queries#full-outer)\n",
    "\n",
    "```sql\n",
    "SELECT table_A.column_A, table_B.column_A, table_B.column_C \n",
    "FROM table_A \n",
    "FULL OUTER JOIN table_B \n",
    "ON (table_A.column_A = table_B.column_B)\n",
    "```"
   ]
  },
  {
   "cell_type": "markdown",
   "metadata": {},
   "source": [
    "#### FULL OUTER JOIN SINGLE COLUMN"
   ]
  },
  {
   "cell_type": "code",
   "execution_count": null,
   "metadata": {},
   "outputs": [],
   "source": [
    "from blazingsql import BlazingContext\n",
    "bc = BlazingContext()\n",
    "bc.create_table('taxi_a', '../../../data/sample_taxi.parquet')\n",
    "bc.create_table('taxi_b', '../../../data/sample_taxi.csv', header=0)"
   ]
  },
  {
   "cell_type": "code",
   "execution_count": null,
   "metadata": {},
   "outputs": [],
   "source": [
    "query = '''\n",
    "        select \n",
    "            taxi_a.tpep_pickup_datetime, \n",
    "            taxi_b.passenger_count, \n",
    "            taxi_b.fare_amount \n",
    "        from \n",
    "            taxi_a \n",
    "        FULL OUTER JOIN \n",
    "            taxi_b \n",
    "            ON taxi_a.tpep_dropoff_datetime = taxi_b.tpep_dropoff_datetime\n",
    "            '''\n",
    "bc.sql(query)"
   ]
  },
  {
   "cell_type": "markdown",
   "metadata": {},
   "source": [
    "#### FULL OUTER JOIN MULTI-COLUMN"
   ]
  },
  {
   "cell_type": "code",
   "execution_count": null,
   "metadata": {},
   "outputs": [],
   "source": [
    "from blazingsql import BlazingContext\n",
    "bc = BlazingContext()\n",
    "bc.create_table('taxi_a', '../../../data/sample_taxi.parquet')\n",
    "bc.create_table('taxi_b', '../../../data/sample_taxi.csv', header=0)"
   ]
  },
  {
   "cell_type": "code",
   "execution_count": null,
   "metadata": {},
   "outputs": [],
   "source": [
    "query = '''\n",
    "        select \n",
    "            taxi_a.tpep_pickup_datetime, \n",
    "            taxi_b.passenger_count, \n",
    "            taxi_b.fare_amount \n",
    "        from \n",
    "            taxi_a \n",
    "        FULL OUTER JOIN \n",
    "            taxi_b \n",
    "            ON taxi_a.tpep_dropoff_datetime = taxi_b.tpep_dropoff_datetime AND taxi_a.tpep_pickup_datetime = taxi_b.tpep_pickup_datetime\n",
    "            '''\n",
    "bc.sql(query)"
   ]
  },
  {
   "cell_type": "markdown",
   "metadata": {},
   "source": [
    "#### LEFT OUTER JOIN\n",
    "[Docs](https://docs.blazingdb.com/docs/queries#left-outer)\n",
    "\n",
    "```sql\n",
    "SELECT table_A.column_A, table_B.column_A, table_B.column_C \n",
    "FROM table_A \n",
    "LEFT JOIN table_B \n",
    "ON (table_A.column_A = table_B.column_B)\n",
    "```"
   ]
  },
  {
   "cell_type": "markdown",
   "metadata": {},
   "source": [
    "#### LEFT JOIN SINGLE COLUMN"
   ]
  },
  {
   "cell_type": "code",
   "execution_count": null,
   "metadata": {},
   "outputs": [],
   "source": [
    "from blazingsql import BlazingContext\n",
    "bc = BlazingContext()\n",
    "bc.create_table('taxi_a', '../../../data/sample_taxi.parquet')\n",
    "bc.create_table('taxi_b', '../../../data/sample_taxi.csv', header=0)"
   ]
  },
  {
   "cell_type": "code",
   "execution_count": null,
   "metadata": {},
   "outputs": [],
   "source": [
    "query = '''\n",
    "        select \n",
    "            taxi_a.tpep_pickup_datetime, \n",
    "            taxi_b.passenger_count, \n",
    "            taxi_b.fare_amount \n",
    "        from \n",
    "            taxi_a \n",
    "        LEFT JOIN \n",
    "            taxi_b \n",
    "            ON taxi_a.tpep_dropoff_datetime = taxi_b.tpep_dropoff_datetime\n",
    "            '''\n",
    "bc.sql(query)"
   ]
  },
  {
   "cell_type": "markdown",
   "metadata": {},
   "source": [
    "#### LEFT JOIN MULTI-COLUMN"
   ]
  },
  {
   "cell_type": "code",
   "execution_count": null,
   "metadata": {},
   "outputs": [],
   "source": [
    "from blazingsql import BlazingContext\n",
    "bc = BlazingContext()\n",
    "bc.create_table('taxi_a', '../../../data/sample_taxi.parquet')\n",
    "bc.create_table('taxi_b', '../../../data/sample_taxi.csv', header=0)"
   ]
  },
  {
   "cell_type": "code",
   "execution_count": null,
   "metadata": {},
   "outputs": [],
   "source": [
    "query = '''\n",
    "        select \n",
    "            taxi_a.tpep_pickup_datetime, \n",
    "            taxi_b.passenger_count, \n",
    "            taxi_b.fare_amount \n",
    "        from \n",
    "            taxi_a \n",
    "        LEFT JOIN \n",
    "            taxi_b \n",
    "            ON taxi_a.tpep_dropoff_datetime = taxi_b.tpep_dropoff_datetime AND taxi_a.tpep_pickup_datetime = taxi_b.tpep_pickup_datetime\n",
    "            '''\n",
    "bc.sql(query)"
   ]
  },
  {
   "cell_type": "markdown",
   "metadata": {},
   "source": [
    "#### CROSS JOIN\n",
    "[Docs](https://docs.blazingdb.com/docs/queries#cross-join)\n",
    "\n",
    "```sql\n",
    "SELECT table_A.column_A, table_B.column_A, table_B.column_C \n",
    "FROM table_A \n",
    "CROSS JOIN table_B\n",
    "```"
   ]
  },
  {
   "cell_type": "code",
   "execution_count": null,
   "metadata": {},
   "outputs": [],
   "source": [
    "from blazingsql import BlazingContext\n",
    "bc = BlazingContext()\n",
    "bc.create_table('iris_a', '../../../data/iris.orc')\n",
    "bc.create_table('iris_b', '../../../data/iris.csv', header=0)"
   ]
  },
  {
   "cell_type": "code",
   "execution_count": null,
   "metadata": {},
   "outputs": [],
   "source": [
    "query = '''\n",
    "        select \n",
    "            iris_a.sepal_length, \n",
    "            iris_b.sepal_length\n",
    "        from \n",
    "            iris_a \n",
    "        CROSS JOIN \n",
    "            iris_b             \n",
    "            '''\n",
    "bc.sql(query)"
   ]
  },
  {
   "cell_type": "markdown",
   "metadata": {},
   "source": [
    "### ORDER BY\n",
    "[Docs](https://docs.blazingdb.com/docs/queries#order-by)\n",
    "\n",
    "```sql\n",
    "SELECT column_A, column_B FROM table_A ORDER BY column_A\n",
    "```"
   ]
  },
  {
   "cell_type": "markdown",
   "metadata": {},
   "source": [
    "#### ORDER BY without Specifying (defaults to Ascending)"
   ]
  },
  {
   "cell_type": "code",
   "execution_count": null,
   "metadata": {},
   "outputs": [],
   "source": [
    "from blazingsql import BlazingContext\n",
    "bc = BlazingContext()\n",
    "bc.create_table('taxi', '../../../data/sample_taxi.parquet')"
   ]
  },
  {
   "cell_type": "code",
   "execution_count": null,
   "metadata": {},
   "outputs": [],
   "source": [
    "bc.sql('select passenger_count, fare_amount FROM taxi ORDER BY trip_distance')"
   ]
  },
  {
   "cell_type": "markdown",
   "metadata": {},
   "source": [
    "#### ORDER BY Specifying Ascending"
   ]
  },
  {
   "cell_type": "code",
   "execution_count": null,
   "metadata": {},
   "outputs": [],
   "source": [
    "from blazingsql import BlazingContext\n",
    "bc = BlazingContext()\n",
    "bc.create_table('taxi', '../../../data/sample_taxi.parquet')"
   ]
  },
  {
   "cell_type": "code",
   "execution_count": null,
   "metadata": {},
   "outputs": [],
   "source": [
    "bc.sql('select passenger_count, fare_amount from taxi ORDER BY trip_distance ASC')"
   ]
  },
  {
   "cell_type": "markdown",
   "metadata": {},
   "source": [
    "#### ORDER BY Specifying Descending"
   ]
  },
  {
   "cell_type": "code",
   "execution_count": null,
   "metadata": {},
   "outputs": [],
   "source": [
    "from blazingsql import BlazingContext\n",
    "bc = BlazingContext()\n",
    "bc.create_table('taxi', '../../../data/sample_taxi.parquet')"
   ]
  },
  {
   "cell_type": "code",
   "execution_count": null,
   "metadata": {},
   "outputs": [],
   "source": [
    "bc.sql('select passenger_count, fare_amount from taxi ORDER BY trip_distance DESC')"
   ]
  },
  {
   "cell_type": "markdown",
   "metadata": {},
   "source": [
    "### Nested Queries\n",
    "[Docs](https://docs.blazingdb.com/docs/queries#nested-queries)\n",
    "\n",
    "A query nested inside another query that uses values from the outer query may appear elsewhere. "
   ]
  },
  {
   "cell_type": "code",
   "execution_count": null,
   "metadata": {},
   "outputs": [],
   "source": [
    "from blazingsql import BlazingContext\n",
    "bc = BlazingContext()\n",
    "bc.create_table('taxi', '../../../data/sample_taxi.parquet')"
   ]
  },
  {
   "cell_type": "code",
   "execution_count": null,
   "metadata": {},
   "outputs": [],
   "source": [
    "query = '''\n",
    "        select \n",
    "            pickup_time, passenger_count, trip_distance, cost \n",
    "        from\n",
    "            (\n",
    "            SELECT \n",
    "                *,\n",
    "                tpep_pickup_datetime AS pickup_time, \n",
    "                total_amount - tip_amount AS cost \n",
    "            FROM \n",
    "                taxi \n",
    "                WHERE\n",
    "                    passenger_count <> 1\n",
    "            )\n",
    "            '''\n",
    "bc.sql(query)"
   ]
  },
  {
   "cell_type": "code",
   "execution_count": null,
   "metadata": {},
   "outputs": [],
   "source": [
    "query = '''\n",
    "        select \n",
    "            year(pickup_time) as pickup_year, month(pickup_time) as pickup_month, dayofmonth(pickup_time) as pickup_day,\n",
    "            passenger_count, trip_distance, cost \n",
    "        from\n",
    "            (\n",
    "            SELECT \n",
    "                *,\n",
    "                tpep_pickup_datetime AS pickup_time, \n",
    "                total_amount - tip_amount AS cost \n",
    "            FROM \n",
    "                taxi \n",
    "                WHERE\n",
    "                    passenger_count <> 1\n",
    "            )\n",
    "            '''\n",
    "bc.sql(query)"
   ]
  },
  {
   "cell_type": "markdown",
   "metadata": {},
   "source": [
    "### SELECT\n",
    "[Docs](https://docs.blazingdb.com/docs/queries#select)\n",
    "\n",
    "```sql\n",
    "SELECT * FROM table_a\n",
    "```"
   ]
  },
  {
   "cell_type": "code",
   "execution_count": null,
   "metadata": {},
   "outputs": [],
   "source": [
    "from blazingsql import BlazingContext\n",
    "bc = BlazingContext()\n",
    "bc.create_table('taxi', '../../../data/sample_taxi.parquet')"
   ]
  },
  {
   "cell_type": "code",
   "execution_count": null,
   "metadata": {},
   "outputs": [],
   "source": [
    "bc.sql('SELECT * from taxi')"
   ]
  },
  {
   "cell_type": "code",
   "execution_count": null,
   "metadata": {},
   "outputs": [],
   "source": [
    "bc.sql('SELECT passenger_count, trip_distance, fare_amount from taxi')"
   ]
  },
  {
   "cell_type": "markdown",
   "metadata": {},
   "source": [
    "### WHERE\n",
    "[Docs](https://docs.blazingdb.com/docs/queries#where) | [BlazingSQL Notebooks](https://app.blazingsql.com/jupyter/user-redirect/lab/workspaces/auto-b/tree/Welcome_to_BlazingSQL_Notebooks/docs/blazingsql.ipynb#WHERE)\n",
    "\n",
    "Query data and filter rows with a condition(s).\n",
    "\n",
    "```sql\n",
    "SELECT * FROM table_a WHERE condition_a\n",
    "```"
   ]
  },
  {
   "cell_type": "code",
   "execution_count": null,
   "metadata": {},
   "outputs": [],
   "source": [
    "from blazingsql import BlazingContext\n",
    "bc = BlazingContext()\n",
    "bc.create_table('taxi', '../../../data/sample_taxi.parquet')"
   ]
  },
  {
   "cell_type": "code",
   "execution_count": null,
   "metadata": {},
   "outputs": [],
   "source": [
    "bc.sql('select * from taxi WHERE passenger_count = 2')"
   ]
  },
  {
   "cell_type": "markdown",
   "metadata": {},
   "source": [
    "#### WHERE -- Multiple Filters (AND)"
   ]
  },
  {
   "cell_type": "code",
   "execution_count": null,
   "metadata": {},
   "outputs": [],
   "source": [
    "from blazingsql import BlazingContext\n",
    "bc = BlazingContext()\n",
    "bc.create_table('taxi', '../../../data/sample_taxi.parquet')"
   ]
  },
  {
   "cell_type": "code",
   "execution_count": null,
   "metadata": {},
   "outputs": [],
   "source": [
    "bc.sql('select * from taxi WHERE passenger_count > 2 AND trip_distance < 10')"
   ]
  },
  {
   "cell_type": "markdown",
   "metadata": {},
   "source": [
    "#### WHERE -- Multiple Filters (OR)"
   ]
  },
  {
   "cell_type": "code",
   "execution_count": null,
   "metadata": {},
   "outputs": [],
   "source": [
    "from blazingsql import BlazingContext\n",
    "bc = BlazingContext()\n",
    "bc.create_table('taxi', '../../../data/sample_taxi.parquet')"
   ]
  },
  {
   "cell_type": "code",
   "execution_count": null,
   "metadata": {},
   "outputs": [],
   "source": [
    "bc.sql('select * from taxi WHERE passenger_count >= 2 OR trip_distance <= 10')"
   ]
  },
  {
   "cell_type": "markdown",
   "metadata": {},
   "source": [
    "#### WHERE -- Multiple Filters (AND/OR)"
   ]
  },
  {
   "cell_type": "code",
   "execution_count": null,
   "metadata": {},
   "outputs": [],
   "source": [
    "from blazingsql import BlazingContext\n",
    "bc = BlazingContext()\n",
    "bc.create_table('taxi', '../../../data/sample_taxi.parquet')"
   ]
  },
  {
   "cell_type": "code",
   "execution_count": null,
   "metadata": {},
   "outputs": [],
   "source": [
    "query = ''' \n",
    "        select \n",
    "            * \n",
    "        from \n",
    "            taxi \n",
    "                WHERE \n",
    "                    (passenger_count <> 2 OR fare_amount > 100) \n",
    "                    AND trip_distance >= 10\n",
    "                    '''\n",
    "bc.sql(query)"
   ]
  },
  {
   "cell_type": "markdown",
   "metadata": {},
   "source": [
    "# BlazingSQL Docs\n",
    "**[Table of Contents](../TABLE_OF_CONTENTS.ipynb) | [Issues (GitHub)](https://github.com/BlazingDB/Welcome_to_BlazingSQL_Notebooks/issues)**"
   ]
  }
 ],
 "metadata": {
  "kernelspec": {
   "display_name": "RAPIDS Stable",
   "language": "python",
   "name": "rapids-stable"
  },
  "language_info": {
   "codemirror_mode": {
    "name": "ipython",
    "version": 3
   },
   "file_extension": ".py",
   "mimetype": "text/x-python",
   "name": "python",
   "nbconvert_exporter": "python",
   "pygments_lexer": "ipython3",
   "version": "3.7.6"
  }
 },
 "nbformat": 4,
 "nbformat_minor": 4
}
