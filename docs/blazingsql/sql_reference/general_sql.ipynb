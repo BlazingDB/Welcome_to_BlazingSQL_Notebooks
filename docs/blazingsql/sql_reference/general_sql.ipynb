{
 "cells": [
  {
   "cell_type": "markdown",
   "metadata": {},
   "source": [
    "# SQL Reference"
   ]
  },
  {
   "cell_type": "markdown",
   "metadata": {},
   "source": [
    "## General SQL\n",
    "[Docs](https://docs.blazingdb.com/docs/queries)"
   ]
  },
  {
   "cell_type": "markdown",
   "metadata": {},
   "source": [
    "### CASE\n",
    "[Docs](https://docs.blazingdb.com/docs/queries#case)\n",
    "\n",
    "```sql\n",
    "SELECT CASE WHEN column_A > 5 THEN 1 ELSE 0 END FROM table_A\n",
    "```"
   ]
  },
  {
   "cell_type": "markdown",
   "metadata": {},
   "source": [
    "#### CASE -- Single Filter"
   ]
  },
  {
   "cell_type": "code",
   "execution_count": null,
   "metadata": {},
   "outputs": [],
   "source": [
    "from blazingsql import BlazingContext\n",
    "bc = BlazingContext()\n",
    "bc.create_table('taxi', '../../../data/sample_taxi.parquet')"
   ]
  },
  {
   "cell_type": "code",
   "execution_count": null,
   "metadata": {},
   "outputs": [],
   "source": [
    "query = '''\n",
    "        select \n",
    "            CASE \n",
    "                WHEN fare_amount > 20 THEN 1 \n",
    "                ELSE 0 END\n",
    "        from \n",
    "            taxi\n",
    "            '''\n",
    "bc.sql(query)"
   ]
  },
  {
   "cell_type": "markdown",
   "metadata": {},
   "source": [
    "#### CASE -- Multiple Filters"
   ]
  },
  {
   "cell_type": "code",
   "execution_count": null,
   "metadata": {},
   "outputs": [],
   "source": [
    "from blazingsql import BlazingContext\n",
    "bc = BlazingContext()\n",
    "bc.create_table('taxi', '../../../data/sample_taxi.parquet')"
   ]
  },
  {
   "cell_type": "code",
   "execution_count": null,
   "metadata": {},
   "outputs": [],
   "source": [
    "query = '''\n",
    "        select \n",
    "            CASE \n",
    "                WHEN fare_amount > 20 THEN 1 \n",
    "                ELSE 0 END, \n",
    "            CASE \n",
    "                WHEN tpep_pickup_datetime like '%-01-01%' THEN 1 \n",
    "                ELSE 0 END\n",
    "        from\n",
    "            taxi\n",
    "            '''\n",
    "bc.sql(query)"
   ]
  },
  {
   "cell_type": "markdown",
   "metadata": {},
   "source": [
    "### CAST\n",
    "[Docs](https://docs.blazingdb.com/docs/queries#cast)\n",
    "\n",
    "```sql\n",
    "SELECT CAST(column_A AS type) FROM table_A\n",
    "```"
   ]
  },
  {
   "cell_type": "markdown",
   "metadata": {},
   "source": [
    "#### CAST -- Single Filter"
   ]
  },
  {
   "cell_type": "code",
   "execution_count": null,
   "metadata": {},
   "outputs": [],
   "source": [
    "from blazingsql import BlazingContext\n",
    "bc = BlazingContext()\n",
    "bc.create_table('taxi', '../../../data/sample_taxi.parquet')"
   ]
  },
  {
   "cell_type": "code",
   "execution_count": null,
   "metadata": {},
   "outputs": [],
   "source": [
    "query = '''\n",
    "        select \n",
    "            CAST(fare_amount AS int) \n",
    "        from \n",
    "            taxi\n",
    "            '''\n",
    "bc.sql(query)"
   ]
  },
  {
   "cell_type": "markdown",
   "metadata": {},
   "source": [
    "#### CAST -- Multiple Filters"
   ]
  },
  {
   "cell_type": "code",
   "execution_count": null,
   "metadata": {},
   "outputs": [],
   "source": [
    "from blazingsql import BlazingContext\n",
    "bc = BlazingContext()\n",
    "bc.create_table('taxi', '../../../data/sample_taxi.parquet')"
   ]
  },
  {
   "cell_type": "code",
   "execution_count": null,
   "metadata": {},
   "outputs": [],
   "source": [
    "query = '''\n",
    "        select \n",
    "            CAST(passenger_count AS float) passenger_count_float, \n",
    "            CAST(fare_amount AS int) fare_amount_int\n",
    "        from\n",
    "            taxi\n",
    "            '''\n",
    "bc.sql(query)"
   ]
  },
  {
   "cell_type": "markdown",
   "metadata": {},
   "source": [
    "#### CAST after WHERE"
   ]
  },
  {
   "cell_type": "code",
   "execution_count": null,
   "metadata": {},
   "outputs": [],
   "source": [
    "from blazingsql import BlazingContext\n",
    "bc = BlazingContext()\n",
    "bc.create_table('taxi', '../../../data/sample_taxi.parquet')"
   ]
  },
  {
   "cell_type": "code",
   "execution_count": null,
   "metadata": {},
   "outputs": [],
   "source": [
    "query = '''\n",
    "        select\n",
    "            *\n",
    "        from\n",
    "            taxi\n",
    "            WHERE\n",
    "                DAYOFMONTH(tpep_pickup_datetime) <= 7\n",
    "                '''\n",
    "bc.sql(query)"
   ]
  },
  {
   "cell_type": "markdown",
   "metadata": {},
   "source": [
    "### LIKE\n",
    "[Docs](https://docs.blazingdb.com/docs/queries#like)\n",
    "\n",
    "```sql\n",
    "SELECT * FROM table_A WHERE column_A LIKE '%foo%'\n",
    "```"
   ]
  },
  {
   "cell_type": "markdown",
   "metadata": {},
   "source": [
    "#### LIKE -- Single Filter"
   ]
  },
  {
   "cell_type": "code",
   "execution_count": null,
   "metadata": {},
   "outputs": [],
   "source": [
    "from blazingsql import BlazingContext\n",
    "bc = BlazingContext()\n",
    "bc.create_table('taxi', '../../../data/sample_taxi.parquet')"
   ]
  },
  {
   "cell_type": "code",
   "execution_count": null,
   "metadata": {},
   "outputs": [],
   "source": [
    "bc.sql(\"select * from taxi WHERE tpep_pickup_datetime LIKE '%15-01%'\")"
   ]
  },
  {
   "cell_type": "markdown",
   "metadata": {},
   "source": [
    "#### LIKE -- Multiple Filters (AND)"
   ]
  },
  {
   "cell_type": "code",
   "execution_count": 2,
   "metadata": {},
   "outputs": [
    {
     "name": "stdout",
     "output_type": "stream",
     "text": [
      "BlazingContext ready\n"
     ]
    }
   ],
   "source": [
    "from blazingsql import BlazingContext\n",
    "bc = BlazingContext()\n",
    "bc.create_table('taxi', '../../../data/sample_taxi.parquet')"
   ]
  },
  {
   "cell_type": "code",
   "execution_count": 3,
   "metadata": {},
   "outputs": [
    {
     "data": {
      "text/html": [
       "<div>\n",
       "<style scoped>\n",
       "    .dataframe tbody tr th:only-of-type {\n",
       "        vertical-align: middle;\n",
       "    }\n",
       "\n",
       "    .dataframe tbody tr th {\n",
       "        vertical-align: top;\n",
       "    }\n",
       "\n",
       "    .dataframe thead th {\n",
       "        text-align: right;\n",
       "    }\n",
       "</style>\n",
       "<table border=\"1\" class=\"dataframe\">\n",
       "  <thead>\n",
       "    <tr style=\"text-align: right;\">\n",
       "      <th></th>\n",
       "      <th>VendorID</th>\n",
       "      <th>tpep_pickup_datetime</th>\n",
       "      <th>tpep_dropoff_datetime</th>\n",
       "      <th>passenger_count</th>\n",
       "      <th>trip_distance</th>\n",
       "      <th>RatecodeID</th>\n",
       "      <th>store_and_fwd_flag</th>\n",
       "      <th>payment_type</th>\n",
       "      <th>fare_amount</th>\n",
       "      <th>extra</th>\n",
       "      <th>mta_tax</th>\n",
       "      <th>tip_amount</th>\n",
       "      <th>tolls_amount</th>\n",
       "      <th>improvement_surcharge</th>\n",
       "      <th>total_amount</th>\n",
       "      <th>pickup_x</th>\n",
       "      <th>pickup_y</th>\n",
       "      <th>dropoff_x</th>\n",
       "      <th>dropoff_y</th>\n",
       "    </tr>\n",
       "  </thead>\n",
       "  <tbody>\n",
       "    <tr>\n",
       "      <th>0</th>\n",
       "      <td>2</td>\n",
       "      <td>2015-01-01 01:08:55</td>\n",
       "      <td>2015-01-01 01:19:20</td>\n",
       "      <td>5</td>\n",
       "      <td>0.96</td>\n",
       "      <td>1</td>\n",
       "      <td>N</td>\n",
       "      <td>2</td>\n",
       "      <td>8.0</td>\n",
       "      <td>0.5</td>\n",
       "      <td>0.5</td>\n",
       "      <td>0.00</td>\n",
       "      <td>0.0</td>\n",
       "      <td>0.3</td>\n",
       "      <td>9.30</td>\n",
       "      <td>-8237097.917</td>\n",
       "      <td>66.731119</td>\n",
       "      <td>-8235826.514</td>\n",
       "      <td>66.725753</td>\n",
       "    </tr>\n",
       "    <tr>\n",
       "      <th>1</th>\n",
       "      <td>2</td>\n",
       "      <td>2015-01-01 01:08:55</td>\n",
       "      <td>2015-01-01 01:20:15</td>\n",
       "      <td>1</td>\n",
       "      <td>1.71</td>\n",
       "      <td>1</td>\n",
       "      <td>N</td>\n",
       "      <td>1</td>\n",
       "      <td>9.5</td>\n",
       "      <td>0.5</td>\n",
       "      <td>0.5</td>\n",
       "      <td>2.50</td>\n",
       "      <td>0.0</td>\n",
       "      <td>0.3</td>\n",
       "      <td>13.30</td>\n",
       "      <td>-8232881.990</td>\n",
       "      <td>66.720635</td>\n",
       "      <td>-8235900.404</td>\n",
       "      <td>66.741845</td>\n",
       "    </tr>\n",
       "    <tr>\n",
       "      <th>2</th>\n",
       "      <td>2</td>\n",
       "      <td>2015-01-01 01:08:55</td>\n",
       "      <td>2015-01-01 01:28:44</td>\n",
       "      <td>6</td>\n",
       "      <td>5.53</td>\n",
       "      <td>1</td>\n",
       "      <td>N</td>\n",
       "      <td>1</td>\n",
       "      <td>19.5</td>\n",
       "      <td>0.5</td>\n",
       "      <td>0.5</td>\n",
       "      <td>4.00</td>\n",
       "      <td>0.0</td>\n",
       "      <td>0.3</td>\n",
       "      <td>24.80</td>\n",
       "      <td>-8239467.465</td>\n",
       "      <td>66.606994</td>\n",
       "      <td>-8235059.596</td>\n",
       "      <td>66.687985</td>\n",
       "    </tr>\n",
       "    <tr>\n",
       "      <th>3</th>\n",
       "      <td>2</td>\n",
       "      <td>2015-01-01 01:08:55</td>\n",
       "      <td>2015-01-01 01:50:14</td>\n",
       "      <td>2</td>\n",
       "      <td>7.07</td>\n",
       "      <td>1</td>\n",
       "      <td>N</td>\n",
       "      <td>2</td>\n",
       "      <td>30.0</td>\n",
       "      <td>0.5</td>\n",
       "      <td>0.5</td>\n",
       "      <td>0.00</td>\n",
       "      <td>0.0</td>\n",
       "      <td>0.3</td>\n",
       "      <td>31.30</td>\n",
       "      <td>-8234884.641</td>\n",
       "      <td>66.772064</td>\n",
       "      <td>-8238804.161</td>\n",
       "      <td>66.652565</td>\n",
       "    </tr>\n",
       "    <tr>\n",
       "      <th>4</th>\n",
       "      <td>1</td>\n",
       "      <td>2015-01-01 01:08:56</td>\n",
       "      <td>2015-01-01 01:19:50</td>\n",
       "      <td>5</td>\n",
       "      <td>2.30</td>\n",
       "      <td>1</td>\n",
       "      <td>N</td>\n",
       "      <td>1</td>\n",
       "      <td>10.0</td>\n",
       "      <td>0.5</td>\n",
       "      <td>0.5</td>\n",
       "      <td>3.00</td>\n",
       "      <td>0.0</td>\n",
       "      <td>0.0</td>\n",
       "      <td>14.30</td>\n",
       "      <td>-8231657.300</td>\n",
       "      <td>66.775891</td>\n",
       "      <td>-8233149.520</td>\n",
       "      <td>66.724310</td>\n",
       "    </tr>\n",
       "    <tr>\n",
       "      <th>...</th>\n",
       "      <td>...</td>\n",
       "      <td>...</td>\n",
       "      <td>...</td>\n",
       "      <td>...</td>\n",
       "      <td>...</td>\n",
       "      <td>...</td>\n",
       "      <td>...</td>\n",
       "      <td>...</td>\n",
       "      <td>...</td>\n",
       "      <td>...</td>\n",
       "      <td>...</td>\n",
       "      <td>...</td>\n",
       "      <td>...</td>\n",
       "      <td>...</td>\n",
       "      <td>...</td>\n",
       "      <td>...</td>\n",
       "      <td>...</td>\n",
       "      <td>...</td>\n",
       "      <td>...</td>\n",
       "    </tr>\n",
       "    <tr>\n",
       "      <th>21023</th>\n",
       "      <td>1</td>\n",
       "      <td>2015-01-01 06:13:41</td>\n",
       "      <td>2015-01-01 06:43:37</td>\n",
       "      <td>1</td>\n",
       "      <td>8.50</td>\n",
       "      <td>1</td>\n",
       "      <td>N</td>\n",
       "      <td>1</td>\n",
       "      <td>28.2</td>\n",
       "      <td>0.0</td>\n",
       "      <td>0.5</td>\n",
       "      <td>7.99</td>\n",
       "      <td>0.0</td>\n",
       "      <td>0.0</td>\n",
       "      <td>36.99</td>\n",
       "      <td>-8238221.542</td>\n",
       "      <td>66.674477</td>\n",
       "      <td>-8231559.630</td>\n",
       "      <td>66.819520</td>\n",
       "    </tr>\n",
       "    <tr>\n",
       "      <th>21024</th>\n",
       "      <td>1</td>\n",
       "      <td>2015-01-01 06:13:41</td>\n",
       "      <td>2015-01-01 06:24:25</td>\n",
       "      <td>1</td>\n",
       "      <td>2.70</td>\n",
       "      <td>1</td>\n",
       "      <td>N</td>\n",
       "      <td>2</td>\n",
       "      <td>11.0</td>\n",
       "      <td>0.0</td>\n",
       "      <td>0.5</td>\n",
       "      <td>0.00</td>\n",
       "      <td>0.0</td>\n",
       "      <td>0.0</td>\n",
       "      <td>11.80</td>\n",
       "      <td>-8236566.256</td>\n",
       "      <td>66.568525</td>\n",
       "      <td>-8232161.784</td>\n",
       "      <td>66.562752</td>\n",
       "    </tr>\n",
       "    <tr>\n",
       "      <th>21025</th>\n",
       "      <td>1</td>\n",
       "      <td>2015-01-01 06:13:41</td>\n",
       "      <td>2015-01-01 06:17:48</td>\n",
       "      <td>1</td>\n",
       "      <td>1.00</td>\n",
       "      <td>1</td>\n",
       "      <td>N</td>\n",
       "      <td>2</td>\n",
       "      <td>5.5</td>\n",
       "      <td>0.0</td>\n",
       "      <td>0.5</td>\n",
       "      <td>0.00</td>\n",
       "      <td>0.0</td>\n",
       "      <td>0.0</td>\n",
       "      <td>6.30</td>\n",
       "      <td>-8236344.588</td>\n",
       "      <td>66.720838</td>\n",
       "      <td>-8236265.603</td>\n",
       "      <td>66.739447</td>\n",
       "    </tr>\n",
       "    <tr>\n",
       "      <th>21026</th>\n",
       "      <td>2</td>\n",
       "      <td>2015-01-01 06:13:41</td>\n",
       "      <td>2015-01-01 06:24:22</td>\n",
       "      <td>1</td>\n",
       "      <td>2.09</td>\n",
       "      <td>1</td>\n",
       "      <td>N</td>\n",
       "      <td>1</td>\n",
       "      <td>9.5</td>\n",
       "      <td>0.0</td>\n",
       "      <td>0.5</td>\n",
       "      <td>1.90</td>\n",
       "      <td>0.0</td>\n",
       "      <td>0.3</td>\n",
       "      <td>12.20</td>\n",
       "      <td>-8236768.388</td>\n",
       "      <td>66.636942</td>\n",
       "      <td>-8238228.336</td>\n",
       "      <td>66.674485</td>\n",
       "    </tr>\n",
       "    <tr>\n",
       "      <th>21027</th>\n",
       "      <td>2</td>\n",
       "      <td>2015-01-01 06:13:42</td>\n",
       "      <td>2015-01-01 06:27:12</td>\n",
       "      <td>1</td>\n",
       "      <td>4.37</td>\n",
       "      <td>1</td>\n",
       "      <td>N</td>\n",
       "      <td>2</td>\n",
       "      <td>15.0</td>\n",
       "      <td>0.0</td>\n",
       "      <td>0.5</td>\n",
       "      <td>0.00</td>\n",
       "      <td>0.0</td>\n",
       "      <td>0.3</td>\n",
       "      <td>15.80</td>\n",
       "      <td>-8232028.443</td>\n",
       "      <td>66.745618</td>\n",
       "      <td>-8229551.035</td>\n",
       "      <td>66.696776</td>\n",
       "    </tr>\n",
       "  </tbody>\n",
       "</table>\n",
       "<p>21028 rows × 19 columns</p>\n",
       "</div>"
      ],
      "text/plain": [
       "       VendorID tpep_pickup_datetime tpep_dropoff_datetime  passenger_count  \\\n",
       "0             2  2015-01-01 01:08:55   2015-01-01 01:19:20                5   \n",
       "1             2  2015-01-01 01:08:55   2015-01-01 01:20:15                1   \n",
       "2             2  2015-01-01 01:08:55   2015-01-01 01:28:44                6   \n",
       "3             2  2015-01-01 01:08:55   2015-01-01 01:50:14                2   \n",
       "4             1  2015-01-01 01:08:56   2015-01-01 01:19:50                5   \n",
       "...         ...                  ...                   ...              ...   \n",
       "21023         1  2015-01-01 06:13:41   2015-01-01 06:43:37                1   \n",
       "21024         1  2015-01-01 06:13:41   2015-01-01 06:24:25                1   \n",
       "21025         1  2015-01-01 06:13:41   2015-01-01 06:17:48                1   \n",
       "21026         2  2015-01-01 06:13:41   2015-01-01 06:24:22                1   \n",
       "21027         2  2015-01-01 06:13:42   2015-01-01 06:27:12                1   \n",
       "\n",
       "       trip_distance  RatecodeID store_and_fwd_flag  payment_type  \\\n",
       "0               0.96           1                  N             2   \n",
       "1               1.71           1                  N             1   \n",
       "2               5.53           1                  N             1   \n",
       "3               7.07           1                  N             2   \n",
       "4               2.30           1                  N             1   \n",
       "...              ...         ...                ...           ...   \n",
       "21023           8.50           1                  N             1   \n",
       "21024           2.70           1                  N             2   \n",
       "21025           1.00           1                  N             2   \n",
       "21026           2.09           1                  N             1   \n",
       "21027           4.37           1                  N             2   \n",
       "\n",
       "       fare_amount  extra  mta_tax  tip_amount  tolls_amount  \\\n",
       "0              8.0    0.5      0.5        0.00           0.0   \n",
       "1              9.5    0.5      0.5        2.50           0.0   \n",
       "2             19.5    0.5      0.5        4.00           0.0   \n",
       "3             30.0    0.5      0.5        0.00           0.0   \n",
       "4             10.0    0.5      0.5        3.00           0.0   \n",
       "...            ...    ...      ...         ...           ...   \n",
       "21023         28.2    0.0      0.5        7.99           0.0   \n",
       "21024         11.0    0.0      0.5        0.00           0.0   \n",
       "21025          5.5    0.0      0.5        0.00           0.0   \n",
       "21026          9.5    0.0      0.5        1.90           0.0   \n",
       "21027         15.0    0.0      0.5        0.00           0.0   \n",
       "\n",
       "       improvement_surcharge  total_amount     pickup_x   pickup_y  \\\n",
       "0                        0.3          9.30 -8237097.917  66.731119   \n",
       "1                        0.3         13.30 -8232881.990  66.720635   \n",
       "2                        0.3         24.80 -8239467.465  66.606994   \n",
       "3                        0.3         31.30 -8234884.641  66.772064   \n",
       "4                        0.0         14.30 -8231657.300  66.775891   \n",
       "...                      ...           ...          ...        ...   \n",
       "21023                    0.0         36.99 -8238221.542  66.674477   \n",
       "21024                    0.0         11.80 -8236566.256  66.568525   \n",
       "21025                    0.0          6.30 -8236344.588  66.720838   \n",
       "21026                    0.3         12.20 -8236768.388  66.636942   \n",
       "21027                    0.3         15.80 -8232028.443  66.745618   \n",
       "\n",
       "         dropoff_x  dropoff_y  \n",
       "0     -8235826.514  66.725753  \n",
       "1     -8235900.404  66.741845  \n",
       "2     -8235059.596  66.687985  \n",
       "3     -8238804.161  66.652565  \n",
       "4     -8233149.520  66.724310  \n",
       "...            ...        ...  \n",
       "21023 -8231559.630  66.819520  \n",
       "21024 -8232161.784  66.562752  \n",
       "21025 -8236265.603  66.739447  \n",
       "21026 -8238228.336  66.674485  \n",
       "21027 -8229551.035  66.696776  \n",
       "\n",
       "[21028 rows x 19 columns]"
      ]
     },
     "execution_count": 3,
     "metadata": {},
     "output_type": "execute_result"
    }
   ],
   "source": [
    "query = '''\n",
    "        select    \n",
    "            * \n",
    "        from \n",
    "            taxi \n",
    "            WHERE \n",
    "                tpep_pickup_datetime LIKE '%01-01%' \n",
    "                AND tpep_dropoff_datetime LIKE '%01-01%'\n",
    "                '''\n",
    "bc.sql(query)"
   ]
  },
  {
   "cell_type": "markdown",
   "metadata": {},
   "source": [
    "#### LIKE -- Multiple Filters (OR)"
   ]
  },
  {
   "cell_type": "code",
   "execution_count": null,
   "metadata": {},
   "outputs": [],
   "source": [
    "from blazingsql import BlazingContext\n",
    "bc = BlazingContext()\n",
    "bc.create_table('taxi', '../../../data/sample_taxi.parquet')"
   ]
  },
  {
   "cell_type": "code",
   "execution_count": null,
   "metadata": {},
   "outputs": [],
   "source": [
    "query = '''\n",
    "        select \n",
    "            * \n",
    "        from \n",
    "            taxi \n",
    "        WHERE \n",
    "            tpep_pickup_datetime LIKE '%01-01%' \n",
    "            OR tpep_dropoff_datetime LIKE '%01-01%'\n",
    "            '''\n",
    "bc.sql(query)"
   ]
  },
  {
   "cell_type": "markdown",
   "metadata": {},
   "source": [
    "#### LIKE -- Multiple Filters (AND/OR)"
   ]
  },
  {
   "cell_type": "code",
   "execution_count": null,
   "metadata": {},
   "outputs": [],
   "source": [
    "from blazingsql import BlazingContext\n",
    "bc = BlazingContext()\n",
    "bc.create_table('taxi', '../../../data/sample_taxi.parquet')"
   ]
  },
  {
   "cell_type": "code",
   "execution_count": null,
   "metadata": {},
   "outputs": [],
   "source": [
    "query = '''\n",
    "        select \n",
    "            * \n",
    "        from \n",
    "            taxi \n",
    "        WHERE \n",
    "            (tpep_pickup_datetime LIKE '%01-01%' OR tpep_dropoff_datetime LIKE '%01-01%') \n",
    "            AND dropoff_x LIKE '-822%'\n",
    "            '''\n",
    "bc.sql(query)"
   ]
  },
  {
   "cell_type": "markdown",
   "metadata": {},
   "source": [
    "### GROUP BY\n",
    "[Docs](https://docs.blazingdb.com/docs/queries#group-by)\n",
    "\n",
    "Groups result set of a query by one or more columns.\n",
    "\n",
    "```sql\n",
    "SELECT * FROM table_a GROUP BY column_a\n",
    "```"
   ]
  },
  {
   "cell_type": "code",
   "execution_count": null,
   "metadata": {},
   "outputs": [],
   "source": [
    "from blazingsql import BlazingContext\n",
    "bc = BlazingContext()\n",
    "bc.create_table('taxi', '../../../data/sample_taxi.parquet')"
   ]
  },
  {
   "cell_type": "code",
   "execution_count": null,
   "metadata": {},
   "outputs": [],
   "source": [
    "bc.sql('select passenger_count from taxi GROUP BY passenger_count')"
   ]
  },
  {
   "cell_type": "code",
   "execution_count": null,
   "metadata": {},
   "outputs": [],
   "source": [
    "query = '''\n",
    "        select\n",
    "            passenger_count,\n",
    "            VendorID\n",
    "        from\n",
    "            taxi\n",
    "        GROUP BY\n",
    "            passenger_count, \n",
    "            VendorID\n",
    "            '''\n",
    "bc.sql(query)"
   ]
  },
  {
   "cell_type": "markdown",
   "metadata": {},
   "source": [
    "#### SUM"
   ]
  },
  {
   "cell_type": "code",
   "execution_count": null,
   "metadata": {},
   "outputs": [],
   "source": [
    "from blazingsql import BlazingContext\n",
    "bc = BlazingContext()\n",
    "bc.create_table('taxi', '../../../data/sample_taxi.parquet')"
   ]
  },
  {
   "cell_type": "code",
   "execution_count": null,
   "metadata": {},
   "outputs": [],
   "source": [
    "# --SUM without GROUP BY\n",
    "bc.sql('select SUM(fare_amount) from taxi')"
   ]
  },
  {
   "cell_type": "code",
   "execution_count": null,
   "metadata": {},
   "outputs": [],
   "source": [
    "# --SUM with GROUP BY\n",
    "bc.sql('select SUM(fare_amount) from taxi GROUP BY passenger_count')"
   ]
  },
  {
   "cell_type": "markdown",
   "metadata": {},
   "source": [
    "#### AVG"
   ]
  },
  {
   "cell_type": "code",
   "execution_count": null,
   "metadata": {},
   "outputs": [],
   "source": [
    "from blazingsql import BlazingContext\n",
    "bc = BlazingContext()\n",
    "bc.create_table('taxi', '../../../data/sample_taxi.parquet')"
   ]
  },
  {
   "cell_type": "code",
   "execution_count": null,
   "metadata": {},
   "outputs": [],
   "source": [
    "# --AVG without GROUP BY\n",
    "bc.sql('select AVG(fare_amount) from taxi')"
   ]
  },
  {
   "cell_type": "code",
   "execution_count": null,
   "metadata": {},
   "outputs": [],
   "source": [
    "# --AVG with GROUP BY\n",
    "bc.sql('select AVG(fare_amount) from taxi GROUP BY passenger_count')"
   ]
  },
  {
   "cell_type": "markdown",
   "metadata": {},
   "source": [
    "#### MIN"
   ]
  },
  {
   "cell_type": "code",
   "execution_count": null,
   "metadata": {},
   "outputs": [],
   "source": [
    "from blazingsql import BlazingContext\n",
    "bc = BlazingContext()\n",
    "bc.create_table('taxi', '../../../data/sample_taxi.parquet')"
   ]
  },
  {
   "cell_type": "code",
   "execution_count": null,
   "metadata": {},
   "outputs": [],
   "source": [
    "# --MIN without GROUP BY\n",
    "bc.sql('select MIN(fare_amount) FROM taxi')"
   ]
  },
  {
   "cell_type": "code",
   "execution_count": null,
   "metadata": {},
   "outputs": [],
   "source": [
    "# --MIN with GROUP BY\n",
    "bc.sql('select MIN(fare_amount) from taxi GROUP BY passenger_count')"
   ]
  },
  {
   "cell_type": "markdown",
   "metadata": {},
   "source": [
    "#### MAX"
   ]
  },
  {
   "cell_type": "code",
   "execution_count": null,
   "metadata": {},
   "outputs": [],
   "source": [
    "from blazingsql import BlazingContext\n",
    "bc = BlazingContext()\n",
    "bc.create_table('taxi', '../../../data/sample_taxi.parquet')"
   ]
  },
  {
   "cell_type": "code",
   "execution_count": null,
   "metadata": {},
   "outputs": [],
   "source": [
    "# --MAX without GROUP BY\n",
    "bc.sql('select MAX(fare_amount) FROM taxi')"
   ]
  },
  {
   "cell_type": "code",
   "execution_count": null,
   "metadata": {},
   "outputs": [],
   "source": [
    "# --MAX with GROUP BY\n",
    "bc.sql('select MAX(fare_amount) from taxi GROUP BY passenger_count')"
   ]
  },
  {
   "cell_type": "markdown",
   "metadata": {},
   "source": [
    "#### COUNT"
   ]
  },
  {
   "cell_type": "code",
   "execution_count": null,
   "metadata": {},
   "outputs": [],
   "source": [
    "from blazingsql import BlazingContext\n",
    "bc = BlazingContext()\n",
    "bc.create_table('taxi', '../../../data/sample_taxi.parquet')"
   ]
  },
  {
   "cell_type": "code",
   "execution_count": null,
   "metadata": {},
   "outputs": [],
   "source": [
    "# --COUNT without GROUP BY\n",
    "bc.sql('select COUNT(fare_amount) from taxi')"
   ]
  },
  {
   "cell_type": "code",
   "execution_count": null,
   "metadata": {},
   "outputs": [],
   "source": [
    "# --COUNT with GROUP BY\n",
    "bc.sql('select COUNT(fare_amount) FROM taxi GROUP BY passenger_count')"
   ]
  },
  {
   "cell_type": "markdown",
   "metadata": {},
   "source": [
    "#### DISTINCT"
   ]
  },
  {
   "cell_type": "code",
   "execution_count": null,
   "metadata": {},
   "outputs": [],
   "source": [
    "from blazingsql import BlazingContext\n",
    "bc = BlazingContext()\n",
    "bc.create_table('taxi', '../../../data/sample_taxi.parquet')"
   ]
  },
  {
   "cell_type": "code",
   "execution_count": null,
   "metadata": {},
   "outputs": [],
   "source": [
    "# --DISTINCT without GROUP BY\n",
    "bc.sql('select DISTINCT(passenger_count) from taxi')"
   ]
  },
  {
   "cell_type": "code",
   "execution_count": null,
   "metadata": {},
   "outputs": [],
   "source": [
    "# --DISTINCT with GROUP BY\n",
    "bc.sql('select DISTINCT(passenger_count) from taxi GROUP BY passenger_count')"
   ]
  },
  {
   "cell_type": "markdown",
   "metadata": {},
   "source": [
    "### JOIN\n",
    "[Docs](https://docs.blazingdb.com/docs/queries#join)\n",
    "\n",
    "Combine rows from two or more tables, based on a related column or columns between them."
   ]
  },
  {
   "cell_type": "markdown",
   "metadata": {},
   "source": [
    "#### INNER JOIN\n",
    "[Docs](https://docs.blazingdb.com/docs/queries#inner)\n",
    "\n",
    "```sql\n",
    "SELECT table_A.column_A, table_B.column_A, table_B.column_C \n",
    "FROM table_A \n",
    "INNER JOIN table_B \n",
    "ON (table_A.column_A = table_B.column_B)\n",
    "```"
   ]
  },
  {
   "cell_type": "markdown",
   "metadata": {},
   "source": [
    "#### INNER JOIN SINGLE COLUMN"
   ]
  },
  {
   "cell_type": "code",
   "execution_count": null,
   "metadata": {},
   "outputs": [],
   "source": [
    "from blazingsql import BlazingContext\n",
    "bc = BlazingContext()\n",
    "bc.create_table('taxi_a', '../../../data/sample_taxi.parquet')\n",
    "bc.create_table('taxi_b', '../../../data/sample_taxi.csv', header=0)"
   ]
  },
  {
   "cell_type": "code",
   "execution_count": null,
   "metadata": {},
   "outputs": [],
   "source": [
    "query = '''\n",
    "        select \n",
    "            A.tpep_pickup_datetime, A.VendorID,\n",
    "            B.passenger_count, B.trip_distance, B.fare_amount\n",
    "        from \n",
    "            taxi_a as A\n",
    "        INNER JOIN \n",
    "            taxi_b as B\n",
    "            ON A.tpep_pickup_datetime = B.tpep_pickup_datetime\n",
    "            '''\n",
    "bc.sql(query)"
   ]
  },
  {
   "cell_type": "markdown",
   "metadata": {},
   "source": [
    "#### INNER JOIN MULTI-COLUMN"
   ]
  },
  {
   "cell_type": "code",
   "execution_count": null,
   "metadata": {},
   "outputs": [],
   "source": [
    "from blazingsql import BlazingContext\n",
    "bc = BlazingContext()\n",
    "bc.create_table('taxi_a', '../../../data/sample_taxi.parquet')\n",
    "bc.create_table('taxi_b', '../../../data/sample_taxi.csv', header=0)"
   ]
  },
  {
   "cell_type": "code",
   "execution_count": null,
   "metadata": {},
   "outputs": [],
   "source": [
    "query = '''\n",
    "        select \n",
    "            A.tpep_pickup_datetime, A.VendorID,\n",
    "            B.passenger_count, B.trip_distance, B.fare_amount\n",
    "        from \n",
    "            taxi_a as A\n",
    "        INNER JOIN \n",
    "            taxi_b as B\n",
    "            ON A.tpep_pickup_datetime = B.tpep_pickup_datetime\n",
    "            AND A.VendorID = B.VendorID\n",
    "            '''\n",
    "bc.sql(query)"
   ]
  },
  {
   "cell_type": "markdown",
   "metadata": {},
   "source": [
    "#### FULL OUTER JOIN\n",
    "[Docs](https://docs.blazingdb.com/docs/queries#full-outer)\n",
    "\n",
    "```sql\n",
    "SELECT table_A.column_A, table_B.column_A, table_B.column_C \n",
    "FROM table_A \n",
    "FULL OUTER JOIN table_B \n",
    "ON (table_A.column_A = table_B.column_B)\n",
    "```"
   ]
  },
  {
   "cell_type": "markdown",
   "metadata": {},
   "source": [
    "#### FULL OUTER JOIN SINGLE COLUMN"
   ]
  },
  {
   "cell_type": "code",
   "execution_count": null,
   "metadata": {},
   "outputs": [],
   "source": [
    "from blazingsql import BlazingContext\n",
    "bc = BlazingContext()\n",
    "bc.create_table('taxi_a', '../../../data/sample_taxi.parquet')\n",
    "bc.create_table('taxi_b', '../../../data/sample_taxi.csv', header=0)"
   ]
  },
  {
   "cell_type": "code",
   "execution_count": null,
   "metadata": {},
   "outputs": [],
   "source": [
    "query = '''\n",
    "        select \n",
    "            taxi_a.tpep_pickup_datetime, \n",
    "            taxi_b.passenger_count, \n",
    "            taxi_b.fare_amount \n",
    "        from \n",
    "            taxi_a \n",
    "        FULL OUTER JOIN \n",
    "            taxi_b \n",
    "            ON taxi_a.tpep_dropoff_datetime = taxi_b.tpep_dropoff_datetime\n",
    "            '''\n",
    "bc.sql(query)"
   ]
  },
  {
   "cell_type": "markdown",
   "metadata": {},
   "source": [
    "#### FULL OUTER JOIN MULTI-COLUMN"
   ]
  },
  {
   "cell_type": "code",
   "execution_count": null,
   "metadata": {},
   "outputs": [],
   "source": [
    "from blazingsql import BlazingContext\n",
    "bc = BlazingContext()\n",
    "bc.create_table('taxi_a', '../../../data/sample_taxi.parquet')\n",
    "bc.create_table('taxi_b', '../../../data/sample_taxi.csv', header=0)"
   ]
  },
  {
   "cell_type": "code",
   "execution_count": null,
   "metadata": {},
   "outputs": [],
   "source": [
    "query = '''\n",
    "        select \n",
    "            taxi_a.tpep_pickup_datetime, \n",
    "            taxi_b.passenger_count, \n",
    "            taxi_b.fare_amount \n",
    "        from \n",
    "            taxi_a \n",
    "        FULL OUTER JOIN \n",
    "            taxi_b \n",
    "            ON taxi_a.tpep_dropoff_datetime = taxi_b.tpep_dropoff_datetime AND taxi_a.tpep_pickup_datetime = taxi_b.tpep_pickup_datetime\n",
    "            '''\n",
    "bc.sql(query)"
   ]
  },
  {
   "cell_type": "markdown",
   "metadata": {},
   "source": [
    "#### LEFT OUTER JOIN\n",
    "[Docs](https://docs.blazingdb.com/docs/queries#left-outer)\n",
    "\n",
    "```sql\n",
    "SELECT table_A.column_A, table_B.column_A, table_B.column_C \n",
    "FROM table_A \n",
    "LEFT JOIN table_B \n",
    "ON (table_A.column_A = table_B.column_B)\n",
    "```"
   ]
  },
  {
   "cell_type": "markdown",
   "metadata": {},
   "source": [
    "#### LEFT JOIN SINGLE COLUMN"
   ]
  },
  {
   "cell_type": "code",
   "execution_count": null,
   "metadata": {},
   "outputs": [],
   "source": [
    "from blazingsql import BlazingContext\n",
    "bc = BlazingContext()\n",
    "bc.create_table('taxi_a', '../../../data/sample_taxi.parquet')\n",
    "bc.create_table('taxi_b', '../../../data/sample_taxi.csv', header=0)"
   ]
  },
  {
   "cell_type": "code",
   "execution_count": null,
   "metadata": {},
   "outputs": [],
   "source": [
    "query = '''\n",
    "        select \n",
    "            taxi_a.tpep_pickup_datetime, \n",
    "            taxi_b.passenger_count, \n",
    "            taxi_b.fare_amount \n",
    "        from \n",
    "            taxi_a \n",
    "        LEFT JOIN \n",
    "            taxi_b \n",
    "            ON taxi_a.tpep_dropoff_datetime = taxi_b.tpep_dropoff_datetime\n",
    "            '''\n",
    "bc.sql(query)"
   ]
  },
  {
   "cell_type": "markdown",
   "metadata": {},
   "source": [
    "#### LEFT JOIN MULTI-COLUMN"
   ]
  },
  {
   "cell_type": "code",
   "execution_count": null,
   "metadata": {},
   "outputs": [],
   "source": [
    "from blazingsql import BlazingContext\n",
    "bc = BlazingContext()\n",
    "bc.create_table('taxi_a', '../../../data/sample_taxi.parquet')\n",
    "bc.create_table('taxi_b', '../../../data/sample_taxi.csv', header=0)"
   ]
  },
  {
   "cell_type": "code",
   "execution_count": null,
   "metadata": {},
   "outputs": [],
   "source": [
    "query = '''\n",
    "        select \n",
    "            taxi_a.tpep_pickup_datetime, \n",
    "            taxi_b.passenger_count, \n",
    "            taxi_b.fare_amount \n",
    "        from \n",
    "            taxi_a \n",
    "        LEFT JOIN \n",
    "            taxi_b \n",
    "            ON taxi_a.tpep_dropoff_datetime = taxi_b.tpep_dropoff_datetime AND taxi_a.tpep_pickup_datetime = taxi_b.tpep_pickup_datetime\n",
    "            '''\n",
    "bc.sql(query)"
   ]
  },
  {
   "cell_type": "markdown",
   "metadata": {},
   "source": [
    "#### CROSS JOIN\n",
    "[Docs](https://docs.blazingdb.com/docs/queries#cross-join)\n",
    "\n",
    "```sql\n",
    "SELECT table_A.column_A, table_B.column_A, table_B.column_C \n",
    "FROM table_A \n",
    "CROSS JOIN table_B\n",
    "```"
   ]
  },
  {
   "cell_type": "code",
   "execution_count": null,
   "metadata": {},
   "outputs": [],
   "source": [
    "from blazingsql import BlazingContext\n",
    "bc = BlazingContext()\n",
    "bc.create_table('iris_a', '../../../data/iris.orc')\n",
    "bc.create_table('iris_b', '../../../data/iris.csv', header=0)"
   ]
  },
  {
   "cell_type": "code",
   "execution_count": null,
   "metadata": {},
   "outputs": [],
   "source": [
    "query = '''\n",
    "        select \n",
    "            iris_a.sepal_length, \n",
    "            iris_b.sepal_length\n",
    "        from \n",
    "            iris_a \n",
    "        CROSS JOIN \n",
    "            iris_b             \n",
    "            '''\n",
    "bc.sql(query)"
   ]
  },
  {
   "cell_type": "markdown",
   "metadata": {},
   "source": [
    "### ORDER BY\n",
    "[Docs](https://docs.blazingdb.com/docs/queries#order-by)\n",
    "\n",
    "```sql\n",
    "SELECT column_A, column_B FROM table_A ORDER BY column_A\n",
    "```"
   ]
  },
  {
   "cell_type": "markdown",
   "metadata": {},
   "source": [
    "#### ORDER BY without Specifying (defaults to Ascending)"
   ]
  },
  {
   "cell_type": "code",
   "execution_count": null,
   "metadata": {},
   "outputs": [],
   "source": [
    "from blazingsql import BlazingContext\n",
    "bc = BlazingContext()\n",
    "bc.create_table('taxi', '../../../data/sample_taxi.parquet')"
   ]
  },
  {
   "cell_type": "code",
   "execution_count": null,
   "metadata": {},
   "outputs": [],
   "source": [
    "bc.sql('select passenger_count, fare_amount FROM taxi ORDER BY trip_distance')"
   ]
  },
  {
   "cell_type": "markdown",
   "metadata": {},
   "source": [
    "#### ORDER BY Specifying Ascending"
   ]
  },
  {
   "cell_type": "code",
   "execution_count": null,
   "metadata": {},
   "outputs": [],
   "source": [
    "from blazingsql import BlazingContext\n",
    "bc = BlazingContext()\n",
    "bc.create_table('taxi', '../../../data/sample_taxi.parquet')"
   ]
  },
  {
   "cell_type": "code",
   "execution_count": null,
   "metadata": {},
   "outputs": [],
   "source": [
    "bc.sql('select passenger_count, fare_amount from taxi ORDER BY trip_distance ASC')"
   ]
  },
  {
   "cell_type": "markdown",
   "metadata": {},
   "source": [
    "#### ORDER BY Specifying Descending"
   ]
  },
  {
   "cell_type": "code",
   "execution_count": null,
   "metadata": {},
   "outputs": [],
   "source": [
    "from blazingsql import BlazingContext\n",
    "bc = BlazingContext()\n",
    "bc.create_table('taxi', '../../../data/sample_taxi.parquet')"
   ]
  },
  {
   "cell_type": "code",
   "execution_count": null,
   "metadata": {},
   "outputs": [],
   "source": [
    "bc.sql('select passenger_count, fare_amount from taxi ORDER BY trip_distance DESC')"
   ]
  },
  {
   "cell_type": "markdown",
   "metadata": {},
   "source": [
    "### Nested Queries\n",
    "[Docs](https://docs.blazingdb.com/docs/queries#nested-queries)\n",
    "\n",
    "A query nested inside another query that uses values from the outer query may appear elsewhere. "
   ]
  },
  {
   "cell_type": "code",
   "execution_count": null,
   "metadata": {},
   "outputs": [],
   "source": [
    "from blazingsql import BlazingContext\n",
    "bc = BlazingContext()\n",
    "bc.create_table('taxi', '../../../data/sample_taxi.parquet')"
   ]
  },
  {
   "cell_type": "code",
   "execution_count": null,
   "metadata": {},
   "outputs": [],
   "source": [
    "query = '''\n",
    "        select \n",
    "            pickup_time, passenger_count, trip_distance, cost \n",
    "        from\n",
    "            (\n",
    "            SELECT \n",
    "                *,\n",
    "                tpep_pickup_datetime AS pickup_time, \n",
    "                total_amount - tip_amount AS cost \n",
    "            FROM \n",
    "                taxi \n",
    "                WHERE\n",
    "                    passenger_count <> 1\n",
    "            )\n",
    "            '''\n",
    "bc.sql(query)"
   ]
  },
  {
   "cell_type": "code",
   "execution_count": null,
   "metadata": {},
   "outputs": [],
   "source": [
    "query = '''\n",
    "        select \n",
    "            year(pickup_time) as pickup_year, month(pickup_time) as pickup_month, dayofmonth(pickup_time) as pickup_day,\n",
    "            passenger_count, trip_distance, cost \n",
    "        from\n",
    "            (\n",
    "            SELECT \n",
    "                *,\n",
    "                tpep_pickup_datetime AS pickup_time, \n",
    "                total_amount - tip_amount AS cost \n",
    "            FROM \n",
    "                taxi \n",
    "                WHERE\n",
    "                    passenger_count <> 1\n",
    "            )\n",
    "            '''\n",
    "bc.sql(query)"
   ]
  },
  {
   "cell_type": "markdown",
   "metadata": {},
   "source": [
    "### SELECT\n",
    "[Docs](https://docs.blazingdb.com/docs/queries#select)\n",
    "\n",
    "```sql\n",
    "SELECT * FROM table_a\n",
    "```"
   ]
  },
  {
   "cell_type": "code",
   "execution_count": null,
   "metadata": {},
   "outputs": [],
   "source": [
    "from blazingsql import BlazingContext\n",
    "bc = BlazingContext()\n",
    "bc.create_table('taxi', '../../../data/sample_taxi.parquet')"
   ]
  },
  {
   "cell_type": "code",
   "execution_count": null,
   "metadata": {},
   "outputs": [],
   "source": [
    "bc.sql('SELECT * from taxi')"
   ]
  },
  {
   "cell_type": "code",
   "execution_count": null,
   "metadata": {},
   "outputs": [],
   "source": [
    "bc.sql('SELECT passenger_count, trip_distance, fare_amount from taxi')"
   ]
  },
  {
   "cell_type": "markdown",
   "metadata": {},
   "source": [
    "### WHERE\n",
    "[Docs](https://docs.blazingdb.com/docs/queries#where) | [BlazingSQL Notebooks](https://app.blazingsql.com/jupyter/user-redirect/lab/workspaces/auto-b/tree/Welcome_to_BlazingSQL_Notebooks/docs/blazingsql.ipynb#WHERE)\n",
    "\n",
    "Query data and filter rows with a condition(s).\n",
    "\n",
    "```sql\n",
    "SELECT * FROM table_a WHERE condition_a\n",
    "```"
   ]
  },
  {
   "cell_type": "code",
   "execution_count": null,
   "metadata": {},
   "outputs": [],
   "source": [
    "from blazingsql import BlazingContext\n",
    "bc = BlazingContext()\n",
    "bc.create_table('taxi', '../../../data/sample_taxi.parquet')"
   ]
  },
  {
   "cell_type": "code",
   "execution_count": null,
   "metadata": {},
   "outputs": [],
   "source": [
    "bc.sql('select * from taxi WHERE passenger_count = 2')"
   ]
  },
  {
   "cell_type": "markdown",
   "metadata": {},
   "source": [
    "#### WHERE -- Multiple Filters (AND)"
   ]
  },
  {
   "cell_type": "code",
   "execution_count": null,
   "metadata": {},
   "outputs": [],
   "source": [
    "from blazingsql import BlazingContext\n",
    "bc = BlazingContext()\n",
    "bc.create_table('taxi', '../../../data/sample_taxi.parquet')"
   ]
  },
  {
   "cell_type": "code",
   "execution_count": null,
   "metadata": {},
   "outputs": [],
   "source": [
    "bc.sql('select * from taxi WHERE passenger_count > 2 AND trip_distance < 10')"
   ]
  },
  {
   "cell_type": "markdown",
   "metadata": {},
   "source": [
    "#### WHERE -- Multiple Filters (OR)"
   ]
  },
  {
   "cell_type": "code",
   "execution_count": null,
   "metadata": {},
   "outputs": [],
   "source": [
    "from blazingsql import BlazingContext\n",
    "bc = BlazingContext()\n",
    "bc.create_table('taxi', '../../../data/sample_taxi.parquet')"
   ]
  },
  {
   "cell_type": "code",
   "execution_count": null,
   "metadata": {},
   "outputs": [],
   "source": [
    "bc.sql('select * from taxi WHERE passenger_count >= 2 OR trip_distance <= 10')"
   ]
  },
  {
   "cell_type": "markdown",
   "metadata": {},
   "source": [
    "#### WHERE -- Multiple Filters (AND/OR)"
   ]
  },
  {
   "cell_type": "code",
   "execution_count": null,
   "metadata": {},
   "outputs": [],
   "source": [
    "from blazingsql import BlazingContext\n",
    "bc = BlazingContext()\n",
    "bc.create_table('taxi', '../../../data/sample_taxi.parquet')"
   ]
  },
  {
   "cell_type": "code",
   "execution_count": null,
   "metadata": {},
   "outputs": [],
   "source": [
    "query = ''' \n",
    "        select \n",
    "            * \n",
    "        from \n",
    "            taxi \n",
    "                WHERE \n",
    "                    (passenger_count <> 2 OR fare_amount > 100) \n",
    "                    AND trip_distance >= 10\n",
    "                    '''\n",
    "bc.sql(query)"
   ]
  },
  {
   "cell_type": "markdown",
   "metadata": {},
   "source": [
    "# BlazingSQL Docs\n",
    "**[Table of Contents](../TABLE_OF_CONTENTS.ipynb) | [Issues (GitHub)](https://github.com/BlazingDB/Welcome_to_BlazingSQL_Notebooks/issues)**"
   ]
  }
 ],
 "metadata": {
  "kernelspec": {
   "display_name": "Python [conda env:bsql5] *",
   "language": "python",
   "name": "conda-env-bsql5-py"
  },
  "language_info": {
   "codemirror_mode": {
    "name": "ipython",
    "version": 3
   },
   "file_extension": ".py",
   "mimetype": "text/x-python",
   "name": "python",
   "nbconvert_exporter": "python",
   "pygments_lexer": "ipython3",
   "version": "3.8.6"
  }
 },
 "nbformat": 4,
 "nbformat_minor": 4
}
