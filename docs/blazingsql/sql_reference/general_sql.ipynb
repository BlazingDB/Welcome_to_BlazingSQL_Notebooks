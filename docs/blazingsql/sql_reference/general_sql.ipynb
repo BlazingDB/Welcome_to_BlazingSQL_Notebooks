{
 "cells": [
  {
   "cell_type": "markdown",
   "metadata": {},
   "source": [
    "# SQL Reference"
   ]
  },
  {
   "cell_type": "markdown",
   "metadata": {},
   "source": [
    "## General SQL\n",
    "[Docs](https://docs.blazingdb.com/docs/queries)"
   ]
  },
  {
   "cell_type": "markdown",
   "metadata": {},
   "source": [
    "### CASE\n",
    "[Docs](https://docs.blazingdb.com/docs/queries#case)\n",
    "\n",
    "```sql\n",
    "SELECT CASE WHEN column_A > 5 THEN 1 ELSE 0 END FROM table_A\n",
    "```"
   ]
  },
  {
   "cell_type": "code",
   "execution_count": 9,
   "metadata": {},
   "outputs": [
    {
     "name": "stdout",
     "output_type": "stream",
     "text": [
      "BlazingContext ready\n"
     ]
    }
   ],
   "source": [
    "from blazingsql import BlazingContext\n",
    "bc = BlazingContext()\n",
    "bc.create_table('taxi', '../../../data/sample_taxi.parquet')"
   ]
  },
  {
   "cell_type": "markdown",
   "metadata": {},
   "source": [
    "#### CASE -- Single Filter"
   ]
  },
  {
   "cell_type": "code",
   "execution_count": null,
   "metadata": {},
   "outputs": [],
   "source": [
    "query = '''\n",
    "        select \n",
    "            CASE \n",
    "                WHEN fare_amount > 20 THEN 1 \n",
    "                ELSE 0 END\n",
    "        from \n",
    "            taxi\n",
    "            '''\n",
    "bc.sql(query)"
   ]
  },
  {
   "cell_type": "markdown",
   "metadata": {},
   "source": [
    "#### CASE -- Multiple Filters"
   ]
  },
  {
   "cell_type": "code",
   "execution_count": null,
   "metadata": {},
   "outputs": [],
   "source": [
    "query = '''\n",
    "        select \n",
    "            CASE \n",
    "                WHEN fare_amount > 20 THEN 1 \n",
    "                ELSE 0 END, \n",
    "            CASE \n",
    "                WHEN tpep_pickup_datetime like '%-01-01%' THEN 1 \n",
    "                ELSE 0 END\n",
    "        from\n",
    "            taxi\n",
    "            '''\n",
    "bc.sql(query)"
   ]
  },
  {
   "cell_type": "markdown",
   "metadata": {},
   "source": [
    "### CAST\n",
    "[Docs](https://docs.blazingdb.com/docs/queries#cast)\n",
    "\n",
    "```sql\n",
    "SELECT CAST(column_A AS type) FROM table_A\n",
    "```"
   ]
  },
  {
   "cell_type": "code",
   "execution_count": 10,
   "metadata": {},
   "outputs": [
    {
     "name": "stdout",
     "output_type": "stream",
     "text": [
      "BlazingContext ready\n"
     ]
    }
   ],
   "source": [
    "from blazingsql import BlazingContext\n",
    "bc = BlazingContext()\n",
    "bc.create_table('taxi', '../../../data/sample_taxi.parquet')"
   ]
  },
  {
   "cell_type": "markdown",
   "metadata": {},
   "source": [
    "#### CAST -- Single Filter"
   ]
  },
  {
   "cell_type": "code",
   "execution_count": null,
   "metadata": {},
   "outputs": [],
   "source": [
    "query = '''\n",
    "        select \n",
    "            CAST(fare_amount AS int) \n",
    "        from \n",
    "            taxi\n",
    "            '''\n",
    "bc.sql(query)"
   ]
  },
  {
   "cell_type": "markdown",
   "metadata": {},
   "source": [
    "#### CAST -- Multiple Filters"
   ]
  },
  {
   "cell_type": "code",
   "execution_count": null,
   "metadata": {},
   "outputs": [],
   "source": [
    "query = '''\n",
    "        select \n",
    "            CAST(passenger_count AS float) passenger_count_float, \n",
    "            CAST(fare_amount AS int) fare_amount_int\n",
    "        from\n",
    "            taxi\n",
    "            '''\n",
    "bc.sql(query)"
   ]
  },
  {
   "cell_type": "markdown",
   "metadata": {},
   "source": [
    "#### CAST after WHERE"
   ]
  },
  {
   "cell_type": "code",
   "execution_count": null,
   "metadata": {},
   "outputs": [],
   "source": [
    "query = '''\n",
    "        select\n",
    "            *\n",
    "        from\n",
    "            taxi\n",
    "            WHERE\n",
    "                DAYOFMONTH(CAST(tpep_pickup_datetime || '.0' AS TIMESTAMP)) <= 7\n",
    "                '''\n",
    "bc.sql(query)"
   ]
  },
  {
   "cell_type": "markdown",
   "metadata": {},
   "source": [
    "### LIKE\n",
    "[Docs](https://docs.blazingdb.com/docs/queries#like)\n",
    "\n",
    "```sql\n",
    "SELECT * FROM table_A WHERE column_A LIKE '%foo%'\n",
    "```"
   ]
  },
  {
   "cell_type": "code",
   "execution_count": null,
   "metadata": {},
   "outputs": [],
   "source": [
    "from blazingsql import BlazingContext\n",
    "bc = BlazingContext()\n",
    "bc.create_table('taxi', '../data/sample_taxi.parquet')"
   ]
  },
  {
   "cell_type": "markdown",
   "metadata": {},
   "source": [
    "#### LIKE -- Single Filter"
   ]
  },
  {
   "cell_type": "code",
   "execution_count": null,
   "metadata": {},
   "outputs": [],
   "source": [
    "bc.sql(\"select * from taxi WHERE tpep_pickup_datetime LIKE '%15-01%'\")"
   ]
  },
  {
   "cell_type": "markdown",
   "metadata": {},
   "source": [
    "#### LIKE -- Multiple Filters (AND)"
   ]
  },
  {
   "cell_type": "code",
   "execution_count": null,
   "metadata": {},
   "outputs": [],
   "source": [
    "query = '''\n",
    "        select    \n",
    "            * \n",
    "        from \n",
    "            taxi \n",
    "            WHERE \n",
    "                tpep_pickup_datetime LIKE '%01-01%' \n",
    "                AND tpep_dropoff_datetime LIKE '%01-01%'\n",
    "                '''\n",
    "bc.sql(query)"
   ]
  },
  {
   "cell_type": "markdown",
   "metadata": {},
   "source": [
    "#### LIKE -- Multiple Filters (OR)"
   ]
  },
  {
   "cell_type": "code",
   "execution_count": null,
   "metadata": {},
   "outputs": [],
   "source": [
    "query = '''\n",
    "        select \n",
    "            * \n",
    "        from \n",
    "            taxi \n",
    "        WHERE \n",
    "            tpep_pickup_datetime LIKE '%01-01%' \n",
    "            OR tpep_dropoff_datetime LIKE '%01-01%'\n",
    "            '''\n",
    "bc.sql(query)"
   ]
  },
  {
   "cell_type": "markdown",
   "metadata": {},
   "source": [
    "#### LIKE -- Multiple Filters (AND/OR)"
   ]
  },
  {
   "cell_type": "code",
   "execution_count": null,
   "metadata": {},
   "outputs": [],
   "source": [
    "query = '''\n",
    "        select \n",
    "            * \n",
    "        from \n",
    "            taxi \n",
    "        WHERE \n",
    "            (tpep_pickup_datetime LIKE '%01-01%' OR tpep_dropoff_datetime LIKE '%01-01%') \n",
    "            AND dropoff_x LIKE '-822%'\n",
    "            '''\n",
    "bc.sql(query)"
   ]
  },
  {
   "cell_type": "markdown",
   "metadata": {},
   "source": [
    "### GROUP BY\n",
    "[Docs](https://docs.blazingdb.com/docs/queries#group-by)\n",
    "\n",
    "Groups result set of a query by one or more columns.\n",
    "\n",
    "```sql\n",
    "SELECT * FROM table_a GROUP BY column_a\n",
    "```"
   ]
  },
  {
   "cell_type": "code",
   "execution_count": null,
   "metadata": {},
   "outputs": [],
   "source": [
    "from blazingsql import BlazingContext\n",
    "bc = BlazingContext()\n",
    "bc.create_table('taxi', '../../../data/sample_taxi.parquet')"
   ]
  },
  {
   "cell_type": "code",
   "execution_count": null,
   "metadata": {},
   "outputs": [],
   "source": [
    "bc.sql('select passenger_count from taxi GROUP BY passenger_count')"
   ]
  },
  {
   "cell_type": "code",
   "execution_count": null,
   "metadata": {},
   "outputs": [],
   "source": [
    "query = '''\n",
    "        select\n",
    "            passenger_count,\n",
    "            VendorID\n",
    "        from\n",
    "            taxi\n",
    "        GROUP BY\n",
    "            passenger_count, \n",
    "            VendorID\n",
    "            '''\n",
    "bc.sql(query)"
   ]
  },
  {
   "cell_type": "markdown",
   "metadata": {},
   "source": [
    "#### SUM"
   ]
  },
  {
   "cell_type": "code",
   "execution_count": null,
   "metadata": {},
   "outputs": [],
   "source": [
    "# --SUM without GROUP BY\n",
    "bc.sql('select SUM(fare_amount) from taxi')"
   ]
  },
  {
   "cell_type": "code",
   "execution_count": null,
   "metadata": {},
   "outputs": [],
   "source": [
    "# --SUM with GROUP BY\n",
    "bc.sql('select SUM(fare_amount) from taxi GROUP BY passenger_count')"
   ]
  },
  {
   "cell_type": "markdown",
   "metadata": {},
   "source": [
    "#### AVG"
   ]
  },
  {
   "cell_type": "code",
   "execution_count": null,
   "metadata": {},
   "outputs": [],
   "source": [
    "# --AVG without GROUP BY\n",
    "bc.sql('select AVG(fare_amount) from taxi')"
   ]
  },
  {
   "cell_type": "code",
   "execution_count": null,
   "metadata": {},
   "outputs": [],
   "source": [
    "# --AVG with GROUP BY\n",
    "bc.sql('select AVG(fare_amount) from taxi GROUP BY passenger_count')"
   ]
  },
  {
   "cell_type": "markdown",
   "metadata": {},
   "source": [
    "#### MIN"
   ]
  },
  {
   "cell_type": "code",
   "execution_count": null,
   "metadata": {},
   "outputs": [],
   "source": [
    "# --MIN without GROUP BY\n",
    "bc.sql('select MIN(fare_amount) FROM taxi')"
   ]
  },
  {
   "cell_type": "code",
   "execution_count": null,
   "metadata": {},
   "outputs": [],
   "source": [
    "# --MIN with GROUP BY\n",
    "bc.sql('select MIN(fare_amount) from taxi GROUP BY passenger_count')"
   ]
  },
  {
   "cell_type": "markdown",
   "metadata": {},
   "source": [
    "#### MAX"
   ]
  },
  {
   "cell_type": "code",
   "execution_count": null,
   "metadata": {},
   "outputs": [],
   "source": [
    "# --MAX without GROUP BY\n",
    "bc.sql('select MAX(fare_amount) FROM taxi')"
   ]
  },
  {
   "cell_type": "code",
   "execution_count": null,
   "metadata": {},
   "outputs": [],
   "source": [
    "# --MAX with GROUP BY\n",
    "bc.sql('select MAX(fare_amount) from taxi GROUP BY passenger_count')"
   ]
  },
  {
   "cell_type": "markdown",
   "metadata": {},
   "source": [
    "#### COUNT"
   ]
  },
  {
   "cell_type": "code",
   "execution_count": null,
   "metadata": {},
   "outputs": [],
   "source": [
    "# --COUNT without GROUP BY\n",
    "bc.sql('select COUNT(fare_amount) from taxi')"
   ]
  },
  {
   "cell_type": "code",
   "execution_count": null,
   "metadata": {},
   "outputs": [],
   "source": [
    "# --COUNT with GROUP BY\n",
    "bc.sql('select COUNT(fare_amount) FROM taxi GROUP BY passenger_count')"
   ]
  },
  {
   "cell_type": "markdown",
   "metadata": {},
   "source": [
    "#### DISTINCT"
   ]
  },
  {
   "cell_type": "code",
   "execution_count": null,
   "metadata": {},
   "outputs": [],
   "source": [
    "# --DISTINCT without GROUP BY\n",
    "bc.sql('select DISTINCT(passenger_count) from taxi')"
   ]
  },
  {
   "cell_type": "code",
   "execution_count": null,
   "metadata": {},
   "outputs": [],
   "source": [
    "# --DISTINCT with GROUP BY\n",
    "bc.sql('select DISTINCT(passenger_count) from taxi GROUP BY passenger_count')"
   ]
  },
  {
   "cell_type": "markdown",
   "metadata": {},
   "source": [
    "### JOIN\n",
    "[Docs](https://docs.blazingdb.com/docs/queries#join)\n",
    "\n",
    "Combine rows from two or more tables, based on a related column or columns between them."
   ]
  },
  {
   "cell_type": "markdown",
   "metadata": {},
   "source": [
    "#### INNER JOIN\n",
    "[Docs](https://docs.blazingdb.com/docs/queries#inner)\n",
    "\n",
    "```sql\n",
    "SELECT table_A.column_A, table_B.column_A, table_B.column_C \n",
    "FROM table_A \n",
    "INNER JOIN table_B \n",
    "ON (table_A.column_A = table_B.column_B)\n",
    "```"
   ]
  },
  {
   "cell_type": "code",
   "execution_count": 5,
   "metadata": {},
   "outputs": [
    {
     "name": "stdout",
     "output_type": "stream",
     "text": [
      "BlazingContext ready\n"
     ]
    }
   ],
   "source": [
    "from blazingsql import BlazingContext\n",
    "bc = BlazingContext()\n",
    "bc.create_table('taxi_a', '../../../data/sample_taxi.parquet')\n",
    "bc.create_table('taxi_b', '../../../data/sample_taxi.csv', header=0)"
   ]
  },
  {
   "cell_type": "markdown",
   "metadata": {},
   "source": [
    "#### INNER JOIN SINGLE COLUMN"
   ]
  },
  {
   "cell_type": "code",
   "execution_count": 2,
   "metadata": {},
   "outputs": [
    {
     "name": "stdout",
     "output_type": "stream",
     "text": [
      "Error found\n",
      "fail: \n",
      " org.apache.calcite.runtime.CalciteContextException: From line 9, column 18 to line 9, column 37: Column 'tpep_pickup_datetime' not found in table 'A'\n",
      "Parsing Error\n"
     ]
    }
   ],
   "source": [
    "query = '''\n",
    "        select \n",
    "            A.tpep_pickup_datetime, A.VendorID,\n",
    "            B.passenger_count, B.trip_distance, B.fare_amount\n",
    "        from \n",
    "            taxi_a as A\n",
    "        INNER JOIN \n",
    "            taxi_b as B\n",
    "            ON A.tpep_pickup_datetime = B.tpep_pickup_datetime\n",
    "            '''\n",
    "bc.sql(query)"
   ]
  },
  {
   "cell_type": "markdown",
   "metadata": {},
   "source": [
    "#### INNER JOIN MULTI-COLUMN"
   ]
  },
  {
   "cell_type": "code",
   "execution_count": 3,
   "metadata": {},
   "outputs": [
    {
     "name": "stdout",
     "output_type": "stream",
     "text": [
      "Error found\n",
      "fail: \n",
      " org.apache.calcite.runtime.CalciteContextException: From line 9, column 18 to line 9, column 37: Column 'tpep_pickup_datetime' not found in table 'A'\n",
      "Parsing Error\n"
     ]
    }
   ],
   "source": [
    "query = '''\n",
    "        select \n",
    "            A.tpep_pickup_datetime, A.VendorID,\n",
    "            B.passenger_count, B.trip_distance, B.fare_amount\n",
    "        from \n",
    "            taxi_a as A\n",
    "        INNER JOIN \n",
    "            taxi_b as B\n",
    "            ON A.tpep_pickup_datetime = B.tpep_pickup_datetime\n",
    "            AND A.VendorID = B.VendorID\n",
    "            '''\n",
    "bc.sql(query)"
   ]
  },
  {
   "cell_type": "markdown",
   "metadata": {},
   "source": [
    "#### FULL OUTER JOIN\n",
    "[Docs](https://docs.blazingdb.com/docs/queries#full-outer)\n",
    "\n",
    "```sql\n",
    "SELECT table_A.column_A, table_B.column_A, table_B.column_C \n",
    "FROM table_A \n",
    "FULL OUTER JOIN table_B \n",
    "ON (table_A.column_A = table_B.column_B)\n",
    "```"
   ]
  },
  {
   "cell_type": "code",
   "execution_count": 7,
   "metadata": {},
   "outputs": [
    {
     "name": "stdout",
     "output_type": "stream",
     "text": [
      "BlazingContext ready\n"
     ]
    }
   ],
   "source": [
    "from blazingsql import BlazingContext\n",
    "bc = BlazingContext()\n",
    "bc.create_table('taxi_a', '../../../data/sample_taxi.parquet')\n",
    "bc.create_table('taxi_b', '../../../data/sample_taxi.csv', header=0)"
   ]
  },
  {
   "cell_type": "markdown",
   "metadata": {},
   "source": [
    "#### FULL OUTER JOIN SINGLE COLUMN"
   ]
  },
  {
   "cell_type": "code",
   "execution_count": null,
   "metadata": {},
   "outputs": [],
   "source": [
    "query = '''\n",
    "        select \n",
    "            taxi_a.tpep_pickup_datetime, \n",
    "            taxi_b.passenger_count, \n",
    "            taxi_b.fare_amount \n",
    "        from \n",
    "            taxi_a \n",
    "        FULL OUTER JOIN \n",
    "            taxi_b \n",
    "            ON taxi_a.tpep_dropoff_datetime = taxi_b.tpep_dropoff_datetime\n",
    "            '''\n",
    "bc.sql(query)"
   ]
  },
  {
   "cell_type": "markdown",
   "metadata": {},
   "source": [
    "#### FULL OUTER JOIN MULTI-COLUMN"
   ]
  },
  {
   "cell_type": "code",
   "execution_count": null,
   "metadata": {},
   "outputs": [],
   "source": [
    "query = '''\n",
    "        select \n",
    "            taxi_a.tpep_pickup_datetime, \n",
    "            taxi_b.passenger_count, \n",
    "            taxi_b.fare_amount \n",
    "        from \n",
    "            taxi_a \n",
    "        FULL OUTER JOIN \n",
    "            taxi_b \n",
    "            ON taxi_a.tpep_dropoff_datetime = taxi_b.tpep_dropoff_datetime AND taxi_a.tpep_pickup_datetime = taxi_b.tpep_pickup_datetime\n",
    "            '''\n",
    "bc.sql(query)"
   ]
  },
  {
   "cell_type": "markdown",
   "metadata": {},
   "source": [
    "#### LEFT OUTER JOIN\n",
    "[Docs](https://docs.blazingdb.com/docs/queries#left-outer)\n",
    "\n",
    "```sql\n",
    "SELECT table_A.column_A, table_B.column_A, table_B.column_C \n",
    "FROM table_A \n",
    "LEFT JOIN table_B \n",
    "ON (table_A.column_A = table_B.column_B)\n",
    "```"
   ]
  },
  {
   "cell_type": "code",
   "execution_count": 6,
   "metadata": {},
   "outputs": [
    {
     "name": "stdout",
     "output_type": "stream",
     "text": [
      "BlazingContext ready\n"
     ]
    }
   ],
   "source": [
    "from blazingsql import BlazingContext\n",
    "bc = BlazingContext()\n",
    "bc.create_table('taxi_a', '../../../data/sample_taxi.parquet')\n",
    "bc.create_table('taxi_b', '../../../data/sample_taxi.csv', header=0)"
   ]
  },
  {
   "cell_type": "markdown",
   "metadata": {},
   "source": [
    "#### LEFT JOIN SINGLE COLUMN"
   ]
  },
  {
   "cell_type": "code",
   "execution_count": null,
   "metadata": {},
   "outputs": [],
   "source": [
    "query = '''\n",
    "        select \n",
    "            taxi_a.tpep_pickup_datetime, \n",
    "            taxi_b.passenger_count, \n",
    "            taxi_b.fare_amount \n",
    "        from \n",
    "            taxi_a \n",
    "        LEFT JOIN \n",
    "            taxi_b \n",
    "            ON taxi_a.tpep_dropoff_datetime = taxi_b.tpep_dropoff_datetime\n",
    "            '''\n",
    "bc.sql(query)"
   ]
  },
  {
   "cell_type": "markdown",
   "metadata": {},
   "source": [
    "#### LEFT JOIN MULTI-COLUMN"
   ]
  },
  {
   "cell_type": "code",
   "execution_count": null,
   "metadata": {},
   "outputs": [],
   "source": [
    "query = '''\n",
    "        select \n",
    "            taxi_a.tpep_pickup_datetime, \n",
    "            taxi_b.passenger_count, \n",
    "            taxi_b.fare_amount \n",
    "        from \n",
    "            taxi_a \n",
    "        LEFT JOIN \n",
    "            taxi_b \n",
    "            ON taxi_a.tpep_dropoff_datetime = taxi_b.tpep_dropoff_datetime AND taxi_a.tpep_pickup_datetime = taxi_b.tpep_pickup_datetime\n",
    "            '''\n",
    "bc.sql(query)"
   ]
  },
  {
   "cell_type": "markdown",
   "metadata": {},
   "source": [
    "### ORDER BY\n",
    "[Docs](https://docs.blazingdb.com/docs/queries#order-by)\n",
    "\n",
    "```sql\n",
    "SELECT column_A, column_B FROM table_A ORDER BY column_A\n",
    "```"
   ]
  },
  {
   "cell_type": "code",
   "execution_count": null,
   "metadata": {},
   "outputs": [],
   "source": [
    "from blazingsql import BlazingContext\n",
    "bc = BlazingContext()\n",
    "bc.create_table('taxi', '../../../data/sample_taxi.parquet')"
   ]
  },
  {
   "cell_type": "markdown",
   "metadata": {},
   "source": [
    "#### ORDER BY without Specificying (defaults to Ascending)"
   ]
  },
  {
   "cell_type": "code",
   "execution_count": null,
   "metadata": {},
   "outputs": [],
   "source": [
    "bc.sql('select passenger_count, fare_amount FROM taxi ORDER BY trip_distance')"
   ]
  },
  {
   "cell_type": "markdown",
   "metadata": {},
   "source": [
    "#### ORDER BY Specifying Ascending"
   ]
  },
  {
   "cell_type": "code",
   "execution_count": null,
   "metadata": {},
   "outputs": [],
   "source": [
    "bc.sql('select passenger_count, fare_amount from taxi ORDER BY trip_distance ASC')"
   ]
  },
  {
   "cell_type": "markdown",
   "metadata": {},
   "source": [
    "#### ORDER BY Specifying Descending"
   ]
  },
  {
   "cell_type": "code",
   "execution_count": null,
   "metadata": {},
   "outputs": [],
   "source": [
    "bc.sql('select passenger_count, fare_amount from taxi ORDER BY trip_distance DESC')"
   ]
  },
  {
   "cell_type": "markdown",
   "metadata": {},
   "source": [
    "### Nested Queries\n",
    "[Docs](https://docs.blazingdb.com/docs/queries#nested-queries)\n",
    "\n",
    "A query nested inside another query that uses values from the outer query may appear elsewhere. "
   ]
  },
  {
   "cell_type": "code",
   "execution_count": null,
   "metadata": {},
   "outputs": [],
   "source": [
    "from blazingsql import BlazingContext\n",
    "bc = BlazingContext()\n",
    "bc.create_table('taxi', '../../../data/sample_taxi.parquet')"
   ]
  },
  {
   "cell_type": "code",
   "execution_count": null,
   "metadata": {},
   "outputs": [],
   "source": [
    "query = '''\n",
    "        select \n",
    "            pickup_time, passenger_count, trip_distance, cost \n",
    "        from\n",
    "            (\n",
    "            SELECT \n",
    "                *,\n",
    "                CAST(tpep_pickup_datetime || '.0' AS timestamp) AS pickup_time, \n",
    "                total_amount - tip_amount AS cost \n",
    "            FROM \n",
    "                taxi \n",
    "                WHERE\n",
    "                    passenger_count <> 1\n",
    "            )\n",
    "            '''\n",
    "bc.sql(query)"
   ]
  },
  {
   "cell_type": "code",
   "execution_count": null,
   "metadata": {},
   "outputs": [],
   "source": [
    "query = '''\n",
    "        select \n",
    "            year(pickup_time) as pickup_year, month(pickup_time) as pickup_month, dayofmonth(pickup_time) as pickup_day,\n",
    "            passenger_count, trip_distance, cost \n",
    "        from\n",
    "            (\n",
    "            SELECT \n",
    "                *,\n",
    "                CAST(tpep_pickup_datetime || '.0' AS timestamp) AS pickup_time, \n",
    "                total_amount - tip_amount AS cost \n",
    "            FROM \n",
    "                taxi \n",
    "                WHERE\n",
    "                    passenger_count <> 1\n",
    "            )\n",
    "            '''\n",
    "bc.sql(query)"
   ]
  },
  {
   "cell_type": "markdown",
   "metadata": {},
   "source": [
    "### SELECT\n",
    "[Docs](https://docs.blazingdb.com/docs/queries#select)\n",
    "\n",
    "```sql\n",
    "SELECT * FROM table_a\n",
    "```"
   ]
  },
  {
   "cell_type": "code",
   "execution_count": null,
   "metadata": {},
   "outputs": [],
   "source": [
    "from blazingsql import BlazingContext\n",
    "bc = BlazingContext()\n",
    "bc.create_table('taxi', '../../../data/sample_taxi.parquet')"
   ]
  },
  {
   "cell_type": "code",
   "execution_count": null,
   "metadata": {},
   "outputs": [],
   "source": [
    "bc.sql('SELECT * from taxi')"
   ]
  },
  {
   "cell_type": "code",
   "execution_count": null,
   "metadata": {},
   "outputs": [],
   "source": [
    "bc.sql('SELECT passenger_count, trip_distance, fare_amount from taxi')"
   ]
  },
  {
   "cell_type": "markdown",
   "metadata": {},
   "source": [
    "### WHERE\n",
    "[Docs](https://docs.blazingdb.com/docs/queries#where) | [BlazingSQL Notebooks](https://app.blazingsql.com/jupyter/user-redirect/lab/workspaces/auto-b/tree/Welcome_to_BlazingSQL_Notebooks/docs/blazingsql.ipynb#WHERE)\n",
    "\n",
    "Query data and filter rows with a condition(s).\n",
    "\n",
    "```sql\n",
    "SELECT * FROM table_a WHERE condition_a\n",
    "```"
   ]
  },
  {
   "cell_type": "code",
   "execution_count": 8,
   "metadata": {},
   "outputs": [
    {
     "name": "stdout",
     "output_type": "stream",
     "text": [
      "BlazingContext ready\n"
     ]
    }
   ],
   "source": [
    "from blazingsql import BlazingContext\n",
    "bc = BlazingContext()\n",
    "bc.create_table('taxi', '../../../data/sample_taxi.parquet')"
   ]
  },
  {
   "cell_type": "code",
   "execution_count": null,
   "metadata": {},
   "outputs": [],
   "source": [
    "bc.sql('select * from taxi WHERE passenger_count = 2')"
   ]
  },
  {
   "cell_type": "markdown",
   "metadata": {},
   "source": [
    "#### WHERE -- Multiple Filters (AND)"
   ]
  },
  {
   "cell_type": "code",
   "execution_count": null,
   "metadata": {},
   "outputs": [],
   "source": [
    "bc.sql('select * from taxi WHERE passenger_count > 2 AND trip_distance < 10')"
   ]
  },
  {
   "cell_type": "markdown",
   "metadata": {},
   "source": [
    "#### WHERE -- Multiple Filters (OR)"
   ]
  },
  {
   "cell_type": "code",
   "execution_count": null,
   "metadata": {},
   "outputs": [],
   "source": [
    "bc.sql('select * from taxi WHERE passenger_count >= 2 OR trip_distance <= 10')"
   ]
  },
  {
   "cell_type": "markdown",
   "metadata": {},
   "source": [
    "#### WHERE -- Multiple Filters (AND/OR)"
   ]
  },
  {
   "cell_type": "code",
   "execution_count": null,
   "metadata": {},
   "outputs": [],
   "source": [
    "query = ''' \n",
    "        select \n",
    "            * \n",
    "        from \n",
    "            taxi \n",
    "                WHERE \n",
    "                    (passenger_count <> 2 OR fare_amount > 100) \n",
    "                    AND trip_distance >= 10\n",
    "                    '''\n",
    "bc.sql(query)"
   ]
  },
  {
   "cell_type": "markdown",
   "metadata": {},
   "source": [
    "# BlazingSQL Docs\n",
    "**[Table of Contents](../TABLE_OF_CONTENTS.ipynb) | [Issues (GitHub)](https://github.com/BlazingDB/Welcome_to_BlazingSQL_Notebooks/issues)**"
   ]
  }
 ],
 "metadata": {
  "kernelspec": {
   "display_name": "RAPIDS Stable",
   "language": "python",
   "name": "rapids-stable"
  },
  "language_info": {
   "codemirror_mode": {
    "name": "ipython",
    "version": 3
   },
   "file_extension": ".py",
   "mimetype": "text/x-python",
   "name": "python",
   "nbconvert_exporter": "python",
   "pygments_lexer": "ipython3",
   "version": "3.7.6"
  }
 },
 "nbformat": 4,
 "nbformat_minor": 4
}
