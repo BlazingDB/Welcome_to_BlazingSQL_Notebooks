{
 "cells": [
  {
   "cell_type": "markdown",
   "metadata": {},
   "source": [
    "# SQL Reference"
   ]
  },
  {
   "cell_type": "markdown",
   "metadata": {},
   "source": [
    "## Reserved Words\n",
    "[Docs](https://docs.blazingdb.com/docs/reserved-words) | [BlazingSQL Notebooks](https://app.blazingsql.com/jupyter/user-redirect/lab/workspaces/auto-b/tree/Welcome_to_BlazingSQL_Notebooks/docs/blazingsql.ipynb#String-Functions)\n",
    "\n",
    "BlazingSQL uses the Apache Calcite industry-standard SQL parser, validator and JDBC driver for SQL language. There is a common list of words that are reserved for the engine and, outside of their specified functionality, should not be used by users. \n",
    "\n",
    "Exmples:\n",
    "- `date`\n",
    "- `from`\n",
    "- `time`\n",
    "- `select`\n",
    "\n",
    "You can find this list in:\n",
    "- [Calcite Docs](https://calcite.apache.org/docs/reference.html#keywords)\n",
    "- [Calcite Source Code](https://github.com/apache/calcite/blob/master/core/src/main/codegen/templates/Parser.jj#L6740)"
   ]
  },
  {
   "cell_type": "code",
   "execution_count": null,
   "metadata": {},
   "outputs": [],
   "source": [
    "from blazingsql import BlazingContext\n",
    "bc = BlazingContext()\n",
    "bc.create_table('taxi', '../../../data/sample_taxi.parquet')"
   ]
  },
  {
   "cell_type": "code",
   "execution_count": null,
   "metadata": {},
   "outputs": [],
   "source": [
    "query = '''\n",
    "        select\n",
    "            tpep_pickup_datetime as time\n",
    "        from\n",
    "            taxi\n",
    "            '''\n",
    "bc.sql(query)"
   ]
  },
  {
   "cell_type": "markdown",
   "metadata": {},
   "source": [
    "# BlazingSQL Docs\n",
    "**[Table of Contents](../TABLE_OF_CONTENTS.ipynb) | [Issues (GitHub)](https://github.com/BlazingDB/Welcome_to_BlazingSQL_Notebooks/issues)**"
   ]
  },
  {
   "cell_type": "markdown",
   "metadata": {},
   "source": [
    ".\n",
    "\n",
    "\n",
    ".\n",
    "\n",
    "\n",
    "."
   ]
  }
 ],
 "metadata": {
  "kernelspec": {
   "display_name": "RAPIDS Stable",
   "language": "python",
   "name": "rapids-stable"
  },
  "language_info": {
   "codemirror_mode": {
    "name": "ipython",
    "version": 3
   },
   "file_extension": ".py",
   "mimetype": "text/x-python",
   "name": "python",
   "nbconvert_exporter": "python",
   "pygments_lexer": "ipython3",
   "version": "3.7.6"
  }
 },
 "nbformat": 4,
 "nbformat_minor": 4
}
