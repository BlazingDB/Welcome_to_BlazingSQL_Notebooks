{
 "cells": [
  {
   "cell_type": "markdown",
   "metadata": {},
   "source": [
    "# SQL Reference"
   ]
  },
  {
   "cell_type": "markdown",
   "metadata": {},
   "source": [
    "## Data Types\n",
    "[Docs](https://docs.blazingdb.com/docs/database-administration) | [BlazingSQL Notebooks](https://app.blazingsql.com/jupyter/user-redirect/lab/workspaces/auto-b/tree/Welcome_to_BlazingSQL_Notebooks/docs/blazingsql.ipynb#SQL-Reference)"
   ]
  },
  {
   "cell_type": "code",
   "execution_count": null,
   "metadata": {},
   "outputs": [],
   "source": [
    "from blazingsql import BlazingContext\n",
    "bc = BlazingContext()"
   ]
  },
  {
   "cell_type": "code",
   "execution_count": null,
   "metadata": {},
   "outputs": [],
   "source": [
    "import cudf\n",
    "df = cudf.read_csv('../data/sample_taxi.csv')"
   ]
  },
  {
   "cell_type": "markdown",
   "metadata": {},
   "source": [
    "These are the currently supported data types for BlazingSQL:"
   ]
  },
  {
   "cell_type": "markdown",
   "metadata": {},
   "source": [
    "    Integer\n",
    "        INT8\n",
    "        INT16\n",
    "        INT32\n",
    "        INT64"
   ]
  },
  {
   "cell_type": "code",
   "execution_count": null,
   "metadata": {},
   "outputs": [],
   "source": [
    "df['VendorID'] = df['VendorID'].astype('int8')\n",
    "\n",
    "df['passenger_count'] = df['passenger_count'].astype('int16')\n",
    "\n",
    "df['trip_distance'] = df['trip_distance'].astype('int32')\n",
    "\n",
    "df['RatecodeID'] = df['RatecodeID'].astype('int64')\n",
    "\n",
    "bc.create_table('taxi', df)"
   ]
  },
  {
   "cell_type": "code",
   "execution_count": null,
   "metadata": {},
   "outputs": [],
   "source": [
    "bc.sql('SELECT VendorID, passenger_count, trip_distance, RatecodeID FROM taxi LIMIT 5')"
   ]
  },
  {
   "cell_type": "markdown",
   "metadata": {},
   "source": [
    "\n",
    "#### Floating Point\n",
    "        FLOAT8\n",
    "        FLOAT16\n",
    "        FLOAT32\n",
    "        FLOAT64"
   ]
  },
  {
   "cell_type": "code",
   "execution_count": null,
   "metadata": {},
   "outputs": [],
   "source": [
    "df['RatecodeID'] = df['RatecodeID'].astype('float32')\n",
    "\n",
    "df['payment_type'] = df['payment_type'].astype('float64')\n",
    "\n",
    "bc.create_table('taxi', df)"
   ]
  },
  {
   "cell_type": "code",
   "execution_count": null,
   "metadata": {},
   "outputs": [],
   "source": [
    "bc.sql('SELECT RatecodeID, payment_type FROM taxi LIMIT 5')"
   ]
  },
  {
   "cell_type": "markdown",
   "metadata": {},
   "source": [
    "#### Strings\n",
    "        STR\n",
    "#### Date Time\n",
    "        DATE32 (INT32_T DAYS since the UNIX Epoch)\n",
    "        DATE64 (INT64_T MILLISECONDS since the UNIX Epoch)\n",
    "        TIMESTAMP (INT64 encoded as exact TIMESTAMP since the UNIX Epoch)"
   ]
  },
  {
   "cell_type": "code",
   "execution_count": null,
   "metadata": {},
   "outputs": [],
   "source": [
    "df['tpep_pickup_datetime'] = df['tpep_pickup_datetime'].astype('str')\n",
    "\n",
    "df['dropoff_datetime64'] = df['tpep_dropoff_datetime'].astype('datetime64[ns]')\n",
    "\n",
    "bc.create_table('taxi', df)"
   ]
  },
  {
   "cell_type": "code",
   "execution_count": null,
   "metadata": {},
   "outputs": [],
   "source": [
    "query = '''\n",
    "        select\n",
    "            tpep_pickup_datetime,\n",
    "            dropoff_datetime64,\n",
    "            cast(tpep_dropoff_datetime as TIMESTAMP)\n",
    "        from\n",
    "            taxi\n",
    "            '''\n",
    "bc.sql(query)"
   ]
  }
 ],
 "metadata": {
  "kernelspec": {
   "display_name": "RAPIDS Stable",
   "language": "python",
   "name": "rapids-stable"
  },
  "language_info": {
   "codemirror_mode": {
    "name": "ipython",
    "version": 3
   },
   "file_extension": ".py",
   "mimetype": "text/x-python",
   "name": "python",
   "nbconvert_exporter": "python",
   "pygments_lexer": "ipython3",
   "version": "3.7.6"
  }
 },
 "nbformat": 4,
 "nbformat_minor": 4
}
