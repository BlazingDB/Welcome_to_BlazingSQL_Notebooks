{
 "cells": [
  {
   "cell_type": "markdown",
   "metadata": {},
   "source": [
    "# Table of Contents - BlazingSQL Docs\n",
    "\n",
    "#### **BlazingContext API**\n",
    "- **[BlazingContext()](blazingcontext_api/blazingcontext.ipynb)**\n",
    "    - [Distributed (Multi GPU)](blazingcontext_api/blazingcontext.ipynb#Multi-GPU)\n",
    "    - [.create_table()](blazingcontext_api/blazingcontext.ipynb#.create_table())\n",
    "    - [.drop_table()](blazingcontext_api/blazingcontext.ipynb#.drop_table())\n",
    "    - [.sql()](blazingcontext_api/blazingcontext.ipynb#.sql())\n",
    "    - [.explain()](blazingcontext_api/blazingcontext.ipynb#.explain())\n",
    "    - [.log()](blazingcontext_api/blazingcontext.ipynb#.log())\n",
    "    - [.partition()](blazingcontext_api/blazingcontext.ipynb#.partition())\n",
    "    - [Version Info](blazingcontext_api/blazingcontext.ipynb#Version-Info)\n",
    "- **[Create Tables](blazingcontext_api/create_tables.ipynb)**\n",
    "    - [From DataFrame](blazingcontext_api/create_tables.ipynb#From-DataFrame)\n",
    "        - [cudf.DataFrame](blazingcontext_api/create_tables.ipynb#cuDF)\n",
    "        - [dask_cudf.DataFrame](blazingcontext_api/create_tables.ipynb#Dask-cuDF)\n",
    "        - [pandas.DataFrame](blazingcontext_api/create_tables.ipynb#Pandas)\n",
    "    - [From File](blazingcontext_api/create_tables.ipynb#From-File)\n",
    "        - [CSV, TSV, PSV](blazingcontext_api/create_tables.ipynb#CSV)\n",
    "        - [ORC](blazingcontext_api/create_tables.ipynb#ORC)\n",
    "        - [Parquet](blazingcontext_api/create_tables.ipynb#Parquet)\n",
    "    - [From Remote Data](blazingcontext_api/create_tables.ipynb#From-Storage-Plugins-(Remote-Data))\n",
    "- **[Query Tables](blazingcontext_api/query_tables.ipynb)**\n",
    "    - [Distributed Queries](blazingcontext_api/query_tables.ipynb#Distributed-Queries)\n",
    "- **[Storage Plugins](blazingcontext_api/storage_plugins.ipynb)**\n",
    "    - [AWS S3](blazingcontext_api/storage_plugins.ipynb#AWS-S3)\n",
    "    - [Dask Remote Data](blazingcontext_api/storage_plugins.ipynb#Dask-Remote-Data)\n",
    "    - [Google Storage](blazingcontext_api/storage_plugins.ipynb#Google-Storage)\n",
    "    - [Hadoop Distributed File System (HDFS)](blazingcontext_api/storage_plugins.ipynb#HDFS)\n",
    "    - [MinIO S3](blazingcontext_api/storage_plugins.ipynb#MinIO-S3)\n",
    "\n",
    "#### **SQL Reference**\n",
    "- **[Data Types](sql_reference/data_types.ipynb)**\n",
    "- **[Functions](sql_reference/functions.ipynb)**\n",
    "    - [Binary Functions](sql_reference/functions.ipynb#Binary-Functions)\n",
    "    - [Unary Functions](sql_reference/functions.ipynb#Unary-Functions)\n",
    "- **[General SQL](sql_reference/general_sql.ipynb)**\n",
    "    - [CASE](sql_reference/general_sql.ipynb#CASE)\n",
    "    - [CAST](sql_reference/general_sql.ipynb#CAST)\n",
    "    - [LIKE](sql_reference/general_sql.ipynb#LIKE)    \n",
    "    - [GROUP BY](sql_reference/general_sql.ipynb#GROUP-BY)\n",
    "    - [JOIN](sql_reference/general_sql.ipynb#JOIN)\n",
    "    - [ORDER BY](sql_reference/general_sql.ipynb#ORDER-BY)\n",
    "    - [Nested Queries](sql_reference/general_sql.ipynb#Nested-Queries)\n",
    "    - [SELECT](sql_reference/general_sql.ipynb#SELECT)\n",
    "    - [WHERE](sql_reference/general_sql.ipynb#WHERE)\n",
    "- **[Reserved Words](sql_reference/reserved_words.ipynb)**"
   ]
  },
  {
   "cell_type": "markdown",
   "metadata": {},
   "source": [
    "# BlazingSQL Docs\n",
    "**[Table of Contents](TABLE_OF_CONTENTS.ipynb) | [Issues (GitHub)](https://github.com/BlazingDB/Welcome_to_BlazingSQL_Notebooks/issues)**"
   ]
  }
 ],
 "metadata": {
  "kernelspec": {
   "display_name": "RAPIDS Stable",
   "language": "python",
   "name": "rapids-stable"
  },
  "language_info": {
   "codemirror_mode": {
    "name": "ipython",
    "version": 3
   },
   "file_extension": ".py",
   "mimetype": "text/x-python",
   "name": "python",
   "nbconvert_exporter": "python",
   "pygments_lexer": "ipython3",
   "version": "3.7.6"
  }
 },
 "nbformat": 4,
 "nbformat_minor": 4
}
