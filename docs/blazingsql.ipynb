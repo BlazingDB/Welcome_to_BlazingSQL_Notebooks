{
 "cells": [
  {
   "cell_type": "markdown",
   "metadata": {},
   "source": [
    "# BlazingContext API"
   ]
  },
  {
   "cell_type": "markdown",
   "metadata": {},
   "source": [
    "\n",
    "\n",
    "\n",
    ".\n",
    "\n",
    "\n"
   ]
  },
  {
   "cell_type": "markdown",
   "metadata": {},
   "source": [
    "## BlazingContext\n",
    "[Docs](https://docs.blazingdb.com/docs/blazingcontext) | [BlazingSQL Notebooks](https://app.blazingsql.com/jupyter/user-redirect/lab/workspaces/auto-b/tree/Welcome_to_BlazingSQL_Notebooks/docs/blazingsql.ipynb#BlazingContext)"
   ]
  },
  {
   "cell_type": "code",
   "execution_count": null,
   "metadata": {},
   "outputs": [],
   "source": [
    "from blazingsql import BlazingContext"
   ]
  },
  {
   "cell_type": "markdown",
   "metadata": {},
   "source": [
    "Create basic BlazingContext instance."
   ]
  },
  {
   "cell_type": "code",
   "execution_count": null,
   "metadata": {},
   "outputs": [],
   "source": [
    "bc = BlazingContext()"
   ]
  },
  {
   "cell_type": "markdown",
   "metadata": {},
   "source": [
    "Configure some options when creating a BlazingContext instance."
   ]
  },
  {
   "cell_type": "code",
   "execution_count": null,
   "metadata": {},
   "outputs": [],
   "source": [
    "bc = BlazingContext(dask_client=None,\n",
    "                    network_interface=None,\n",
    "                    allocator='managed',\n",
    "                    pool=False,\n",
    "                    initial_pool_size=None,\n",
    "                    enable_logging=False,\n",
    "                    config_options={})"
   ]
  },
  {
   "cell_type": "markdown",
   "metadata": {},
   "source": [
    ".\n",
    "\n",
    "\n",
    ".\n",
    "\n",
    "\n",
    "."
   ]
  },
  {
   "cell_type": "markdown",
   "metadata": {},
   "source": [
    "### Distributed SQL\n",
    "[Docs](https://docs.blazingdb.com/docs/distributed) | [BlazingSQL Notebooks](https://app.blazingsql.com/jupyter/user-redirect/lab/workspaces/auto-b/tree/Welcome_to_BlazingSQL_Notebooks/docs/blazingsql.ipynb#Distributed-SQL)\n",
    "\n",
    "Distribute BlazingSQL query execution across multiple GPUs with Dask. "
   ]
  },
  {
   "cell_type": "markdown",
   "metadata": {},
   "source": [
    "#### Single Node Multi-GPU\n",
    "Distribute BlazingSQL query execution across all GPUs within the same system. \n",
    "\n",
    "Read more with our blog post \"[Distributed SQL with Dask](https://blog.blazingdb.com/distributed-sql-with-dask-2979262acc8a?source=friends_link&sk=077319064cd7d9e18df8c0292eb5d33d)\"."
   ]
  },
  {
   "cell_type": "code",
   "execution_count": null,
   "metadata": {},
   "outputs": [],
   "source": [
    "from dask_cuda import LocalCUDACluster\n",
    "from dask.distributed import Client\n",
    "\n",
    "cluster = LocalCUDACluster()\n",
    "client = Client(cluster)"
   ]
  },
  {
   "cell_type": "code",
   "execution_count": null,
   "metadata": {},
   "outputs": [],
   "source": [
    "from blazingsql import BlazingContext\n",
    "\n",
    "bc = BlazingContext(dask_client=client, network_interface='lo')"
   ]
  },
  {
   "cell_type": "markdown",
   "metadata": {},
   "source": [
    ".\n",
    "\n",
    "\n",
    ".\n",
    "\n",
    "\n",
    "."
   ]
  },
  {
   "cell_type": "markdown",
   "metadata": {},
   "source": [
    "## Storage Plugins\n",
    "\n",
    "[Docs](https://docs.blazingdb.com/docs/connecting-data-sources) | [BlazingSQL Notebooks](https://app.blazingsql.com/jupyter/user-redirect/lab/workspaces/auto-b/tree/Welcome_to_BlazingSQL_Notebooks/docs/blazingsql.ipynb#Storage-Plugins)\n"
   ]
  },
  {
   "cell_type": "code",
   "execution_count": null,
   "metadata": {},
   "outputs": [],
   "source": [
    "from blazingsql import BlazingContext\n",
    "bc = BlazingContext()"
   ]
  },
  {
   "cell_type": "markdown",
   "metadata": {},
   "source": [
    "Register public AWS S3 bucket."
   ]
  },
  {
   "cell_type": "code",
   "execution_count": null,
   "metadata": {},
   "outputs": [],
   "source": [
    "bc.s3('bsql', bucket_name='blazingsql-colab')"
   ]
  },
  {
   "cell_type": "markdown",
   "metadata": {},
   "source": [
    ".\n",
    "\n",
    "\n",
    ".\n",
    "\n",
    "\n",
    "."
   ]
  },
  {
   "cell_type": "markdown",
   "metadata": {},
   "source": [
    "## Create Tables\n",
    "[Docs](https://docs.blazingdb.com/docs/creating-tables) | [BlazingSQL Notebooks](https://app.blazingsql.com/jupyter/user-redirect/lab/workspaces/auto-b/tree/Welcome_to_BlazingSQL_Notebooks/docs/blazingsql.ipynb#Create-Tables)\n"
   ]
  },
  {
   "cell_type": "code",
   "execution_count": null,
   "metadata": {},
   "outputs": [],
   "source": [
    "from blazingsql import BlazingContext\n",
    "bc = BlazingContext()"
   ]
  },
  {
   "cell_type": "markdown",
   "metadata": {},
   "source": [
    "Create table from local CSV file."
   ]
  },
  {
   "cell_type": "code",
   "execution_count": null,
   "metadata": {},
   "outputs": [],
   "source": [
    "bc.create_table('taxi', 'data/sample_taxi.csv', header=0)"
   ]
  },
  {
   "cell_type": "markdown",
   "metadata": {},
   "source": [
    "Create table from local Parquet file."
   ]
  },
  {
   "cell_type": "code",
   "execution_count": null,
   "metadata": {},
   "outputs": [],
   "source": [
    "bc.create_table('taxi', 'data/sample_taxi.parquet')"
   ]
  },
  {
   "cell_type": "markdown",
   "metadata": {},
   "source": [
    "Create table from Parquet file stored in public AWS S3 bucket."
   ]
  },
  {
   "cell_type": "code",
   "execution_count": null,
   "metadata": {},
   "outputs": [],
   "source": [
    "bc.s3('bsql', bucket_name='blazingsql-colab')\n",
    "\n",
    "bc.create_table('taxi', 's3://bsql/yellow_taxi/taxi_data.parquet')"
   ]
  },
  {
   "cell_type": "markdown",
   "metadata": {},
   "source": [
    ".\n",
    "\n",
    "\n",
    ".\n",
    "\n",
    "\n",
    "."
   ]
  },
  {
   "cell_type": "markdown",
   "metadata": {},
   "source": [
    "## Query Tables\n",
    "[Docs](https://docs.blazingdb.com/docs/single-gpu) | [BlazingSQL Notebooks](https://app.blazingsql.com/jupyter/user-redirect/lab/workspaces/auto-b/tree/Welcome_to_BlazingSQL_Notebooks/docs/blazingsql.ipynb#Create-Tables)\n"
   ]
  },
  {
   "cell_type": "code",
   "execution_count": null,
   "metadata": {},
   "outputs": [],
   "source": [
    "from blazingsql import BlazingContext\n",
    "bc = BlazingContext()"
   ]
  },
  {
   "cell_type": "code",
   "execution_count": null,
   "metadata": {},
   "outputs": [],
   "source": [
    "bc.create_table('taxi', 'data/sample_taxi.parquet')"
   ]
  },
  {
   "cell_type": "markdown",
   "metadata": {},
   "source": [
    "Pull all rows and all columns."
   ]
  },
  {
   "cell_type": "code",
   "execution_count": null,
   "metadata": {},
   "outputs": [],
   "source": [
    "bc.sql('SELECT * FROM taxi')"
   ]
  },
  {
   "cell_type": "markdown",
   "metadata": {},
   "source": [
    "Determine the average number riders per trip by hour of the day."
   ]
  },
  {
   "cell_type": "code",
   "execution_count": null,
   "metadata": {},
   "outputs": [],
   "source": [
    "avg_riders_by_hour = '''\n",
    "                     select\n",
    "                         avg(cast(passenger_count as float)) as avg_passenger_count,\n",
    "                         hour(dropoff_ts) as hour_of_the_day\n",
    "                     from (\n",
    "                         select\n",
    "                             passenger_count, \n",
    "                             cast(tpep_dropoff_datetime || '.0' as timestamp) dropoff_ts\n",
    "                         from\n",
    "                             taxi\n",
    "                             )\n",
    "                     group by\n",
    "                         hour(dropoff_ts)\n",
    "                     order by\n",
    "                         hour(dropoff_ts)\n",
    "                         '''\n",
    "bc.sql(avg_riders_by_hour)"
   ]
  },
  {
   "cell_type": "markdown",
   "metadata": {},
   "source": [
    ".\n",
    "\n",
    "\n",
    ".\n",
    "\n",
    "\n",
    "."
   ]
  },
  {
   "cell_type": "markdown",
   "metadata": {},
   "source": [
    "# SQL Reference"
   ]
  },
  {
   "cell_type": "markdown",
   "metadata": {},
   "source": [
    "\n",
    "\n",
    "\n",
    ".\n",
    "\n",
    "\n"
   ]
  },
  {
   "cell_type": "markdown",
   "metadata": {},
   "source": [
    "## Data Types\n",
    "[Docs](https://docs.blazingdb.com/docs/database-administration) | [BlazingSQL Notebooks](https://app.blazingsql.com/jupyter/user-redirect/lab/workspaces/auto-b/tree/Welcome_to_BlazingSQL_Notebooks/docs/blazingsql.ipynb#SQL-Reference)"
   ]
  },
  {
   "cell_type": "markdown",
   "metadata": {},
   "source": [
    "Data Types\n",
    "\n",
    "These are the currently supported data types for BlazingSQL:\n",
    "\n",
    "    Integer\n",
    "        INT8\n",
    "        INT16\n",
    "        INT32\n",
    "        INT64\n",
    "    Floating Point\n",
    "        FLOAT8\n",
    "        FLOAT16\n",
    "        FLOAT32\n",
    "        FLOAT64\n",
    "    Strings\n",
    "        STR\n",
    "    Date Time\n",
    "        DATE32 (INT32_T DAYS since the UNIX Epoch)\n",
    "        DATE64 (INT64_T MILLISECONDS since the UNIX Epoch)\n",
    "        TIMESTAMP (INT64 encoded as exact TIMESTAMP since the UNIX Epoch)\n"
   ]
  },
  {
   "cell_type": "code",
   "execution_count": null,
   "metadata": {},
   "outputs": [],
   "source": []
  },
  {
   "cell_type": "markdown",
   "metadata": {},
   "source": [
    ".\n",
    "\n",
    "\n",
    ".\n",
    "\n",
    "\n",
    "."
   ]
  },
  {
   "cell_type": "markdown",
   "metadata": {},
   "source": [
    "## General SQL\n",
    "[Docs](https://docs.blazingdb.com/docs/queries) | [BlazingSQL Notebooks](https://app.blazingsql.com/jupyter/user-redirect/lab/workspaces/auto-b/tree/Welcome_to_BlazingSQL_Notebooks/docs/blazingsql.ipynb#General-SQL)"
   ]
  },
  {
   "cell_type": "code",
   "execution_count": null,
   "metadata": {},
   "outputs": [],
   "source": [
    "from blazingsql import BlazingContext\n",
    "bc = BlazingContext()"
   ]
  },
  {
   "cell_type": "code",
   "execution_count": null,
   "metadata": {},
   "outputs": [],
   "source": [
    "bc.create_table('taxi', '../data/sample_taxi.parquet')"
   ]
  },
  {
   "cell_type": "markdown",
   "metadata": {},
   "source": [
    "### SELECT"
   ]
  },
  {
   "cell_type": "code",
   "execution_count": null,
   "metadata": {},
   "outputs": [],
   "source": [
    "bc.sql('SELECT * from taxi')"
   ]
  },
  {
   "cell_type": "code",
   "execution_count": null,
   "metadata": {},
   "outputs": [],
   "source": [
    "bc.sql('SELECT passenger_count, trip_distance, index, fare_amount from taxi')"
   ]
  },
  {
   "cell_type": "markdown",
   "metadata": {},
   "source": [
    "### WHERE\n",
    "Query data and filter rows with a condition(s)."
   ]
  },
  {
   "cell_type": "code",
   "execution_count": null,
   "metadata": {},
   "outputs": [],
   "source": [
    "# --Single Filter\n",
    "bc.sql('select * from taxi WHERE passenger_count = 2')"
   ]
  },
  {
   "cell_type": "code",
   "execution_count": null,
   "metadata": {},
   "outputs": [],
   "source": [
    "# --Multiple Filters (AND)\n",
    "bc.sql('select * from taxi WHERE passenger_count > 2 AND trip_distance < 10')"
   ]
  },
  {
   "cell_type": "code",
   "execution_count": null,
   "metadata": {},
   "outputs": [],
   "source": [
    "# --Multiple Filters (OR)\n",
    "bc.sql('select * from taxi WHERE passenger_count >= 2 AND trip_distance <= 10')"
   ]
  },
  {
   "cell_type": "code",
   "execution_count": null,
   "metadata": {},
   "outputs": [],
   "source": [
    "# --Multiple Filters (AND/OR)\n",
    "bc.sql('select * from taxi WHERE (passenger_count <> 2 OR fare_amount > 100) AND trip_distance >= 10')"
   ]
  },
  {
   "cell_type": "markdown",
   "metadata": {},
   "source": [
    "### GROUP BY\n",
    "Groups result set of a query by one or more columns."
   ]
  },
  {
   "cell_type": "code",
   "execution_count": null,
   "metadata": {},
   "outputs": [],
   "source": [
    "bc.sql('select passenger_count from taxi GROUP BY passenger_count')"
   ]
  },
  {
   "cell_type": "code",
   "execution_count": null,
   "metadata": {},
   "outputs": [],
   "source": [
    "query = '''\n",
    "        select\n",
    "            passenger_count,\n",
    "            VendorID\n",
    "        from\n",
    "            taxi\n",
    "        GROUP BY\n",
    "            passenger_count, \n",
    "            VendorID\n",
    "            '''\n",
    "bc.sql(query)"
   ]
  },
  {
   "cell_type": "markdown",
   "metadata": {},
   "source": [
    "#### SUM"
   ]
  },
  {
   "cell_type": "code",
   "execution_count": null,
   "metadata": {},
   "outputs": [],
   "source": [
    "# --SUM without GROUP BY\n",
    "bc.sql('select SUM(fare_amount) from taxi')"
   ]
  },
  {
   "cell_type": "code",
   "execution_count": null,
   "metadata": {},
   "outputs": [],
   "source": [
    "# --SUM with GROUP BY\n",
    "bc.sql('select SUM(fare_amount) from taxi GROUP BY passenger_count')"
   ]
  },
  {
   "cell_type": "markdown",
   "metadata": {},
   "source": [
    "#### AVG"
   ]
  },
  {
   "cell_type": "code",
   "execution_count": null,
   "metadata": {},
   "outputs": [],
   "source": [
    "# --AVG without GROUP BY\n",
    "bc.sql('select AVG(fare_amount) from taxi')"
   ]
  },
  {
   "cell_type": "code",
   "execution_count": null,
   "metadata": {},
   "outputs": [],
   "source": [
    "# --AVG with GROUP BY\n",
    "bc.sql('select AVG(fare_amount) from taxi GROUP BY passenger_count')"
   ]
  },
  {
   "cell_type": "markdown",
   "metadata": {},
   "source": [
    "#### MIN"
   ]
  },
  {
   "cell_type": "code",
   "execution_count": null,
   "metadata": {},
   "outputs": [],
   "source": [
    "# --MIN without GROUP BY\n",
    "bc.sql('select MIN(fare_amount) FROM taxi')"
   ]
  },
  {
   "cell_type": "code",
   "execution_count": null,
   "metadata": {},
   "outputs": [],
   "source": [
    "# --MIN with GROUP BY\n",
    "bc.sql('select MIN(fare_amount) from taxi GROUP BY passenger_count')"
   ]
  },
  {
   "cell_type": "markdown",
   "metadata": {},
   "source": [
    "#### MAX"
   ]
  },
  {
   "cell_type": "code",
   "execution_count": null,
   "metadata": {},
   "outputs": [],
   "source": [
    "# --MAX without GROUP BY\n",
    "bc.sql('select MAX(fare_amount) FROM taxi')"
   ]
  },
  {
   "cell_type": "code",
   "execution_count": null,
   "metadata": {},
   "outputs": [],
   "source": [
    "# --MAX with GROUP BY\n",
    "bc.sql('select MAX(fare_amount) from taxi GROUP BY passenger_count')"
   ]
  },
  {
   "cell_type": "markdown",
   "metadata": {},
   "source": [
    "#### COUNT"
   ]
  },
  {
   "cell_type": "code",
   "execution_count": null,
   "metadata": {},
   "outputs": [],
   "source": [
    "# --COUNT without GROUP BY\n",
    "bc.sql('select COUNT(fare_amount) from taxi')"
   ]
  },
  {
   "cell_type": "code",
   "execution_count": null,
   "metadata": {},
   "outputs": [],
   "source": [
    "# --COUNT with GROUP BY\n",
    "bc.sql('select COUNT(fare_amount) FROM taxi GROUP BY passenger_count')"
   ]
  },
  {
   "cell_type": "markdown",
   "metadata": {},
   "source": [
    "#### DISTINCT"
   ]
  },
  {
   "cell_type": "code",
   "execution_count": null,
   "metadata": {},
   "outputs": [],
   "source": [
    "# --COUNT without GROUP BY\n",
    "bc.sql('select DISTINCT(fare_amount) from taxi')"
   ]
  },
  {
   "cell_type": "code",
   "execution_count": null,
   "metadata": {},
   "outputs": [],
   "source": [
    "# --COUNT with GROUP BY\n",
    "bc.sql('select DISTINCT(passenger_count) from taxi GROUP BY passenger_count')"
   ]
  },
  {
   "cell_type": "markdown",
   "metadata": {},
   "source": [
    "### JOIN\n",
    "Combine rows from two or more tables, based on a related column or columns between them."
   ]
  },
  {
   "cell_type": "markdown",
   "metadata": {},
   "source": [
    "#### INNER JOIN"
   ]
  },
  {
   "cell_type": "code",
   "execution_count": null,
   "metadata": {},
   "outputs": [],
   "source": [
    "# --INNER JOIN SINGLE COLUMN\n",
    "SELECT table_A.column_A, table_B.column_A, table_B.column_C \n",
    "FROM table_A \n",
    "INNER JOIN table_B \n",
    "ON (table_A.column_A = table_B.column_B)"
   ]
  },
  {
   "cell_type": "code",
   "execution_count": null,
   "metadata": {},
   "outputs": [],
   "source": [
    "# --INNER JOIN MULTI-COLUMN\n",
    "SELECT table_A.column_A, table_B.column_A, table_B.column_C \n",
    "FROM table_A \n",
    "INNER JOIN table_B \n",
    "ON (table_A.column_A = table_B.column_B AND table_A.column_C = table_B.column_C)"
   ]
  },
  {
   "cell_type": "markdown",
   "metadata": {},
   "source": [
    "#### FULL OUTER JOIN"
   ]
  },
  {
   "cell_type": "code",
   "execution_count": null,
   "metadata": {},
   "outputs": [],
   "source": [
    "# --FULL OUTER JOIN SINGLE COLUMN\n",
    "SELECT table_A.column_A, table_B.column_A, table_B.column_C \n",
    "FROM table_A \n",
    "FULL OUTER JOIN table_B \n",
    "ON (table_A.column_A = table_B.column_B)"
   ]
  },
  {
   "cell_type": "code",
   "execution_count": null,
   "metadata": {},
   "outputs": [],
   "source": [
    "# --FULL OUTER JOIN MULTI-COLUMN\n",
    "SELECT table_A.column_A, table_B.column_A, table_B.column_C \n",
    "FROM table_A \n",
    "FULL OUTER JOIN table_B \n",
    "ON (table_A.column_A = table_B.column_B AND table_A.column_C = table_B.column_C)"
   ]
  },
  {
   "cell_type": "markdown",
   "metadata": {},
   "source": [
    "#### LEFT OUTER"
   ]
  },
  {
   "cell_type": "code",
   "execution_count": null,
   "metadata": {},
   "outputs": [],
   "source": [
    "# --LEFT JOIN SINGLE COLUMN\n",
    "SELECT table_A.column_A, table_B.column_A, table_B.column_C \n",
    "FROM table_A \n",
    "LEFT JOIN table_B \n",
    "ON (table_A.column_A = table_B.column_B)"
   ]
  },
  {
   "cell_type": "code",
   "execution_count": null,
   "metadata": {},
   "outputs": [],
   "source": [
    "# --LEFT JOIN MULTI-COLUMN\n",
    "SELECT table_A.column_A, table_B.column_A, table_B.column_C \n",
    "FROM table_A \n",
    "LEFT JOIN table_B \n",
    "ON (table_A.column_A = table_B.column_B AND table_A.column_C = table_B.column_C)"
   ]
  },
  {
   "cell_type": "markdown",
   "metadata": {},
   "source": [
    "### ORDER BY"
   ]
  },
  {
   "cell_type": "code",
   "execution_count": null,
   "metadata": {},
   "outputs": [],
   "source": [
    "# --ORDER BY without Specificying (defaults to Ascending)\n",
    "SELECT column_A, column_B FROM table_A ORDER BY column_A"
   ]
  },
  {
   "cell_type": "code",
   "execution_count": null,
   "metadata": {},
   "outputs": [],
   "source": [
    "# -- ORDER BY Specifying Ascending\n",
    "SELECT column_A, column_B FROM table_A ORDER BY column_A ASC"
   ]
  },
  {
   "cell_type": "code",
   "execution_count": null,
   "metadata": {},
   "outputs": [],
   "source": [
    "# -- ORDER BY Specifying Descending\n",
    "SELECT column_A, column_B FROM table_A ORDER BY column_A DESC"
   ]
  },
  {
   "cell_type": "markdown",
   "metadata": {},
   "source": [
    "### NESTED QUERIES\n",
    "A query nested inside another query that uses values from the outer query may appear elsewhere. "
   ]
  },
  {
   "cell_type": "code",
   "execution_count": null,
   "metadata": {},
   "outputs": [],
   "source": [
    "# -- NESTED QUERIES AS NEW TABLE \n",
    "SELECT column_A, column_B from\n",
    "        (select avg(table_B.column_A) as column_A, max(table_B.column_B) as column_B, min(table_B.column_C) as column_C from table_B ) as InnerTable\n",
    "        order by column_A, column_B"
   ]
  },
  {
   "cell_type": "code",
   "execution_count": null,
   "metadata": {},
   "outputs": [],
   "source": [
    "# -- NESTED QUERIES AS NEW COLUMN\n",
    "SELECT\n",
    "   column_A,\n",
    "   column_B,\n",
    "   (SELECT AVG(column_D) \n",
    "      FROM table_A\n",
    "      WHERE column_C = A.column_C) AS avg_column_D\n",
    "   FROM table_A A"
   ]
  },
  {
   "cell_type": "markdown",
   "metadata": {},
   "source": [
    "### CASE"
   ]
  },
  {
   "cell_type": "code",
   "execution_count": null,
   "metadata": {},
   "outputs": [],
   "source": [
    "# --Single Filter\n",
    "SELECT CASE WHEN column_A > 5 THEN 1 ELSE 0 FROM table_A"
   ]
  },
  {
   "cell_type": "code",
   "execution_count": null,
   "metadata": {},
   "outputs": [],
   "source": [
    "# --Multiple Filters\n",
    "SELECT \n",
    "    CASE WHEN column_A > 7 THEN 1 ELSE 0, \n",
    "    CASE WHEN column_B LIKE '%foo%' THEN 1 ELSE 0\n",
    "FROM\n",
    "    table_A"
   ]
  },
  {
   "cell_type": "markdown",
   "metadata": {},
   "source": [
    "### CAST"
   ]
  },
  {
   "cell_type": "code",
   "execution_count": null,
   "metadata": {},
   "outputs": [],
   "source": [
    "# --Single Filter\n",
    "SELECT CAST(column_A AS type) FROM table_A"
   ]
  },
  {
   "cell_type": "code",
   "execution_count": null,
   "metadata": {},
   "outputs": [],
   "source": [
    "# --Multiple Filters\n",
    "SELECT \n",
    "    CAST(column_A as type) new_column_B, \n",
    "    CAST(column_B as type) new_column_A\n",
    "FROM\n",
    "    table_A"
   ]
  },
  {
   "cell_type": "markdown",
   "metadata": {},
   "source": [
    "### LIKE"
   ]
  },
  {
   "cell_type": "code",
   "execution_count": null,
   "metadata": {},
   "outputs": [],
   "source": [
    "# --Single Filter\n",
    "SELECT * FROM table_A WHERE column_A LIKE '%foo%'"
   ]
  },
  {
   "cell_type": "code",
   "execution_count": null,
   "metadata": {},
   "outputs": [],
   "source": [
    "# --Multiple Filters (AND)\n",
    "SELECT \n",
    "    * \n",
    "FROM \n",
    "    table_A \n",
    "WHERE \n",
    "    column_A LIKE '%foo%' \n",
    "    AND column_B LIKE '%bar%'"
   ]
  },
  {
   "cell_type": "code",
   "execution_count": null,
   "metadata": {},
   "outputs": [],
   "source": [
    "# --Multiple Filters (OR)\n",
    "SELECT \n",
    "    * \n",
    "FROM \n",
    "    table_A \n",
    "WHERE \n",
    "    column_A LIKE '%foo%' \n",
    "    OR column_B LIKE '%bar%'"
   ]
  },
  {
   "cell_type": "code",
   "execution_count": null,
   "metadata": {},
   "outputs": [],
   "source": [
    "# --Multiple Filters (AND/OR)\n",
    "SELECT \n",
    "    * \n",
    "FROM \n",
    "    table_A \n",
    "WHERE \n",
    "    (column_A LIKE '%foo%' OR column_A LIKE '%bar%') \n",
    "    AND column_B LIKE '%bar%'"
   ]
  },
  {
   "cell_type": "markdown",
   "metadata": {},
   "source": [
    ".\n",
    "\n",
    "\n",
    ".\n",
    "\n",
    "\n",
    "."
   ]
  },
  {
   "cell_type": "markdown",
   "metadata": {},
   "source": [
    "## Functions"
   ]
  },
  {
   "cell_type": "markdown",
   "metadata": {},
   "source": [
    "### Unary Functions\n",
    "[Docs](https://docs.blazingdb.com/docs/unary-ops) | [BlazingSQL Notebooks](https://app.blazingsql.com/jupyter/user-redirect/lab/workspaces/auto-b/tree/Welcome_to_BlazingSQL_Notebooks/docs/blazingsql.ipynb#Unary-Functions)"
   ]
  },
  {
   "cell_type": "code",
   "execution_count": null,
   "metadata": {},
   "outputs": [],
   "source": []
  },
  {
   "cell_type": "markdown",
   "metadata": {},
   "source": [
    ".\n",
    "\n",
    "\n",
    ".\n",
    "\n",
    "\n",
    "."
   ]
  },
  {
   "cell_type": "markdown",
   "metadata": {},
   "source": [
    "### Binary Functions\n",
    "[Docs](https://docs.blazingdb.com/docs/binary-ops) | [BlazingSQL Notebooks](https://app.blazingsql.com/jupyter/user-redirect/lab/workspaces/auto-b/tree/Welcome_to_BlazingSQL_Notebooks/docs/blazingsql.ipynb#Binary-Functions)"
   ]
  },
  {
   "cell_type": "code",
   "execution_count": null,
   "metadata": {},
   "outputs": [],
   "source": []
  },
  {
   "cell_type": "markdown",
   "metadata": {},
   "source": [
    ".\n",
    "\n",
    "\n",
    ".\n",
    "\n",
    "\n",
    "."
   ]
  },
  {
   "cell_type": "markdown",
   "metadata": {},
   "source": [
    "### DateTime Functions\n",
    "[Docs](https://docs.blazingdb.com/docs/datetime-functions) | [BlazingSQL Notebooks](https://app.blazingsql.com/jupyter/user-redirect/lab/workspaces/auto-b/tree/Welcome_to_BlazingSQL_Notebooks/docs/blazingsql.ipynb#DateTime-Functions)"
   ]
  },
  {
   "cell_type": "code",
   "execution_count": null,
   "metadata": {},
   "outputs": [],
   "source": []
  },
  {
   "cell_type": "markdown",
   "metadata": {},
   "source": [
    ".\n",
    "\n",
    "\n",
    ".\n",
    "\n",
    "\n",
    "."
   ]
  },
  {
   "cell_type": "markdown",
   "metadata": {},
   "source": [
    "### String Functions\n",
    "[Docs](https://docs.blazingdb.com/docs/string-functions) | [BlazingSQL Notebooks](https://app.blazingsql.com/jupyter/user-redirect/lab/workspaces/auto-b/tree/Welcome_to_BlazingSQL_Notebooks/docs/blazingsql.ipynb#String-Functions)"
   ]
  },
  {
   "cell_type": "code",
   "execution_count": null,
   "metadata": {},
   "outputs": [],
   "source": []
  },
  {
   "cell_type": "markdown",
   "metadata": {},
   "source": [
    ".\n",
    "\n",
    "\n",
    ".\n",
    "\n",
    "\n",
    "."
   ]
  },
  {
   "cell_type": "markdown",
   "metadata": {},
   "source": [
    "## Reserved Words\n",
    "[Docs](https://docs.blazingdb.com/docs/reserved-words) | [BlazingSQL Notebooks](https://app.blazingsql.com/jupyter/user-redirect/lab/workspaces/auto-b/tree/Welcome_to_BlazingSQL_Notebooks/docs/blazingsql.ipynb#String-Functions)\n",
    "\n",
    "BlazingSQL uses the Apache Calcite industry-standard SQL parser, validator and JDBC driver for SQL language. There is a common list of words that are reserved for the engine and, outside of their specified functionality, should not be used by users. \n",
    "\n",
    "You can find this list in:\n",
    "- [Calcite Docs](https://calcite.apache.org/docs/reference.html#keywords)\n",
    "- [Calcite Source Code](https://github.com/apache/calcite/blob/master/core/src/main/codegen/templates/Parser.jj#L6740)"
   ]
  },
  {
   "cell_type": "code",
   "execution_count": null,
   "metadata": {},
   "outputs": [],
   "source": []
  },
  {
   "cell_type": "markdown",
   "metadata": {},
   "source": [
    ".\n",
    "\n",
    "\n",
    ".\n",
    "\n",
    "\n",
    "."
   ]
  }
 ],
 "metadata": {
  "kernelspec": {
   "display_name": "RAPIDS Nightly",
   "language": "python",
   "name": "python3"
  },
  "language_info": {
   "codemirror_mode": {
    "name": "ipython",
    "version": 3
   },
   "file_extension": ".py",
   "mimetype": "text/x-python",
   "name": "python",
   "nbconvert_exporter": "python",
   "pygments_lexer": "ipython3",
   "version": "3.7.6"
  }
 },
 "nbformat": 4,
 "nbformat_minor": 4
}
