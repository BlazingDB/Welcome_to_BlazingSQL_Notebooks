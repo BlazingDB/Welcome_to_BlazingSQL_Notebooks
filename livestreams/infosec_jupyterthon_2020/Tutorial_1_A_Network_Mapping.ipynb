{
 "cells": [
  {
   "cell_type": "markdown",
   "metadata": {},
   "source": [
    "## Tutorial 1: Network Mapping & Beacon Analysis from Network Logs\n",
    "\n",
    "Run in a free GPU environment with BlazingSQL preinstalled at ZZZ. For the GPU tutorials without BlazingSQL, we recommend Google Colab.\n",
    "\n",
    "This notebook shares how to:\n",
    "\n",
    "1. **Load 53 GB csv / 8 GB parquet (500M rows) of netflow in seconds**\n",
    "  * Sample data: [UGR'16 - Spanish ISP netflow](https://nesg.ugr.es/nesg-ugr16) nfdump\n",
    "  * The same technique work with pcap, netflow, firewall logs, etc.\n",
    "  * Computations exceed single GPU memory: BlazingSQL automatically pages in/out and uses multiple GPUs\n",
    "2. **Compute a graph of IP<>IP activity**\n",
    "  * Optionally split by Port\n",
    "  * Regular tabular stats: top talkers, ...\n",
    "  * Compute graph stats: partition/size, centrality, ...\n",
    "  * Hunt: Beaconing!\n",
    "4. **Visualize: GPU graph and traditional tables/CSVs**"
   ]
  },
  {
   "cell_type": "code",
   "execution_count": 1,
   "metadata": {},
   "outputs": [
    {
     "name": "stdout",
     "output_type": "stream",
     "text": [
      "ls: cannot access 'csv_lan_logs/march_week5_00.csv': No such file or directory\n"
     ]
    }
   ],
   "source": [
    "# ### If empty, get data in Setup cells\n",
    "# ! ls -lh csv_lan_logs/march_week5_00.csv && ls -lh lan_logs/march_week5_00*"
   ]
  },
  {
   "cell_type": "code",
   "execution_count": 5,
   "metadata": {},
   "outputs": [
    {
     "name": "stdout",
     "output_type": "stream",
     "text": [
      "Tue May 12 17:29:46 2020       \n",
      "+-----------------------------------------------------------------------------+\n",
      "| NVIDIA-SMI 440.33.01    Driver Version: 440.33.01    CUDA Version: 10.2     |\n",
      "|-------------------------------+----------------------+----------------------+\n",
      "| GPU  Name        Persistence-M| Bus-Id        Disp.A | Volatile Uncorr. ECC |\n",
      "| Fan  Temp  Perf  Pwr:Usage/Cap|         Memory-Usage | GPU-Util  Compute M. |\n",
      "|===============================+======================+======================|\n",
      "|   0  GeForce GTX 166...  Off  | 00000000:01:00.0 Off |                  N/A |\n",
      "| N/A   49C    P0    20W /  N/A |    408MiB /  5944MiB |      0%      Default |\n",
      "+-------------------------------+----------------------+----------------------+\n",
      "                                                                               \n",
      "+-----------------------------------------------------------------------------+\n",
      "| Processes:                                                       GPU Memory |\n",
      "|  GPU       PID   Type   Process name                             Usage      |\n",
      "|=============================================================================|\n",
      "|    0     16253      C   .../winston/anaconda3/envs/bsql/bin/python   395MiB |\n",
      "+-----------------------------------------------------------------------------+\n"
     ]
    }
   ],
   "source": [
    "### If no GPU, switch servers\n",
    "! nvidia-smi"
   ]
  },
  {
   "cell_type": "markdown",
   "metadata": {},
   "source": [
    "## Setup\n",
    "\n",
    "* If not already installed, uncomment & run the two install commands below, restart your Jupyter kernel, then comment them out again\n",
    "* For alternative BlazingSQL install: https://docs.blazingdb.com/docs/install-via-conda"
   ]
  },
  {
   "cell_type": "code",
   "execution_count": 2,
   "metadata": {},
   "outputs": [],
   "source": [
    "# ! conda install -c blazingsql-nightly/label/cuda10.0 -c blazingsql-nightly -c rapidsai-nightly -c conda-forge -c defaults blazingsql python=3.7"
   ]
  },
  {
   "cell_type": "code",
   "execution_count": 3,
   "metadata": {},
   "outputs": [],
   "source": [
    "#! pip install --user -q graphistry"
   ]
  },
  {
   "cell_type": "code",
   "execution_count": 4,
   "metadata": {},
   "outputs": [],
   "source": [
    "#! echo '{\"key\": \"zzz\"}' > graphistry.json"
   ]
  },
  {
   "cell_type": "code",
   "execution_count": 1,
   "metadata": {},
   "outputs": [
    {
     "name": "stdout",
     "output_type": "stream",
     "text": [
      "BlazingContext ready\n"
     ]
    },
    {
     "name": "stderr",
     "output_type": "stream",
     "text": [
      "WARNING:  Could not contact sandbox.graphistry.com. Are you connected to the Internet?\n"
     ]
    },
    {
     "data": {
      "text/plain": [
       "'0.10.6'"
      ]
     },
     "execution_count": 1,
     "metadata": {},
     "output_type": "execute_result"
    }
   ],
   "source": [
    "import json, graphistry, pandas as pd\n",
    "from blazingsql import BlazingContext\n",
    "pd.options.display.max_rows = 1000\n",
    "\n",
    "bc = BlazingContext()\n",
    "\n",
    "GRAPHISTRY_KEY=\"ZZZ\"\n",
    "with open('graphistry.json') as f:\n",
    "    GRAPHISTRY_KEY = json.load(f)['key']\n",
    "graphistry.register(server='sandbox.graphistry.com', key=GRAPHISTRY_KEY, protocol='https')\n",
    "\n",
    "graphistry.__version__"
   ]
  },
  {
   "cell_type": "markdown",
   "metadata": {},
   "source": [
    "Register AWS S3 bucket and create tables."
   ]
  },
  {
   "cell_type": "code",
   "execution_count": 2,
   "metadata": {},
   "outputs": [
    {
     "data": {
      "text/plain": [
       "(True,\n",
       " '',\n",
       " OrderedDict([('type', 's3'),\n",
       "              ('bucket_name', 'blazingsql-colab'),\n",
       "              ('access_key_id', ''),\n",
       "              ('secret_key', ''),\n",
       "              ('session_token', ''),\n",
       "              ('encryption_type', <S3EncryptionType.NONE: 1>),\n",
       "              ('kms_key_amazon_resource_name', '')]))"
      ]
     },
     "execution_count": 2,
     "metadata": {},
     "output_type": "execute_result"
    }
   ],
   "source": [
    "bc.s3('blazingsql-colab', bucket_name='blazingsql-colab')"
   ]
  },
  {
   "cell_type": "code",
   "execution_count": 3,
   "metadata": {},
   "outputs": [
    {
     "name": "stdout",
     "output_type": "stream",
     "text": [
      "# files 58\n",
      "CPU times: user 4.96 s, sys: 1.4 s, total: 6.36 s\n",
      "Wall time: 30.6 s\n"
     ]
    }
   ],
   "source": [
    "%%time\n",
    "files = ['s3://blazingsql-colab/parquet_lan_logs/march_week5_0%s.parquet' % i for i in range(0,10) ] \\\n",
    "        + ['s3://blazingsql-colab/parquet_lan_logs/march_week5_1%s.parquet' % i for i in range(0,10) ] \\\n",
    "        + ['s3://blazingsql-colab/parquet_lan_logs/march_week5_2%s.parquet' % i for i in range(0,10) ] \\\n",
    "        + ['s3://blazingsql-colab/parquet_lan_logs/march_week5_3%s.parquet' % i for i in range(0,10) ] \\\n",
    "        + ['s3://blazingsql-colab/parquet_lan_logs/march_week5_4%s.parquet' % i for i in range(0,10) ] \\\n",
    "        + ['s3://blazingsql-colab/parquet_lan_logs/march_week5_5%s.parquet' % i for i in range(0,8) ]\n",
    "print('# files', len(files))\n",
    "\n",
    "bc.create_table('logs', files)"
   ]
  },
  {
   "cell_type": "code",
   "execution_count": 4,
   "metadata": {},
   "outputs": [
    {
     "name": "stdout",
     "output_type": "stream",
     "text": [
      "CPU times: user 543 ms, sys: 304 ms, total: 847 ms\n",
      "Wall time: 4.63 s\n"
     ]
    }
   ],
   "source": [
    "%%time\n",
    "bc.create_table('logs_10m', 's3://blazingsql-colab/parquet_lan_logs/march_week5_01.parquet')"
   ]
  },
  {
   "cell_type": "markdown",
   "metadata": {},
   "source": [
    "## Simple SQL"
   ]
  },
  {
   "cell_type": "code",
   "execution_count": 5,
   "metadata": {},
   "outputs": [
    {
     "name": "stdout",
     "output_type": "stream",
     "text": [
      "CPU times: user 8.82 s, sys: 766 ms, total: 9.58 s\n",
      "Wall time: 9.01 s\n"
     ]
    },
    {
     "data": {
      "text/html": [
       "<div>\n",
       "<style scoped>\n",
       "    .dataframe tbody tr th:only-of-type {\n",
       "        vertical-align: middle;\n",
       "    }\n",
       "\n",
       "    .dataframe tbody tr th {\n",
       "        vertical-align: top;\n",
       "    }\n",
       "\n",
       "    .dataframe thead th {\n",
       "        text-align: right;\n",
       "    }\n",
       "</style>\n",
       "<table border=\"1\" class=\"dataframe\">\n",
       "  <thead>\n",
       "    <tr style=\"text-align: right;\">\n",
       "      <th></th>\n",
       "      <th>COUNT(src_ip)</th>\n",
       "    </tr>\n",
       "  </thead>\n",
       "  <tbody>\n",
       "    <tr>\n",
       "      <th>0</th>\n",
       "      <td>10000000</td>\n",
       "    </tr>\n",
       "  </tbody>\n",
       "</table>\n",
       "</div>"
      ],
      "text/plain": [
       "   COUNT(src_ip)\n",
       "0       10000000"
      ]
     },
     "execution_count": 5,
     "metadata": {},
     "output_type": "execute_result"
    }
   ],
   "source": [
    "%%time\n",
    "bc.sql('SELECT COUNT(src_ip) FROM logs_10m')"
   ]
  },
  {
   "cell_type": "code",
   "execution_count": 6,
   "metadata": {},
   "outputs": [
    {
     "name": "stdout",
     "output_type": "stream",
     "text": [
      "CPU times: user 9.39 s, sys: 5.19 s, total: 14.6 s\n",
      "Wall time: 20.7 s\n"
     ]
    },
    {
     "data": {
      "text/html": [
       "<div>\n",
       "<style scoped>\n",
       "    .dataframe tbody tr th:only-of-type {\n",
       "        vertical-align: middle;\n",
       "    }\n",
       "\n",
       "    .dataframe tbody tr th {\n",
       "        vertical-align: top;\n",
       "    }\n",
       "\n",
       "    .dataframe thead th {\n",
       "        text-align: right;\n",
       "    }\n",
       "</style>\n",
       "<table border=\"1\" class=\"dataframe\">\n",
       "  <thead>\n",
       "    <tr style=\"text-align: right;\">\n",
       "      <th></th>\n",
       "      <th>COUNT(src_ip)</th>\n",
       "    </tr>\n",
       "  </thead>\n",
       "  <tbody>\n",
       "    <tr>\n",
       "      <th>0</th>\n",
       "      <td>99999999</td>\n",
       "    </tr>\n",
       "  </tbody>\n",
       "</table>\n",
       "</div>"
      ],
      "text/plain": [
       "   COUNT(src_ip)\n",
       "0       99999999"
      ]
     },
     "execution_count": 6,
     "metadata": {},
     "output_type": "execute_result"
    }
   ],
   "source": [
    "%%time\n",
    "bc.sql('SELECT COUNT(src_ip) FROM logs')"
   ]
  },
  {
   "cell_type": "code",
   "execution_count": 7,
   "metadata": {},
   "outputs": [
    {
     "name": "stdout",
     "output_type": "stream",
     "text": [
      "CPU times: user 3.4 s, sys: 2.35 s, total: 5.75 s\n",
      "Wall time: 57.1 s\n"
     ]
    },
    {
     "data": {
      "text/html": [
       "<div>\n",
       "<style scoped>\n",
       "    .dataframe tbody tr th:only-of-type {\n",
       "        vertical-align: middle;\n",
       "    }\n",
       "\n",
       "    .dataframe tbody tr th {\n",
       "        vertical-align: top;\n",
       "    }\n",
       "\n",
       "    .dataframe thead th {\n",
       "        text-align: right;\n",
       "    }\n",
       "</style>\n",
       "<table border=\"1\" class=\"dataframe\">\n",
       "  <thead>\n",
       "    <tr style=\"text-align: right;\">\n",
       "      <th></th>\n",
       "      <th>conn_timestamp</th>\n",
       "      <th>duration</th>\n",
       "      <th>src_ip</th>\n",
       "      <th>dst_ip</th>\n",
       "      <th>src_port</th>\n",
       "      <th>dst_port</th>\n",
       "      <th>protocol</th>\n",
       "      <th>flags</th>\n",
       "      <th>tos</th>\n",
       "      <th>packets</th>\n",
       "      <th>flows</th>\n",
       "      <th>bytes</th>\n",
       "      <th>context</th>\n",
       "    </tr>\n",
       "  </thead>\n",
       "  <tbody>\n",
       "    <tr>\n",
       "      <th>0</th>\n",
       "      <td>2016-03-28 01:56:25</td>\n",
       "      <td>25.996</td>\n",
       "      <td>42.219.159.197</td>\n",
       "      <td>62.162.188.46</td>\n",
       "      <td>50084</td>\n",
       "      <td>161</td>\n",
       "      <td>UDP</td>\n",
       "      <td>.A....</td>\n",
       "      <td>0</td>\n",
       "      <td>0</td>\n",
       "      <td>12</td>\n",
       "      <td>846</td>\n",
       "      <td>background</td>\n",
       "    </tr>\n",
       "  </tbody>\n",
       "</table>\n",
       "</div>"
      ],
      "text/plain": [
       "        conn_timestamp  duration          src_ip         dst_ip  src_port  \\\n",
       "0  2016-03-28 01:56:25    25.996  42.219.159.197  62.162.188.46     50084   \n",
       "\n",
       "   dst_port protocol   flags  tos  packets  flows  bytes     context  \n",
       "0       161      UDP  .A....    0        0     12    846  background  "
      ]
     },
     "execution_count": 7,
     "metadata": {},
     "output_type": "execute_result"
    }
   ],
   "source": [
    "%%time\n",
    "bc.sql('SELECT * FROM logs_10m LIMIT 1').head(1)"
   ]
  },
  {
   "cell_type": "code",
   "execution_count": 12,
   "metadata": {},
   "outputs": [
    {
     "name": "stdout",
     "output_type": "stream",
     "text": [
      "CPU times: user 17.4 s, sys: 13.2 s, total: 30.6 s\n",
      "Wall time: 34.3 s\n"
     ]
    },
    {
     "data": {
      "text/html": [
       "<div>\n",
       "<style scoped>\n",
       "    .dataframe tbody tr th:only-of-type {\n",
       "        vertical-align: middle;\n",
       "    }\n",
       "\n",
       "    .dataframe tbody tr th {\n",
       "        vertical-align: top;\n",
       "    }\n",
       "\n",
       "    .dataframe thead th {\n",
       "        text-align: right;\n",
       "    }\n",
       "</style>\n",
       "<table border=\"1\" class=\"dataframe\">\n",
       "  <thead>\n",
       "    <tr style=\"text-align: right;\">\n",
       "      <th></th>\n",
       "      <th>conn_timestamp</th>\n",
       "      <th>duration</th>\n",
       "      <th>src_ip</th>\n",
       "      <th>dst_ip</th>\n",
       "      <th>src_port</th>\n",
       "      <th>dst_port</th>\n",
       "      <th>protocol</th>\n",
       "      <th>flags</th>\n",
       "      <th>tos</th>\n",
       "      <th>packets</th>\n",
       "      <th>flows</th>\n",
       "      <th>bytes</th>\n",
       "      <th>context</th>\n",
       "    </tr>\n",
       "  </thead>\n",
       "  <tbody>\n",
       "    <tr>\n",
       "      <th>0</th>\n",
       "      <td>2016-03-28 15:25:16</td>\n",
       "      <td>319.732</td>\n",
       "      <td>42.219.159.181</td>\n",
       "      <td>57.41.5.186</td>\n",
       "      <td>39446</td>\n",
       "      <td>22</td>\n",
       "      <td>TCP</td>\n",
       "      <td>.AP...</td>\n",
       "      <td>0</td>\n",
       "      <td>8</td>\n",
       "      <td>1331726</td>\n",
       "      <td>1930233248</td>\n",
       "      <td>background</td>\n",
       "    </tr>\n",
       "    <tr>\n",
       "      <th>1</th>\n",
       "      <td>2016-03-28 06:05:08</td>\n",
       "      <td>302.988</td>\n",
       "      <td>36.178.196.253</td>\n",
       "      <td>42.219.158.213</td>\n",
       "      <td>59412</td>\n",
       "      <td>22</td>\n",
       "      <td>TCP</td>\n",
       "      <td>.AP.S.</td>\n",
       "      <td>0</td>\n",
       "      <td>40</td>\n",
       "      <td>916439</td>\n",
       "      <td>1240231829</td>\n",
       "      <td>background</td>\n",
       "    </tr>\n",
       "    <tr>\n",
       "      <th>2</th>\n",
       "      <td>2016-03-29 06:05:08</td>\n",
       "      <td>302.912</td>\n",
       "      <td>36.178.196.253</td>\n",
       "      <td>42.219.158.213</td>\n",
       "      <td>44434</td>\n",
       "      <td>22</td>\n",
       "      <td>TCP</td>\n",
       "      <td>.AP.S.</td>\n",
       "      <td>0</td>\n",
       "      <td>40</td>\n",
       "      <td>768130</td>\n",
       "      <td>1077796909</td>\n",
       "      <td>background</td>\n",
       "    </tr>\n",
       "  </tbody>\n",
       "</table>\n",
       "</div>"
      ],
      "text/plain": [
       "        conn_timestamp  duration          src_ip          dst_ip  src_port  \\\n",
       "0  2016-03-28 15:25:16   319.732  42.219.159.181     57.41.5.186     39446   \n",
       "1  2016-03-28 06:05:08   302.988  36.178.196.253  42.219.158.213     59412   \n",
       "2  2016-03-29 06:05:08   302.912  36.178.196.253  42.219.158.213     44434   \n",
       "\n",
       "   dst_port protocol   flags  tos  packets    flows       bytes     context  \n",
       "0        22      TCP  .AP...    0        8  1331726  1930233248  background  \n",
       "1        22      TCP  .AP.S.    0       40   916439  1240231829  background  \n",
       "2        22      TCP  .AP.S.    0       40   768130  1077796909  background  "
      ]
     },
     "execution_count": 12,
     "metadata": {},
     "output_type": "execute_result"
    }
   ],
   "source": [
    "%%time\n",
    "bc.sql('SELECT * FROM logs WHERE src_port = 22 OR dst_port = 22 ORDER BY bytes DESC LIMIT 3')"
   ]
  },
  {
   "cell_type": "code",
   "execution_count": 13,
   "metadata": {},
   "outputs": [
    {
     "name": "stdout",
     "output_type": "stream",
     "text": [
      "CPU times: user 6.65 s, sys: 4.66 s, total: 11.3 s\n",
      "Wall time: 11.3 s\n"
     ]
    },
    {
     "data": {
      "text/plain": [
       "2202154"
      ]
     },
     "execution_count": 13,
     "metadata": {},
     "output_type": "execute_result"
    }
   ],
   "source": [
    "%%time\n",
    "len(bc.sql('SELECT src_ip FROM logs WHERE src_port = 22 OR dst_port = 22 ORDER BY bytes DESC'))"
   ]
  },
  {
   "cell_type": "code",
   "execution_count": 14,
   "metadata": {},
   "outputs": [
    {
     "name": "stdout",
     "output_type": "stream",
     "text": [
      "CPU times: user 6.67 s, sys: 4.61 s, total: 11.3 s\n",
      "Wall time: 11.2 s\n"
     ]
    },
    {
     "data": {
      "text/plain": [
       "2048"
      ]
     },
     "execution_count": 14,
     "metadata": {},
     "output_type": "execute_result"
    }
   ],
   "source": [
    "%%time\n",
    "len(bc.sql('SELECT src_ip FROM logs WHERE src_port = 22 OR dst_port = 22 ORDER BY bytes DESC')['src_ip'].unique())"
   ]
  },
  {
   "cell_type": "markdown",
   "metadata": {},
   "source": [
    "## Stats on `(src_ip, dst_ip)` combos: Top talkers, ..."
   ]
  },
  {
   "cell_type": "code",
   "execution_count": null,
   "metadata": {},
   "outputs": [],
   "source": [
    "%%time\n",
    "query = \"\"\"\n",
    "        SELECT \n",
    "            * \n",
    "        FROM\n",
    "            (\n",
    "            SELECT\n",
    "                COUNT(*) as num_records,\n",
    "                src_ip,\n",
    "                dst_ip,\n",
    "                \n",
    "                MIN(conn_timestamp) as timestamp_earliest,\n",
    "                MAX(conn_timestamp) as timestamp_latest,\n",
    "                \n",
    "                MIN(src_port) as src_port_num_min,\n",
    "                MAX(src_port) as src_port_num_max,\n",
    "                MAX(src_port) - min(src_port) as src_port_width,\n",
    "                \n",
    "                MIN(dst_port) as dst_port_num_min,\n",
    "                MAX(dst_port) as dst_port_num_max,\n",
    "                MAX(dst_port) - min(dst_port) as dst_port_width,\n",
    "                \n",
    "                CASE WHEN MIN(src_port) < MIN(dst_port) THEN MIN(src_port) ELSE MIN(dst_port) END as port_min,\n",
    "                \n",
    "                SUM(packets) as packets_sum,\n",
    "                MAX(packets) as packets_max,\n",
    "                MIN(packets) as packets_min,\n",
    "                \n",
    "                SUM(flows) as flows_sum,\n",
    "                MAX(flows) as flows_max,\n",
    "                MIN(flows) as flows_min,\n",
    "                \n",
    "                SUM(bytes) as bytes_sum,\n",
    "                MAX(bytes) as bytes_max,\n",
    "                MIN(bytes) as bytes_min\n",
    "                \n",
    "            FROM logs\n",
    "            \n",
    "            GROUP BY\n",
    "                src_ip,\n",
    "                dst_ip\n",
    "            ) as summary_table\n",
    "                \n",
    "            WHERE summary_table.num_records > 1\n",
    "        \n",
    "        ORDER BY num_records DESC\n",
    "        \"\"\"\n",
    "\n",
    "bc.sql(query).head(10)"
   ]
  },
  {
   "cell_type": "markdown",
   "metadata": {},
   "source": [
    "## ... And split on Port: `(src_ip, dst_ip, port)`"
   ]
  },
  {
   "cell_type": "code",
   "execution_count": null,
   "metadata": {},
   "outputs": [],
   "source": [
    "%%time\n",
    "query2 = \"\"\"\n",
    "         SELECT \n",
    "             * \n",
    "         FROM\n",
    "             (\n",
    "             SELECT\n",
    "                 COUNT(*) as num_records,\n",
    "                 src_ip as source_ip,\n",
    "                 dst_ip as destination_ip,\n",
    "                 \n",
    "                 MIN(conn_timestamp) as timestamp_earliest,\n",
    "                 MAX(conn_timestamp) as timestamp_latest,\n",
    "                 \n",
    "                 MIN(src_port) as src_port_num_min,\n",
    "                 MAX(src_port) as src_port_num_max,\n",
    "                 MAX(src_port) - min(src_port) as src_port_width,\n",
    "                 \n",
    "                 MIN(dst_port) as dst_port_num_min,\n",
    "                 MAX(dst_port) as dst_port_num_max,\n",
    "                 MAX(dst_port) - min(dst_port) as dst_port_width,\n",
    "                 \n",
    "                 CASE WHEN src_port < dst_port THEN src_port ELSE dst_port END as port_min,\n",
    "                 \n",
    "                 SUM(packets) as packets_sum,\n",
    "                 MAX(packets) as packets_max,\n",
    "                 MIN(packets) as packets_min,\n",
    "                 \n",
    "                 SUM(flows) as flows_sum,\n",
    "                 MAX(flows) as flows_max,\n",
    "                 MIN(flows) as flows_min,\n",
    "                 \n",
    "                 SUM(bytes) as bytes_sum,\n",
    "                 MAX(bytes) as bytes_max,\n",
    "                 MIN(bytes) as bytes_min\n",
    "                 \n",
    "             FROM logs\n",
    "             \n",
    "             GROUP BY\n",
    "                 src_ip,\n",
    "                 dst_ip,\n",
    "                 CASE WHEN src_port < dst_port THEN src_port ELSE dst_port END\n",
    "             ) as summary_table\n",
    "             \n",
    "             WHERE summary_table.num_records > 1 OR summary_table.flows_sum > 10\n",
    "             \n",
    "         ORDER BY num_records DESC\n",
    "         \"\"\"\n",
    "\n",
    "bc.sql(query2).head(3)"
   ]
  },
  {
   "cell_type": "markdown",
   "metadata": {},
   "source": [
    "## BlazingSQL -> cudf GPU DataFrame -> pandas CPU DataFrame"
   ]
  },
  {
   "cell_type": "code",
   "execution_count": null,
   "metadata": {},
   "outputs": [],
   "source": [
    "gdf = bc.sql(query)\n",
    "\n",
    "pdf = gdf.to_pandas()\n",
    "\n",
    "print('GDF len: %s, PDF len: %s' % (len(gdf), len(pdf)))\n",
    "\n",
    "#Best practice: prevent gdf reference from leaking to avoid GPU memory leaking\n",
    "gdf = None\n",
    "\n",
    "pdf.sample(3)"
   ]
  },
  {
   "cell_type": "markdown",
   "metadata": {},
   "source": [
    "#### Number of unique src IPs via df"
   ]
  },
  {
   "cell_type": "code",
   "execution_count": null,
   "metadata": {},
   "outputs": [],
   "source": [
    "%%time\n",
    "bc.sql(\"select count(distinct src_ip) from logs\")"
   ]
  },
  {
   "cell_type": "code",
   "execution_count": null,
   "metadata": {},
   "outputs": [],
   "source": [
    "%%time\n",
    "len(bc.sql(\"select src_ip from logs\")['src_ip'].unique())"
   ]
  },
  {
   "cell_type": "markdown",
   "metadata": {},
   "source": [
    "### Visualize! Ex: SSH"
   ]
  },
  {
   "cell_type": "code",
   "execution_count": 11,
   "metadata": {},
   "outputs": [
    {
     "name": "stdout",
     "output_type": "stream",
     "text": [
      "CPU times: user 12.3 s, sys: 9.36 s, total: 21.7 s\n",
      "Wall time: 21.5 s\n"
     ]
    }
   ],
   "source": [
    "%%time\n",
    "query3 = \"\"\"\n",
    "         SELECT \n",
    "             * \n",
    "         FROM\n",
    "             (\n",
    "             SELECT\n",
    "                 COUNT(*) as num_records,\n",
    "                 src_ip,\n",
    "                 dst_ip,\n",
    "                 \n",
    "                 MIN(conn_timestamp) as timestamp_earliest,\n",
    "                 MAX(conn_timestamp) as timestamp_latest,\n",
    "                 \n",
    "                 MIN(src_port) as src_port_num_min,\n",
    "                 MAX(src_port) as src_port_num_max,\n",
    "                 MAX(src_port) - min(src_port) as src_port_width,\n",
    "                 \n",
    "                 MIN(dst_port) as dst_port_num_min,\n",
    "                 MAX(dst_port) as dst_port_num_max,\n",
    "                 MAX(dst_port) - min(dst_port) as dst_port_width,\n",
    "                 \n",
    "                 CASE WHEN MIN(src_port) < MIN(dst_port) THEN MIN(src_port) ELSE MIN(dst_port) END as port_min,\n",
    "                 \n",
    "                 SUM(packets) as packets_sum,\n",
    "                 MAX(packets) as packets_max,\n",
    "                 MIN(packets) as packets_min,\n",
    "                 \n",
    "                 SUM(flows) as flows_sum,\n",
    "                 MAX(flows) as flows_max,\n",
    "                 MIN(flows) as flows_min,\n",
    "                 \n",
    "                 SUM(bytes) as bytes_sum,\n",
    "                 MAX(bytes) as bytes_max,\n",
    "                 MIN(bytes) as bytes_min\n",
    "                 \n",
    "             FROM logs\n",
    "                 \n",
    "                 WHERE src_port = 22 OR dst_port = 22\n",
    "                 \n",
    "             GROUP BY\n",
    "                 src_ip,\n",
    "                 dst_ip\n",
    "             \n",
    "             ) as summary_table\n",
    "                 \n",
    "                 WHERE summary_table.num_records > 10\n",
    "                 \n",
    "             ORDER BY num_records DESC\n",
    "             \"\"\"\n",
    "\n",
    "ssh_links_gdf = bc.sql(query3)"
   ]
  },
  {
   "cell_type": "code",
   "execution_count": 13,
   "metadata": {},
   "outputs": [
    {
     "data": {
      "text/html": [
       "\n",
       "            <iframe id=\"f5dcfea9-9e52-4cfd-a7bc-6cc68327b24f\" src=\"https://sandbox.graphistry.com/graph/graph.html?dataset=74ff88a14c4657138b02100aad56aa9c&type=vgraph&viztoken=eb1fbe1db8a740ca8ce23eb29a0c1c42&usertag=e2125b37-pygraphistry-0.10.4&splashAfter=1588922721&info=true\"\n",
       "                    allowfullscreen=\"true\" webkitallowfullscreen=\"true\" mozallowfullscreen=\"true\"\n",
       "                    oallowfullscreen=\"true\" msallowfullscreen=\"true\"\n",
       "                    style=\"width:100%; height:500px; border: 1px solid #DDD\">\n",
       "            </iframe>\n",
       "        \n",
       "            <script>\n",
       "                $(\"#f5dcfea9-9e52-4cfd-a7bc-6cc68327b24f\").bind('mousewheel', function(e) {\n",
       "                e.preventDefault();\n",
       "                });\n",
       "            </script>\n",
       "        "
      ],
      "text/plain": [
       "<IPython.core.display.HTML object>"
      ]
     },
     "execution_count": 13,
     "metadata": {},
     "output_type": "execute_result"
    }
   ],
   "source": [
    "graphistry\\\n",
    "    .edges(ssh_links_gdf.to_pandas())\\\n",
    "    .bind(source='src_ip', destination='dst_ip').plot()"
   ]
  },
  {
   "cell_type": "markdown",
   "metadata": {},
   "source": [
    "### DNS Beaconing\n",
    "\n",
    "* Find low variance between low-intensity communications\n",
    "* Challenge: Switch to **low-entropy intervals** between communications"
   ]
  },
  {
   "cell_type": "code",
   "execution_count": 46,
   "metadata": {},
   "outputs": [
    {
     "name": "stdout",
     "output_type": "stream",
     "text": [
      "108\n",
      "CPU times: user 3.08 s, sys: 2.24 s, total: 5.32 s\n",
      "Wall time: 5.3 s\n"
     ]
    }
   ],
   "source": [
    "%%time\n",
    "beaconing_query = \"\"\"\n",
    "                  SELECT \n",
    "                      src_ip, dst_ip, conn_timestamp\n",
    "                  FROM logs_10m\n",
    "                      WHERE src_port = 53 and bytes < 1000\n",
    "                  ORDER BY src_ip, dst_ip, conn_timestamp ASC\n",
    "                  \"\"\"\n",
    "\n",
    "dns_flows = bc.sql(beaconing_query)\n",
    "\n",
    "frequent_srcs = dns_flows[['src_ip', 'dst_ip']].assign(hit=1).groupby(['src_ip', 'dst_ip']).count().reset_index()\n",
    "frequent_srcs = frequent_srcs[ frequent_srcs['hit'] > 1000 ]"
   ]
  },
  {
   "cell_type": "code",
   "execution_count": null,
   "metadata": {},
   "outputs": [],
   "source": [
    "dns_heavy_flows = dns_flows.merge(frequent_srcs[['src_ip', 'hit']], how='inner', on='src_ip')\n",
    "dns_heavy_flows = dns_heavy_flows[ dns_heavy_flows['hit'] > 1000 ].drop(columns=['hit'])\n",
    "dns_heavy_flows = dns_heavy_flows.merge(frequent_srcs[['dst_ip', 'hit']], how='inner', on='dst_ip')\n",
    "dns_heavy_flows = dns_heavy_flows[ dns_heavy_flows['hit'] > 1000 ].drop(columns=['hit'])\n",
    "\n",
    "dns_heavy_flows['delta_s'] = dns_heavy_flows['conn_timestamp'].astype('datetime64[s]').astype('int64').diff()\n",
    "dns_heavy_flows = dns_heavy_flows[ dns_heavy_flows['delta_s'] > 0 ]\n",
    "\n",
    "dns_heavy_flows = dns_heavy_flows[['src_ip', 'dst_ip', 'delta_s']]\n",
    "dns_heavy_flows['delta2_s'] = dns_heavy_flows['delta_s']"
   ]
  },
  {
   "cell_type": "code",
   "execution_count": null,
   "metadata": {},
   "outputs": [],
   "source": [
    "dns_heavy_flows = dns_heavy_flows.assign(hit=1).groupby(['src_ip', 'dst_ip']).agg({\n",
    "    'delta_s': 'var',\n",
    "    'delta2_s': 'mean',\n",
    "    'hit': 'count'\n",
    "}).rename(columns={'delta_s': 'var', 'delta2_s': 'mean', 'hit': 'count'}).reset_index()\n",
    "\n",
    "dns_heavy_flows = dns_heavy_flows[ dns_heavy_flows['count'] > 1000 ]\n",
    "\n",
    "print(len(dns_heavy_flows))\n",
    "\n",
    "dns_flows=None\n",
    "frequent_srcs=None"
   ]
  },
  {
   "cell_type": "code",
   "execution_count": 47,
   "metadata": {},
   "outputs": [
    {
     "data": {
      "text/html": [
       "\n",
       "            <iframe id=\"b5708fc9-8f46-4ba0-baa8-5f4cf3e461a8\" src=\"https://sandbox.graphistry.com/graph/graph.html?dataset=f1373f39dca85464a4a7913392179f96&type=vgraph&viztoken=991718ca0141493f8e1481f5929c1976&usertag=e2125b37-pygraphistry-0.10.4&splashAfter=1588924655&info=true\"\n",
       "                    allowfullscreen=\"true\" webkitallowfullscreen=\"true\" mozallowfullscreen=\"true\"\n",
       "                    oallowfullscreen=\"true\" msallowfullscreen=\"true\"\n",
       "                    style=\"width:100%; height:500px; border: 1px solid #DDD\">\n",
       "            </iframe>\n",
       "        \n",
       "            <script>\n",
       "                $(\"#b5708fc9-8f46-4ba0-baa8-5f4cf3e461a8\").bind('mousewheel', function(e) {\n",
       "                e.preventDefault();\n",
       "                });\n",
       "            </script>\n",
       "        "
      ],
      "text/plain": [
       "<IPython.core.display.HTML object>"
      ]
     },
     "execution_count": 47,
     "metadata": {},
     "output_type": "execute_result"
    }
   ],
   "source": [
    "graphistry\\\n",
    "    .edges(dns_heavy_flows.to_pandas())\\\n",
    "    .bind(source='src_ip', destination='dst_ip')\\\n",
    "    .plot()\n",
    "    "
   ]
  },
  {
   "cell_type": "code",
   "execution_count": null,
   "metadata": {},
   "outputs": [],
   "source": [
    "heavy_df.tail()"
   ]
  },
  {
   "cell_type": "markdown",
   "metadata": {},
   "source": [
    "### High flows"
   ]
  },
  {
   "cell_type": "code",
   "execution_count": null,
   "metadata": {},
   "outputs": [],
   "source": [
    "%%time\n",
    "gdf = bc.sql(query)\n",
    "gdf = gdf[ gdf['num_records'] > 10 ]\n",
    "\n",
    "print('# rows x columns', gdf.shape)\n",
    "print('# unique src_ip', len(gdf['src_ip'].unique()))\n",
    "\n",
    "#release gpu memory\n",
    "pdf = gdf.to_pandas()\n",
    "gdf = None\n",
    "\n",
    "pdf.sample(3)"
   ]
  },
  {
   "cell_type": "markdown",
   "metadata": {},
   "source": [
    "## Visualize!"
   ]
  },
  {
   "cell_type": "code",
   "execution_count": null,
   "metadata": {},
   "outputs": [],
   "source": []
  },
  {
   "cell_type": "code",
   "execution_count": null,
   "metadata": {},
   "outputs": [],
   "source": [
    "g = graphistry\\\n",
    "    .edges(pdf)\\\n",
    "    .bind(source='source_ip', destination='destination_ip')\n",
    "\n",
    "g.plot()"
   ]
  },
  {
   "cell_type": "code",
   "execution_count": null,
   "metadata": {},
   "outputs": [],
   "source": []
  }
 ],
 "metadata": {
  "kernelspec": {
   "display_name": "Python 3",
   "language": "python",
   "name": "python3"
  },
  "language_info": {
   "codemirror_mode": {
    "name": "ipython",
    "version": 3
   },
   "file_extension": ".py",
   "mimetype": "text/x-python",
   "name": "python",
   "nbconvert_exporter": "python",
   "pygments_lexer": "ipython3",
   "version": "3.7.6"
  }
 },
 "nbformat": 4,
 "nbformat_minor": 4
}
